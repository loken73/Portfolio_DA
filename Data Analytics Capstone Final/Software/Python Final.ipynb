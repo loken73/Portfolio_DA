{
 "cells": [
  {
   "cell_type": "code",
   "execution_count": 1,
   "metadata": {},
   "outputs": [],
   "source": [
    "import numpy as np\n",
    "import pandas as pd\n"
   ]
  },
  {
   "cell_type": "code",
   "execution_count": 2,
   "metadata": {},
   "outputs": [],
   "source": [
    "pd.options.display.max_columns = 60\n",
    "pd.options.display.max_rows = 50"
   ]
  },
  {
   "cell_type": "code",
   "execution_count": 3,
   "metadata": {},
   "outputs": [],
   "source": [
    "crash_summary = pd.read_csv(\"../Data/Maryland_Statewide_Vehicle_Crashes.csv\", low_memory=False)"
   ]
  },
  {
   "cell_type": "code",
   "execution_count": 4,
   "metadata": {},
   "outputs": [
    {
     "data": {
      "text/plain": [
       "(878343, 55)"
      ]
     },
     "execution_count": 4,
     "metadata": {},
     "output_type": "execute_result"
    }
   ],
   "source": [
    "crash_summary.shape"
   ]
  },
  {
   "cell_type": "code",
   "execution_count": 6,
   "metadata": {},
   "outputs": [],
   "source": [
    "df_cars = pd.read_csv(\"../Data/Maryland_Statewide_Vehicle_Crashes_-_Vehicle_Details_All.csv\", low_memory=False)"
   ]
  },
  {
   "cell_type": "code",
   "execution_count": 7,
   "metadata": {},
   "outputs": [
    {
     "data": {
      "text/plain": [
       "(1637937, 49)"
      ]
     },
     "execution_count": 7,
     "metadata": {},
     "output_type": "execute_result"
    }
   ],
   "source": [
    "df_cars.shape"
   ]
  },
  {
   "cell_type": "code",
   "execution_count": 171,
   "metadata": {},
   "outputs": [
    {
     "data": {
      "text/html": [
       "<div>\n",
       "<style scoped>\n",
       "    .dataframe tbody tr th:only-of-type {\n",
       "        vertical-align: middle;\n",
       "    }\n",
       "\n",
       "    .dataframe tbody tr th {\n",
       "        vertical-align: top;\n",
       "    }\n",
       "\n",
       "    .dataframe thead th {\n",
       "        text-align: right;\n",
       "    }\n",
       "</style>\n",
       "<table border=\"1\" class=\"dataframe\">\n",
       "  <thead>\n",
       "    <tr style=\"text-align: right;\">\n",
       "      <th></th>\n",
       "      <th>HARM_EVENT_DESC</th>\n",
       "      <th>HARM_EVENT_CODE</th>\n",
       "      <th>CONTI_DIRECTION_DESC</th>\n",
       "      <th>CONTI_DIRECTION_CODE</th>\n",
       "      <th>DAMAGE_DESC</th>\n",
       "      <th>DAMAGE_CODE</th>\n",
       "      <th>MOVEMENT_DESC</th>\n",
       "      <th>MOVEMENT_CODE</th>\n",
       "      <th>VIN_NO</th>\n",
       "      <th>REPORT_NO</th>\n",
       "      <th>CV_BODY_TYPE_DESC</th>\n",
       "      <th>CV_BODY_TYPE_CODE</th>\n",
       "      <th>VEH_YEAR</th>\n",
       "      <th>VEH_MAKE</th>\n",
       "      <th>VEH_MODEL</th>\n",
       "      <th>COMMERCIAL_FLAG_DESC</th>\n",
       "      <th>COMMERCIAL_FLAG</th>\n",
       "      <th>HZM_NUM</th>\n",
       "      <th>TOWED_AWAY_FLAG_DESC</th>\n",
       "      <th>TOWED_AWAY_FLAG</th>\n",
       "      <th>NUM_AXLES</th>\n",
       "      <th>GVW_DESC</th>\n",
       "      <th>GVW_CODE</th>\n",
       "      <th>GOING_DIRECTION_DESC</th>\n",
       "      <th>GOING_DIRECTION_CODE</th>\n",
       "      <th>BODY_TYPE_DESC</th>\n",
       "      <th>BODY_TYPE_CODE</th>\n",
       "      <th>DRIVERLESS_FLAG_DESC</th>\n",
       "      <th>DRIVERLESS_FLAG</th>\n",
       "      <th>FIRE_FLAG_DESC</th>\n",
       "      <th>FIRE_FLAG</th>\n",
       "      <th>PARKED_FLAG_DESC</th>\n",
       "      <th>PARKED_FLAG</th>\n",
       "      <th>SPEED_LIMIT</th>\n",
       "      <th>HIT_AND_RUN_FLAG_DESC</th>\n",
       "      <th>HIT_AND_RUN_FLAG</th>\n",
       "      <th>HAZMAT_SPILL_FLAG_DESC</th>\n",
       "      <th>HAZMAT_SPILL_FLAG</th>\n",
       "      <th>VEHICLE_ID</th>\n",
       "      <th>TOWED_VEHICLE_CONFIG_DESC</th>\n",
       "      <th>TOWED_VEHICLE_CONFIG_CODE</th>\n",
       "      <th>AREA_DAMAGED_CODE_IMP1</th>\n",
       "      <th>AREA_DAMAGED_CODE1</th>\n",
       "      <th>AREA_DAMAGED_CODE2</th>\n",
       "      <th>AREA_DAMAGED_CODE3</th>\n",
       "      <th>AREA_DAMAGED_CODE_MAIN_DESC</th>\n",
       "      <th>AREA_DAMAGED_CODE_MAIN</th>\n",
       "      <th>YEAR</th>\n",
       "      <th>Quarter</th>\n",
       "    </tr>\n",
       "  </thead>\n",
       "  <tbody>\n",
       "    <tr>\n",
       "      <th>639316</th>\n",
       "      <td>Other Vehicle</td>\n",
       "      <td>1.0</td>\n",
       "      <td>South</td>\n",
       "      <td>S</td>\n",
       "      <td>Superficial</td>\n",
       "      <td>2</td>\n",
       "      <td>Moving Constant Speed</td>\n",
       "      <td>1.0</td>\n",
       "      <td>4T1CE38P16U614442</td>\n",
       "      <td>AE45380009</td>\n",
       "      <td>NaN</td>\n",
       "      <td>NaN</td>\n",
       "      <td>2006.0</td>\n",
       "      <td>TOYOTA</td>\n",
       "      <td>SOLARA</td>\n",
       "      <td>No</td>\n",
       "      <td>N</td>\n",
       "      <td>NaN</td>\n",
       "      <td>No</td>\n",
       "      <td>N</td>\n",
       "      <td>NaN</td>\n",
       "      <td>NaN</td>\n",
       "      <td>NaN</td>\n",
       "      <td>South</td>\n",
       "      <td>S</td>\n",
       "      <td>Passenger Car</td>\n",
       "      <td>2.0</td>\n",
       "      <td>No</td>\n",
       "      <td>N</td>\n",
       "      <td>No</td>\n",
       "      <td>N</td>\n",
       "      <td>No</td>\n",
       "      <td>N</td>\n",
       "      <td>30</td>\n",
       "      <td>No</td>\n",
       "      <td>N</td>\n",
       "      <td>NaN</td>\n",
       "      <td>NaN</td>\n",
       "      <td>00c2e4fa-47fc-4be1-8948-47a4c94c1d3b</td>\n",
       "      <td>Not Applicable</td>\n",
       "      <td>0</td>\n",
       "      <td>11.0</td>\n",
       "      <td>11.0</td>\n",
       "      <td>NaN</td>\n",
       "      <td>NaN</td>\n",
       "      <td>Eleven o'clock</td>\n",
       "      <td>11.0</td>\n",
       "      <td>2015</td>\n",
       "      <td>Q1</td>\n",
       "    </tr>\n",
       "    <tr>\n",
       "      <th>809011</th>\n",
       "      <td>Parked Vehicle</td>\n",
       "      <td>2.0</td>\n",
       "      <td>NaN</td>\n",
       "      <td>NaN</td>\n",
       "      <td>Unknown</td>\n",
       "      <td>99</td>\n",
       "      <td>Parked</td>\n",
       "      <td>10.0</td>\n",
       "      <td>NaN</td>\n",
       "      <td>AE55480024</td>\n",
       "      <td>NaN</td>\n",
       "      <td>NaN</td>\n",
       "      <td>NaN</td>\n",
       "      <td>UNKNOWN</td>\n",
       "      <td>UNKNOWN</td>\n",
       "      <td>No</td>\n",
       "      <td>N</td>\n",
       "      <td>NaN</td>\n",
       "      <td>No</td>\n",
       "      <td>N</td>\n",
       "      <td>NaN</td>\n",
       "      <td>NaN</td>\n",
       "      <td>NaN</td>\n",
       "      <td>NaN</td>\n",
       "      <td>NaN</td>\n",
       "      <td>NaN</td>\n",
       "      <td>NaN</td>\n",
       "      <td>No</td>\n",
       "      <td>N</td>\n",
       "      <td>NaN</td>\n",
       "      <td>U</td>\n",
       "      <td>Yes</td>\n",
       "      <td>Y</td>\n",
       "      <td>0</td>\n",
       "      <td>Yes</td>\n",
       "      <td>Y</td>\n",
       "      <td>NaN</td>\n",
       "      <td>NaN</td>\n",
       "      <td>a5ecb7ab-89e0-4a4e-afbb-74350cfa0b25</td>\n",
       "      <td>Not Applicable</td>\n",
       "      <td>0</td>\n",
       "      <td>99.0</td>\n",
       "      <td>99.0</td>\n",
       "      <td>NaN</td>\n",
       "      <td>NaN</td>\n",
       "      <td>Unknown</td>\n",
       "      <td>99.0</td>\n",
       "      <td>2016</td>\n",
       "      <td>Q3</td>\n",
       "    </tr>\n",
       "    <tr>\n",
       "      <th>658738</th>\n",
       "      <td>Pedestrian</td>\n",
       "      <td>3.0</td>\n",
       "      <td>Unknown</td>\n",
       "      <td>U</td>\n",
       "      <td>No Damage</td>\n",
       "      <td>1</td>\n",
       "      <td>Slowing or Stopping</td>\n",
       "      <td>3.0</td>\n",
       "      <td>1HGCD5632VA238984</td>\n",
       "      <td>AE5860000G</td>\n",
       "      <td>NaN</td>\n",
       "      <td>NaN</td>\n",
       "      <td>1997.0</td>\n",
       "      <td>HONDA</td>\n",
       "      <td>CIVIC</td>\n",
       "      <td>No</td>\n",
       "      <td>N</td>\n",
       "      <td>NaN</td>\n",
       "      <td>No</td>\n",
       "      <td>N</td>\n",
       "      <td>NaN</td>\n",
       "      <td>NaN</td>\n",
       "      <td>NaN</td>\n",
       "      <td>Unknown</td>\n",
       "      <td>U</td>\n",
       "      <td>Passenger Car</td>\n",
       "      <td>2.0</td>\n",
       "      <td>No</td>\n",
       "      <td>N</td>\n",
       "      <td>No</td>\n",
       "      <td>N</td>\n",
       "      <td>No</td>\n",
       "      <td>N</td>\n",
       "      <td>5</td>\n",
       "      <td>No</td>\n",
       "      <td>N</td>\n",
       "      <td>NaN</td>\n",
       "      <td>NaN</td>\n",
       "      <td>c780361e-6202-456b-95e3-b224452eaf12</td>\n",
       "      <td>Not Applicable</td>\n",
       "      <td>0</td>\n",
       "      <td>12.0</td>\n",
       "      <td>NaN</td>\n",
       "      <td>NaN</td>\n",
       "      <td>NaN</td>\n",
       "      <td>Twelve o'clock</td>\n",
       "      <td>12.0</td>\n",
       "      <td>2016</td>\n",
       "      <td>Q1</td>\n",
       "    </tr>\n",
       "    <tr>\n",
       "      <th>377830</th>\n",
       "      <td>Other Vehicle</td>\n",
       "      <td>1.0</td>\n",
       "      <td>North</td>\n",
       "      <td>N</td>\n",
       "      <td>Superficial</td>\n",
       "      <td>2</td>\n",
       "      <td>Slowing or Stopping</td>\n",
       "      <td>3.0</td>\n",
       "      <td>3N6CM0KN4MK697095</td>\n",
       "      <td>MCP3091003P</td>\n",
       "      <td>NaN</td>\n",
       "      <td>NaN</td>\n",
       "      <td>2021.0</td>\n",
       "      <td>NISSAN</td>\n",
       "      <td>NV200</td>\n",
       "      <td>No</td>\n",
       "      <td>N</td>\n",
       "      <td>NaN</td>\n",
       "      <td>No</td>\n",
       "      <td>N</td>\n",
       "      <td>NaN</td>\n",
       "      <td>NaN</td>\n",
       "      <td>NaN</td>\n",
       "      <td>North</td>\n",
       "      <td>N</td>\n",
       "      <td>Passenger Car</td>\n",
       "      <td>2.0</td>\n",
       "      <td>No</td>\n",
       "      <td>N</td>\n",
       "      <td>No</td>\n",
       "      <td>N</td>\n",
       "      <td>No</td>\n",
       "      <td>N</td>\n",
       "      <td>5</td>\n",
       "      <td>No</td>\n",
       "      <td>N</td>\n",
       "      <td>NaN</td>\n",
       "      <td>NaN</td>\n",
       "      <td>dba5f4c2-6537-424f-b8c1-18b222a31ac8</td>\n",
       "      <td>Not Applicable</td>\n",
       "      <td>0</td>\n",
       "      <td>12.0</td>\n",
       "      <td>12.0</td>\n",
       "      <td>NaN</td>\n",
       "      <td>NaN</td>\n",
       "      <td>Twelve o'clock</td>\n",
       "      <td>12.0</td>\n",
       "      <td>2022</td>\n",
       "      <td>Q2</td>\n",
       "    </tr>\n",
       "    <tr>\n",
       "      <th>852872</th>\n",
       "      <td>Parked Vehicle</td>\n",
       "      <td>2.0</td>\n",
       "      <td>NaN</td>\n",
       "      <td>NaN</td>\n",
       "      <td>Superficial</td>\n",
       "      <td>2</td>\n",
       "      <td>Parked</td>\n",
       "      <td>10.0</td>\n",
       "      <td>19UUA56612A009361</td>\n",
       "      <td>AE58470023</td>\n",
       "      <td>NaN</td>\n",
       "      <td>NaN</td>\n",
       "      <td>2002.0</td>\n",
       "      <td>ACURA</td>\n",
       "      <td>TL</td>\n",
       "      <td>No</td>\n",
       "      <td>N</td>\n",
       "      <td>NaN</td>\n",
       "      <td>No</td>\n",
       "      <td>N</td>\n",
       "      <td>NaN</td>\n",
       "      <td>NaN</td>\n",
       "      <td>NaN</td>\n",
       "      <td>NaN</td>\n",
       "      <td>NaN</td>\n",
       "      <td>Passenger Car</td>\n",
       "      <td>2.0</td>\n",
       "      <td>Yes</td>\n",
       "      <td>Y</td>\n",
       "      <td>No</td>\n",
       "      <td>N</td>\n",
       "      <td>Yes</td>\n",
       "      <td>Y</td>\n",
       "      <td>15</td>\n",
       "      <td>No</td>\n",
       "      <td>N</td>\n",
       "      <td>NaN</td>\n",
       "      <td>NaN</td>\n",
       "      <td>3402941d-f2e9-4b6c-8673-634c3fd2258a</td>\n",
       "      <td>Not Applicable</td>\n",
       "      <td>0</td>\n",
       "      <td>1.0</td>\n",
       "      <td>1.0</td>\n",
       "      <td>2.0</td>\n",
       "      <td>3.0</td>\n",
       "      <td>Two o'clock</td>\n",
       "      <td>2.0</td>\n",
       "      <td>2017</td>\n",
       "      <td>Q2</td>\n",
       "    </tr>\n",
       "  </tbody>\n",
       "</table>\n",
       "</div>"
      ],
      "text/plain": [
       "       HARM_EVENT_DESC  HARM_EVENT_CODE CONTI_DIRECTION_DESC  \\\n",
       "639316   Other Vehicle              1.0                South   \n",
       "809011  Parked Vehicle              2.0                  NaN   \n",
       "658738      Pedestrian              3.0              Unknown   \n",
       "377830   Other Vehicle              1.0                North   \n",
       "852872  Parked Vehicle              2.0                  NaN   \n",
       "\n",
       "       CONTI_DIRECTION_CODE  DAMAGE_DESC  DAMAGE_CODE          MOVEMENT_DESC  \\\n",
       "639316                    S  Superficial            2  Moving Constant Speed   \n",
       "809011                  NaN      Unknown           99                 Parked   \n",
       "658738                    U    No Damage            1    Slowing or Stopping   \n",
       "377830                    N  Superficial            2    Slowing or Stopping   \n",
       "852872                  NaN  Superficial            2                 Parked   \n",
       "\n",
       "        MOVEMENT_CODE             VIN_NO    REPORT_NO CV_BODY_TYPE_DESC  \\\n",
       "639316            1.0  4T1CE38P16U614442   AE45380009               NaN   \n",
       "809011           10.0                NaN   AE55480024               NaN   \n",
       "658738            3.0  1HGCD5632VA238984   AE5860000G               NaN   \n",
       "377830            3.0  3N6CM0KN4MK697095  MCP3091003P               NaN   \n",
       "852872           10.0  19UUA56612A009361   AE58470023               NaN   \n",
       "\n",
       "        CV_BODY_TYPE_CODE  VEH_YEAR VEH_MAKE VEH_MODEL COMMERCIAL_FLAG_DESC  \\\n",
       "639316                NaN    2006.0   TOYOTA    SOLARA                   No   \n",
       "809011                NaN       NaN  UNKNOWN   UNKNOWN                   No   \n",
       "658738                NaN    1997.0    HONDA     CIVIC                   No   \n",
       "377830                NaN    2021.0   NISSAN     NV200                   No   \n",
       "852872                NaN    2002.0    ACURA        TL                   No   \n",
       "\n",
       "       COMMERCIAL_FLAG HZM_NUM TOWED_AWAY_FLAG_DESC TOWED_AWAY_FLAG  \\\n",
       "639316               N     NaN                   No               N   \n",
       "809011               N     NaN                   No               N   \n",
       "658738               N     NaN                   No               N   \n",
       "377830               N     NaN                   No               N   \n",
       "852872               N     NaN                   No               N   \n",
       "\n",
       "        NUM_AXLES GVW_DESC  GVW_CODE GOING_DIRECTION_DESC  \\\n",
       "639316        NaN      NaN       NaN                South   \n",
       "809011        NaN      NaN       NaN                  NaN   \n",
       "658738        NaN      NaN       NaN              Unknown   \n",
       "377830        NaN      NaN       NaN                North   \n",
       "852872        NaN      NaN       NaN                  NaN   \n",
       "\n",
       "       GOING_DIRECTION_CODE BODY_TYPE_DESC  BODY_TYPE_CODE  \\\n",
       "639316                    S  Passenger Car             2.0   \n",
       "809011                  NaN            NaN             NaN   \n",
       "658738                    U  Passenger Car             2.0   \n",
       "377830                    N  Passenger Car             2.0   \n",
       "852872                  NaN  Passenger Car             2.0   \n",
       "\n",
       "       DRIVERLESS_FLAG_DESC DRIVERLESS_FLAG FIRE_FLAG_DESC FIRE_FLAG  \\\n",
       "639316                   No               N             No         N   \n",
       "809011                   No               N            NaN         U   \n",
       "658738                   No               N             No         N   \n",
       "377830                   No               N             No         N   \n",
       "852872                  Yes               Y             No         N   \n",
       "\n",
       "       PARKED_FLAG_DESC PARKED_FLAG  SPEED_LIMIT HIT_AND_RUN_FLAG_DESC  \\\n",
       "639316               No           N           30                    No   \n",
       "809011              Yes           Y            0                   Yes   \n",
       "658738               No           N            5                    No   \n",
       "377830               No           N            5                    No   \n",
       "852872              Yes           Y           15                    No   \n",
       "\n",
       "       HIT_AND_RUN_FLAG HAZMAT_SPILL_FLAG_DESC HAZMAT_SPILL_FLAG  \\\n",
       "639316                N                    NaN               NaN   \n",
       "809011                Y                    NaN               NaN   \n",
       "658738                N                    NaN               NaN   \n",
       "377830                N                    NaN               NaN   \n",
       "852872                N                    NaN               NaN   \n",
       "\n",
       "                                  VEHICLE_ID TOWED_VEHICLE_CONFIG_DESC  \\\n",
       "639316  00c2e4fa-47fc-4be1-8948-47a4c94c1d3b            Not Applicable   \n",
       "809011  a5ecb7ab-89e0-4a4e-afbb-74350cfa0b25            Not Applicable   \n",
       "658738  c780361e-6202-456b-95e3-b224452eaf12            Not Applicable   \n",
       "377830  dba5f4c2-6537-424f-b8c1-18b222a31ac8            Not Applicable   \n",
       "852872  3402941d-f2e9-4b6c-8673-634c3fd2258a            Not Applicable   \n",
       "\n",
       "        TOWED_VEHICLE_CONFIG_CODE  AREA_DAMAGED_CODE_IMP1  AREA_DAMAGED_CODE1  \\\n",
       "639316                          0                    11.0                11.0   \n",
       "809011                          0                    99.0                99.0   \n",
       "658738                          0                    12.0                 NaN   \n",
       "377830                          0                    12.0                12.0   \n",
       "852872                          0                     1.0                 1.0   \n",
       "\n",
       "        AREA_DAMAGED_CODE2  AREA_DAMAGED_CODE3 AREA_DAMAGED_CODE_MAIN_DESC  \\\n",
       "639316                 NaN                 NaN              Eleven o'clock   \n",
       "809011                 NaN                 NaN                     Unknown   \n",
       "658738                 NaN                 NaN              Twelve o'clock   \n",
       "377830                 NaN                 NaN              Twelve o'clock   \n",
       "852872                 2.0                 3.0                 Two o'clock   \n",
       "\n",
       "        AREA_DAMAGED_CODE_MAIN  YEAR Quarter  \n",
       "639316                    11.0  2015      Q1  \n",
       "809011                    99.0  2016      Q3  \n",
       "658738                    12.0  2016      Q1  \n",
       "377830                    12.0  2022      Q2  \n",
       "852872                     2.0  2017      Q2  "
      ]
     },
     "execution_count": 171,
     "metadata": {},
     "output_type": "execute_result"
    }
   ],
   "source": [
    "df_cars.sample(5)"
   ]
  },
  {
   "cell_type": "code",
   "execution_count": 8,
   "metadata": {},
   "outputs": [],
   "source": [
    "df_people = pd.read_csv(\"../Data/Maryland_Statewide_Vehicle_Crashes_-_Person_Details__All.csv\", low_memory=False)"
   ]
  },
  {
   "cell_type": "code",
   "execution_count": 163,
   "metadata": {},
   "outputs": [
    {
     "data": {
      "text/html": [
       "<div>\n",
       "<style scoped>\n",
       "    .dataframe tbody tr th:only-of-type {\n",
       "        vertical-align: middle;\n",
       "    }\n",
       "\n",
       "    .dataframe tbody tr th {\n",
       "        vertical-align: top;\n",
       "    }\n",
       "\n",
       "    .dataframe thead th {\n",
       "        text-align: right;\n",
       "    }\n",
       "</style>\n",
       "<table border=\"1\" class=\"dataframe\">\n",
       "  <thead>\n",
       "    <tr style=\"text-align: right;\">\n",
       "      <th></th>\n",
       "      <th>SEX_DESC</th>\n",
       "      <th>SEX_CODE</th>\n",
       "      <th>CONDITION_DESC</th>\n",
       "      <th>CONDITION_CODE</th>\n",
       "      <th>INJ_SEVER_DESC</th>\n",
       "      <th>INJ_SEVER_CODE</th>\n",
       "      <th>REPORT_NO</th>\n",
       "      <th>OCC_SEAT_POS_DESC</th>\n",
       "      <th>OCC_SEAT_POS_CODE</th>\n",
       "      <th>PED_VISIBLE_DESC</th>\n",
       "      <th>PED_VISIBLE_CODE</th>\n",
       "      <th>PED_OBEY_DESC</th>\n",
       "      <th>PED_OBEY_CODE</th>\n",
       "      <th>PED_TYPE_DESC</th>\n",
       "      <th>PED_TYPE_CODE</th>\n",
       "      <th>PED_LOCATION_CODE</th>\n",
       "      <th>MOVEMENT_DESC</th>\n",
       "      <th>MOVEMENT_CODE</th>\n",
       "      <th>PERSON_TYPE_DESC</th>\n",
       "      <th>PERSON_TYPE</th>\n",
       "      <th>ALCOHOL_TEST_DESC</th>\n",
       "      <th>ALCOHOL_TEST_CODE</th>\n",
       "      <th>ALCOHOL_TESTTYPE_DESC</th>\n",
       "      <th>ALCOHOL_TESTTYPE_CODE</th>\n",
       "      <th>DRUG_TEST_DESC</th>\n",
       "      <th>DRUG_TEST_CODE</th>\n",
       "      <th>DRUG_TESTRESULT_DESC</th>\n",
       "      <th>DRUG_TESTRESULT_CODE</th>\n",
       "      <th>BAC_CODE</th>\n",
       "      <th>FAULT_FLAG_DESC</th>\n",
       "      <th>FAULT_FLAG</th>\n",
       "      <th>EQUIP_PROB_DESC</th>\n",
       "      <th>EQUIP_PROB_CODE</th>\n",
       "      <th>SAF_EQUIP_DESC</th>\n",
       "      <th>SAF_EQUIP_CODE</th>\n",
       "      <th>EJECT_DESC</th>\n",
       "      <th>EJECT_CODE</th>\n",
       "      <th>DATE_OF_BIRTH</th>\n",
       "      <th>PERSON_ID</th>\n",
       "      <th>LICENSE_STATE_CODE</th>\n",
       "      <th>CLASS</th>\n",
       "      <th>CDL_FLAG_DESC</th>\n",
       "      <th>CDL_FLAG</th>\n",
       "      <th>VEHICLE_ID</th>\n",
       "      <th>EMS_UNIT_LABEL</th>\n",
       "      <th>AIRBAG_DEPLOYED</th>\n",
       "      <th>YEAR</th>\n",
       "      <th>Quarter</th>\n",
       "    </tr>\n",
       "  </thead>\n",
       "  <tbody>\n",
       "    <tr>\n",
       "      <th>474660</th>\n",
       "      <td>Female</td>\n",
       "      <td>F</td>\n",
       "      <td>NaN</td>\n",
       "      <td>NaN</td>\n",
       "      <td>Possible Incapacitating Injury</td>\n",
       "      <td>3.0</td>\n",
       "      <td>MTA01160009</td>\n",
       "      <td>In Vehicle</td>\n",
       "      <td>1.0</td>\n",
       "      <td>NaN</td>\n",
       "      <td>NaN</td>\n",
       "      <td>NaN</td>\n",
       "      <td>NaN</td>\n",
       "      <td>NaN</td>\n",
       "      <td>NaN</td>\n",
       "      <td>NaN</td>\n",
       "      <td>NaN</td>\n",
       "      <td>NaN</td>\n",
       "      <td>Occupant</td>\n",
       "      <td>O</td>\n",
       "      <td>NaN</td>\n",
       "      <td>NaN</td>\n",
       "      <td>NaN</td>\n",
       "      <td>NaN</td>\n",
       "      <td>NaN</td>\n",
       "      <td>NaN</td>\n",
       "      <td>NaN</td>\n",
       "      <td>NaN</td>\n",
       "      <td>NaN</td>\n",
       "      <td>NaN</td>\n",
       "      <td>NaN</td>\n",
       "      <td>Not Applicable</td>\n",
       "      <td>0.0</td>\n",
       "      <td>Not Applicable</td>\n",
       "      <td>0.0</td>\n",
       "      <td>Not Ejected/Trapped</td>\n",
       "      <td>1.0</td>\n",
       "      <td>28-DEC-92</td>\n",
       "      <td>6c5aceec-db01-4a80-a786-1936bff0f909</td>\n",
       "      <td>NaN</td>\n",
       "      <td>NaN</td>\n",
       "      <td>NaN</td>\n",
       "      <td>NaN</td>\n",
       "      <td>e4f77cbc-ca0e-4b67-ab4b-2237fc7903c2</td>\n",
       "      <td>NaN</td>\n",
       "      <td>NaN</td>\n",
       "      <td>2015</td>\n",
       "      <td>Q1</td>\n",
       "    </tr>\n",
       "    <tr>\n",
       "      <th>252779</th>\n",
       "      <td>Male</td>\n",
       "      <td>M</td>\n",
       "      <td>Apparently Normal</td>\n",
       "      <td>1.0</td>\n",
       "      <td>No Injury</td>\n",
       "      <td>1.0</td>\n",
       "      <td>RD0098000R</td>\n",
       "      <td>NaN</td>\n",
       "      <td>NaN</td>\n",
       "      <td>NaN</td>\n",
       "      <td>NaN</td>\n",
       "      <td>NaN</td>\n",
       "      <td>NaN</td>\n",
       "      <td>NaN</td>\n",
       "      <td>NaN</td>\n",
       "      <td>NaN</td>\n",
       "      <td>NaN</td>\n",
       "      <td>NaN</td>\n",
       "      <td>Driver</td>\n",
       "      <td>D</td>\n",
       "      <td>Not Applicable</td>\n",
       "      <td>0.0</td>\n",
       "      <td>NaN</td>\n",
       "      <td>NaN</td>\n",
       "      <td>Not Applicable</td>\n",
       "      <td>0.0</td>\n",
       "      <td>NaN</td>\n",
       "      <td>NaN</td>\n",
       "      <td>NaN</td>\n",
       "      <td>False</td>\n",
       "      <td>N</td>\n",
       "      <td>No Misuse</td>\n",
       "      <td>1.0</td>\n",
       "      <td>Shoulder/Lap Belt(s)</td>\n",
       "      <td>13.0</td>\n",
       "      <td>Not Ejected/Trapped</td>\n",
       "      <td>1.0</td>\n",
       "      <td>29-MAY-74</td>\n",
       "      <td>fe9d9bd4-b81b-4c24-9bd3-95eb7aa43889</td>\n",
       "      <td>MD</td>\n",
       "      <td>NaN</td>\n",
       "      <td>False</td>\n",
       "      <td>False</td>\n",
       "      <td>b0c08c01-37e8-40cd-96f2-19a22fab9eab</td>\n",
       "      <td>NaN</td>\n",
       "      <td>1.0</td>\n",
       "      <td>2016</td>\n",
       "      <td>Q2</td>\n",
       "    </tr>\n",
       "    <tr>\n",
       "      <th>998807</th>\n",
       "      <td>Female</td>\n",
       "      <td>F</td>\n",
       "      <td>Had Been Drinking</td>\n",
       "      <td>2.0</td>\n",
       "      <td>No Injury</td>\n",
       "      <td>1.0</td>\n",
       "      <td>AE5782001S</td>\n",
       "      <td>NaN</td>\n",
       "      <td>NaN</td>\n",
       "      <td>NaN</td>\n",
       "      <td>NaN</td>\n",
       "      <td>NaN</td>\n",
       "      <td>NaN</td>\n",
       "      <td>NaN</td>\n",
       "      <td>NaN</td>\n",
       "      <td>NaN</td>\n",
       "      <td>NaN</td>\n",
       "      <td>NaN</td>\n",
       "      <td>Driver</td>\n",
       "      <td>D</td>\n",
       "      <td>Evidence Test Given</td>\n",
       "      <td>3.0</td>\n",
       "      <td>Breath</td>\n",
       "      <td>1.0</td>\n",
       "      <td>Not Applicable</td>\n",
       "      <td>0.0</td>\n",
       "      <td>NaN</td>\n",
       "      <td>NaN</td>\n",
       "      <td>0.24</td>\n",
       "      <td>True</td>\n",
       "      <td>Y</td>\n",
       "      <td>No Misuse</td>\n",
       "      <td>1.0</td>\n",
       "      <td>Shoulder/Lap Belt(s)</td>\n",
       "      <td>13.0</td>\n",
       "      <td>Not Ejected/Trapped</td>\n",
       "      <td>1.0</td>\n",
       "      <td>19760828</td>\n",
       "      <td>aad480d6-ab35-4d4e-a2ae-e8e9fbfcdf13</td>\n",
       "      <td>MD</td>\n",
       "      <td>C</td>\n",
       "      <td>False</td>\n",
       "      <td>False</td>\n",
       "      <td>2e6b872a-de2c-48e1-9b18-a69e75ee09e3</td>\n",
       "      <td>NaN</td>\n",
       "      <td>1.0</td>\n",
       "      <td>2017</td>\n",
       "      <td>Q2</td>\n",
       "    </tr>\n",
       "    <tr>\n",
       "      <th>1123703</th>\n",
       "      <td>Female</td>\n",
       "      <td>F</td>\n",
       "      <td>Apparently Normal</td>\n",
       "      <td>1.0</td>\n",
       "      <td>No Injury</td>\n",
       "      <td>1.0</td>\n",
       "      <td>MSP70610017</td>\n",
       "      <td>NaN</td>\n",
       "      <td>NaN</td>\n",
       "      <td>NaN</td>\n",
       "      <td>NaN</td>\n",
       "      <td>NaN</td>\n",
       "      <td>NaN</td>\n",
       "      <td>NaN</td>\n",
       "      <td>NaN</td>\n",
       "      <td>NaN</td>\n",
       "      <td>NaN</td>\n",
       "      <td>NaN</td>\n",
       "      <td>Driver</td>\n",
       "      <td>D</td>\n",
       "      <td>Not Applicable</td>\n",
       "      <td>0.0</td>\n",
       "      <td>NaN</td>\n",
       "      <td>NaN</td>\n",
       "      <td>Not Applicable</td>\n",
       "      <td>0.0</td>\n",
       "      <td>NaN</td>\n",
       "      <td>NaN</td>\n",
       "      <td>NaN</td>\n",
       "      <td>True</td>\n",
       "      <td>Y</td>\n",
       "      <td>No Misuse</td>\n",
       "      <td>1.0</td>\n",
       "      <td>Shoulder/Lap Belt(s)</td>\n",
       "      <td>13.0</td>\n",
       "      <td>Not Ejected/Trapped</td>\n",
       "      <td>1.0</td>\n",
       "      <td>19891225</td>\n",
       "      <td>39305ec5-913a-41ec-a10a-f691724c7aa2</td>\n",
       "      <td>MD</td>\n",
       "      <td>C</td>\n",
       "      <td>False</td>\n",
       "      <td>False</td>\n",
       "      <td>c9e80de7-80e8-4d4b-a41c-be205efa25a3</td>\n",
       "      <td>NaN</td>\n",
       "      <td>1.0</td>\n",
       "      <td>2019</td>\n",
       "      <td>Q2</td>\n",
       "    </tr>\n",
       "    <tr>\n",
       "      <th>304862</th>\n",
       "      <td>Male</td>\n",
       "      <td>M</td>\n",
       "      <td>Apparently Normal</td>\n",
       "      <td>1.0</td>\n",
       "      <td>No Injury</td>\n",
       "      <td>1.0</td>\n",
       "      <td>MSP62190083</td>\n",
       "      <td>NaN</td>\n",
       "      <td>NaN</td>\n",
       "      <td>NaN</td>\n",
       "      <td>NaN</td>\n",
       "      <td>NaN</td>\n",
       "      <td>NaN</td>\n",
       "      <td>NaN</td>\n",
       "      <td>NaN</td>\n",
       "      <td>NaN</td>\n",
       "      <td>NaN</td>\n",
       "      <td>NaN</td>\n",
       "      <td>Driver</td>\n",
       "      <td>D</td>\n",
       "      <td>Not Applicable</td>\n",
       "      <td>0.0</td>\n",
       "      <td>NaN</td>\n",
       "      <td>NaN</td>\n",
       "      <td>Not Applicable</td>\n",
       "      <td>0.0</td>\n",
       "      <td>NaN</td>\n",
       "      <td>NaN</td>\n",
       "      <td>NaN</td>\n",
       "      <td>True</td>\n",
       "      <td>Y</td>\n",
       "      <td>No Misuse</td>\n",
       "      <td>1.0</td>\n",
       "      <td>Shoulder/Lap Belt(s)</td>\n",
       "      <td>13.0</td>\n",
       "      <td>Not Ejected/Trapped</td>\n",
       "      <td>1.0</td>\n",
       "      <td>19550727</td>\n",
       "      <td>69786ce6-5af6-4c3d-98c3-e426cba7eedb</td>\n",
       "      <td>MD</td>\n",
       "      <td>C</td>\n",
       "      <td>False</td>\n",
       "      <td>False</td>\n",
       "      <td>ed2c6ab2-e7f8-4079-a8bd-137e082f00ed</td>\n",
       "      <td>NaN</td>\n",
       "      <td>1.0</td>\n",
       "      <td>2018</td>\n",
       "      <td>Q1</td>\n",
       "    </tr>\n",
       "  </tbody>\n",
       "</table>\n",
       "</div>"
      ],
      "text/plain": [
       "        SEX_DESC SEX_CODE     CONDITION_DESC  CONDITION_CODE  \\\n",
       "474660    Female        F                NaN             NaN   \n",
       "252779      Male        M  Apparently Normal             1.0   \n",
       "998807    Female        F  Had Been Drinking             2.0   \n",
       "1123703   Female        F  Apparently Normal             1.0   \n",
       "304862      Male        M  Apparently Normal             1.0   \n",
       "\n",
       "                         INJ_SEVER_DESC  INJ_SEVER_CODE    REPORT_NO  \\\n",
       "474660   Possible Incapacitating Injury             3.0  MTA01160009   \n",
       "252779                        No Injury             1.0   RD0098000R   \n",
       "998807                        No Injury             1.0   AE5782001S   \n",
       "1123703                       No Injury             1.0  MSP70610017   \n",
       "304862                        No Injury             1.0  MSP62190083   \n",
       "\n",
       "        OCC_SEAT_POS_DESC  OCC_SEAT_POS_CODE PED_VISIBLE_DESC  \\\n",
       "474660         In Vehicle                1.0              NaN   \n",
       "252779                NaN                NaN              NaN   \n",
       "998807                NaN                NaN              NaN   \n",
       "1123703               NaN                NaN              NaN   \n",
       "304862                NaN                NaN              NaN   \n",
       "\n",
       "         PED_VISIBLE_CODE PED_OBEY_DESC  PED_OBEY_CODE PED_TYPE_DESC  \\\n",
       "474660                NaN           NaN            NaN           NaN   \n",
       "252779                NaN           NaN            NaN           NaN   \n",
       "998807                NaN           NaN            NaN           NaN   \n",
       "1123703               NaN           NaN            NaN           NaN   \n",
       "304862                NaN           NaN            NaN           NaN   \n",
       "\n",
       "         PED_TYPE_CODE  PED_LOCATION_CODE MOVEMENT_DESC  MOVEMENT_CODE  \\\n",
       "474660             NaN                NaN           NaN            NaN   \n",
       "252779             NaN                NaN           NaN            NaN   \n",
       "998807             NaN                NaN           NaN            NaN   \n",
       "1123703            NaN                NaN           NaN            NaN   \n",
       "304862             NaN                NaN           NaN            NaN   \n",
       "\n",
       "        PERSON_TYPE_DESC PERSON_TYPE    ALCOHOL_TEST_DESC  ALCOHOL_TEST_CODE  \\\n",
       "474660          Occupant           O                  NaN                NaN   \n",
       "252779            Driver           D       Not Applicable                0.0   \n",
       "998807            Driver           D  Evidence Test Given                3.0   \n",
       "1123703           Driver           D       Not Applicable                0.0   \n",
       "304862            Driver           D       Not Applicable                0.0   \n",
       "\n",
       "        ALCOHOL_TESTTYPE_DESC  ALCOHOL_TESTTYPE_CODE  DRUG_TEST_DESC  \\\n",
       "474660                    NaN                    NaN             NaN   \n",
       "252779                    NaN                    NaN  Not Applicable   \n",
       "998807                 Breath                    1.0  Not Applicable   \n",
       "1123703                   NaN                    NaN  Not Applicable   \n",
       "304862                    NaN                    NaN  Not Applicable   \n",
       "\n",
       "         DRUG_TEST_CODE DRUG_TESTRESULT_DESC DRUG_TESTRESULT_CODE  BAC_CODE  \\\n",
       "474660              NaN                  NaN                  NaN       NaN   \n",
       "252779              0.0                  NaN                  NaN       NaN   \n",
       "998807              0.0                  NaN                  NaN      0.24   \n",
       "1123703             0.0                  NaN                  NaN       NaN   \n",
       "304862              0.0                  NaN                  NaN       NaN   \n",
       "\n",
       "        FAULT_FLAG_DESC FAULT_FLAG EQUIP_PROB_DESC  EQUIP_PROB_CODE  \\\n",
       "474660              NaN        NaN  Not Applicable              0.0   \n",
       "252779            False          N       No Misuse              1.0   \n",
       "998807             True          Y       No Misuse              1.0   \n",
       "1123703            True          Y       No Misuse              1.0   \n",
       "304862             True          Y       No Misuse              1.0   \n",
       "\n",
       "               SAF_EQUIP_DESC  SAF_EQUIP_CODE           EJECT_DESC  \\\n",
       "474660         Not Applicable             0.0  Not Ejected/Trapped   \n",
       "252779   Shoulder/Lap Belt(s)            13.0  Not Ejected/Trapped   \n",
       "998807   Shoulder/Lap Belt(s)            13.0  Not Ejected/Trapped   \n",
       "1123703  Shoulder/Lap Belt(s)            13.0  Not Ejected/Trapped   \n",
       "304862   Shoulder/Lap Belt(s)            13.0  Not Ejected/Trapped   \n",
       "\n",
       "         EJECT_CODE DATE_OF_BIRTH                             PERSON_ID  \\\n",
       "474660          1.0     28-DEC-92  6c5aceec-db01-4a80-a786-1936bff0f909   \n",
       "252779          1.0     29-MAY-74  fe9d9bd4-b81b-4c24-9bd3-95eb7aa43889   \n",
       "998807          1.0      19760828  aad480d6-ab35-4d4e-a2ae-e8e9fbfcdf13   \n",
       "1123703         1.0      19891225  39305ec5-913a-41ec-a10a-f691724c7aa2   \n",
       "304862          1.0      19550727  69786ce6-5af6-4c3d-98c3-e426cba7eedb   \n",
       "\n",
       "        LICENSE_STATE_CODE CLASS CDL_FLAG_DESC CDL_FLAG  \\\n",
       "474660                 NaN   NaN           NaN      NaN   \n",
       "252779                  MD   NaN         False    False   \n",
       "998807                  MD     C         False    False   \n",
       "1123703                 MD     C         False    False   \n",
       "304862                  MD     C         False    False   \n",
       "\n",
       "                                   VEHICLE_ID EMS_UNIT_LABEL  AIRBAG_DEPLOYED  \\\n",
       "474660   e4f77cbc-ca0e-4b67-ab4b-2237fc7903c2            NaN              NaN   \n",
       "252779   b0c08c01-37e8-40cd-96f2-19a22fab9eab            NaN              1.0   \n",
       "998807   2e6b872a-de2c-48e1-9b18-a69e75ee09e3            NaN              1.0   \n",
       "1123703  c9e80de7-80e8-4d4b-a41c-be205efa25a3            NaN              1.0   \n",
       "304862   ed2c6ab2-e7f8-4079-a8bd-137e082f00ed            NaN              1.0   \n",
       "\n",
       "         YEAR Quarter  \n",
       "474660   2015      Q1  \n",
       "252779   2016      Q2  \n",
       "998807   2017      Q2  \n",
       "1123703  2019      Q2  \n",
       "304862   2018      Q1  "
      ]
     },
     "execution_count": 163,
     "metadata": {},
     "output_type": "execute_result"
    }
   ],
   "source": [
    "df_people.sample(5)"
   ]
  },
  {
   "cell_type": "code",
   "execution_count": 9,
   "metadata": {},
   "outputs": [
    {
     "data": {
      "text/plain": [
       "(1970107, 48)"
      ]
     },
     "execution_count": 9,
     "metadata": {},
     "output_type": "execute_result"
    }
   ],
   "source": [
    "df_people.shape"
   ]
  },
  {
   "cell_type": "code",
   "execution_count": 10,
   "metadata": {},
   "outputs": [
    {
     "data": {
      "text/html": [
       "<div>\n",
       "<style scoped>\n",
       "    .dataframe tbody tr th:only-of-type {\n",
       "        vertical-align: middle;\n",
       "    }\n",
       "\n",
       "    .dataframe tbody tr th {\n",
       "        vertical-align: top;\n",
       "    }\n",
       "\n",
       "    .dataframe thead th {\n",
       "        text-align: right;\n",
       "    }\n",
       "</style>\n",
       "<table border=\"1\" class=\"dataframe\">\n",
       "  <thead>\n",
       "    <tr style=\"text-align: right;\">\n",
       "      <th></th>\n",
       "      <th>YEAR</th>\n",
       "      <th>QUARTER</th>\n",
       "      <th>LIGHT_DESC</th>\n",
       "      <th>LIGHT_CODE</th>\n",
       "      <th>COUNTY_DESC</th>\n",
       "      <th>COUNTY_NO</th>\n",
       "      <th>MUNI_DESC</th>\n",
       "      <th>MUNI_CODE</th>\n",
       "      <th>JUNCTION_DESC</th>\n",
       "      <th>JUNCTION_CODE</th>\n",
       "      <th>COLLISION_TYPE_DESC</th>\n",
       "      <th>COLLISION_TYPE_CODE</th>\n",
       "      <th>SURF_COND_DESC</th>\n",
       "      <th>SURF_COND_CODE</th>\n",
       "      <th>LANE_CODE</th>\n",
       "      <th>RD_COND_DESC</th>\n",
       "      <th>RD_COND_CODE</th>\n",
       "      <th>RD_DIV_DESC</th>\n",
       "      <th>RD_DIV_CODE</th>\n",
       "      <th>FIX_OBJ_DESC</th>\n",
       "      <th>FIX_OBJ_CODE</th>\n",
       "      <th>REPORT_NO</th>\n",
       "      <th>REPORT_TYPE</th>\n",
       "      <th>WEATHER_DESC</th>\n",
       "      <th>WEATHER_CODE</th>\n",
       "      <th>ACC_DATE</th>\n",
       "      <th>ACC_TIME</th>\n",
       "      <th>LOC_CODE</th>\n",
       "      <th>SIGNAL_FLAG_DESC</th>\n",
       "      <th>SIGNAL_FLAG</th>\n",
       "      <th>C_M_ZONE_FLAG</th>\n",
       "      <th>AGENCY_CODE</th>\n",
       "      <th>AREA_CODE</th>\n",
       "      <th>HARM_EVENT_DESC1</th>\n",
       "      <th>HARM_EVENT_CODE1</th>\n",
       "      <th>HARM_EVENT_DESC2</th>\n",
       "      <th>HARM_EVENT_CODE2</th>\n",
       "      <th>RTE_NO</th>\n",
       "      <th>ROUTE_TYPE_CODE</th>\n",
       "      <th>RTE_SUFFIX</th>\n",
       "      <th>LOG_MILE</th>\n",
       "      <th>LOGMILE_DIR_FLAG_DESC</th>\n",
       "      <th>LOGMILE_DIR_FLAG</th>\n",
       "      <th>MAINROAD_NAME</th>\n",
       "      <th>DISTANCE</th>\n",
       "      <th>FEET_MILES_FLAG_DESC</th>\n",
       "      <th>FEET_MILES_FLAG</th>\n",
       "      <th>DISTANCE_DIR_FLAG</th>\n",
       "      <th>REFERENCE_NO</th>\n",
       "      <th>REFERENCE_TYPE_CODE</th>\n",
       "      <th>REFERENCE_SUFFIX</th>\n",
       "      <th>REFERENCE_ROAD_NAME</th>\n",
       "      <th>LATITUDE</th>\n",
       "      <th>LONGITUDE</th>\n",
       "      <th>LOCATION</th>\n",
       "    </tr>\n",
       "  </thead>\n",
       "  <tbody>\n",
       "    <tr>\n",
       "      <th>0</th>\n",
       "      <td>2020</td>\n",
       "      <td>Q2</td>\n",
       "      <td>Daylight</td>\n",
       "      <td>1.0</td>\n",
       "      <td>Baltimore</td>\n",
       "      <td>3.0</td>\n",
       "      <td>NaN</td>\n",
       "      <td>NaN</td>\n",
       "      <td>NaN</td>\n",
       "      <td>NaN</td>\n",
       "      <td>Other</td>\n",
       "      <td>88</td>\n",
       "      <td>NaN</td>\n",
       "      <td>NaN</td>\n",
       "      <td>NaN</td>\n",
       "      <td>NaN</td>\n",
       "      <td>NaN</td>\n",
       "      <td>NaN</td>\n",
       "      <td>NaN</td>\n",
       "      <td>Not Applicable</td>\n",
       "      <td>0.0</td>\n",
       "      <td>AE58770052</td>\n",
       "      <td>Property Damage Crash</td>\n",
       "      <td>Not Applicable</td>\n",
       "      <td>0.00</td>\n",
       "      <td>20200618</td>\n",
       "      <td>15:15:00</td>\n",
       "      <td>NaN</td>\n",
       "      <td>No</td>\n",
       "      <td>N</td>\n",
       "      <td>N</td>\n",
       "      <td>BACOPD</td>\n",
       "      <td>UNK</td>\n",
       "      <td>Parked Vehicle</td>\n",
       "      <td>2.0</td>\n",
       "      <td>Not Applicable</td>\n",
       "      <td>0.0</td>\n",
       "      <td>NaN</td>\n",
       "      <td>NaN</td>\n",
       "      <td>NaN</td>\n",
       "      <td>NaN</td>\n",
       "      <td>NaN</td>\n",
       "      <td>NaN</td>\n",
       "      <td>NaN</td>\n",
       "      <td>NaN</td>\n",
       "      <td>NaN</td>\n",
       "      <td>NaN</td>\n",
       "      <td>NaN</td>\n",
       "      <td>NaN</td>\n",
       "      <td>NaN</td>\n",
       "      <td>NaN</td>\n",
       "      <td>NaN</td>\n",
       "      <td>39.277263</td>\n",
       "      <td>-76.503693</td>\n",
       "      <td>POINT (-76.5036932 39.27726285)</td>\n",
       "    </tr>\n",
       "    <tr>\n",
       "      <th>1</th>\n",
       "      <td>2022</td>\n",
       "      <td>Q2</td>\n",
       "      <td>Dark Lights On</td>\n",
       "      <td>3.0</td>\n",
       "      <td>Montgomery</td>\n",
       "      <td>15.0</td>\n",
       "      <td>NaN</td>\n",
       "      <td>NaN</td>\n",
       "      <td>NaN</td>\n",
       "      <td>NaN</td>\n",
       "      <td>Other</td>\n",
       "      <td>88</td>\n",
       "      <td>NaN</td>\n",
       "      <td>NaN</td>\n",
       "      <td>NaN</td>\n",
       "      <td>NaN</td>\n",
       "      <td>NaN</td>\n",
       "      <td>NaN</td>\n",
       "      <td>NaN</td>\n",
       "      <td>Not Applicable</td>\n",
       "      <td>0.0</td>\n",
       "      <td>MCP2539001Y</td>\n",
       "      <td>Property Damage Crash</td>\n",
       "      <td>NaN</td>\n",
       "      <td>6.01</td>\n",
       "      <td>20220422</td>\n",
       "      <td>22:49:00</td>\n",
       "      <td>55222</td>\n",
       "      <td>No</td>\n",
       "      <td>N</td>\n",
       "      <td>N</td>\n",
       "      <td>MONTGOMERY</td>\n",
       "      <td>UNK</td>\n",
       "      <td>Other Vehicle</td>\n",
       "      <td>1.0</td>\n",
       "      <td>Not Applicable</td>\n",
       "      <td>0.0</td>\n",
       "      <td>NaN</td>\n",
       "      <td>NaN</td>\n",
       "      <td>NaN</td>\n",
       "      <td>NaN</td>\n",
       "      <td>NaN</td>\n",
       "      <td>NaN</td>\n",
       "      <td>NaN</td>\n",
       "      <td>NaN</td>\n",
       "      <td>NaN</td>\n",
       "      <td>NaN</td>\n",
       "      <td>NaN</td>\n",
       "      <td>NaN</td>\n",
       "      <td>NaN</td>\n",
       "      <td>NaN</td>\n",
       "      <td>NaN</td>\n",
       "      <td>38.992210</td>\n",
       "      <td>-77.097021</td>\n",
       "      <td>POINT (-77.097020666667 38.9922095)</td>\n",
       "    </tr>\n",
       "  </tbody>\n",
       "</table>\n",
       "</div>"
      ],
      "text/plain": [
       "   YEAR QUARTER      LIGHT_DESC  LIGHT_CODE COUNTY_DESC  COUNTY_NO  MUNI_DESC  \\\n",
       "0  2020      Q2        Daylight         1.0   Baltimore        3.0        NaN   \n",
       "1  2022      Q2  Dark Lights On         3.0  Montgomery       15.0        NaN   \n",
       "\n",
       "   MUNI_CODE JUNCTION_DESC  JUNCTION_CODE COLLISION_TYPE_DESC  \\\n",
       "0        NaN           NaN            NaN               Other   \n",
       "1        NaN           NaN            NaN               Other   \n",
       "\n",
       "   COLLISION_TYPE_CODE SURF_COND_DESC  SURF_COND_CODE  LANE_CODE RD_COND_DESC  \\\n",
       "0                   88            NaN             NaN        NaN          NaN   \n",
       "1                   88            NaN             NaN        NaN          NaN   \n",
       "\n",
       "   RD_COND_CODE RD_DIV_DESC  RD_DIV_CODE    FIX_OBJ_DESC  FIX_OBJ_CODE  \\\n",
       "0           NaN         NaN          NaN  Not Applicable           0.0   \n",
       "1           NaN         NaN          NaN  Not Applicable           0.0   \n",
       "\n",
       "     REPORT_NO            REPORT_TYPE    WEATHER_DESC  WEATHER_CODE  ACC_DATE  \\\n",
       "0   AE58770052  Property Damage Crash  Not Applicable          0.00  20200618   \n",
       "1  MCP2539001Y  Property Damage Crash             NaN          6.01  20220422   \n",
       "\n",
       "   ACC_TIME LOC_CODE SIGNAL_FLAG_DESC SIGNAL_FLAG C_M_ZONE_FLAG AGENCY_CODE  \\\n",
       "0  15:15:00      NaN               No           N             N      BACOPD   \n",
       "1  22:49:00    55222               No           N             N  MONTGOMERY   \n",
       "\n",
       "  AREA_CODE HARM_EVENT_DESC1  HARM_EVENT_CODE1 HARM_EVENT_DESC2  \\\n",
       "0       UNK   Parked Vehicle               2.0   Not Applicable   \n",
       "1       UNK    Other Vehicle               1.0   Not Applicable   \n",
       "\n",
       "   HARM_EVENT_CODE2  RTE_NO ROUTE_TYPE_CODE RTE_SUFFIX  LOG_MILE  \\\n",
       "0               0.0     NaN             NaN        NaN       NaN   \n",
       "1               0.0     NaN             NaN        NaN       NaN   \n",
       "\n",
       "  LOGMILE_DIR_FLAG_DESC LOGMILE_DIR_FLAG MAINROAD_NAME  DISTANCE  \\\n",
       "0                   NaN              NaN           NaN       NaN   \n",
       "1                   NaN              NaN           NaN       NaN   \n",
       "\n",
       "  FEET_MILES_FLAG_DESC FEET_MILES_FLAG DISTANCE_DIR_FLAG  REFERENCE_NO  \\\n",
       "0                  NaN             NaN               NaN           NaN   \n",
       "1                  NaN             NaN               NaN           NaN   \n",
       "\n",
       "  REFERENCE_TYPE_CODE REFERENCE_SUFFIX REFERENCE_ROAD_NAME   LATITUDE  \\\n",
       "0                 NaN              NaN                 NaN  39.277263   \n",
       "1                 NaN              NaN                 NaN  38.992210   \n",
       "\n",
       "   LONGITUDE                             LOCATION  \n",
       "0 -76.503693      POINT (-76.5036932 39.27726285)  \n",
       "1 -77.097021  POINT (-77.097020666667 38.9922095)  "
      ]
     },
     "execution_count": 10,
     "metadata": {},
     "output_type": "execute_result"
    }
   ],
   "source": [
    "crash_summary.head(2)"
   ]
  },
  {
   "cell_type": "code",
   "execution_count": 178,
   "metadata": {},
   "outputs": [
    {
     "data": {
      "text/plain": [
       "Property Damage Crash    550429\n",
       "Injury Crash             214087\n",
       "Fatal Crash                3094\n",
       "Name: REPORT_TYPE, dtype: int64"
      ]
     },
     "execution_count": 178,
     "metadata": {},
     "output_type": "execute_result"
    }
   ],
   "source": [
    "crash_summary.REPORT_TYPE.value_counts()"
   ]
  },
  {
   "attachments": {},
   "cell_type": "markdown",
   "metadata": {},
   "source": [
    "# Cleaning Crash Summary Data"
   ]
  },
  {
   "attachments": {},
   "cell_type": "markdown",
   "metadata": {},
   "source": [
    "## Collision Type"
   ]
  },
  {
   "attachments": {},
   "cell_type": "markdown",
   "metadata": {},
   "source": [
    "Might need a value condition to not have as other for ML maybe less than 1000 (other than where it makes sense to keep like surface condition mud_gravel_dirt)?\n",
    "Also, might need to remove \"non-intersection (best probably from report type)\" as values with them come up in places where it doesnt make sense like road conditions, weather description, report type (dependent varaible) etc..."
   ]
  },
  {
   "cell_type": "code",
   "execution_count": 11,
   "metadata": {},
   "outputs": [
    {
     "data": {
      "text/plain": [
       "Same Direction Rear End               220954\n",
       "Single Vehicle                        199060\n",
       "Other                                 114275\n",
       "Same Movement Angle                   113803\n",
       "Same Direction Sideswipe               65944\n",
       "Head On Left Turn                      38518\n",
       "Unknown                                21661\n",
       "Head On                                20186\n",
       "Same Direction Right Turn              19603\n",
       "Same Direction Left Turn               19347\n",
       "Opposite Direction Sideswipe           11765\n",
       "Not Applicable                          8841\n",
       "Same Direction Rear End Left Turn       5163\n",
       "Angle Meets Left Turn                   4556\n",
       "Same Direction Rear End Right Turn      3505\n",
       "Same Direction Both Left Turn           3484\n",
       "Angle Meets Right Turn                  3391\n",
       "Angle Meets Left Turn Head On           2509\n",
       "Opposite Direction Both Left Turn       1778\n",
       "Name: COLLISION_TYPE_DESC, dtype: int64"
      ]
     },
     "execution_count": 11,
     "metadata": {},
     "output_type": "execute_result"
    }
   ],
   "source": [
    "crash_summary.COLLISION_TYPE_DESC.value_counts()"
   ]
  },
  {
   "attachments": {},
   "cell_type": "markdown",
   "metadata": {},
   "source": [
    "Possible categories to leave:<br>\n",
    "Same Direction<br>\n",
    "Same Movement Angle<br>\n",
    "Opposite Direction<br>\n",
    "Angle Meets<br>\n",
    "Head On<br>\n",
    "Other - NA, Unknown and Other"
   ]
  },
  {
   "cell_type": "code",
   "execution_count": 12,
   "metadata": {},
   "outputs": [],
   "source": [
    "#crash_summary.loc[crash_summary.COLLISION_TYPE_DESC == 'Unknown'] = 'Other'\n",
    "#crash_summary.loc[crash_summary.COLLISION_TYPE_DESC == 'Not Applicable'] = 'Unknown'"
   ]
  },
  {
   "cell_type": "code",
   "execution_count": 13,
   "metadata": {},
   "outputs": [
    {
     "data": {
      "text/plain": [
       "Same Direction Rear End               220954\n",
       "Single Vehicle                        199060\n",
       "Other                                 114275\n",
       "Same Movement Angle                   113803\n",
       "Same Direction Sideswipe               65944\n",
       "Head On Left Turn                      38518\n",
       "Unknown                                21661\n",
       "Head On                                20186\n",
       "Same Direction Right Turn              19603\n",
       "Same Direction Left Turn               19347\n",
       "Opposite Direction Sideswipe           11765\n",
       "Not Applicable                          8841\n",
       "Same Direction Rear End Left Turn       5163\n",
       "Angle Meets Left Turn                   4556\n",
       "Same Direction Rear End Right Turn      3505\n",
       "Same Direction Both Left Turn           3484\n",
       "Angle Meets Right Turn                  3391\n",
       "Angle Meets Left Turn Head On           2509\n",
       "Opposite Direction Both Left Turn       1778\n",
       "Name: COLLISION_TYPE_DESC, dtype: int64"
      ]
     },
     "execution_count": 13,
     "metadata": {},
     "output_type": "execute_result"
    }
   ],
   "source": [
    "crash_summary.COLLISION_TYPE_DESC.value_counts()"
   ]
  },
  {
   "attachments": {},
   "cell_type": "markdown",
   "metadata": {},
   "source": [
    "## JUNCTION"
   ]
  },
  {
   "cell_type": "code",
   "execution_count": 14,
   "metadata": {},
   "outputs": [
    {
     "data": {
      "text/plain": [
       "Non Intersection          305282\n",
       "Intersection              219733\n",
       "Not Applicable            149571\n",
       "Intersection Related       73699\n",
       "Interchange Related         5227\n",
       "Commercial Driveway         3075\n",
       "Crossover Related           1329\n",
       "Residential Driveway        1262\n",
       "Alley                        860\n",
       "Railway Grade Crossing        81\n",
       "Name: JUNCTION_DESC, dtype: int64"
      ]
     },
     "execution_count": 14,
     "metadata": {},
     "output_type": "execute_result"
    }
   ],
   "source": [
    "crash_summary.JUNCTION_DESC.value_counts()"
   ]
  },
  {
   "attachments": {},
   "cell_type": "markdown",
   "metadata": {},
   "source": [
    "Possible categories to leave:\n",
    "Maybe all but Other and NA into other"
   ]
  },
  {
   "cell_type": "code",
   "execution_count": 15,
   "metadata": {},
   "outputs": [],
   "source": [
    "#crash_summary.loc[crash_summary['JUNCTION_DESC'] == 'Not Applicable'] = 'Non Intersection'"
   ]
  },
  {
   "cell_type": "code",
   "execution_count": 16,
   "metadata": {},
   "outputs": [
    {
     "data": {
      "text/plain": [
       "Non Intersection          305282\n",
       "Intersection              219733\n",
       "Not Applicable            149571\n",
       "Intersection Related       73699\n",
       "Interchange Related         5227\n",
       "Commercial Driveway         3075\n",
       "Crossover Related           1329\n",
       "Residential Driveway        1262\n",
       "Alley                        860\n",
       "Railway Grade Crossing        81\n",
       "Name: JUNCTION_DESC, dtype: int64"
      ]
     },
     "execution_count": 16,
     "metadata": {},
     "output_type": "execute_result"
    }
   ],
   "source": [
    "crash_summary.JUNCTION_DESC.value_counts()"
   ]
  },
  {
   "attachments": {},
   "cell_type": "markdown",
   "metadata": {},
   "source": [
    "## Light Level"
   ]
  },
  {
   "cell_type": "code",
   "execution_count": 17,
   "metadata": {},
   "outputs": [
    {
     "data": {
      "text/plain": [
       "Daylight                   522916\n",
       "Dark Lights On             202797\n",
       "Dark No Lights              63305\n",
       "Unknown                     14921\n",
       "Not Applicable              14462\n",
       "Dusk                         7887\n",
       "Dawn                         7310\n",
       "Dark - Unknown Lighting      4818\n",
       "Other                        2609\n",
       "Name: LIGHT_DESC, dtype: int64"
      ]
     },
     "execution_count": 17,
     "metadata": {},
     "output_type": "execute_result"
    }
   ],
   "source": [
    "crash_summary.LIGHT_DESC.value_counts()"
   ]
  },
  {
   "attachments": {},
   "cell_type": "markdown",
   "metadata": {},
   "source": [
    "Possible categories to leave:\n",
    "Daylight \n",
    "Dark ?\n",
    "Dusk \n",
    "Dawn\n",
    "Other - NA, Unknown, Other"
   ]
  },
  {
   "cell_type": "code",
   "execution_count": 18,
   "metadata": {},
   "outputs": [],
   "source": [
    "#crash_summary.loc[crash_summary['LIGHT_DESC'] == 'Not Applicable'] = 'Unknown'\n",
    "#crash_summary.loc[crash_summary['LIGHT_DESC'] == 'Other'] = 'Unknown'\n"
   ]
  },
  {
   "cell_type": "code",
   "execution_count": 19,
   "metadata": {},
   "outputs": [
    {
     "data": {
      "text/plain": [
       "Daylight                   522916\n",
       "Dark Lights On             202797\n",
       "Dark No Lights              63305\n",
       "Unknown                     14921\n",
       "Not Applicable              14462\n",
       "Dusk                         7887\n",
       "Dawn                         7310\n",
       "Dark - Unknown Lighting      4818\n",
       "Other                        2609\n",
       "Name: LIGHT_DESC, dtype: int64"
      ]
     },
     "execution_count": 19,
     "metadata": {},
     "output_type": "execute_result"
    }
   ],
   "source": [
    "crash_summary.LIGHT_DESC.value_counts()"
   ]
  },
  {
   "attachments": {},
   "cell_type": "markdown",
   "metadata": {},
   "source": [
    "## Surface Conditions"
   ]
  },
  {
   "cell_type": "code",
   "execution_count": 20,
   "metadata": {},
   "outputs": [
    {
     "data": {
      "text/plain": [
       "Dry                  582723\n",
       "Wet                  147619\n",
       "Not Applicable        33261\n",
       "Snow                   9180\n",
       "Ice                    8642\n",
       "Unknown                6320\n",
       "Other                   853\n",
       "Mud, Dirt, Gravel       509\n",
       "Name: SURF_COND_DESC, dtype: int64"
      ]
     },
     "execution_count": 20,
     "metadata": {},
     "output_type": "execute_result"
    }
   ],
   "source": [
    "crash_summary.SURF_COND_DESC.value_counts()"
   ]
  },
  {
   "attachments": {},
   "cell_type": "markdown",
   "metadata": {},
   "source": [
    "Possible categories to leave:\n",
    "Dry\n",
    "Other - NA, Unknown, Other\n",
    "Non Intersection - special value? Other?\n",
    "Snow_Ice\n",
    "Mud_Dirt_gravel"
   ]
  },
  {
   "cell_type": "code",
   "execution_count": 21,
   "metadata": {},
   "outputs": [
    {
     "data": {
      "text/plain": [
       "No Defects                  735408\n",
       "Not Applicable               40065\n",
       "Holes, Ruts, Etc.             3658\n",
       "Other                         3584\n",
       "Unknown                       3191\n",
       "Loose Surface Material        2161\n",
       "Foreign Material              1749\n",
       "Shoulder Defect                881\n",
       "View Obstructed                591\n",
       "Obstruction Not Lighted        147\n",
       "Obstruction Not Signaled        77\n",
       "Name: RD_COND_DESC, dtype: int64"
      ]
     },
     "execution_count": 21,
     "metadata": {},
     "output_type": "execute_result"
    }
   ],
   "source": [
    "crash_summary.RD_COND_DESC.value_counts()"
   ]
  },
  {
   "attachments": {},
   "cell_type": "markdown",
   "metadata": {},
   "source": [
    "Possible categories to leave:\n",
    "Other - NA, Unknown, Other\n",
    "Rename - Holes only \n"
   ]
  },
  {
   "cell_type": "code",
   "execution_count": 22,
   "metadata": {},
   "outputs": [
    {
     "data": {
      "text/plain": [
       "Two-way, Not Divided                                      310418\n",
       "Two-way, Divided, Positive Median Barrier                 273421\n",
       "Two-way, Divided, Unprotected (painted >4 feet) Median     89577\n",
       "One-way Trafficway                                         70096\n",
       "Not Applicable                                             22921\n",
       "Other                                                      18786\n",
       "Unknown                                                     1638\n",
       "Name: RD_DIV_DESC, dtype: int64"
      ]
     },
     "execution_count": 22,
     "metadata": {},
     "output_type": "execute_result"
    }
   ],
   "source": [
    "crash_summary.RD_DIV_DESC.value_counts()"
   ]
  },
  {
   "attachments": {},
   "cell_type": "markdown",
   "metadata": {},
   "source": [
    "Possible categories to leave:\n",
    "Other - NA, Unknown, Other\n",
    "renames:\n",
    "two_way_not_divided\n",
    "two_way_divided_barrier\n",
    "two_way_divided_no_barrier\n",
    "one_way\n"
   ]
  },
  {
   "cell_type": "code",
   "execution_count": 23,
   "metadata": {},
   "outputs": [
    {
     "data": {
      "text/plain": [
       "Property Damage Crash    0.717069\n",
       "Injury Crash             0.278901\n",
       "Fatal Crash              0.004031\n",
       "Name: REPORT_TYPE, dtype: float64"
      ]
     },
     "execution_count": 23,
     "metadata": {},
     "output_type": "execute_result"
    }
   ],
   "source": [
    "crash_summary.REPORT_TYPE.value_counts(normalize=True)"
   ]
  },
  {
   "attachments": {},
   "cell_type": "markdown",
   "metadata": {},
   "source": [
    "Possible categories to leave:\n",
    "Unknown - NA, Unknown, Other"
   ]
  },
  {
   "attachments": {},
   "cell_type": "markdown",
   "metadata": {},
   "source": [
    "## Weather description"
   ]
  },
  {
   "cell_type": "code",
   "execution_count": 24,
   "metadata": {},
   "outputs": [
    {
     "data": {
      "text/plain": [
       "Clear                       197604\n",
       "Raining                     111589\n",
       "Not Applicable               85294\n",
       "Cloudy                       28823\n",
       "Unknown                       8343\n",
       "Foggy                         4847\n",
       "Snow                          4661\n",
       "Wintry Mix                    3740\n",
       "Other                         2254\n",
       "Severe Winds                  1348\n",
       "Blowing Snow                   994\n",
       "Sleet                          941\n",
       "Blowing Sand, Soil, Dirt        39\n",
       "Name: WEATHER_DESC, dtype: int64"
      ]
     },
     "execution_count": 24,
     "metadata": {},
     "output_type": "execute_result"
    }
   ],
   "source": [
    "crash_summary.WEATHER_DESC.value_counts()"
   ]
  },
  {
   "attachments": {},
   "cell_type": "markdown",
   "metadata": {},
   "source": [
    "Possible categories to leave:\n",
    "Other - NA, Unknown, Other, Non Intersection (might have to remove these non-intersection rows)\n",
    "winter_conditions - sleet, blowing snow, snow, wintry mix\n",
    "\n"
   ]
  },
  {
   "cell_type": "code",
   "execution_count": 25,
   "metadata": {},
   "outputs": [],
   "source": [
    "#crash_summary.loc[crash_summary['WEATHER_DESC'] == 'Not Applicable'] = 'Unknown'\n",
    "#crash_summary.loc[crash_summary['WEATHER_DESC'] == 'Other'] = 'Unknown'\n"
   ]
  },
  {
   "cell_type": "code",
   "execution_count": 26,
   "metadata": {},
   "outputs": [
    {
     "data": {
      "text/plain": [
       "Clear                       197604\n",
       "Raining                     111589\n",
       "Not Applicable               85294\n",
       "Cloudy                       28823\n",
       "Unknown                       8343\n",
       "Foggy                         4847\n",
       "Snow                          4661\n",
       "Wintry Mix                    3740\n",
       "Other                         2254\n",
       "Severe Winds                  1348\n",
       "Blowing Snow                   994\n",
       "Sleet                          941\n",
       "Blowing Sand, Soil, Dirt        39\n",
       "Name: WEATHER_DESC, dtype: int64"
      ]
     },
     "execution_count": 26,
     "metadata": {},
     "output_type": "execute_result"
    }
   ],
   "source": [
    "crash_summary.WEATHER_DESC.value_counts()"
   ]
  },
  {
   "cell_type": "code",
   "execution_count": 27,
   "metadata": {},
   "outputs": [
    {
     "data": {
      "text/plain": [
       "No     637192\n",
       "Yes    241151\n",
       "Name: SIGNAL_FLAG_DESC, dtype: int64"
      ]
     },
     "execution_count": 27,
     "metadata": {},
     "output_type": "execute_result"
    }
   ],
   "source": [
    "crash_summary.SIGNAL_FLAG_DESC.value_counts()"
   ]
  },
  {
   "cell_type": "code",
   "execution_count": 28,
   "metadata": {},
   "outputs": [
    {
     "data": {
      "text/plain": [
       "N    866318\n",
       "Y     11618\n",
       "U       407\n",
       "Name: C_M_ZONE_FLAG, dtype: int64"
      ]
     },
     "execution_count": 28,
     "metadata": {},
     "output_type": "execute_result"
    }
   ],
   "source": [
    "crash_summary.C_M_ZONE_FLAG.value_counts()"
   ]
  },
  {
   "cell_type": "code",
   "execution_count": 29,
   "metadata": {},
   "outputs": [
    {
     "data": {
      "text/plain": [
       "Not Applicable          643776\n",
       "Guardrail or Barrier     47255\n",
       "Curb                     37568\n",
       "Tree Shrubbery           24685\n",
       "Other Pole               20104\n",
       "Light Support Pole       13634\n",
       "Embankment               12031\n",
       "Sign Support Pole        11334\n",
       "Fence                     9590\n",
       "Building                  8069\n",
       "Bridge or Overpass        1953\n",
       "Construction Barrier       711\n",
       "Crash Attenuator           522\n",
       "Name: FIX_OBJ_DESC, dtype: int64"
      ]
     },
     "execution_count": 29,
     "metadata": {},
     "output_type": "execute_result"
    }
   ],
   "source": [
    "crash_summary.FIX_OBJ_DESC.value_counts()"
   ]
  },
  {
   "cell_type": "code",
   "execution_count": 30,
   "metadata": {},
   "outputs": [
    {
     "data": {
      "text/plain": [
       "Other Vehicle                     173427\n",
       "Fixed Object                       40462\n",
       "Parked Vehicle                     26151\n",
       "Off Road                           12777\n",
       "Not Applicable                      6634\n",
       "Pedestrian                          6144\n",
       "Animal                              5997\n",
       "Other Object                        2528\n",
       "Overturn                            1476\n",
       "Bicycle                             1396\n",
       "Other                               1322\n",
       "Other Non Collision                 1184\n",
       "Explosion or Fire                    730\n",
       "Unknown                              724\n",
       "Backing                              370\n",
       "Thrown or Falling Object             349\n",
       "Fell Jumped from Motor Vehicle       219\n",
       "Other Conveyance                     200\n",
       "Spilled Cargo                        187\n",
       "Other Pedalcycle                     180\n",
       "Jackknife                            126\n",
       "Units Separated                       91\n",
       "Downhill Roadway                      89\n",
       "U-turn                                59\n",
       "Immersion                             37\n",
       "Railway Train                         25\n",
       "Name: HARM_EVENT_DESC1, dtype: int64"
      ]
     },
     "execution_count": 30,
     "metadata": {},
     "output_type": "execute_result"
    }
   ],
   "source": [
    "crash_summary.HARM_EVENT_DESC1.value_counts()"
   ]
  },
  {
   "cell_type": "code",
   "execution_count": 31,
   "metadata": {},
   "outputs": [
    {
     "data": {
      "text/plain": [
       "Not Applicable                    565439\n",
       "Other Vehicle                     154686\n",
       "Fixed Object                       83588\n",
       "Parked Vehicle                     30447\n",
       "Off Road                           12987\n",
       "Overturn                           11452\n",
       "Other Object                        5285\n",
       "Pedestrian                          4031\n",
       "Unknown                             2497\n",
       "Other                               1958\n",
       "Animal                               865\n",
       "Fell Jumped from Motor Vehicle       665\n",
       "Bicycle                              657\n",
       "Explosion or Fire                    647\n",
       "Units Separated                      622\n",
       "Other Non Collision                  620\n",
       "Other Conveyance                     386\n",
       "Backing                              373\n",
       "Thrown or Falling Object             207\n",
       "Jackknife                            181\n",
       "Spilled Cargo                        177\n",
       "Immersion                            161\n",
       "Downhill Roadway                     160\n",
       "Other Pedalcycle                     141\n",
       "U-turn                                88\n",
       "Railway Train                         23\n",
       "Name: HARM_EVENT_DESC2, dtype: int64"
      ]
     },
     "execution_count": 31,
     "metadata": {},
     "output_type": "execute_result"
    }
   ],
   "source": [
    "crash_summary.HARM_EVENT_DESC2.value_counts()"
   ]
  },
  {
   "attachments": {},
   "cell_type": "markdown",
   "metadata": {},
   "source": [
    "Dropping rest except certain that might be good for visualizations, lat/long etc...."
   ]
  },
  {
   "attachments": {},
   "cell_type": "markdown",
   "metadata": {},
   "source": [
    "# New Summary Dataframe"
   ]
  },
  {
   "cell_type": "code",
   "execution_count": 32,
   "metadata": {},
   "outputs": [],
   "source": [
    "cols_to_keep_sum = ['REPORT_NO', 'YEAR', 'QUARTER', 'LIGHT_DESC', 'COUNTY_DESC', 'JUNCTION_DESC', 'COLLISION_TYPE_DESC', 'SURF_COND_DESC', 'RD_COND_DESC', 'RD_DIV_DESC', 'FIX_OBJ_DESC', 'WEATHER_DESC', 'ACC_DATE', 'ACC_TIME', 'HARM_EVENT_DESC1', 'HARM_EVENT_DESC2', 'DISTANCE_DIR_FLAG', 'LATITUDE', 'LONGITUDE', 'REPORT_TYPE']"
   ]
  },
  {
   "cell_type": "code",
   "execution_count": 33,
   "metadata": {},
   "outputs": [],
   "source": [
    "df_crash_sum_clean = crash_summary[cols_to_keep_sum]"
   ]
  },
  {
   "cell_type": "code",
   "execution_count": 34,
   "metadata": {},
   "outputs": [
    {
     "data": {
      "text/html": [
       "<div>\n",
       "<style scoped>\n",
       "    .dataframe tbody tr th:only-of-type {\n",
       "        vertical-align: middle;\n",
       "    }\n",
       "\n",
       "    .dataframe tbody tr th {\n",
       "        vertical-align: top;\n",
       "    }\n",
       "\n",
       "    .dataframe thead th {\n",
       "        text-align: right;\n",
       "    }\n",
       "</style>\n",
       "<table border=\"1\" class=\"dataframe\">\n",
       "  <thead>\n",
       "    <tr style=\"text-align: right;\">\n",
       "      <th></th>\n",
       "      <th>REPORT_NO</th>\n",
       "      <th>YEAR</th>\n",
       "      <th>QUARTER</th>\n",
       "      <th>LIGHT_DESC</th>\n",
       "      <th>COUNTY_DESC</th>\n",
       "      <th>JUNCTION_DESC</th>\n",
       "      <th>COLLISION_TYPE_DESC</th>\n",
       "      <th>SURF_COND_DESC</th>\n",
       "      <th>RD_COND_DESC</th>\n",
       "      <th>RD_DIV_DESC</th>\n",
       "      <th>FIX_OBJ_DESC</th>\n",
       "      <th>WEATHER_DESC</th>\n",
       "      <th>ACC_DATE</th>\n",
       "      <th>ACC_TIME</th>\n",
       "      <th>HARM_EVENT_DESC1</th>\n",
       "      <th>HARM_EVENT_DESC2</th>\n",
       "      <th>DISTANCE_DIR_FLAG</th>\n",
       "      <th>LATITUDE</th>\n",
       "      <th>LONGITUDE</th>\n",
       "      <th>REPORT_TYPE</th>\n",
       "    </tr>\n",
       "  </thead>\n",
       "  <tbody>\n",
       "    <tr>\n",
       "      <th>46027</th>\n",
       "      <td>MSP6922005Q</td>\n",
       "      <td>2020</td>\n",
       "      <td>Q3</td>\n",
       "      <td>Dark No Lights</td>\n",
       "      <td>Harford</td>\n",
       "      <td>Non Intersection</td>\n",
       "      <td>Single Vehicle</td>\n",
       "      <td>Wet</td>\n",
       "      <td>No Defects</td>\n",
       "      <td>Two-way, Divided, Positive Median Barrier</td>\n",
       "      <td>Guardrail or Barrier</td>\n",
       "      <td>Raining</td>\n",
       "      <td>20200926</td>\n",
       "      <td>22:58:00</td>\n",
       "      <td>Off Road</td>\n",
       "      <td>Fixed Object</td>\n",
       "      <td>N</td>\n",
       "      <td>39.575213</td>\n",
       "      <td>-76.132443</td>\n",
       "      <td>Property Damage Crash</td>\n",
       "    </tr>\n",
       "    <tr>\n",
       "      <th>251492</th>\n",
       "      <td>ZD6643002D</td>\n",
       "      <td>2019</td>\n",
       "      <td>Q1</td>\n",
       "      <td>Dark Lights On</td>\n",
       "      <td>Calvert</td>\n",
       "      <td>Crossover Related</td>\n",
       "      <td>Same Movement Angle</td>\n",
       "      <td>Dry</td>\n",
       "      <td>No Defects</td>\n",
       "      <td>One-way Trafficway</td>\n",
       "      <td>Not Applicable</td>\n",
       "      <td>Clear</td>\n",
       "      <td>20190126</td>\n",
       "      <td>19:14:00</td>\n",
       "      <td>NaN</td>\n",
       "      <td>Not Applicable</td>\n",
       "      <td>S</td>\n",
       "      <td>38.444957</td>\n",
       "      <td>-76.472852</td>\n",
       "      <td>Property Damage Crash</td>\n",
       "    </tr>\n",
       "    <tr>\n",
       "      <th>728439</th>\n",
       "      <td>MSP6562003S</td>\n",
       "      <td>2018</td>\n",
       "      <td>Q1</td>\n",
       "      <td>Not Applicable</td>\n",
       "      <td>Queen Anne's</td>\n",
       "      <td>Intersection</td>\n",
       "      <td>Single Vehicle</td>\n",
       "      <td>Dry</td>\n",
       "      <td>No Defects</td>\n",
       "      <td>Two-way, Divided, Positive Median Barrier</td>\n",
       "      <td>Guardrail or Barrier</td>\n",
       "      <td>Clear</td>\n",
       "      <td>20180213</td>\n",
       "      <td>12:39:00</td>\n",
       "      <td>NaN</td>\n",
       "      <td>Not Applicable</td>\n",
       "      <td>E</td>\n",
       "      <td>38.981748</td>\n",
       "      <td>-76.157568</td>\n",
       "      <td>Property Damage Crash</td>\n",
       "    </tr>\n",
       "  </tbody>\n",
       "</table>\n",
       "</div>"
      ],
      "text/plain": [
       "          REPORT_NO  YEAR QUARTER      LIGHT_DESC   COUNTY_DESC  \\\n",
       "46027   MSP6922005Q  2020      Q3  Dark No Lights       Harford   \n",
       "251492   ZD6643002D  2019      Q1  Dark Lights On       Calvert   \n",
       "728439  MSP6562003S  2018      Q1  Not Applicable  Queen Anne's   \n",
       "\n",
       "            JUNCTION_DESC  COLLISION_TYPE_DESC SURF_COND_DESC RD_COND_DESC  \\\n",
       "46027    Non Intersection       Single Vehicle            Wet   No Defects   \n",
       "251492  Crossover Related  Same Movement Angle            Dry   No Defects   \n",
       "728439       Intersection       Single Vehicle            Dry   No Defects   \n",
       "\n",
       "                                      RD_DIV_DESC          FIX_OBJ_DESC  \\\n",
       "46027   Two-way, Divided, Positive Median Barrier  Guardrail or Barrier   \n",
       "251492                         One-way Trafficway        Not Applicable   \n",
       "728439  Two-way, Divided, Positive Median Barrier  Guardrail or Barrier   \n",
       "\n",
       "       WEATHER_DESC  ACC_DATE  ACC_TIME HARM_EVENT_DESC1 HARM_EVENT_DESC2  \\\n",
       "46027       Raining  20200926  22:58:00         Off Road     Fixed Object   \n",
       "251492        Clear  20190126  19:14:00              NaN   Not Applicable   \n",
       "728439        Clear  20180213  12:39:00              NaN   Not Applicable   \n",
       "\n",
       "       DISTANCE_DIR_FLAG   LATITUDE  LONGITUDE            REPORT_TYPE  \n",
       "46027                  N  39.575213 -76.132443  Property Damage Crash  \n",
       "251492                 S  38.444957 -76.472852  Property Damage Crash  \n",
       "728439                 E  38.981748 -76.157568  Property Damage Crash  "
      ]
     },
     "execution_count": 34,
     "metadata": {},
     "output_type": "execute_result"
    }
   ],
   "source": [
    "df_crash_sum_clean.sample(3)"
   ]
  },
  {
   "cell_type": "code",
   "execution_count": 35,
   "metadata": {},
   "outputs": [
    {
     "data": {
      "text/plain": [
       "Property Damage Crash    550429\n",
       "Injury Crash             214087\n",
       "Fatal Crash                3094\n",
       "Name: REPORT_TYPE, dtype: int64"
      ]
     },
     "execution_count": 35,
     "metadata": {},
     "output_type": "execute_result"
    }
   ],
   "source": [
    "df_crash_sum_clean.REPORT_TYPE.value_counts()"
   ]
  },
  {
   "cell_type": "code",
   "execution_count": 36,
   "metadata": {},
   "outputs": [
    {
     "name": "stdout",
     "output_type": "stream",
     "text": [
      "<class 'pandas.core.frame.DataFrame'>\n",
      "RangeIndex: 878343 entries, 0 to 878342\n",
      "Data columns (total 20 columns):\n",
      " #   Column               Non-Null Count   Dtype  \n",
      "---  ------               --------------   -----  \n",
      " 0   REPORT_NO            878343 non-null  object \n",
      " 1   YEAR                 878343 non-null  int64  \n",
      " 2   QUARTER              878343 non-null  object \n",
      " 3   LIGHT_DESC           841025 non-null  object \n",
      " 4   COUNTY_DESC          878329 non-null  object \n",
      " 5   JUNCTION_DESC        760119 non-null  object \n",
      " 6   COLLISION_TYPE_DESC  878343 non-null  object \n",
      " 7   SURF_COND_DESC       789107 non-null  object \n",
      " 8   RD_COND_DESC         791512 non-null  object \n",
      " 9   RD_DIV_DESC          786857 non-null  object \n",
      " 10  FIX_OBJ_DESC         831232 non-null  object \n",
      " 11  WEATHER_DESC         450477 non-null  object \n",
      " 12  ACC_DATE             878343 non-null  int64  \n",
      " 13  ACC_TIME             878343 non-null  object \n",
      " 14  HARM_EVENT_DESC1     282884 non-null  object \n",
      " 15  HARM_EVENT_DESC2     878343 non-null  object \n",
      " 16  DISTANCE_DIR_FLAG    788134 non-null  object \n",
      " 17  LATITUDE             878343 non-null  float64\n",
      " 18  LONGITUDE            878343 non-null  float64\n",
      " 19  REPORT_TYPE          767610 non-null  object \n",
      "dtypes: float64(2), int64(2), object(16)\n",
      "memory usage: 134.0+ MB\n"
     ]
    }
   ],
   "source": [
    "df_crash_sum_clean.info()"
   ]
  },
  {
   "cell_type": "code",
   "execution_count": 37,
   "metadata": {},
   "outputs": [],
   "source": [
    "# Filling NaN values with the test 'Unknown'\n",
    "df_crash_sum_clean = df_crash_sum_clean.fillna('Unknown')"
   ]
  },
  {
   "cell_type": "code",
   "execution_count": 38,
   "metadata": {},
   "outputs": [
    {
     "name": "stdout",
     "output_type": "stream",
     "text": [
      "<class 'pandas.core.frame.DataFrame'>\n",
      "RangeIndex: 878343 entries, 0 to 878342\n",
      "Data columns (total 20 columns):\n",
      " #   Column               Non-Null Count   Dtype  \n",
      "---  ------               --------------   -----  \n",
      " 0   REPORT_NO            878343 non-null  object \n",
      " 1   YEAR                 878343 non-null  int64  \n",
      " 2   QUARTER              878343 non-null  object \n",
      " 3   LIGHT_DESC           878343 non-null  object \n",
      " 4   COUNTY_DESC          878343 non-null  object \n",
      " 5   JUNCTION_DESC        878343 non-null  object \n",
      " 6   COLLISION_TYPE_DESC  878343 non-null  object \n",
      " 7   SURF_COND_DESC       878343 non-null  object \n",
      " 8   RD_COND_DESC         878343 non-null  object \n",
      " 9   RD_DIV_DESC          878343 non-null  object \n",
      " 10  FIX_OBJ_DESC         878343 non-null  object \n",
      " 11  WEATHER_DESC         878343 non-null  object \n",
      " 12  ACC_DATE             878343 non-null  int64  \n",
      " 13  ACC_TIME             878343 non-null  object \n",
      " 14  HARM_EVENT_DESC1     878343 non-null  object \n",
      " 15  HARM_EVENT_DESC2     878343 non-null  object \n",
      " 16  DISTANCE_DIR_FLAG    878343 non-null  object \n",
      " 17  LATITUDE             878343 non-null  float64\n",
      " 18  LONGITUDE            878343 non-null  float64\n",
      " 19  REPORT_TYPE          878343 non-null  object \n",
      "dtypes: float64(2), int64(2), object(16)\n",
      "memory usage: 134.0+ MB\n"
     ]
    }
   ],
   "source": [
    "df_crash_sum_clean.info()"
   ]
  },
  {
   "cell_type": "code",
   "execution_count": 39,
   "metadata": {},
   "outputs": [
    {
     "data": {
      "text/plain": [
       "(878343, 20)"
      ]
     },
     "execution_count": 39,
     "metadata": {},
     "output_type": "execute_result"
    }
   ],
   "source": [
    "df_crash_sum_clean.shape"
   ]
  },
  {
   "cell_type": "code",
   "execution_count": 40,
   "metadata": {},
   "outputs": [],
   "source": [
    "# Removing where report type is unknown\n",
    "\n",
    "df_crash_sum_clean1 = df_crash_sum_clean.query('REPORT_TYPE != \"Unknown\"')"
   ]
  },
  {
   "cell_type": "code",
   "execution_count": 41,
   "metadata": {},
   "outputs": [
    {
     "data": {
      "text/plain": [
       "(767610, 20)"
      ]
     },
     "execution_count": 41,
     "metadata": {},
     "output_type": "execute_result"
    }
   ],
   "source": [
    "df_crash_sum_clean1.shape"
   ]
  },
  {
   "cell_type": "code",
   "execution_count": 42,
   "metadata": {},
   "outputs": [
    {
     "name": "stdout",
     "output_type": "stream",
     "text": [
      "<class 'pandas.core.frame.DataFrame'>\n",
      "Int64Index: 767610 entries, 0 to 878342\n",
      "Data columns (total 20 columns):\n",
      " #   Column               Non-Null Count   Dtype  \n",
      "---  ------               --------------   -----  \n",
      " 0   REPORT_NO            767610 non-null  object \n",
      " 1   YEAR                 767610 non-null  int64  \n",
      " 2   QUARTER              767610 non-null  object \n",
      " 3   LIGHT_DESC           767610 non-null  object \n",
      " 4   COUNTY_DESC          767610 non-null  object \n",
      " 5   JUNCTION_DESC        767610 non-null  object \n",
      " 6   COLLISION_TYPE_DESC  767610 non-null  object \n",
      " 7   SURF_COND_DESC       767610 non-null  object \n",
      " 8   RD_COND_DESC         767610 non-null  object \n",
      " 9   RD_DIV_DESC          767610 non-null  object \n",
      " 10  FIX_OBJ_DESC         767610 non-null  object \n",
      " 11  WEATHER_DESC         767610 non-null  object \n",
      " 12  ACC_DATE             767610 non-null  int64  \n",
      " 13  ACC_TIME             767610 non-null  object \n",
      " 14  HARM_EVENT_DESC1     767610 non-null  object \n",
      " 15  HARM_EVENT_DESC2     767610 non-null  object \n",
      " 16  DISTANCE_DIR_FLAG    767610 non-null  object \n",
      " 17  LATITUDE             767610 non-null  float64\n",
      " 18  LONGITUDE            767610 non-null  float64\n",
      " 19  REPORT_TYPE          767610 non-null  object \n",
      "dtypes: float64(2), int64(2), object(16)\n",
      "memory usage: 123.0+ MB\n"
     ]
    }
   ],
   "source": [
    "df_crash_sum_clean1.info()"
   ]
  },
  {
   "cell_type": "code",
   "execution_count": null,
   "metadata": {},
   "outputs": [],
   "source": []
  },
  {
   "cell_type": "code",
   "execution_count": 43,
   "metadata": {},
   "outputs": [
    {
     "data": {
      "text/html": [
       "<div>\n",
       "<style scoped>\n",
       "    .dataframe tbody tr th:only-of-type {\n",
       "        vertical-align: middle;\n",
       "    }\n",
       "\n",
       "    .dataframe tbody tr th {\n",
       "        vertical-align: top;\n",
       "    }\n",
       "\n",
       "    .dataframe thead th {\n",
       "        text-align: right;\n",
       "    }\n",
       "</style>\n",
       "<table border=\"1\" class=\"dataframe\">\n",
       "  <thead>\n",
       "    <tr style=\"text-align: right;\">\n",
       "      <th></th>\n",
       "      <th>REPORT_NO</th>\n",
       "      <th>YEAR</th>\n",
       "      <th>QUARTER</th>\n",
       "      <th>LIGHT_DESC</th>\n",
       "      <th>COUNTY_DESC</th>\n",
       "      <th>JUNCTION_DESC</th>\n",
       "      <th>COLLISION_TYPE_DESC</th>\n",
       "      <th>SURF_COND_DESC</th>\n",
       "      <th>RD_COND_DESC</th>\n",
       "      <th>RD_DIV_DESC</th>\n",
       "      <th>FIX_OBJ_DESC</th>\n",
       "      <th>WEATHER_DESC</th>\n",
       "      <th>ACC_DATE</th>\n",
       "      <th>ACC_TIME</th>\n",
       "      <th>HARM_EVENT_DESC1</th>\n",
       "      <th>HARM_EVENT_DESC2</th>\n",
       "      <th>DISTANCE_DIR_FLAG</th>\n",
       "      <th>LATITUDE</th>\n",
       "      <th>LONGITUDE</th>\n",
       "      <th>REPORT_TYPE</th>\n",
       "    </tr>\n",
       "  </thead>\n",
       "  <tbody>\n",
       "    <tr>\n",
       "      <th>208748</th>\n",
       "      <td>AC2508002W</td>\n",
       "      <td>2022</td>\n",
       "      <td>Q2</td>\n",
       "      <td>Daylight</td>\n",
       "      <td>Anne Arundel</td>\n",
       "      <td>Non Intersection</td>\n",
       "      <td>Opposite Direction Sideswipe</td>\n",
       "      <td>Dry</td>\n",
       "      <td>No Defects</td>\n",
       "      <td>Two-way, Not Divided</td>\n",
       "      <td>Not Applicable</td>\n",
       "      <td>Unknown</td>\n",
       "      <td>20220520</td>\n",
       "      <td>17:07:00</td>\n",
       "      <td>Other Vehicle</td>\n",
       "      <td>Not Applicable</td>\n",
       "      <td>N</td>\n",
       "      <td>39.174648</td>\n",
       "      <td>-76.601432</td>\n",
       "      <td>Property Damage Crash</td>\n",
       "    </tr>\n",
       "    <tr>\n",
       "      <th>252026</th>\n",
       "      <td>AE5716003V</td>\n",
       "      <td>2018</td>\n",
       "      <td>Q1</td>\n",
       "      <td>Unknown</td>\n",
       "      <td>Baltimore</td>\n",
       "      <td>Not Applicable</td>\n",
       "      <td>Other</td>\n",
       "      <td>Unknown</td>\n",
       "      <td>Not Applicable</td>\n",
       "      <td>Two-way, Not Divided</td>\n",
       "      <td>Not Applicable</td>\n",
       "      <td>Not Applicable</td>\n",
       "      <td>20180102</td>\n",
       "      <td>18:00:00</td>\n",
       "      <td>Unknown</td>\n",
       "      <td>Not Applicable</td>\n",
       "      <td>E</td>\n",
       "      <td>39.411195</td>\n",
       "      <td>-76.608294</td>\n",
       "      <td>Property Damage Crash</td>\n",
       "    </tr>\n",
       "    <tr>\n",
       "      <th>294871</th>\n",
       "      <td>ZF0443001P</td>\n",
       "      <td>2016</td>\n",
       "      <td>Q4</td>\n",
       "      <td>Daylight</td>\n",
       "      <td>Carroll</td>\n",
       "      <td>Residential Driveway</td>\n",
       "      <td>Same Movement Angle</td>\n",
       "      <td>Wet</td>\n",
       "      <td>No Defects</td>\n",
       "      <td>Two-way, Not Divided</td>\n",
       "      <td>Not Applicable</td>\n",
       "      <td>Wintry Mix</td>\n",
       "      <td>20161217</td>\n",
       "      <td>10:47:00</td>\n",
       "      <td>Unknown</td>\n",
       "      <td>Not Applicable</td>\n",
       "      <td>N</td>\n",
       "      <td>39.689143</td>\n",
       "      <td>-76.879452</td>\n",
       "      <td>Fatal Crash</td>\n",
       "    </tr>\n",
       "  </tbody>\n",
       "</table>\n",
       "</div>"
      ],
      "text/plain": [
       "         REPORT_NO  YEAR QUARTER LIGHT_DESC   COUNTY_DESC  \\\n",
       "208748  AC2508002W  2022      Q2   Daylight  Anne Arundel   \n",
       "252026  AE5716003V  2018      Q1    Unknown     Baltimore   \n",
       "294871  ZF0443001P  2016      Q4   Daylight       Carroll   \n",
       "\n",
       "               JUNCTION_DESC           COLLISION_TYPE_DESC SURF_COND_DESC  \\\n",
       "208748      Non Intersection  Opposite Direction Sideswipe            Dry   \n",
       "252026        Not Applicable                         Other        Unknown   \n",
       "294871  Residential Driveway           Same Movement Angle            Wet   \n",
       "\n",
       "          RD_COND_DESC           RD_DIV_DESC    FIX_OBJ_DESC    WEATHER_DESC  \\\n",
       "208748      No Defects  Two-way, Not Divided  Not Applicable         Unknown   \n",
       "252026  Not Applicable  Two-way, Not Divided  Not Applicable  Not Applicable   \n",
       "294871      No Defects  Two-way, Not Divided  Not Applicable      Wintry Mix   \n",
       "\n",
       "        ACC_DATE  ACC_TIME HARM_EVENT_DESC1 HARM_EVENT_DESC2  \\\n",
       "208748  20220520  17:07:00    Other Vehicle   Not Applicable   \n",
       "252026  20180102  18:00:00          Unknown   Not Applicable   \n",
       "294871  20161217  10:47:00          Unknown   Not Applicable   \n",
       "\n",
       "       DISTANCE_DIR_FLAG   LATITUDE  LONGITUDE            REPORT_TYPE  \n",
       "208748                 N  39.174648 -76.601432  Property Damage Crash  \n",
       "252026                 E  39.411195 -76.608294  Property Damage Crash  \n",
       "294871                 N  39.689143 -76.879452            Fatal Crash  "
      ]
     },
     "execution_count": 43,
     "metadata": {},
     "output_type": "execute_result"
    }
   ],
   "source": [
    "df_crash_sum_clean1.sample(3)"
   ]
  },
  {
   "attachments": {},
   "cell_type": "markdown",
   "metadata": {},
   "source": [
    "# Cleaning df_crash_sum_clean1 from earlier review"
   ]
  },
  {
   "attachments": {},
   "cell_type": "markdown",
   "metadata": {},
   "source": [
    "## Light_DESC"
   ]
  },
  {
   "cell_type": "code",
   "execution_count": 44,
   "metadata": {},
   "outputs": [
    {
     "data": {
      "text/plain": [
       "Daylight                   457225\n",
       "Dark Lights On             177799\n",
       "Dark No Lights              55006\n",
       "Unknown                     42310\n",
       "Not Applicable              12980\n",
       "Dusk                         7887\n",
       "Dawn                         7310\n",
       "Dark - Unknown Lighting      4818\n",
       "Other                        2275\n",
       "Name: LIGHT_DESC, dtype: int64"
      ]
     },
     "execution_count": 44,
     "metadata": {},
     "output_type": "execute_result"
    }
   ],
   "source": [
    "df_crash_sum_clean1.LIGHT_DESC.value_counts()"
   ]
  },
  {
   "cell_type": "code",
   "execution_count": 45,
   "metadata": {},
   "outputs": [
    {
     "name": "stderr",
     "output_type": "stream",
     "text": [
      "C:\\Users\\Loken\\AppData\\Local\\Temp\\ipykernel_66188\\37657236.py:1: SettingWithCopyWarning: \n",
      "A value is trying to be set on a copy of a slice from a DataFrame.\n",
      "Try using .loc[row_indexer,col_indexer] = value instead\n",
      "\n",
      "See the caveats in the documentation: https://pandas.pydata.org/pandas-docs/stable/user_guide/indexing.html#returning-a-view-versus-a-copy\n",
      "  df_crash_sum_clean1['LIGHT_DESC'] = df_crash_sum_clean1['LIGHT_DESC'].replace(['Not Applicable', 'Unknown', 'Other'], 'other')\n",
      "C:\\Users\\Loken\\AppData\\Local\\Temp\\ipykernel_66188\\37657236.py:2: SettingWithCopyWarning: \n",
      "A value is trying to be set on a copy of a slice from a DataFrame.\n",
      "Try using .loc[row_indexer,col_indexer] = value instead\n",
      "\n",
      "See the caveats in the documentation: https://pandas.pydata.org/pandas-docs/stable/user_guide/indexing.html#returning-a-view-versus-a-copy\n",
      "  df_crash_sum_clean1['LIGHT_DESC'] = df_crash_sum_clean1['LIGHT_DESC'].replace(['Dusk', 'Dawn', 'Other'], 'dusk_dawn')\n"
     ]
    }
   ],
   "source": [
    "df_crash_sum_clean1['LIGHT_DESC'] = df_crash_sum_clean1['LIGHT_DESC'].replace(['Not Applicable', 'Unknown', 'Other'], 'other')\n",
    "df_crash_sum_clean1['LIGHT_DESC'] = df_crash_sum_clean1['LIGHT_DESC'].replace(['Dusk', 'Dawn', 'Other'], 'dusk_dawn')\n"
   ]
  },
  {
   "cell_type": "code",
   "execution_count": 46,
   "metadata": {},
   "outputs": [
    {
     "data": {
      "text/plain": [
       "Daylight                   457225\n",
       "Dark Lights On             177799\n",
       "other                       57565\n",
       "Dark No Lights              55006\n",
       "dusk_dawn                   15197\n",
       "Dark - Unknown Lighting      4818\n",
       "Name: LIGHT_DESC, dtype: int64"
      ]
     },
     "execution_count": 46,
     "metadata": {},
     "output_type": "execute_result"
    }
   ],
   "source": [
    "df_crash_sum_clean1.LIGHT_DESC.value_counts()"
   ]
  },
  {
   "attachments": {},
   "cell_type": "markdown",
   "metadata": {},
   "source": [
    "## Junction_DESC"
   ]
  },
  {
   "cell_type": "code",
   "execution_count": 47,
   "metadata": {},
   "outputs": [
    {
     "data": {
      "text/plain": [
       "Non Intersection          257248\n",
       "Intersection              194869\n",
       "Not Applicable            139339\n",
       "Unknown                   100660\n",
       "Intersection Related       63809\n",
       "Interchange Related         5227\n",
       "Commercial Driveway         3075\n",
       "Crossover Related           1329\n",
       "Residential Driveway        1262\n",
       "Alley                        711\n",
       "Railway Grade Crossing        81\n",
       "Name: JUNCTION_DESC, dtype: int64"
      ]
     },
     "execution_count": 47,
     "metadata": {},
     "output_type": "execute_result"
    }
   ],
   "source": [
    "df_crash_sum_clean1.JUNCTION_DESC.value_counts()"
   ]
  },
  {
   "cell_type": "code",
   "execution_count": 48,
   "metadata": {},
   "outputs": [
    {
     "name": "stderr",
     "output_type": "stream",
     "text": [
      "C:\\Users\\Loken\\AppData\\Local\\Temp\\ipykernel_66188\\1575565966.py:1: SettingWithCopyWarning: \n",
      "A value is trying to be set on a copy of a slice from a DataFrame.\n",
      "Try using .loc[row_indexer,col_indexer] = value instead\n",
      "\n",
      "See the caveats in the documentation: https://pandas.pydata.org/pandas-docs/stable/user_guide/indexing.html#returning-a-view-versus-a-copy\n",
      "  df_crash_sum_clean1['JUNCTION_DESC'] = df_crash_sum_clean1['JUNCTION_DESC'].replace(['Not Applicable', 'Unknown', 'Other', 'Railway Grade Crossing'], 'other')\n",
      "C:\\Users\\Loken\\AppData\\Local\\Temp\\ipykernel_66188\\1575565966.py:2: SettingWithCopyWarning: \n",
      "A value is trying to be set on a copy of a slice from a DataFrame.\n",
      "Try using .loc[row_indexer,col_indexer] = value instead\n",
      "\n",
      "See the caveats in the documentation: https://pandas.pydata.org/pandas-docs/stable/user_guide/indexing.html#returning-a-view-versus-a-copy\n",
      "  df_crash_sum_clean1['JUNCTION_DESC'] = df_crash_sum_clean1['JUNCTION_DESC'].replace(['Intersection', 'Intersection Related'], 'intersection')\n"
     ]
    }
   ],
   "source": [
    "df_crash_sum_clean1['JUNCTION_DESC'] = df_crash_sum_clean1['JUNCTION_DESC'].replace(['Not Applicable', 'Unknown', 'Other', 'Railway Grade Crossing'], 'other')\n",
    "df_crash_sum_clean1['JUNCTION_DESC'] = df_crash_sum_clean1['JUNCTION_DESC'].replace(['Intersection', 'Intersection Related'], 'intersection')\n"
   ]
  },
  {
   "cell_type": "code",
   "execution_count": 49,
   "metadata": {},
   "outputs": [
    {
     "data": {
      "text/plain": [
       "intersection            258678\n",
       "Non Intersection        257248\n",
       "other                   240080\n",
       "Interchange Related       5227\n",
       "Commercial Driveway       3075\n",
       "Crossover Related         1329\n",
       "Residential Driveway      1262\n",
       "Alley                      711\n",
       "Name: JUNCTION_DESC, dtype: int64"
      ]
     },
     "execution_count": 49,
     "metadata": {},
     "output_type": "execute_result"
    }
   ],
   "source": [
    "df_crash_sum_clean1.JUNCTION_DESC.value_counts()"
   ]
  },
  {
   "attachments": {},
   "cell_type": "markdown",
   "metadata": {},
   "source": [
    "## Collision Type"
   ]
  },
  {
   "cell_type": "code",
   "execution_count": 50,
   "metadata": {},
   "outputs": [
    {
     "data": {
      "text/plain": [
       "Same Direction Rear End               192793\n",
       "Single Vehicle                        173977\n",
       "Other                                 101606\n",
       "Same Movement Angle                   100062\n",
       "Same Direction Sideswipe               57740\n",
       "Head On Left Turn                      33411\n",
       "Unknown                                18134\n",
       "Head On                                17762\n",
       "Same Direction Right Turn              16874\n",
       "Same Direction Left Turn               16745\n",
       "Opposite Direction Sideswipe           10064\n",
       "Not Applicable                          7615\n",
       "Same Direction Rear End Left Turn       4263\n",
       "Angle Meets Left Turn                   4020\n",
       "Same Direction Both Left Turn           2973\n",
       "Angle Meets Right Turn                  2970\n",
       "Same Direction Rear End Right Turn      2925\n",
       "Angle Meets Left Turn Head On           2166\n",
       "Opposite Direction Both Left Turn       1510\n",
       "Name: COLLISION_TYPE_DESC, dtype: int64"
      ]
     },
     "execution_count": 50,
     "metadata": {},
     "output_type": "execute_result"
    }
   ],
   "source": [
    "df_crash_sum_clean1.COLLISION_TYPE_DESC.value_counts()"
   ]
  },
  {
   "cell_type": "code",
   "execution_count": 51,
   "metadata": {},
   "outputs": [],
   "source": [
    "df_crash_sum_clean1.loc[df_crash_sum_clean1['COLLISION_TYPE_DESC'].isin(['Not Applicable', 'Unknown', 'Other']), 'COLLISION_TYPE_DESC'] = 'other'"
   ]
  },
  {
   "cell_type": "code",
   "execution_count": 52,
   "metadata": {},
   "outputs": [],
   "source": [
    "df_crash_sum_clean1.loc[df_crash_sum_clean1['COLLISION_TYPE_DESC'].isin(['Same Direction Rear End', 'Same Direction Sideswipe']), 'COLLISION_TYPE_DESC'] = 'same_direction'\n",
    "df_crash_sum_clean1.loc[df_crash_sum_clean1['COLLISION_TYPE_DESC'].isin(['Same Direction Right Turn', 'Same Direction Left Turn', 'Same Direction Rear End Left Turn', 'Same Direction Both Left Turn', 'Same Direction Rear End Right Turn']), 'COLLISION_TYPE_DESC'] = 'same_direction_turn'\n",
    "df_crash_sum_clean1.loc[df_crash_sum_clean1['COLLISION_TYPE_DESC'].isin(['Head On Left Turn', 'Head On', 'Angle Meets Left Turn Head On']), 'COLLISION_TYPE_DESC'] = 'head_on'\n",
    "df_crash_sum_clean1.loc[df_crash_sum_clean1['COLLISION_TYPE_DESC'].isin(['Angle Meets Left Turn', 'Angle Meets Right Turn', 'Same Movement Angle']), 'COLLISION_TYPE_DESC'] = 'angle_meets_misc'\n",
    "df_crash_sum_clean1.loc[df_crash_sum_clean1['COLLISION_TYPE_DESC'].isin(['Opposite Direction Sideswipe', 'Opposite Direction Both Left Turn']), 'COLLISION_TYPE_DESC'] = 'opposite_direction'\n",
    "\n",
    "\n"
   ]
  },
  {
   "cell_type": "code",
   "execution_count": 53,
   "metadata": {},
   "outputs": [
    {
     "data": {
      "text/plain": [
       "same_direction         250533\n",
       "Single Vehicle         173977\n",
       "other                  127355\n",
       "angle_meets_misc       107052\n",
       "head_on                 53339\n",
       "same_direction_turn     43780\n",
       "opposite_direction      11574\n",
       "Name: COLLISION_TYPE_DESC, dtype: int64"
      ]
     },
     "execution_count": 53,
     "metadata": {},
     "output_type": "execute_result"
    }
   ],
   "source": [
    "df_crash_sum_clean1.COLLISION_TYPE_DESC.value_counts()"
   ]
  },
  {
   "attachments": {},
   "cell_type": "markdown",
   "metadata": {},
   "source": [
    "## SURF COND"
   ]
  },
  {
   "cell_type": "code",
   "execution_count": 54,
   "metadata": {},
   "outputs": [
    {
     "data": {
      "text/plain": [
       "Dry                  512606\n",
       "Wet                  129494\n",
       "Unknown               81405\n",
       "Not Applicable        29276\n",
       "Snow                   7130\n",
       "Ice                    6593\n",
       "Other                   675\n",
       "Mud, Dirt, Gravel       431\n",
       "Name: SURF_COND_DESC, dtype: int64"
      ]
     },
     "execution_count": 54,
     "metadata": {},
     "output_type": "execute_result"
    }
   ],
   "source": [
    "df_crash_sum_clean1.SURF_COND_DESC.value_counts()"
   ]
  },
  {
   "cell_type": "code",
   "execution_count": 55,
   "metadata": {},
   "outputs": [],
   "source": [
    "df_crash_sum_clean1.loc[df_crash_sum_clean1['SURF_COND_DESC'].isin(['Not Applicable', 'Unknown', 'Other', 'Mud, Dirt, Gravel']), 'SURF_COND_DESC'] = 'other'\n",
    "df_crash_sum_clean1.loc[df_crash_sum_clean1['SURF_COND_DESC'].isin(['Snow', 'Ice']), 'SURF_COND_DESC'] = 'extreme_winter_surf'"
   ]
  },
  {
   "cell_type": "code",
   "execution_count": 56,
   "metadata": {},
   "outputs": [],
   "source": [
    "#df_crash_sum_clean1['SURF_COND_DESC'] = df_crash_sum_clean1['SURF_COND_DESC'].replace('(Sport) Utility Vehicle', 'suv')"
   ]
  },
  {
   "cell_type": "code",
   "execution_count": 57,
   "metadata": {},
   "outputs": [
    {
     "data": {
      "text/plain": [
       "Dry                    512606\n",
       "Wet                    129494\n",
       "other                  111787\n",
       "extreme_winter_surf     13723\n",
       "Name: SURF_COND_DESC, dtype: int64"
      ]
     },
     "execution_count": 57,
     "metadata": {},
     "output_type": "execute_result"
    }
   ],
   "source": [
    "df_crash_sum_clean1.SURF_COND_DESC.value_counts()"
   ]
  },
  {
   "attachments": {},
   "cell_type": "markdown",
   "metadata": {},
   "source": [
    "## RD_COND_DESC"
   ]
  },
  {
   "cell_type": "code",
   "execution_count": 58,
   "metadata": {},
   "outputs": [
    {
     "data": {
      "text/plain": [
       "No Defects                  644551\n",
       "Unknown                      76934\n",
       "Not Applicable               35363\n",
       "Holes, Ruts, Etc.             3093\n",
       "Other                         3014\n",
       "Loose Surface Material        1789\n",
       "Foreign Material              1411\n",
       "Shoulder Defect                719\n",
       "View Obstructed                531\n",
       "Obstruction Not Lighted        134\n",
       "Obstruction Not Signaled        71\n",
       "Name: RD_COND_DESC, dtype: int64"
      ]
     },
     "execution_count": 58,
     "metadata": {},
     "output_type": "execute_result"
    }
   ],
   "source": [
    "df_crash_sum_clean1.RD_COND_DESC.value_counts()"
   ]
  },
  {
   "cell_type": "code",
   "execution_count": 59,
   "metadata": {},
   "outputs": [],
   "source": [
    "df_crash_sum_clean1.loc[df_crash_sum_clean1['RD_COND_DESC'].isin(['Not Applicable', 'Unknown', 'Other', 'Obstruction Not Signaled', 'Obstruction Not Lighted', 'View Obstructed', 'Shoulder Defect']), 'RD_COND_DESC'] = 'other'\n"
   ]
  },
  {
   "cell_type": "code",
   "execution_count": 60,
   "metadata": {},
   "outputs": [],
   "source": [
    "df_crash_sum_clean1.loc[df_crash_sum_clean1['RD_COND_DESC'] == 'Holes, Ruts, Etc.', 'RD_COND_DESC'] = 'holes'"
   ]
  },
  {
   "cell_type": "code",
   "execution_count": 61,
   "metadata": {},
   "outputs": [
    {
     "data": {
      "text/plain": [
       "No Defects                644551\n",
       "other                     116766\n",
       "holes                       3093\n",
       "Loose Surface Material      1789\n",
       "Foreign Material            1411\n",
       "Name: RD_COND_DESC, dtype: int64"
      ]
     },
     "execution_count": 61,
     "metadata": {},
     "output_type": "execute_result"
    }
   ],
   "source": [
    "df_crash_sum_clean1.RD_COND_DESC.value_counts()"
   ]
  },
  {
   "attachments": {},
   "cell_type": "markdown",
   "metadata": {},
   "source": [
    "## RD_DIV_DESC"
   ]
  },
  {
   "cell_type": "code",
   "execution_count": 62,
   "metadata": {},
   "outputs": [
    {
     "data": {
      "text/plain": [
       "Two-way, Not Divided                                      269717\n",
       "Two-way, Divided, Positive Median Barrier                 241534\n",
       "Unknown                                                    79546\n",
       "Two-way, Divided, Unprotected (painted >4 feet) Median     79435\n",
       "One-way Trafficway                                         60886\n",
       "Not Applicable                                             19954\n",
       "Other                                                      16538\n",
       "Name: RD_DIV_DESC, dtype: int64"
      ]
     },
     "execution_count": 62,
     "metadata": {},
     "output_type": "execute_result"
    }
   ],
   "source": [
    "df_crash_sum_clean1.RD_DIV_DESC.value_counts()"
   ]
  },
  {
   "cell_type": "code",
   "execution_count": 63,
   "metadata": {},
   "outputs": [],
   "source": [
    "df_crash_sum_clean1.loc[df_crash_sum_clean1['RD_DIV_DESC'].isin(['Not Applicable', 'Unknown', 'Other']), 'RD_DIV_DESC'] = 'other'\n",
    "#df_crash_sum_clean1.loc[df_crash_sum_clean1['RD_DIV_DESC'].isin(['Not Applicable', 'Unknown', 'Other']), 'RD_DIV_DESC'] = 'other'\n",
    "#df_crash_sum_clean1.loc[df_crash_sum_clean1['RD_DIV_DESC'].isin(['Not Applicable', 'Unknown', 'Other']), 'RD_DIV_DESC'] = 'other'\n"
   ]
  },
  {
   "cell_type": "code",
   "execution_count": 64,
   "metadata": {},
   "outputs": [],
   "source": [
    "df_crash_sum_clean1.loc[df_crash_sum_clean1['RD_DIV_DESC'] == 'Two-way, Not Divided', 'RD_DIV_DESC'] = 'two_way_no_div'\n",
    "df_crash_sum_clean1.loc[df_crash_sum_clean1['RD_DIV_DESC'] == 'Two-way, Divided, Positive Median Barrier', 'RD_DIV_DESC'] = 'two_way_div'\n",
    "df_crash_sum_clean1.loc[df_crash_sum_clean1['RD_DIV_DESC'] == 'Two-way, Divided, Unprotected (painted >4 feet) Median', 'RD_DIV_DESC'] = 'two_way_div_paint'\n",
    "df_crash_sum_clean1.loc[df_crash_sum_clean1['RD_DIV_DESC'] == 'One-way Trafficway', 'RD_DIV_DESC'] = 'one_way'\n"
   ]
  },
  {
   "cell_type": "code",
   "execution_count": 65,
   "metadata": {},
   "outputs": [
    {
     "data": {
      "text/plain": [
       "two_way_no_div       269717\n",
       "two_way_div          241534\n",
       "other                116038\n",
       "two_way_div_paint     79435\n",
       "one_way               60886\n",
       "Name: RD_DIV_DESC, dtype: int64"
      ]
     },
     "execution_count": 65,
     "metadata": {},
     "output_type": "execute_result"
    }
   ],
   "source": [
    "df_crash_sum_clean1.RD_DIV_DESC.value_counts()"
   ]
  },
  {
   "cell_type": "markdown",
   "metadata": {},
   "source": [
    "## FIX_OBJ_DESC"
   ]
  },
  {
   "cell_type": "code",
   "execution_count": 66,
   "metadata": {},
   "outputs": [
    {
     "data": {
      "text/plain": [
       "Not Applicable          561761\n",
       "Guardrail or Barrier     41798\n",
       "Unknown                  41599\n",
       "Curb                     33224\n",
       "Tree Shrubbery           21374\n",
       "Other Pole               17522\n",
       "Light Support Pole       11913\n",
       "Embankment               10289\n",
       "Sign Support Pole         9871\n",
       "Fence                     8391\n",
       "Building                  7080\n",
       "Bridge or Overpass        1679\n",
       "Construction Barrier       626\n",
       "Crash Attenuator           483\n",
       "Name: FIX_OBJ_DESC, dtype: int64"
      ]
     },
     "execution_count": 66,
     "metadata": {},
     "output_type": "execute_result"
    }
   ],
   "source": [
    "df_crash_sum_clean1.FIX_OBJ_DESC.value_counts()"
   ]
  },
  {
   "cell_type": "code",
   "execution_count": 67,
   "metadata": {},
   "outputs": [],
   "source": [
    "df_crash_sum_clean1.loc[df_crash_sum_clean1['FIX_OBJ_DESC'].isin(['Guardrail or Barrier', 'Construction Barrier', 'Fence']), 'FIX_OBJ_DESC'] = 'barrier'\n",
    "df_crash_sum_clean1.loc[df_crash_sum_clean1['FIX_OBJ_DESC'].isin(['Unknown', 'Crash Attenuator']), 'FIX_OBJ_DESC'] = 'other'\n",
    "df_crash_sum_clean1.loc[df_crash_sum_clean1['FIX_OBJ_DESC'].isin(['Light Support Pole', 'Sign Support Pole', 'Other Pole']), 'FIX_OBJ_DESC'] = 'pole'\n"
   ]
  },
  {
   "cell_type": "code",
   "execution_count": 68,
   "metadata": {},
   "outputs": [
    {
     "data": {
      "text/plain": [
       "Not Applicable        561761\n",
       "barrier                50815\n",
       "other                  42082\n",
       "pole                   39306\n",
       "Curb                   33224\n",
       "Tree Shrubbery         21374\n",
       "Embankment             10289\n",
       "Building                7080\n",
       "Bridge or Overpass      1679\n",
       "Name: FIX_OBJ_DESC, dtype: int64"
      ]
     },
     "execution_count": 68,
     "metadata": {},
     "output_type": "execute_result"
    }
   ],
   "source": [
    "df_crash_sum_clean1.FIX_OBJ_DESC.value_counts()"
   ]
  },
  {
   "attachments": {},
   "cell_type": "markdown",
   "metadata": {},
   "source": [
    "## Weather"
   ]
  },
  {
   "cell_type": "code",
   "execution_count": 69,
   "metadata": {},
   "outputs": [
    {
     "data": {
      "text/plain": [
       "Unknown                     351982\n",
       "Clear                       197604\n",
       "Raining                      97931\n",
       "Not Applicable               74654\n",
       "Cloudy                       28823\n",
       "Snow                          4661\n",
       "Foggy                         4140\n",
       "Wintry Mix                    2998\n",
       "Other                         1949\n",
       "Severe Winds                  1216\n",
       "Sleet                          941\n",
       "Blowing Snow                   687\n",
       "Blowing Sand, Soil, Dirt        24\n",
       "Name: WEATHER_DESC, dtype: int64"
      ]
     },
     "execution_count": 69,
     "metadata": {},
     "output_type": "execute_result"
    }
   ],
   "source": [
    "df_crash_sum_clean1.WEATHER_DESC.value_counts()"
   ]
  },
  {
   "cell_type": "code",
   "execution_count": 70,
   "metadata": {},
   "outputs": [],
   "source": [
    "df_crash_sum_clean1.loc[df_crash_sum_clean1['WEATHER_DESC'].isin(['Not Applicable', 'Unknown', 'Other', 'Blowing Sand, Soil, Dirt']), 'WEATHER_DESC'] = 'other'\n",
    "df_crash_sum_clean1.loc[df_crash_sum_clean1['WEATHER_DESC'].isin(['Snow', 'Wintry Mix', 'Sleet', 'Blowing Snow']), 'WEATHER_DESC'] = 'winter_conditions'\n",
    "#df_crash_sum_clean1.loc[df_crash_sum_clean1['WEATHER_DESC'].isin(['Not Applicable', 'Unknown', 'Other']), 'WEATHER_DESC'] = 'other'\n",
    "#df_crash_sum_clean1.loc[df_crash_sum_clean1['WEATHER_DESC'].isin(['Not Applicable', 'Unknown', 'Other']), 'WEATHER_DESC'] = 'other'\n",
    "#df_crash_sum_clean1.loc[df_crash_sum_clean1['WEATHER_DESC'].isin(['Not Applicable', 'Unknown', 'Other']), 'WEATHER_DESC'] = 'other'\n",
    "#df_crash_sum_clean1.loc[df_crash_sum_clean1['WEATHER_DESC'].isin(['Not Applicable', 'Unknown', 'Other']), 'WEATHER_DESC'] = 'other'\n"
   ]
  },
  {
   "cell_type": "code",
   "execution_count": 71,
   "metadata": {},
   "outputs": [
    {
     "data": {
      "text/plain": [
       "other                428609\n",
       "Clear                197604\n",
       "Raining               97931\n",
       "Cloudy                28823\n",
       "winter_conditions      9287\n",
       "Foggy                  4140\n",
       "Severe Winds           1216\n",
       "Name: WEATHER_DESC, dtype: int64"
      ]
     },
     "execution_count": 71,
     "metadata": {},
     "output_type": "execute_result"
    }
   ],
   "source": [
    "df_crash_sum_clean1.WEATHER_DESC.value_counts()"
   ]
  },
  {
   "attachments": {},
   "cell_type": "markdown",
   "metadata": {},
   "source": [
    "## Checking Harm Events"
   ]
  },
  {
   "cell_type": "code",
   "execution_count": 72,
   "metadata": {},
   "outputs": [
    {
     "data": {
      "text/plain": [
       "Unknown                           485450\n",
       "Other Vehicle                     173427\n",
       "Fixed Object                       40462\n",
       "Parked Vehicle                     26151\n",
       "Off Road                           12777\n",
       "Not Applicable                      6634\n",
       "Pedestrian                          6144\n",
       "Animal                              5997\n",
       "Other Object                        2528\n",
       "Overturn                            1476\n",
       "Bicycle                             1396\n",
       "Other                               1322\n",
       "Other Non Collision                 1184\n",
       "Explosion or Fire                    730\n",
       "Backing                              370\n",
       "Thrown or Falling Object             349\n",
       "Fell Jumped from Motor Vehicle       219\n",
       "Other Conveyance                     200\n",
       "Spilled Cargo                        187\n",
       "Other Pedalcycle                     180\n",
       "Jackknife                            126\n",
       "Units Separated                       91\n",
       "Downhill Roadway                      89\n",
       "U-turn                                59\n",
       "Immersion                             37\n",
       "Railway Train                         25\n",
       "Name: HARM_EVENT_DESC1, dtype: int64"
      ]
     },
     "execution_count": 72,
     "metadata": {},
     "output_type": "execute_result"
    }
   ],
   "source": [
    "df_crash_sum_clean1.HARM_EVENT_DESC1.value_counts()"
   ]
  },
  {
   "cell_type": "code",
   "execution_count": 73,
   "metadata": {},
   "outputs": [],
   "source": [
    "df_crash_sum_clean1.loc[df_crash_sum_clean1['HARM_EVENT_DESC1'].isin(['Railway Train', 'Unknown', 'Other', 'Immersion', 'U-turn', 'Downhill Roadway', 'Units Separated', 'Jackknife', 'Other Pedalcycle', 'Spilled Cargo', 'Other Conveyance', 'Fell Jumped from Motor Vehicle', 'Thrown or Falling Object', 'Backing', 'Explosion or Fire', 'Other Non Collision', 'Other Object']), 'HARM_EVENT_DESC1'] = 'other'\n",
    "#df_crash_sum_clean1.loc[df_crash_sum_clean1['HARM_EVENT_DESC1'].isin(['Not Applicable', 'Unknown', 'Other', 'Blowing Sand, Soil, Dirt']), 'HARM_EVENT_DESC1'] = 'other'\n"
   ]
  },
  {
   "cell_type": "code",
   "execution_count": 74,
   "metadata": {},
   "outputs": [
    {
     "data": {
      "text/plain": [
       "Not Applicable                    493411\n",
       "Other Vehicle                     136646\n",
       "Fixed Object                       72752\n",
       "Parked Vehicle                     26110\n",
       "Off Road                           11621\n",
       "Overturn                            9991\n",
       "Other Object                        4539\n",
       "Pedestrian                          3526\n",
       "Unknown                             2158\n",
       "Other                               1730\n",
       "Animal                               740\n",
       "Explosion or Fire                    580\n",
       "Fell Jumped from Motor Vehicle       579\n",
       "Bicycle                              563\n",
       "Other Non Collision                  517\n",
       "Units Separated                      502\n",
       "Other Conveyance                     320\n",
       "Backing                              307\n",
       "Thrown or Falling Object             184\n",
       "Jackknife                            165\n",
       "Spilled Cargo                        162\n",
       "Immersion                            149\n",
       "Downhill Roadway                     143\n",
       "Other Pedalcycle                     125\n",
       "U-turn                                68\n",
       "Railway Train                         22\n",
       "Name: HARM_EVENT_DESC2, dtype: int64"
      ]
     },
     "execution_count": 74,
     "metadata": {},
     "output_type": "execute_result"
    }
   ],
   "source": [
    "df_crash_sum_clean1.HARM_EVENT_DESC2.value_counts()"
   ]
  },
  {
   "cell_type": "code",
   "execution_count": 75,
   "metadata": {},
   "outputs": [],
   "source": [
    "df_crash_sum_clean1.loc[df_crash_sum_clean1['HARM_EVENT_DESC2'].isin(['Railway Train', 'U-turn', 'Other Pedalcycle', 'Downhill Roadway', 'Immersion', 'Spilled Cargo', 'Jackknife', 'Thrown or Falling Object', 'Backing', 'Other Conveyance', 'Units Separated', 'Other Non Collision', 'Bicycle', 'Fell Jumped from Motor Vehicle', 'Explosion or Fire', 'Animal', 'Other', 'Unknown']), 'HARM_EVENT_DESC2'] = 'other'\n",
    "#df_crash_sum_clean1.loc[df_crash_sum_clean1['HARM_EVENT_DESC1'].isin(['Not Applicable', 'Unknown', 'Other', 'Blowing Sand, Soil, Dirt']), 'HARM_EVENT_DESC1'] = 'other'\n"
   ]
  },
  {
   "cell_type": "code",
   "execution_count": 76,
   "metadata": {},
   "outputs": [
    {
     "data": {
      "text/plain": [
       "other             493146\n",
       "Other Vehicle     173427\n",
       "Fixed Object       40462\n",
       "Parked Vehicle     26151\n",
       "Off Road           12777\n",
       "Not Applicable      6634\n",
       "Pedestrian          6144\n",
       "Animal              5997\n",
       "Overturn            1476\n",
       "Bicycle             1396\n",
       "Name: HARM_EVENT_DESC1, dtype: int64"
      ]
     },
     "execution_count": 76,
     "metadata": {},
     "output_type": "execute_result"
    }
   ],
   "source": [
    "df_crash_sum_clean1.HARM_EVENT_DESC1.value_counts()"
   ]
  },
  {
   "cell_type": "code",
   "execution_count": 77,
   "metadata": {},
   "outputs": [
    {
     "data": {
      "text/plain": [
       "Not Applicable    493411\n",
       "Other Vehicle     136646\n",
       "Fixed Object       72752\n",
       "Parked Vehicle     26110\n",
       "Off Road           11621\n",
       "Overturn            9991\n",
       "other               9014\n",
       "Other Object        4539\n",
       "Pedestrian          3526\n",
       "Name: HARM_EVENT_DESC2, dtype: int64"
      ]
     },
     "execution_count": 77,
     "metadata": {},
     "output_type": "execute_result"
    }
   ],
   "source": [
    "df_crash_sum_clean1.HARM_EVENT_DESC2.value_counts()"
   ]
  },
  {
   "attachments": {},
   "cell_type": "markdown",
   "metadata": {},
   "source": [
    "## DIS DIR FLAG"
   ]
  },
  {
   "cell_type": "code",
   "execution_count": 78,
   "metadata": {},
   "outputs": [
    {
     "data": {
      "text/plain": [
       "N          261638\n",
       "S          168513\n",
       "E          157836\n",
       "W           99321\n",
       "Unknown     74158\n",
       "U            6144\n",
       "Name: DISTANCE_DIR_FLAG, dtype: int64"
      ]
     },
     "execution_count": 78,
     "metadata": {},
     "output_type": "execute_result"
    }
   ],
   "source": [
    "df_crash_sum_clean1.DISTANCE_DIR_FLAG.value_counts()"
   ]
  },
  {
   "cell_type": "code",
   "execution_count": 79,
   "metadata": {},
   "outputs": [],
   "source": [
    "df_crash_sum_clean1.loc[df_crash_sum_clean1['DISTANCE_DIR_FLAG'].isin(['U', 'Unknown']), 'DISTANCE_DIR_FLAG'] = 'U'\n"
   ]
  },
  {
   "cell_type": "code",
   "execution_count": 80,
   "metadata": {},
   "outputs": [
    {
     "data": {
      "text/plain": [
       "N    261638\n",
       "S    168513\n",
       "E    157836\n",
       "W     99321\n",
       "U     80302\n",
       "Name: DISTANCE_DIR_FLAG, dtype: int64"
      ]
     },
     "execution_count": 80,
     "metadata": {},
     "output_type": "execute_result"
    }
   ],
   "source": [
    "df_crash_sum_clean1.DISTANCE_DIR_FLAG.value_counts()"
   ]
  },
  {
   "attachments": {},
   "cell_type": "markdown",
   "metadata": {},
   "source": [
    "# Vehicle DF"
   ]
  },
  {
   "cell_type": "code",
   "execution_count": 81,
   "metadata": {},
   "outputs": [
    {
     "data": {
      "text/html": [
       "<div>\n",
       "<style scoped>\n",
       "    .dataframe tbody tr th:only-of-type {\n",
       "        vertical-align: middle;\n",
       "    }\n",
       "\n",
       "    .dataframe tbody tr th {\n",
       "        vertical-align: top;\n",
       "    }\n",
       "\n",
       "    .dataframe thead th {\n",
       "        text-align: right;\n",
       "    }\n",
       "</style>\n",
       "<table border=\"1\" class=\"dataframe\">\n",
       "  <thead>\n",
       "    <tr style=\"text-align: right;\">\n",
       "      <th></th>\n",
       "      <th>HARM_EVENT_DESC</th>\n",
       "      <th>HARM_EVENT_CODE</th>\n",
       "      <th>CONTI_DIRECTION_DESC</th>\n",
       "      <th>CONTI_DIRECTION_CODE</th>\n",
       "      <th>DAMAGE_DESC</th>\n",
       "      <th>DAMAGE_CODE</th>\n",
       "      <th>MOVEMENT_DESC</th>\n",
       "      <th>MOVEMENT_CODE</th>\n",
       "      <th>VIN_NO</th>\n",
       "      <th>REPORT_NO</th>\n",
       "      <th>CV_BODY_TYPE_DESC</th>\n",
       "      <th>CV_BODY_TYPE_CODE</th>\n",
       "      <th>VEH_YEAR</th>\n",
       "      <th>VEH_MAKE</th>\n",
       "      <th>VEH_MODEL</th>\n",
       "      <th>COMMERCIAL_FLAG_DESC</th>\n",
       "      <th>COMMERCIAL_FLAG</th>\n",
       "      <th>HZM_NUM</th>\n",
       "      <th>TOWED_AWAY_FLAG_DESC</th>\n",
       "      <th>TOWED_AWAY_FLAG</th>\n",
       "      <th>NUM_AXLES</th>\n",
       "      <th>GVW_DESC</th>\n",
       "      <th>GVW_CODE</th>\n",
       "      <th>GOING_DIRECTION_DESC</th>\n",
       "      <th>GOING_DIRECTION_CODE</th>\n",
       "      <th>BODY_TYPE_DESC</th>\n",
       "      <th>BODY_TYPE_CODE</th>\n",
       "      <th>DRIVERLESS_FLAG_DESC</th>\n",
       "      <th>DRIVERLESS_FLAG</th>\n",
       "      <th>FIRE_FLAG_DESC</th>\n",
       "      <th>FIRE_FLAG</th>\n",
       "      <th>PARKED_FLAG_DESC</th>\n",
       "      <th>PARKED_FLAG</th>\n",
       "      <th>SPEED_LIMIT</th>\n",
       "      <th>HIT_AND_RUN_FLAG_DESC</th>\n",
       "      <th>HIT_AND_RUN_FLAG</th>\n",
       "      <th>HAZMAT_SPILL_FLAG_DESC</th>\n",
       "      <th>HAZMAT_SPILL_FLAG</th>\n",
       "      <th>VEHICLE_ID</th>\n",
       "      <th>TOWED_VEHICLE_CONFIG_DESC</th>\n",
       "      <th>TOWED_VEHICLE_CONFIG_CODE</th>\n",
       "      <th>AREA_DAMAGED_CODE_IMP1</th>\n",
       "      <th>AREA_DAMAGED_CODE1</th>\n",
       "      <th>AREA_DAMAGED_CODE2</th>\n",
       "      <th>AREA_DAMAGED_CODE3</th>\n",
       "      <th>AREA_DAMAGED_CODE_MAIN_DESC</th>\n",
       "      <th>AREA_DAMAGED_CODE_MAIN</th>\n",
       "      <th>YEAR</th>\n",
       "      <th>Quarter</th>\n",
       "    </tr>\n",
       "  </thead>\n",
       "  <tbody>\n",
       "    <tr>\n",
       "      <th>1321889</th>\n",
       "      <td>Other Vehicle</td>\n",
       "      <td>1.0</td>\n",
       "      <td>West</td>\n",
       "      <td>W</td>\n",
       "      <td>Superficial</td>\n",
       "      <td>2</td>\n",
       "      <td>Slowing or Stopping</td>\n",
       "      <td>3.0</td>\n",
       "      <td>2GNFLEE5XC6366473</td>\n",
       "      <td>AC1918004J</td>\n",
       "      <td>NaN</td>\n",
       "      <td>NaN</td>\n",
       "      <td>2012.0</td>\n",
       "      <td>CHEV</td>\n",
       "      <td>TK</td>\n",
       "      <td>No</td>\n",
       "      <td>N</td>\n",
       "      <td>NaN</td>\n",
       "      <td>No</td>\n",
       "      <td>N</td>\n",
       "      <td>NaN</td>\n",
       "      <td>NaN</td>\n",
       "      <td>NaN</td>\n",
       "      <td>South</td>\n",
       "      <td>S</td>\n",
       "      <td>Passenger Car</td>\n",
       "      <td>2.0</td>\n",
       "      <td>No</td>\n",
       "      <td>N</td>\n",
       "      <td>No</td>\n",
       "      <td>N</td>\n",
       "      <td>No</td>\n",
       "      <td>N</td>\n",
       "      <td>45</td>\n",
       "      <td>No</td>\n",
       "      <td>N</td>\n",
       "      <td>NaN</td>\n",
       "      <td>NaN</td>\n",
       "      <td>1bd4e2a2-d7d0-4996-95ff-16f26c2e4454</td>\n",
       "      <td>Not Applicable</td>\n",
       "      <td>0</td>\n",
       "      <td>12.0</td>\n",
       "      <td>12.0</td>\n",
       "      <td>NaN</td>\n",
       "      <td>NaN</td>\n",
       "      <td>Twelve o'clock</td>\n",
       "      <td>12.0</td>\n",
       "      <td>2018</td>\n",
       "      <td>Q1</td>\n",
       "    </tr>\n",
       "    <tr>\n",
       "      <th>575737</th>\n",
       "      <td>Other Vehicle</td>\n",
       "      <td>1.0</td>\n",
       "      <td>North</td>\n",
       "      <td>N</td>\n",
       "      <td>Superficial</td>\n",
       "      <td>2</td>\n",
       "      <td>Slowing or Stopping</td>\n",
       "      <td>3.0</td>\n",
       "      <td>4T1BF3EK3BU640262</td>\n",
       "      <td>MCP2556000X</td>\n",
       "      <td>NaN</td>\n",
       "      <td>NaN</td>\n",
       "      <td>2011.0</td>\n",
       "      <td>TOYT</td>\n",
       "      <td>4S</td>\n",
       "      <td>No</td>\n",
       "      <td>N</td>\n",
       "      <td>NaN</td>\n",
       "      <td>No</td>\n",
       "      <td>N</td>\n",
       "      <td>NaN</td>\n",
       "      <td>NaN</td>\n",
       "      <td>NaN</td>\n",
       "      <td>West</td>\n",
       "      <td>W</td>\n",
       "      <td>Passenger Car</td>\n",
       "      <td>2.0</td>\n",
       "      <td>No</td>\n",
       "      <td>N</td>\n",
       "      <td>No</td>\n",
       "      <td>N</td>\n",
       "      <td>No</td>\n",
       "      <td>N</td>\n",
       "      <td>25</td>\n",
       "      <td>No</td>\n",
       "      <td>N</td>\n",
       "      <td>NaN</td>\n",
       "      <td>NaN</td>\n",
       "      <td>c6fcd5c4-73b1-42a7-ad89-a1bee1f2d041</td>\n",
       "      <td>Not Applicable</td>\n",
       "      <td>0</td>\n",
       "      <td>6.0</td>\n",
       "      <td>6.0</td>\n",
       "      <td>NaN</td>\n",
       "      <td>NaN</td>\n",
       "      <td>Six o'clock</td>\n",
       "      <td>6.0</td>\n",
       "      <td>2016</td>\n",
       "      <td>Q4</td>\n",
       "    </tr>\n",
       "    <tr>\n",
       "      <th>1166459</th>\n",
       "      <td>Other Vehicle</td>\n",
       "      <td>1.0</td>\n",
       "      <td>South</td>\n",
       "      <td>S</td>\n",
       "      <td>Disabling</td>\n",
       "      <td>4</td>\n",
       "      <td>Making Left Turn</td>\n",
       "      <td>12.0</td>\n",
       "      <td>5NPDH4AE4GH687265</td>\n",
       "      <td>AE5532004T</td>\n",
       "      <td>NaN</td>\n",
       "      <td>NaN</td>\n",
       "      <td>2016.0</td>\n",
       "      <td>HYUN</td>\n",
       "      <td>ELANTRA</td>\n",
       "      <td>No</td>\n",
       "      <td>N</td>\n",
       "      <td>NaN</td>\n",
       "      <td>Yes</td>\n",
       "      <td>Y</td>\n",
       "      <td>NaN</td>\n",
       "      <td>NaN</td>\n",
       "      <td>NaN</td>\n",
       "      <td>South</td>\n",
       "      <td>S</td>\n",
       "      <td>Passenger Car</td>\n",
       "      <td>2.0</td>\n",
       "      <td>No</td>\n",
       "      <td>N</td>\n",
       "      <td>NaN</td>\n",
       "      <td>NaN</td>\n",
       "      <td>No</td>\n",
       "      <td>N</td>\n",
       "      <td>15</td>\n",
       "      <td>No</td>\n",
       "      <td>N</td>\n",
       "      <td>NaN</td>\n",
       "      <td>NaN</td>\n",
       "      <td>796a32f6-9808-47e2-8a5a-e2112f613fc1</td>\n",
       "      <td>Not Applicable</td>\n",
       "      <td>0</td>\n",
       "      <td>10.0</td>\n",
       "      <td>8.0</td>\n",
       "      <td>9.0</td>\n",
       "      <td>10.0</td>\n",
       "      <td>Nine o'clock</td>\n",
       "      <td>9.0</td>\n",
       "      <td>2018</td>\n",
       "      <td>Q4</td>\n",
       "    </tr>\n",
       "  </tbody>\n",
       "</table>\n",
       "</div>"
      ],
      "text/plain": [
       "        HARM_EVENT_DESC  HARM_EVENT_CODE CONTI_DIRECTION_DESC  \\\n",
       "1321889   Other Vehicle              1.0                 West   \n",
       "575737    Other Vehicle              1.0                North   \n",
       "1166459   Other Vehicle              1.0                South   \n",
       "\n",
       "        CONTI_DIRECTION_CODE  DAMAGE_DESC  DAMAGE_CODE        MOVEMENT_DESC  \\\n",
       "1321889                    W  Superficial            2  Slowing or Stopping   \n",
       "575737                     N  Superficial            2  Slowing or Stopping   \n",
       "1166459                    S    Disabling            4     Making Left Turn   \n",
       "\n",
       "         MOVEMENT_CODE             VIN_NO    REPORT_NO CV_BODY_TYPE_DESC  \\\n",
       "1321889            3.0  2GNFLEE5XC6366473   AC1918004J               NaN   \n",
       "575737             3.0  4T1BF3EK3BU640262  MCP2556000X               NaN   \n",
       "1166459           12.0  5NPDH4AE4GH687265   AE5532004T               NaN   \n",
       "\n",
       "         CV_BODY_TYPE_CODE  VEH_YEAR VEH_MAKE VEH_MODEL COMMERCIAL_FLAG_DESC  \\\n",
       "1321889                NaN    2012.0     CHEV        TK                   No   \n",
       "575737                 NaN    2011.0     TOYT        4S                   No   \n",
       "1166459                NaN    2016.0     HYUN   ELANTRA                   No   \n",
       "\n",
       "        COMMERCIAL_FLAG HZM_NUM TOWED_AWAY_FLAG_DESC TOWED_AWAY_FLAG  \\\n",
       "1321889               N     NaN                   No               N   \n",
       "575737                N     NaN                   No               N   \n",
       "1166459               N     NaN                  Yes               Y   \n",
       "\n",
       "         NUM_AXLES GVW_DESC  GVW_CODE GOING_DIRECTION_DESC  \\\n",
       "1321889        NaN      NaN       NaN                South   \n",
       "575737         NaN      NaN       NaN                 West   \n",
       "1166459        NaN      NaN       NaN                South   \n",
       "\n",
       "        GOING_DIRECTION_CODE BODY_TYPE_DESC  BODY_TYPE_CODE  \\\n",
       "1321889                    S  Passenger Car             2.0   \n",
       "575737                     W  Passenger Car             2.0   \n",
       "1166459                    S  Passenger Car             2.0   \n",
       "\n",
       "        DRIVERLESS_FLAG_DESC DRIVERLESS_FLAG FIRE_FLAG_DESC FIRE_FLAG  \\\n",
       "1321889                   No               N             No         N   \n",
       "575737                    No               N             No         N   \n",
       "1166459                   No               N            NaN       NaN   \n",
       "\n",
       "        PARKED_FLAG_DESC PARKED_FLAG  SPEED_LIMIT HIT_AND_RUN_FLAG_DESC  \\\n",
       "1321889               No           N           45                    No   \n",
       "575737                No           N           25                    No   \n",
       "1166459               No           N           15                    No   \n",
       "\n",
       "        HIT_AND_RUN_FLAG HAZMAT_SPILL_FLAG_DESC HAZMAT_SPILL_FLAG  \\\n",
       "1321889                N                    NaN               NaN   \n",
       "575737                 N                    NaN               NaN   \n",
       "1166459                N                    NaN               NaN   \n",
       "\n",
       "                                   VEHICLE_ID TOWED_VEHICLE_CONFIG_DESC  \\\n",
       "1321889  1bd4e2a2-d7d0-4996-95ff-16f26c2e4454            Not Applicable   \n",
       "575737   c6fcd5c4-73b1-42a7-ad89-a1bee1f2d041            Not Applicable   \n",
       "1166459  796a32f6-9808-47e2-8a5a-e2112f613fc1            Not Applicable   \n",
       "\n",
       "         TOWED_VEHICLE_CONFIG_CODE  AREA_DAMAGED_CODE_IMP1  \\\n",
       "1321889                          0                    12.0   \n",
       "575737                           0                     6.0   \n",
       "1166459                          0                    10.0   \n",
       "\n",
       "         AREA_DAMAGED_CODE1  AREA_DAMAGED_CODE2  AREA_DAMAGED_CODE3  \\\n",
       "1321889                12.0                 NaN                 NaN   \n",
       "575737                  6.0                 NaN                 NaN   \n",
       "1166459                 8.0                 9.0                10.0   \n",
       "\n",
       "        AREA_DAMAGED_CODE_MAIN_DESC  AREA_DAMAGED_CODE_MAIN  YEAR Quarter  \n",
       "1321889              Twelve o'clock                    12.0  2018      Q1  \n",
       "575737                  Six o'clock                     6.0  2016      Q4  \n",
       "1166459                Nine o'clock                     9.0  2018      Q4  "
      ]
     },
     "execution_count": 81,
     "metadata": {},
     "output_type": "execute_result"
    }
   ],
   "source": [
    "df_cars.sample(3)"
   ]
  },
  {
   "attachments": {},
   "cell_type": "markdown",
   "metadata": {},
   "source": [
    "# New Vehicle DF to Clean"
   ]
  },
  {
   "cell_type": "code",
   "execution_count": 82,
   "metadata": {},
   "outputs": [],
   "source": [
    "cols_to_keep_cars = ['REPORT_NO', 'VEH_MAKE', 'DAMAGE_DESC', 'COMMERCIAL_FLAG', 'BODY_TYPE_DESC', 'FIRE_FLAG', 'PARKED_FLAG', 'SPEED_LIMIT', 'HIT_AND_RUN_FLAG', 'MOVEMENT_DESC']"
   ]
  },
  {
   "cell_type": "code",
   "execution_count": 83,
   "metadata": {},
   "outputs": [],
   "source": [
    "df_cars_clean = df_cars[cols_to_keep_cars]"
   ]
  },
  {
   "cell_type": "code",
   "execution_count": 84,
   "metadata": {},
   "outputs": [
    {
     "data": {
      "text/html": [
       "<div>\n",
       "<style scoped>\n",
       "    .dataframe tbody tr th:only-of-type {\n",
       "        vertical-align: middle;\n",
       "    }\n",
       "\n",
       "    .dataframe tbody tr th {\n",
       "        vertical-align: top;\n",
       "    }\n",
       "\n",
       "    .dataframe thead th {\n",
       "        text-align: right;\n",
       "    }\n",
       "</style>\n",
       "<table border=\"1\" class=\"dataframe\">\n",
       "  <thead>\n",
       "    <tr style=\"text-align: right;\">\n",
       "      <th></th>\n",
       "      <th>REPORT_NO</th>\n",
       "      <th>VEH_MAKE</th>\n",
       "      <th>DAMAGE_DESC</th>\n",
       "      <th>COMMERCIAL_FLAG</th>\n",
       "      <th>BODY_TYPE_DESC</th>\n",
       "      <th>FIRE_FLAG</th>\n",
       "      <th>PARKED_FLAG</th>\n",
       "      <th>SPEED_LIMIT</th>\n",
       "      <th>HIT_AND_RUN_FLAG</th>\n",
       "      <th>MOVEMENT_DESC</th>\n",
       "    </tr>\n",
       "  </thead>\n",
       "  <tbody>\n",
       "    <tr>\n",
       "      <th>0</th>\n",
       "      <td>AE5057004X</td>\n",
       "      <td>UNKNOWN</td>\n",
       "      <td>Unknown</td>\n",
       "      <td>N</td>\n",
       "      <td>NaN</td>\n",
       "      <td>N</td>\n",
       "      <td>N</td>\n",
       "      <td>25</td>\n",
       "      <td>Y</td>\n",
       "      <td>Unknown</td>\n",
       "    </tr>\n",
       "    <tr>\n",
       "      <th>1</th>\n",
       "      <td>MSP7221001P</td>\n",
       "      <td>TOYOTA</td>\n",
       "      <td>Superficial</td>\n",
       "      <td>N</td>\n",
       "      <td>Passenger Car</td>\n",
       "      <td>N</td>\n",
       "      <td>N</td>\n",
       "      <td>55</td>\n",
       "      <td>N</td>\n",
       "      <td>Moving Constant Speed</td>\n",
       "    </tr>\n",
       "    <tr>\n",
       "      <th>2</th>\n",
       "      <td>DA37010040</td>\n",
       "      <td>CHEVROLET</td>\n",
       "      <td>Functional</td>\n",
       "      <td>N</td>\n",
       "      <td>(Sport) Utility Vehicle</td>\n",
       "      <td>N</td>\n",
       "      <td>N</td>\n",
       "      <td>30</td>\n",
       "      <td>N</td>\n",
       "      <td>Stopped in Traffic Lane</td>\n",
       "    </tr>\n",
       "  </tbody>\n",
       "</table>\n",
       "</div>"
      ],
      "text/plain": [
       "     REPORT_NO   VEH_MAKE  DAMAGE_DESC COMMERCIAL_FLAG  \\\n",
       "0   AE5057004X    UNKNOWN      Unknown               N   \n",
       "1  MSP7221001P     TOYOTA  Superficial               N   \n",
       "2   DA37010040  CHEVROLET   Functional               N   \n",
       "\n",
       "            BODY_TYPE_DESC FIRE_FLAG PARKED_FLAG  SPEED_LIMIT  \\\n",
       "0                      NaN         N           N           25   \n",
       "1            Passenger Car         N           N           55   \n",
       "2  (Sport) Utility Vehicle         N           N           30   \n",
       "\n",
       "  HIT_AND_RUN_FLAG            MOVEMENT_DESC  \n",
       "0                Y                  Unknown  \n",
       "1                N    Moving Constant Speed  \n",
       "2                N  Stopped in Traffic Lane  "
      ]
     },
     "execution_count": 84,
     "metadata": {},
     "output_type": "execute_result"
    }
   ],
   "source": [
    "df_cars_clean.head(3)"
   ]
  },
  {
   "cell_type": "code",
   "execution_count": 85,
   "metadata": {},
   "outputs": [
    {
     "name": "stdout",
     "output_type": "stream",
     "text": [
      "<class 'pandas.core.frame.DataFrame'>\n",
      "RangeIndex: 1637937 entries, 0 to 1637936\n",
      "Data columns (total 10 columns):\n",
      " #   Column            Non-Null Count    Dtype \n",
      "---  ------            --------------    ----- \n",
      " 0   REPORT_NO         1637937 non-null  object\n",
      " 1   VEH_MAKE          1637606 non-null  object\n",
      " 2   DAMAGE_DESC       1637937 non-null  object\n",
      " 3   COMMERCIAL_FLAG   1637937 non-null  object\n",
      " 4   BODY_TYPE_DESC    1575807 non-null  object\n",
      " 5   FIRE_FLAG         1377541 non-null  object\n",
      " 6   PARKED_FLAG       1637937 non-null  object\n",
      " 7   SPEED_LIMIT       1637937 non-null  int64 \n",
      " 8   HIT_AND_RUN_FLAG  1637937 non-null  object\n",
      " 9   MOVEMENT_DESC     1637937 non-null  object\n",
      "dtypes: int64(1), object(9)\n",
      "memory usage: 125.0+ MB\n"
     ]
    }
   ],
   "source": [
    "df_cars_clean.info()"
   ]
  },
  {
   "cell_type": "code",
   "execution_count": 86,
   "metadata": {},
   "outputs": [],
   "source": [
    "df_cars_clean = df_cars_clean.fillna('Unknown')"
   ]
  },
  {
   "cell_type": "code",
   "execution_count": 87,
   "metadata": {},
   "outputs": [
    {
     "name": "stdout",
     "output_type": "stream",
     "text": [
      "<class 'pandas.core.frame.DataFrame'>\n",
      "RangeIndex: 1637937 entries, 0 to 1637936\n",
      "Data columns (total 10 columns):\n",
      " #   Column            Non-Null Count    Dtype \n",
      "---  ------            --------------    ----- \n",
      " 0   REPORT_NO         1637937 non-null  object\n",
      " 1   VEH_MAKE          1637937 non-null  object\n",
      " 2   DAMAGE_DESC       1637937 non-null  object\n",
      " 3   COMMERCIAL_FLAG   1637937 non-null  object\n",
      " 4   BODY_TYPE_DESC    1637937 non-null  object\n",
      " 5   FIRE_FLAG         1637937 non-null  object\n",
      " 6   PARKED_FLAG       1637937 non-null  object\n",
      " 7   SPEED_LIMIT       1637937 non-null  int64 \n",
      " 8   HIT_AND_RUN_FLAG  1637937 non-null  object\n",
      " 9   MOVEMENT_DESC     1637937 non-null  object\n",
      "dtypes: int64(1), object(9)\n",
      "memory usage: 125.0+ MB\n"
     ]
    }
   ],
   "source": [
    "df_cars_clean.info()"
   ]
  },
  {
   "cell_type": "code",
   "execution_count": 88,
   "metadata": {},
   "outputs": [
    {
     "data": {
      "text/html": [
       "<div>\n",
       "<style scoped>\n",
       "    .dataframe tbody tr th:only-of-type {\n",
       "        vertical-align: middle;\n",
       "    }\n",
       "\n",
       "    .dataframe tbody tr th {\n",
       "        vertical-align: top;\n",
       "    }\n",
       "\n",
       "    .dataframe thead th {\n",
       "        text-align: right;\n",
       "    }\n",
       "</style>\n",
       "<table border=\"1\" class=\"dataframe\">\n",
       "  <thead>\n",
       "    <tr style=\"text-align: right;\">\n",
       "      <th></th>\n",
       "      <th>REPORT_NO</th>\n",
       "      <th>VEH_MAKE</th>\n",
       "      <th>DAMAGE_DESC</th>\n",
       "      <th>COMMERCIAL_FLAG</th>\n",
       "      <th>BODY_TYPE_DESC</th>\n",
       "      <th>FIRE_FLAG</th>\n",
       "      <th>PARKED_FLAG</th>\n",
       "      <th>SPEED_LIMIT</th>\n",
       "      <th>HIT_AND_RUN_FLAG</th>\n",
       "      <th>MOVEMENT_DESC</th>\n",
       "    </tr>\n",
       "  </thead>\n",
       "  <tbody>\n",
       "    <tr>\n",
       "      <th>0</th>\n",
       "      <td>AE5057004X</td>\n",
       "      <td>UNKNOWN</td>\n",
       "      <td>Unknown</td>\n",
       "      <td>N</td>\n",
       "      <td>Unknown</td>\n",
       "      <td>N</td>\n",
       "      <td>N</td>\n",
       "      <td>25</td>\n",
       "      <td>Y</td>\n",
       "      <td>Unknown</td>\n",
       "    </tr>\n",
       "    <tr>\n",
       "      <th>1</th>\n",
       "      <td>MSP7221001P</td>\n",
       "      <td>TOYOTA</td>\n",
       "      <td>Superficial</td>\n",
       "      <td>N</td>\n",
       "      <td>Passenger Car</td>\n",
       "      <td>N</td>\n",
       "      <td>N</td>\n",
       "      <td>55</td>\n",
       "      <td>N</td>\n",
       "      <td>Moving Constant Speed</td>\n",
       "    </tr>\n",
       "    <tr>\n",
       "      <th>2</th>\n",
       "      <td>DA37010040</td>\n",
       "      <td>CHEVROLET</td>\n",
       "      <td>Functional</td>\n",
       "      <td>N</td>\n",
       "      <td>(Sport) Utility Vehicle</td>\n",
       "      <td>N</td>\n",
       "      <td>N</td>\n",
       "      <td>30</td>\n",
       "      <td>N</td>\n",
       "      <td>Stopped in Traffic Lane</td>\n",
       "    </tr>\n",
       "  </tbody>\n",
       "</table>\n",
       "</div>"
      ],
      "text/plain": [
       "     REPORT_NO   VEH_MAKE  DAMAGE_DESC COMMERCIAL_FLAG  \\\n",
       "0   AE5057004X    UNKNOWN      Unknown               N   \n",
       "1  MSP7221001P     TOYOTA  Superficial               N   \n",
       "2   DA37010040  CHEVROLET   Functional               N   \n",
       "\n",
       "            BODY_TYPE_DESC FIRE_FLAG PARKED_FLAG  SPEED_LIMIT  \\\n",
       "0                  Unknown         N           N           25   \n",
       "1            Passenger Car         N           N           55   \n",
       "2  (Sport) Utility Vehicle         N           N           30   \n",
       "\n",
       "  HIT_AND_RUN_FLAG            MOVEMENT_DESC  \n",
       "0                Y                  Unknown  \n",
       "1                N    Moving Constant Speed  \n",
       "2                N  Stopped in Traffic Lane  "
      ]
     },
     "execution_count": 88,
     "metadata": {},
     "output_type": "execute_result"
    }
   ],
   "source": [
    "df_cars_clean.head(3)"
   ]
  },
  {
   "attachments": {},
   "cell_type": "markdown",
   "metadata": {},
   "source": [
    "## DAMGE DESC"
   ]
  },
  {
   "cell_type": "code",
   "execution_count": 89,
   "metadata": {},
   "outputs": [
    {
     "data": {
      "text/plain": [
       "Disabling         570427\n",
       "Superficial       409298\n",
       "Functional        404260\n",
       "Unknown           108030\n",
       "Destroyed          89733\n",
       "No Damage          46419\n",
       "Not Applicable      8194\n",
       "Other               1576\n",
       "Name: DAMAGE_DESC, dtype: int64"
      ]
     },
     "execution_count": 89,
     "metadata": {},
     "output_type": "execute_result"
    }
   ],
   "source": [
    "df_cars_clean.DAMAGE_DESC.value_counts()"
   ]
  },
  {
   "attachments": {},
   "cell_type": "markdown",
   "metadata": {},
   "source": [
    "Consolidate into Other - NA, Other, and Unknown"
   ]
  },
  {
   "cell_type": "code",
   "execution_count": 90,
   "metadata": {},
   "outputs": [],
   "source": [
    "df_cars_clean['DAMAGE_DESC'] = df_cars_clean['DAMAGE_DESC'].replace(['Not Applicable', 'Unknown', 'Other'], 'Other')\n"
   ]
  },
  {
   "cell_type": "code",
   "execution_count": 91,
   "metadata": {},
   "outputs": [
    {
     "data": {
      "text/plain": [
       "Disabling      570427\n",
       "Superficial    409298\n",
       "Functional     404260\n",
       "Other          117800\n",
       "Destroyed       89733\n",
       "No Damage       46419\n",
       "Name: DAMAGE_DESC, dtype: int64"
      ]
     },
     "execution_count": 91,
     "metadata": {},
     "output_type": "execute_result"
    }
   ],
   "source": [
    "df_cars_clean.DAMAGE_DESC.value_counts()"
   ]
  },
  {
   "attachments": {},
   "cell_type": "markdown",
   "metadata": {},
   "source": [
    "## MOVE DESC"
   ]
  },
  {
   "cell_type": "code",
   "execution_count": 92,
   "metadata": {},
   "outputs": [
    {
     "data": {
      "text/plain": [
       "Moving Constant Speed        652817\n",
       "Slowing or Stopping          218163\n",
       "Parked                       174823\n",
       "Stopped in Traffic Lane      113238\n",
       "Accelerating                  98710\n",
       "Making Left Turn              96963\n",
       "Unknown                       49337\n",
       "Backing                       40408\n",
       "Changing Lanes                35027\n",
       "Making Right Turn             32109\n",
       "Starting From Lane            28314\n",
       "Starting From Parked          16583\n",
       "Not Applicable                13155\n",
       "Parking                       12786\n",
       "Skidding                      12238\n",
       "Making U Turn                  8541\n",
       "Passing                        7957\n",
       "Other                          7509\n",
       "Negotiating a Curve            7311\n",
       "Entering Traffic Lane          6187\n",
       "Leaving Traffic Lane           3473\n",
       "Driverless Moving Vehicle      1175\n",
       "Right Turn on Red              1113\n",
       "Name: MOVEMENT_DESC, dtype: int64"
      ]
     },
     "execution_count": 92,
     "metadata": {},
     "output_type": "execute_result"
    }
   ],
   "source": [
    "df_cars_clean.MOVEMENT_DESC.value_counts()"
   ]
  },
  {
   "cell_type": "code",
   "execution_count": 93,
   "metadata": {},
   "outputs": [
    {
     "data": {
      "text/plain": [
       "23"
      ]
     },
     "execution_count": 93,
     "metadata": {},
     "output_type": "execute_result"
    }
   ],
   "source": [
    "df_cars_clean.MOVEMENT_DESC.nunique()"
   ]
  },
  {
   "attachments": {},
   "cell_type": "markdown",
   "metadata": {},
   "source": [
    "Consolidate:\n",
    "The same into Other - NA, Unknown and Other\n",
    "Changing lanes - Entering, Leaving and Changing lanes\n",
    "Turning not red - Making Right/Left Turn\n",
    "???"
   ]
  },
  {
   "cell_type": "code",
   "execution_count": 94,
   "metadata": {},
   "outputs": [],
   "source": [
    "df_cars_clean['MOVEMENT_DESC'] = df_cars_clean['MOVEMENT_DESC'].replace(['Not Applicable', 'Unknown', 'Other'], 'other')\n",
    "df_cars_clean['MOVEMENT_DESC'] = df_cars_clean['MOVEMENT_DESC'].replace(['Entering Traffic Lane', 'Passing', 'Leaving Traffic Lane', 'Changing Lanes'], 'changing_lanes')\n",
    "df_cars_clean['MOVEMENT_DESC'] = df_cars_clean['MOVEMENT_DESC'].replace(['Making Left Turn', 'Making Right Turn', 'Making U Turn'], 'turn_left_right_u')\n",
    "df_cars_clean['MOVEMENT_DESC'] = df_cars_clean['MOVEMENT_DESC'].replace(['Parked', 'Stopped in Traffic Lane'], 'not_in_motion')\n",
    "df_cars_clean['MOVEMENT_DESC'] = df_cars_clean['MOVEMENT_DESC'].replace(['Starting From Lane', 'Starting From Parked', 'Parking'], 'slow_in_motion')\n",
    "\n"
   ]
  },
  {
   "cell_type": "code",
   "execution_count": 95,
   "metadata": {},
   "outputs": [
    {
     "data": {
      "text/plain": [
       "Moving Constant Speed        652817\n",
       "not_in_motion                288061\n",
       "Slowing or Stopping          218163\n",
       "turn_left_right_u            137613\n",
       "Accelerating                  98710\n",
       "other                         70001\n",
       "slow_in_motion                57683\n",
       "changing_lanes                52644\n",
       "Backing                       40408\n",
       "Skidding                      12238\n",
       "Negotiating a Curve            7311\n",
       "Driverless Moving Vehicle      1175\n",
       "Right Turn on Red              1113\n",
       "Name: MOVEMENT_DESC, dtype: int64"
      ]
     },
     "execution_count": 95,
     "metadata": {},
     "output_type": "execute_result"
    }
   ],
   "source": [
    "df_cars_clean['MOVEMENT_DESC'].value_counts()"
   ]
  },
  {
   "cell_type": "code",
   "execution_count": 96,
   "metadata": {},
   "outputs": [
    {
     "data": {
      "text/plain": [
       "13"
      ]
     },
     "execution_count": 96,
     "metadata": {},
     "output_type": "execute_result"
    }
   ],
   "source": [
    "df_cars_clean.MOVEMENT_DESC.nunique()"
   ]
  },
  {
   "attachments": {},
   "cell_type": "markdown",
   "metadata": {},
   "source": [
    "## Body Type"
   ]
  },
  {
   "cell_type": "code",
   "execution_count": 97,
   "metadata": {},
   "outputs": [
    {
     "data": {
      "text/plain": [
       "Passenger Car                                                    1048614\n",
       "(Sport) Utility Vehicle                                           179455\n",
       "Pickup Truck                                                      102186\n",
       "Unknown                                                            89077\n",
       "Van                                                                50457\n",
       "Other                                                              18811\n",
       "Truck Tractor                                                      15918\n",
       "Cargo Van/Light Truck 2 axles (10,000 lbs (4,536 kg) or less)      15824\n",
       "Other Light Trucks (10,000 lbs (4,536 kg))                         15343\n",
       "Medium/Heavy Truck 2 axles (10,000 lbs (4,536 kg) or less)         12848\n",
       "Police Vehicle/Non Emergency                                       12405\n",
       "Police Vehicle/Emergency                                           12285\n",
       "School Bus                                                         11300\n",
       "Transit Bus                                                        11166\n",
       "Motorcycle                                                         11025\n",
       "Station Wagon                                                       6300\n",
       "Recreational Vehicle                                                4450\n",
       "Ambulance/Emergency                                                 4211\n",
       "Not Applicable                                                      2945\n",
       "Fire Vehicle/Emergency                                              2718\n",
       "Other Bus                                                           2430\n",
       "Ambulance/Non Emergency                                             1446\n",
       "All Terrain Vehicle (ATV)                                           1412\n",
       "Moped                                                               1377\n",
       "Fire Vehicle/Non Emergency                                          1128\n",
       "Low Speed Vehicle                                                   1115\n",
       "Snowmobile                                                           989\n",
       "Farm Vehicle                                                         387\n",
       "Cross Country Bus                                                    165\n",
       "Limousine                                                            150\n",
       "Name: BODY_TYPE_DESC, dtype: int64"
      ]
     },
     "execution_count": 97,
     "metadata": {},
     "output_type": "execute_result"
    }
   ],
   "source": [
    "df_cars_clean['BODY_TYPE_DESC'].value_counts()"
   ]
  },
  {
   "cell_type": "code",
   "execution_count": 98,
   "metadata": {},
   "outputs": [],
   "source": [
    "df_cars_clean['BODY_TYPE_DESC'] = df_cars_clean['BODY_TYPE_DESC'].fillna('unknown')\n",
    "\n",
    "# Convert 'BODY_TYPE_DESC' column to string data type\n",
    "df_cars_clean['BODY_TYPE_DESC'] = df_cars_clean['BODY_TYPE_DESC'].astype(str)"
   ]
  },
  {
   "cell_type": "code",
   "execution_count": 99,
   "metadata": {},
   "outputs": [],
   "source": [
    "# Consolidating Categories\n",
    "\n",
    "df_cars_clean['BODY_TYPE_DESC'] = df_cars_clean['BODY_TYPE_DESC'].replace(['Not Applicable', 'Unknown', 'Other', 'Limousine', 'Farm Vehicle', 'Low Speed Vehicle', 'Recreational Vehicle'], 'other')\n",
    "df_cars_clean['BODY_TYPE_DESC'] = df_cars_clean['BODY_TYPE_DESC'].replace(['Other Bus', 'Transit Bus', 'Cross Country Bus'], 'other_bus')\n",
    "df_cars_clean['BODY_TYPE_DESC'] = df_cars_clean['BODY_TYPE_DESC'].replace(['Snowmobile', 'Moped', 'All Terrain Vehicle (ATV)'], 'small_vehicle')\n",
    "df_cars_clean['BODY_TYPE_DESC'] = df_cars_clean['BODY_TYPE_DESC'].replace(['Police Vehicle/Non Emergency', 'Ambulance/Non Emergency', 'Fire Vehicle/Non Emergency'], 'em_vehicle_non_emergency')\n",
    "df_cars_clean['BODY_TYPE_DESC'] = df_cars_clean['BODY_TYPE_DESC'].replace(['Ambulance/Emergency', 'Fire Vehicle/Emergency', 'Police Vehicle/Emergency'], 'em_vehicle')\n",
    "df_cars_clean['BODY_TYPE_DESC'] = df_cars_clean['BODY_TYPE_DESC'].replace(['Cargo Van/Light Truck 2 axles (10,000 lbs (4,536 kg) or less)', 'Other Light Trucks (10,000 lbs (4,536 kg))', 'Medium/Heavy Truck 2 axles (10,000 lbs (4,536 kg) or less)', 'Truck Tractor'], 'comm_truck')\n",
    "df_cars_clean['BODY_TYPE_DESC'] = df_cars_clean['BODY_TYPE_DESC'].replace(['Passenger Car', 'Station Wagon', 'Other'], 'passenger_car')\n"
   ]
  },
  {
   "cell_type": "code",
   "execution_count": 100,
   "metadata": {},
   "outputs": [],
   "source": [
    "# Renaming SUV\n",
    "df_cars_clean['BODY_TYPE_DESC'] = df_cars_clean['BODY_TYPE_DESC'].replace('(Sport) Utility Vehicle', 'suv')"
   ]
  },
  {
   "cell_type": "code",
   "execution_count": 101,
   "metadata": {},
   "outputs": [
    {
     "data": {
      "text/plain": [
       "passenger_car               1054914\n",
       "suv                          179455\n",
       "other                        116935\n",
       "Pickup Truck                 102186\n",
       "comm_truck                    59933\n",
       "Van                           50457\n",
       "em_vehicle                    19214\n",
       "em_vehicle_non_emergency      14979\n",
       "other_bus                     13761\n",
       "School Bus                    11300\n",
       "Motorcycle                    11025\n",
       "small_vehicle                  3778\n",
       "Name: BODY_TYPE_DESC, dtype: int64"
      ]
     },
     "execution_count": 101,
     "metadata": {},
     "output_type": "execute_result"
    }
   ],
   "source": [
    "df_cars_clean.BODY_TYPE_DESC.value_counts()"
   ]
  },
  {
   "cell_type": "code",
   "execution_count": 102,
   "metadata": {},
   "outputs": [
    {
     "data": {
      "text/plain": [
       "12"
      ]
     },
     "execution_count": 102,
     "metadata": {},
     "output_type": "execute_result"
    }
   ],
   "source": [
    "df_cars_clean.BODY_TYPE_DESC.nunique()"
   ]
  },
  {
   "cell_type": "code",
   "execution_count": 103,
   "metadata": {},
   "outputs": [
    {
     "data": {
      "text/plain": [
       "Moving Constant Speed        652817\n",
       "not_in_motion                288061\n",
       "Slowing or Stopping          218163\n",
       "turn_left_right_u            137613\n",
       "Accelerating                  98710\n",
       "other                         70001\n",
       "slow_in_motion                57683\n",
       "changing_lanes                52644\n",
       "Backing                       40408\n",
       "Skidding                      12238\n",
       "Negotiating a Curve            7311\n",
       "Driverless Moving Vehicle      1175\n",
       "Right Turn on Red              1113\n",
       "Name: MOVEMENT_DESC, dtype: int64"
      ]
     },
     "execution_count": 103,
     "metadata": {},
     "output_type": "execute_result"
    }
   ],
   "source": [
    "df_cars_clean['MOVEMENT_DESC'].value_counts()"
   ]
  },
  {
   "cell_type": "code",
   "execution_count": 104,
   "metadata": {},
   "outputs": [
    {
     "data": {
      "text/plain": [
       "passenger_car               1054914\n",
       "suv                          179455\n",
       "other                        116935\n",
       "Pickup Truck                 102186\n",
       "comm_truck                    59933\n",
       "Van                           50457\n",
       "em_vehicle                    19214\n",
       "em_vehicle_non_emergency      14979\n",
       "other_bus                     13761\n",
       "School Bus                    11300\n",
       "Motorcycle                    11025\n",
       "small_vehicle                  3778\n",
       "Name: BODY_TYPE_DESC, dtype: int64"
      ]
     },
     "execution_count": 104,
     "metadata": {},
     "output_type": "execute_result"
    }
   ],
   "source": [
    "df_cars_clean.BODY_TYPE_DESC.value_counts()"
   ]
  },
  {
   "cell_type": "code",
   "execution_count": 105,
   "metadata": {},
   "outputs": [
    {
     "data": {
      "text/plain": [
       "Disabling      570427\n",
       "Superficial    409298\n",
       "Functional     404260\n",
       "Other          117800\n",
       "Destroyed       89733\n",
       "No Damage       46419\n",
       "Name: DAMAGE_DESC, dtype: int64"
      ]
     },
     "execution_count": 105,
     "metadata": {},
     "output_type": "execute_result"
    }
   ],
   "source": [
    "df_cars_clean.DAMAGE_DESC.value_counts()"
   ]
  },
  {
   "attachments": {},
   "cell_type": "markdown",
   "metadata": {},
   "source": [
    "# Combining df_cars_clean with "
   ]
  },
  {
   "cell_type": "code",
   "execution_count": 106,
   "metadata": {},
   "outputs": [
    {
     "data": {
      "text/plain": [
       "REPORT_NO              767606\n",
       "YEAR                        7\n",
       "QUARTER                     4\n",
       "LIGHT_DESC                  6\n",
       "COUNTY_DESC                25\n",
       "JUNCTION_DESC               8\n",
       "COLLISION_TYPE_DESC         7\n",
       "SURF_COND_DESC              4\n",
       "RD_COND_DESC                5\n",
       "RD_DIV_DESC                 5\n",
       "FIX_OBJ_DESC                9\n",
       "WEATHER_DESC                7\n",
       "ACC_DATE                 2557\n",
       "ACC_TIME                 1490\n",
       "HARM_EVENT_DESC1           10\n",
       "HARM_EVENT_DESC2            9\n",
       "DISTANCE_DIR_FLAG           5\n",
       "LATITUDE               680152\n",
       "LONGITUDE              677958\n",
       "REPORT_TYPE                 3\n",
       "dtype: int64"
      ]
     },
     "execution_count": 106,
     "metadata": {},
     "output_type": "execute_result"
    }
   ],
   "source": [
    "df_crash_sum_clean1.nunique()"
   ]
  },
  {
   "cell_type": "code",
   "execution_count": 107,
   "metadata": {},
   "outputs": [
    {
     "data": {
      "text/plain": [
       "REPORT_NO           878118\n",
       "VEH_MAKE              8713\n",
       "DAMAGE_DESC              6\n",
       "COMMERCIAL_FLAG          2\n",
       "BODY_TYPE_DESC          12\n",
       "FIRE_FLAG                4\n",
       "PARKED_FLAG              2\n",
       "SPEED_LIMIT             16\n",
       "HIT_AND_RUN_FLAG         3\n",
       "MOVEMENT_DESC           13\n",
       "dtype: int64"
      ]
     },
     "execution_count": 107,
     "metadata": {},
     "output_type": "execute_result"
    }
   ],
   "source": [
    "df_cars_clean.nunique()"
   ]
  },
  {
   "cell_type": "code",
   "execution_count": 108,
   "metadata": {},
   "outputs": [
    {
     "name": "stdout",
     "output_type": "stream",
     "text": [
      "<class 'pandas.core.frame.DataFrame'>\n",
      "RangeIndex: 1637937 entries, 0 to 1637936\n",
      "Data columns (total 10 columns):\n",
      " #   Column            Non-Null Count    Dtype \n",
      "---  ------            --------------    ----- \n",
      " 0   REPORT_NO         1637937 non-null  object\n",
      " 1   VEH_MAKE          1637937 non-null  object\n",
      " 2   DAMAGE_DESC       1637937 non-null  object\n",
      " 3   COMMERCIAL_FLAG   1637937 non-null  object\n",
      " 4   BODY_TYPE_DESC    1637937 non-null  object\n",
      " 5   FIRE_FLAG         1637937 non-null  object\n",
      " 6   PARKED_FLAG       1637937 non-null  object\n",
      " 7   SPEED_LIMIT       1637937 non-null  int64 \n",
      " 8   HIT_AND_RUN_FLAG  1637937 non-null  object\n",
      " 9   MOVEMENT_DESC     1637937 non-null  object\n",
      "dtypes: int64(1), object(9)\n",
      "memory usage: 125.0+ MB\n"
     ]
    }
   ],
   "source": [
    "df_cars_clean.info()"
   ]
  },
  {
   "attachments": {},
   "cell_type": "markdown",
   "metadata": {},
   "source": [
    "## Merge Practice"
   ]
  },
  {
   "cell_type": "code",
   "execution_count": 109,
   "metadata": {},
   "outputs": [],
   "source": [
    "df_summary_cars = pd.merge(df_crash_sum_clean1, df_cars_clean, how = 'inner', on='REPORT_NO')"
   ]
  },
  {
   "cell_type": "code",
   "execution_count": 110,
   "metadata": {},
   "outputs": [
    {
     "name": "stdout",
     "output_type": "stream",
     "text": [
      "<class 'pandas.core.frame.DataFrame'>\n",
      "Int64Index: 1433130 entries, 0 to 1433129\n",
      "Data columns (total 29 columns):\n",
      " #   Column               Non-Null Count    Dtype  \n",
      "---  ------               --------------    -----  \n",
      " 0   REPORT_NO            1433130 non-null  object \n",
      " 1   YEAR                 1433130 non-null  int64  \n",
      " 2   QUARTER              1433130 non-null  object \n",
      " 3   LIGHT_DESC           1433130 non-null  object \n",
      " 4   COUNTY_DESC          1433130 non-null  object \n",
      " 5   JUNCTION_DESC        1433130 non-null  object \n",
      " 6   COLLISION_TYPE_DESC  1433130 non-null  object \n",
      " 7   SURF_COND_DESC       1433130 non-null  object \n",
      " 8   RD_COND_DESC         1433130 non-null  object \n",
      " 9   RD_DIV_DESC          1433130 non-null  object \n",
      " 10  FIX_OBJ_DESC         1433130 non-null  object \n",
      " 11  WEATHER_DESC         1433130 non-null  object \n",
      " 12  ACC_DATE             1433130 non-null  int64  \n",
      " 13  ACC_TIME             1433130 non-null  object \n",
      " 14  HARM_EVENT_DESC1     1433130 non-null  object \n",
      " 15  HARM_EVENT_DESC2     1433130 non-null  object \n",
      " 16  DISTANCE_DIR_FLAG    1433130 non-null  object \n",
      " 17  LATITUDE             1433130 non-null  float64\n",
      " 18  LONGITUDE            1433130 non-null  float64\n",
      " 19  REPORT_TYPE          1433130 non-null  object \n",
      " 20  VEH_MAKE             1433130 non-null  object \n",
      " 21  DAMAGE_DESC          1433130 non-null  object \n",
      " 22  COMMERCIAL_FLAG      1433130 non-null  object \n",
      " 23  BODY_TYPE_DESC       1433130 non-null  object \n",
      " 24  FIRE_FLAG            1433130 non-null  object \n",
      " 25  PARKED_FLAG          1433130 non-null  object \n",
      " 26  SPEED_LIMIT          1433130 non-null  int64  \n",
      " 27  HIT_AND_RUN_FLAG     1433130 non-null  object \n",
      " 28  MOVEMENT_DESC        1433130 non-null  object \n",
      "dtypes: float64(2), int64(3), object(24)\n",
      "memory usage: 328.0+ MB\n"
     ]
    }
   ],
   "source": [
    "df_summary_cars.info()"
   ]
  },
  {
   "attachments": {},
   "cell_type": "markdown",
   "metadata": {},
   "source": [
    "# Work on DF_People"
   ]
  },
  {
   "cell_type": "code",
   "execution_count": 111,
   "metadata": {},
   "outputs": [
    {
     "data": {
      "text/html": [
       "<div>\n",
       "<style scoped>\n",
       "    .dataframe tbody tr th:only-of-type {\n",
       "        vertical-align: middle;\n",
       "    }\n",
       "\n",
       "    .dataframe tbody tr th {\n",
       "        vertical-align: top;\n",
       "    }\n",
       "\n",
       "    .dataframe thead th {\n",
       "        text-align: right;\n",
       "    }\n",
       "</style>\n",
       "<table border=\"1\" class=\"dataframe\">\n",
       "  <thead>\n",
       "    <tr style=\"text-align: right;\">\n",
       "      <th></th>\n",
       "      <th>SEX_DESC</th>\n",
       "      <th>SEX_CODE</th>\n",
       "      <th>CONDITION_DESC</th>\n",
       "      <th>CONDITION_CODE</th>\n",
       "      <th>INJ_SEVER_DESC</th>\n",
       "      <th>INJ_SEVER_CODE</th>\n",
       "      <th>REPORT_NO</th>\n",
       "      <th>OCC_SEAT_POS_DESC</th>\n",
       "      <th>OCC_SEAT_POS_CODE</th>\n",
       "      <th>PED_VISIBLE_DESC</th>\n",
       "      <th>PED_VISIBLE_CODE</th>\n",
       "      <th>PED_OBEY_DESC</th>\n",
       "      <th>PED_OBEY_CODE</th>\n",
       "      <th>PED_TYPE_DESC</th>\n",
       "      <th>PED_TYPE_CODE</th>\n",
       "      <th>PED_LOCATION_CODE</th>\n",
       "      <th>MOVEMENT_DESC</th>\n",
       "      <th>MOVEMENT_CODE</th>\n",
       "      <th>PERSON_TYPE_DESC</th>\n",
       "      <th>PERSON_TYPE</th>\n",
       "      <th>ALCOHOL_TEST_DESC</th>\n",
       "      <th>ALCOHOL_TEST_CODE</th>\n",
       "      <th>ALCOHOL_TESTTYPE_DESC</th>\n",
       "      <th>ALCOHOL_TESTTYPE_CODE</th>\n",
       "      <th>DRUG_TEST_DESC</th>\n",
       "      <th>DRUG_TEST_CODE</th>\n",
       "      <th>DRUG_TESTRESULT_DESC</th>\n",
       "      <th>DRUG_TESTRESULT_CODE</th>\n",
       "      <th>BAC_CODE</th>\n",
       "      <th>FAULT_FLAG_DESC</th>\n",
       "      <th>FAULT_FLAG</th>\n",
       "      <th>EQUIP_PROB_DESC</th>\n",
       "      <th>EQUIP_PROB_CODE</th>\n",
       "      <th>SAF_EQUIP_DESC</th>\n",
       "      <th>SAF_EQUIP_CODE</th>\n",
       "      <th>EJECT_DESC</th>\n",
       "      <th>EJECT_CODE</th>\n",
       "      <th>DATE_OF_BIRTH</th>\n",
       "      <th>PERSON_ID</th>\n",
       "      <th>LICENSE_STATE_CODE</th>\n",
       "      <th>CLASS</th>\n",
       "      <th>CDL_FLAG_DESC</th>\n",
       "      <th>CDL_FLAG</th>\n",
       "      <th>VEHICLE_ID</th>\n",
       "      <th>EMS_UNIT_LABEL</th>\n",
       "      <th>AIRBAG_DEPLOYED</th>\n",
       "      <th>YEAR</th>\n",
       "      <th>Quarter</th>\n",
       "    </tr>\n",
       "  </thead>\n",
       "  <tbody>\n",
       "    <tr>\n",
       "      <th>1525710</th>\n",
       "      <td>Male</td>\n",
       "      <td>M</td>\n",
       "      <td>Apparently Normal</td>\n",
       "      <td>1.0</td>\n",
       "      <td>Non-incapacitating Injury</td>\n",
       "      <td>2.0</td>\n",
       "      <td>ADI002005T</td>\n",
       "      <td>NaN</td>\n",
       "      <td>NaN</td>\n",
       "      <td>NaN</td>\n",
       "      <td>NaN</td>\n",
       "      <td>NaN</td>\n",
       "      <td>NaN</td>\n",
       "      <td>NaN</td>\n",
       "      <td>NaN</td>\n",
       "      <td>NaN</td>\n",
       "      <td>NaN</td>\n",
       "      <td>NaN</td>\n",
       "      <td>Driver</td>\n",
       "      <td>D</td>\n",
       "      <td>Not Applicable</td>\n",
       "      <td>0.0</td>\n",
       "      <td>NaN</td>\n",
       "      <td>NaN</td>\n",
       "      <td>Not Applicable</td>\n",
       "      <td>0.0</td>\n",
       "      <td>NaN</td>\n",
       "      <td>NaN</td>\n",
       "      <td>NaN</td>\n",
       "      <td>True</td>\n",
       "      <td>Y</td>\n",
       "      <td>No Misuse</td>\n",
       "      <td>1.0</td>\n",
       "      <td>Shoulder/Lap Belt(s)</td>\n",
       "      <td>13.0</td>\n",
       "      <td>Not Applicable</td>\n",
       "      <td>0.0</td>\n",
       "      <td>20000531</td>\n",
       "      <td>fb1e8bf8-23bd-42c5-85e9-eab57ced3034</td>\n",
       "      <td>MD</td>\n",
       "      <td>C</td>\n",
       "      <td>False</td>\n",
       "      <td>False</td>\n",
       "      <td>ae871e80-feba-4a0b-901d-3e09926b9411</td>\n",
       "      <td>NaN</td>\n",
       "      <td>4.0</td>\n",
       "      <td>2021</td>\n",
       "      <td>Q1</td>\n",
       "    </tr>\n",
       "    <tr>\n",
       "      <th>652008</th>\n",
       "      <td>Female</td>\n",
       "      <td>F</td>\n",
       "      <td>Apparently Normal</td>\n",
       "      <td>1.0</td>\n",
       "      <td>No Injury</td>\n",
       "      <td>1.0</td>\n",
       "      <td>MCP27360035</td>\n",
       "      <td>NaN</td>\n",
       "      <td>NaN</td>\n",
       "      <td>NaN</td>\n",
       "      <td>NaN</td>\n",
       "      <td>NaN</td>\n",
       "      <td>NaN</td>\n",
       "      <td>NaN</td>\n",
       "      <td>NaN</td>\n",
       "      <td>NaN</td>\n",
       "      <td>NaN</td>\n",
       "      <td>NaN</td>\n",
       "      <td>Driver</td>\n",
       "      <td>D</td>\n",
       "      <td>Not Applicable</td>\n",
       "      <td>0.0</td>\n",
       "      <td>NaN</td>\n",
       "      <td>NaN</td>\n",
       "      <td>Not Applicable</td>\n",
       "      <td>0.0</td>\n",
       "      <td>NaN</td>\n",
       "      <td>NaN</td>\n",
       "      <td>NaN</td>\n",
       "      <td>True</td>\n",
       "      <td>Y</td>\n",
       "      <td>No Misuse</td>\n",
       "      <td>1.0</td>\n",
       "      <td>Shoulder/Lap Belt(s)</td>\n",
       "      <td>13.0</td>\n",
       "      <td>Not Ejected/Trapped</td>\n",
       "      <td>1.0</td>\n",
       "      <td>21-JUL-34</td>\n",
       "      <td>1605f3b6-733a-4e84-b733-18e446a225d1</td>\n",
       "      <td>MD</td>\n",
       "      <td>NaN</td>\n",
       "      <td>False</td>\n",
       "      <td>False</td>\n",
       "      <td>7903cac3-0cde-4ce0-8470-dbbf96b4640b</td>\n",
       "      <td>NaN</td>\n",
       "      <td>NaN</td>\n",
       "      <td>2015</td>\n",
       "      <td>Q4</td>\n",
       "    </tr>\n",
       "    <tr>\n",
       "      <th>842596</th>\n",
       "      <td>Female</td>\n",
       "      <td>F</td>\n",
       "      <td>NaN</td>\n",
       "      <td>NaN</td>\n",
       "      <td>No Injury</td>\n",
       "      <td>1.0</td>\n",
       "      <td>MCP94160006</td>\n",
       "      <td>Right Front Seat</td>\n",
       "      <td>3.0</td>\n",
       "      <td>NaN</td>\n",
       "      <td>NaN</td>\n",
       "      <td>NaN</td>\n",
       "      <td>NaN</td>\n",
       "      <td>NaN</td>\n",
       "      <td>NaN</td>\n",
       "      <td>NaN</td>\n",
       "      <td>NaN</td>\n",
       "      <td>NaN</td>\n",
       "      <td>Occupant</td>\n",
       "      <td>O</td>\n",
       "      <td>NaN</td>\n",
       "      <td>NaN</td>\n",
       "      <td>NaN</td>\n",
       "      <td>NaN</td>\n",
       "      <td>NaN</td>\n",
       "      <td>NaN</td>\n",
       "      <td>NaN</td>\n",
       "      <td>NaN</td>\n",
       "      <td>NaN</td>\n",
       "      <td>NaN</td>\n",
       "      <td>NaN</td>\n",
       "      <td>No Misuse</td>\n",
       "      <td>1.0</td>\n",
       "      <td>Shoulder/Lap Belt(s)</td>\n",
       "      <td>13.0</td>\n",
       "      <td>Not Ejected/Trapped</td>\n",
       "      <td>1.0</td>\n",
       "      <td>25-SEP-84  00:00:00</td>\n",
       "      <td>54cf4c6c-995d-4c0e-9c76-8610fb8d03cd</td>\n",
       "      <td>NaN</td>\n",
       "      <td>NaN</td>\n",
       "      <td>NaN</td>\n",
       "      <td>NaN</td>\n",
       "      <td>5e7d329d-4f84-4d70-a450-550b0d520c49</td>\n",
       "      <td>NaN</td>\n",
       "      <td>1.0</td>\n",
       "      <td>2016</td>\n",
       "      <td>Q3</td>\n",
       "    </tr>\n",
       "    <tr>\n",
       "      <th>1507306</th>\n",
       "      <td>Female</td>\n",
       "      <td>F</td>\n",
       "      <td>Apparently Normal</td>\n",
       "      <td>1.0</td>\n",
       "      <td>No Injury</td>\n",
       "      <td>1.0</td>\n",
       "      <td>ZU7852004J</td>\n",
       "      <td>NaN</td>\n",
       "      <td>NaN</td>\n",
       "      <td>NaN</td>\n",
       "      <td>NaN</td>\n",
       "      <td>NaN</td>\n",
       "      <td>NaN</td>\n",
       "      <td>NaN</td>\n",
       "      <td>NaN</td>\n",
       "      <td>NaN</td>\n",
       "      <td>NaN</td>\n",
       "      <td>NaN</td>\n",
       "      <td>Driver</td>\n",
       "      <td>D</td>\n",
       "      <td>Not Applicable</td>\n",
       "      <td>0.0</td>\n",
       "      <td>NaN</td>\n",
       "      <td>NaN</td>\n",
       "      <td>Not Applicable</td>\n",
       "      <td>0.0</td>\n",
       "      <td>NaN</td>\n",
       "      <td>NaN</td>\n",
       "      <td>NaN</td>\n",
       "      <td>False</td>\n",
       "      <td>N</td>\n",
       "      <td>No Misuse</td>\n",
       "      <td>1.0</td>\n",
       "      <td>Shoulder/Lap Belt(s)</td>\n",
       "      <td>13.0</td>\n",
       "      <td>Not Ejected/Trapped</td>\n",
       "      <td>1.0</td>\n",
       "      <td>19991025</td>\n",
       "      <td>74c658b3-f9b8-4057-a93f-78b8e1ef8e8f</td>\n",
       "      <td>MD</td>\n",
       "      <td>C</td>\n",
       "      <td>False</td>\n",
       "      <td>False</td>\n",
       "      <td>72377d7a-6f63-41e1-b43c-11b651cd8687</td>\n",
       "      <td>NaN</td>\n",
       "      <td>1.0</td>\n",
       "      <td>2021</td>\n",
       "      <td>Q1</td>\n",
       "    </tr>\n",
       "  </tbody>\n",
       "</table>\n",
       "</div>"
      ],
      "text/plain": [
       "        SEX_DESC SEX_CODE     CONDITION_DESC  CONDITION_CODE  \\\n",
       "1525710     Male        M  Apparently Normal             1.0   \n",
       "652008    Female        F  Apparently Normal             1.0   \n",
       "842596    Female        F                NaN             NaN   \n",
       "1507306   Female        F  Apparently Normal             1.0   \n",
       "\n",
       "                    INJ_SEVER_DESC  INJ_SEVER_CODE    REPORT_NO  \\\n",
       "1525710  Non-incapacitating Injury             2.0   ADI002005T   \n",
       "652008                   No Injury             1.0  MCP27360035   \n",
       "842596                   No Injury             1.0  MCP94160006   \n",
       "1507306                  No Injury             1.0   ZU7852004J   \n",
       "\n",
       "        OCC_SEAT_POS_DESC  OCC_SEAT_POS_CODE PED_VISIBLE_DESC  \\\n",
       "1525710               NaN                NaN              NaN   \n",
       "652008                NaN                NaN              NaN   \n",
       "842596   Right Front Seat                3.0              NaN   \n",
       "1507306               NaN                NaN              NaN   \n",
       "\n",
       "         PED_VISIBLE_CODE PED_OBEY_DESC  PED_OBEY_CODE PED_TYPE_DESC  \\\n",
       "1525710               NaN           NaN            NaN           NaN   \n",
       "652008                NaN           NaN            NaN           NaN   \n",
       "842596                NaN           NaN            NaN           NaN   \n",
       "1507306               NaN           NaN            NaN           NaN   \n",
       "\n",
       "         PED_TYPE_CODE  PED_LOCATION_CODE MOVEMENT_DESC  MOVEMENT_CODE  \\\n",
       "1525710            NaN                NaN           NaN            NaN   \n",
       "652008             NaN                NaN           NaN            NaN   \n",
       "842596             NaN                NaN           NaN            NaN   \n",
       "1507306            NaN                NaN           NaN            NaN   \n",
       "\n",
       "        PERSON_TYPE_DESC PERSON_TYPE ALCOHOL_TEST_DESC  ALCOHOL_TEST_CODE  \\\n",
       "1525710           Driver           D    Not Applicable                0.0   \n",
       "652008            Driver           D    Not Applicable                0.0   \n",
       "842596          Occupant           O               NaN                NaN   \n",
       "1507306           Driver           D    Not Applicable                0.0   \n",
       "\n",
       "        ALCOHOL_TESTTYPE_DESC  ALCOHOL_TESTTYPE_CODE  DRUG_TEST_DESC  \\\n",
       "1525710                   NaN                    NaN  Not Applicable   \n",
       "652008                    NaN                    NaN  Not Applicable   \n",
       "842596                    NaN                    NaN             NaN   \n",
       "1507306                   NaN                    NaN  Not Applicable   \n",
       "\n",
       "         DRUG_TEST_CODE DRUG_TESTRESULT_DESC DRUG_TESTRESULT_CODE  BAC_CODE  \\\n",
       "1525710             0.0                  NaN                  NaN       NaN   \n",
       "652008              0.0                  NaN                  NaN       NaN   \n",
       "842596              NaN                  NaN                  NaN       NaN   \n",
       "1507306             0.0                  NaN                  NaN       NaN   \n",
       "\n",
       "        FAULT_FLAG_DESC FAULT_FLAG EQUIP_PROB_DESC  EQUIP_PROB_CODE  \\\n",
       "1525710            True          Y       No Misuse              1.0   \n",
       "652008             True          Y       No Misuse              1.0   \n",
       "842596              NaN        NaN       No Misuse              1.0   \n",
       "1507306           False          N       No Misuse              1.0   \n",
       "\n",
       "               SAF_EQUIP_DESC  SAF_EQUIP_CODE           EJECT_DESC  \\\n",
       "1525710  Shoulder/Lap Belt(s)            13.0       Not Applicable   \n",
       "652008   Shoulder/Lap Belt(s)            13.0  Not Ejected/Trapped   \n",
       "842596   Shoulder/Lap Belt(s)            13.0  Not Ejected/Trapped   \n",
       "1507306  Shoulder/Lap Belt(s)            13.0  Not Ejected/Trapped   \n",
       "\n",
       "         EJECT_CODE        DATE_OF_BIRTH  \\\n",
       "1525710         0.0             20000531   \n",
       "652008          1.0            21-JUL-34   \n",
       "842596          1.0  25-SEP-84  00:00:00   \n",
       "1507306         1.0             19991025   \n",
       "\n",
       "                                    PERSON_ID LICENSE_STATE_CODE CLASS  \\\n",
       "1525710  fb1e8bf8-23bd-42c5-85e9-eab57ced3034                 MD     C   \n",
       "652008   1605f3b6-733a-4e84-b733-18e446a225d1                 MD   NaN   \n",
       "842596   54cf4c6c-995d-4c0e-9c76-8610fb8d03cd                NaN   NaN   \n",
       "1507306  74c658b3-f9b8-4057-a93f-78b8e1ef8e8f                 MD     C   \n",
       "\n",
       "        CDL_FLAG_DESC CDL_FLAG                            VEHICLE_ID  \\\n",
       "1525710         False    False  ae871e80-feba-4a0b-901d-3e09926b9411   \n",
       "652008          False    False  7903cac3-0cde-4ce0-8470-dbbf96b4640b   \n",
       "842596            NaN      NaN  5e7d329d-4f84-4d70-a450-550b0d520c49   \n",
       "1507306         False    False  72377d7a-6f63-41e1-b43c-11b651cd8687   \n",
       "\n",
       "        EMS_UNIT_LABEL  AIRBAG_DEPLOYED  YEAR Quarter  \n",
       "1525710            NaN              4.0  2021      Q1  \n",
       "652008             NaN              NaN  2015      Q4  \n",
       "842596             NaN              1.0  2016      Q3  \n",
       "1507306            NaN              1.0  2021      Q1  "
      ]
     },
     "execution_count": 111,
     "metadata": {},
     "output_type": "execute_result"
    }
   ],
   "source": [
    "df_people.sample(4)"
   ]
  },
  {
   "attachments": {},
   "cell_type": "markdown",
   "metadata": {},
   "source": [
    "## Choose columns to keep \n"
   ]
  },
  {
   "cell_type": "code",
   "execution_count": 112,
   "metadata": {},
   "outputs": [],
   "source": [
    "cols_to_keep_peep = ['REPORT_NO', 'SEX_CODE', 'CONDITION_DESC', 'INJ_SEVER_DESC', 'PERSON_TYPE', 'ALCOHOL_TEST_DESC', 'ALCOHOL_TESTTYPE_DESC', 'DRUG_TEST_DESC', 'DRUG_TESTRESULT_DESC', 'FAULT_FLAG', 'EQUIP_PROB_DESC', 'EJECT_DESC', 'LICENSE_STATE_CODE', 'AIRBAG_DEPLOYED']"
   ]
  },
  {
   "cell_type": "code",
   "execution_count": 113,
   "metadata": {},
   "outputs": [],
   "source": [
    "df_people_clean = df_people[cols_to_keep_peep]"
   ]
  },
  {
   "cell_type": "code",
   "execution_count": 114,
   "metadata": {},
   "outputs": [
    {
     "data": {
      "text/html": [
       "<div>\n",
       "<style scoped>\n",
       "    .dataframe tbody tr th:only-of-type {\n",
       "        vertical-align: middle;\n",
       "    }\n",
       "\n",
       "    .dataframe tbody tr th {\n",
       "        vertical-align: top;\n",
       "    }\n",
       "\n",
       "    .dataframe thead th {\n",
       "        text-align: right;\n",
       "    }\n",
       "</style>\n",
       "<table border=\"1\" class=\"dataframe\">\n",
       "  <thead>\n",
       "    <tr style=\"text-align: right;\">\n",
       "      <th></th>\n",
       "      <th>REPORT_NO</th>\n",
       "      <th>SEX_CODE</th>\n",
       "      <th>CONDITION_DESC</th>\n",
       "      <th>INJ_SEVER_DESC</th>\n",
       "      <th>PERSON_TYPE</th>\n",
       "      <th>ALCOHOL_TEST_DESC</th>\n",
       "      <th>ALCOHOL_TESTTYPE_DESC</th>\n",
       "      <th>DRUG_TEST_DESC</th>\n",
       "      <th>DRUG_TESTRESULT_DESC</th>\n",
       "      <th>FAULT_FLAG</th>\n",
       "      <th>EQUIP_PROB_DESC</th>\n",
       "      <th>EJECT_DESC</th>\n",
       "      <th>LICENSE_STATE_CODE</th>\n",
       "      <th>AIRBAG_DEPLOYED</th>\n",
       "    </tr>\n",
       "  </thead>\n",
       "  <tbody>\n",
       "    <tr>\n",
       "      <th>0</th>\n",
       "      <td>AE59920005</td>\n",
       "      <td>F</td>\n",
       "      <td>Apparently Normal</td>\n",
       "      <td>No Injury</td>\n",
       "      <td>D</td>\n",
       "      <td>Not Applicable</td>\n",
       "      <td>NaN</td>\n",
       "      <td>Not Applicable</td>\n",
       "      <td>NaN</td>\n",
       "      <td>N</td>\n",
       "      <td>Not Applicable</td>\n",
       "      <td>Not Applicable</td>\n",
       "      <td>MD</td>\n",
       "      <td>0.0</td>\n",
       "    </tr>\n",
       "    <tr>\n",
       "      <th>1</th>\n",
       "      <td>DA40650004</td>\n",
       "      <td>M</td>\n",
       "      <td>NaN</td>\n",
       "      <td>Non-incapacitating Injury</td>\n",
       "      <td>O</td>\n",
       "      <td>NaN</td>\n",
       "      <td>NaN</td>\n",
       "      <td>NaN</td>\n",
       "      <td>NaN</td>\n",
       "      <td>NaN</td>\n",
       "      <td>Not Applicable</td>\n",
       "      <td>Not Ejected/Trapped</td>\n",
       "      <td>NaN</td>\n",
       "      <td>1.0</td>\n",
       "    </tr>\n",
       "    <tr>\n",
       "      <th>2</th>\n",
       "      <td>ZU7729000P</td>\n",
       "      <td>F</td>\n",
       "      <td>NaN</td>\n",
       "      <td>Possible Incapacitating Injury</td>\n",
       "      <td>O</td>\n",
       "      <td>NaN</td>\n",
       "      <td>NaN</td>\n",
       "      <td>NaN</td>\n",
       "      <td>NaN</td>\n",
       "      <td>NaN</td>\n",
       "      <td>No Misuse</td>\n",
       "      <td>Not Ejected/Trapped</td>\n",
       "      <td>NaN</td>\n",
       "      <td>1.0</td>\n",
       "    </tr>\n",
       "  </tbody>\n",
       "</table>\n",
       "</div>"
      ],
      "text/plain": [
       "    REPORT_NO SEX_CODE     CONDITION_DESC                  INJ_SEVER_DESC  \\\n",
       "0  AE59920005        F  Apparently Normal                       No Injury   \n",
       "1  DA40650004        M                NaN       Non-incapacitating Injury   \n",
       "2  ZU7729000P        F                NaN  Possible Incapacitating Injury   \n",
       "\n",
       "  PERSON_TYPE ALCOHOL_TEST_DESC ALCOHOL_TESTTYPE_DESC  DRUG_TEST_DESC  \\\n",
       "0           D    Not Applicable                   NaN  Not Applicable   \n",
       "1           O               NaN                   NaN             NaN   \n",
       "2           O               NaN                   NaN             NaN   \n",
       "\n",
       "  DRUG_TESTRESULT_DESC FAULT_FLAG EQUIP_PROB_DESC           EJECT_DESC  \\\n",
       "0                  NaN          N  Not Applicable       Not Applicable   \n",
       "1                  NaN        NaN  Not Applicable  Not Ejected/Trapped   \n",
       "2                  NaN        NaN       No Misuse  Not Ejected/Trapped   \n",
       "\n",
       "  LICENSE_STATE_CODE  AIRBAG_DEPLOYED  \n",
       "0                 MD              0.0  \n",
       "1                NaN              1.0  \n",
       "2                NaN              1.0  "
      ]
     },
     "execution_count": 114,
     "metadata": {},
     "output_type": "execute_result"
    }
   ],
   "source": [
    "df_people_clean.head(3)"
   ]
  },
  {
   "cell_type": "code",
   "execution_count": 115,
   "metadata": {},
   "outputs": [],
   "source": [
    "df_people_clean = df_people_clean.fillna('Unknown')"
   ]
  },
  {
   "cell_type": "code",
   "execution_count": 116,
   "metadata": {},
   "outputs": [
    {
     "data": {
      "text/html": [
       "<div>\n",
       "<style scoped>\n",
       "    .dataframe tbody tr th:only-of-type {\n",
       "        vertical-align: middle;\n",
       "    }\n",
       "\n",
       "    .dataframe tbody tr th {\n",
       "        vertical-align: top;\n",
       "    }\n",
       "\n",
       "    .dataframe thead th {\n",
       "        text-align: right;\n",
       "    }\n",
       "</style>\n",
       "<table border=\"1\" class=\"dataframe\">\n",
       "  <thead>\n",
       "    <tr style=\"text-align: right;\">\n",
       "      <th></th>\n",
       "      <th>REPORT_NO</th>\n",
       "      <th>SEX_CODE</th>\n",
       "      <th>CONDITION_DESC</th>\n",
       "      <th>INJ_SEVER_DESC</th>\n",
       "      <th>PERSON_TYPE</th>\n",
       "      <th>ALCOHOL_TEST_DESC</th>\n",
       "      <th>ALCOHOL_TESTTYPE_DESC</th>\n",
       "      <th>DRUG_TEST_DESC</th>\n",
       "      <th>DRUG_TESTRESULT_DESC</th>\n",
       "      <th>FAULT_FLAG</th>\n",
       "      <th>EQUIP_PROB_DESC</th>\n",
       "      <th>EJECT_DESC</th>\n",
       "      <th>LICENSE_STATE_CODE</th>\n",
       "      <th>AIRBAG_DEPLOYED</th>\n",
       "    </tr>\n",
       "  </thead>\n",
       "  <tbody>\n",
       "    <tr>\n",
       "      <th>0</th>\n",
       "      <td>AE59920005</td>\n",
       "      <td>F</td>\n",
       "      <td>Apparently Normal</td>\n",
       "      <td>No Injury</td>\n",
       "      <td>D</td>\n",
       "      <td>Not Applicable</td>\n",
       "      <td>Unknown</td>\n",
       "      <td>Not Applicable</td>\n",
       "      <td>Unknown</td>\n",
       "      <td>N</td>\n",
       "      <td>Not Applicable</td>\n",
       "      <td>Not Applicable</td>\n",
       "      <td>MD</td>\n",
       "      <td>0.0</td>\n",
       "    </tr>\n",
       "    <tr>\n",
       "      <th>1</th>\n",
       "      <td>DA40650004</td>\n",
       "      <td>M</td>\n",
       "      <td>Unknown</td>\n",
       "      <td>Non-incapacitating Injury</td>\n",
       "      <td>O</td>\n",
       "      <td>Unknown</td>\n",
       "      <td>Unknown</td>\n",
       "      <td>Unknown</td>\n",
       "      <td>Unknown</td>\n",
       "      <td>Unknown</td>\n",
       "      <td>Not Applicable</td>\n",
       "      <td>Not Ejected/Trapped</td>\n",
       "      <td>Unknown</td>\n",
       "      <td>1.0</td>\n",
       "    </tr>\n",
       "    <tr>\n",
       "      <th>2</th>\n",
       "      <td>ZU7729000P</td>\n",
       "      <td>F</td>\n",
       "      <td>Unknown</td>\n",
       "      <td>Possible Incapacitating Injury</td>\n",
       "      <td>O</td>\n",
       "      <td>Unknown</td>\n",
       "      <td>Unknown</td>\n",
       "      <td>Unknown</td>\n",
       "      <td>Unknown</td>\n",
       "      <td>Unknown</td>\n",
       "      <td>No Misuse</td>\n",
       "      <td>Not Ejected/Trapped</td>\n",
       "      <td>Unknown</td>\n",
       "      <td>1.0</td>\n",
       "    </tr>\n",
       "  </tbody>\n",
       "</table>\n",
       "</div>"
      ],
      "text/plain": [
       "    REPORT_NO SEX_CODE     CONDITION_DESC                  INJ_SEVER_DESC  \\\n",
       "0  AE59920005        F  Apparently Normal                       No Injury   \n",
       "1  DA40650004        M            Unknown       Non-incapacitating Injury   \n",
       "2  ZU7729000P        F            Unknown  Possible Incapacitating Injury   \n",
       "\n",
       "  PERSON_TYPE ALCOHOL_TEST_DESC ALCOHOL_TESTTYPE_DESC  DRUG_TEST_DESC  \\\n",
       "0           D    Not Applicable               Unknown  Not Applicable   \n",
       "1           O           Unknown               Unknown         Unknown   \n",
       "2           O           Unknown               Unknown         Unknown   \n",
       "\n",
       "  DRUG_TESTRESULT_DESC FAULT_FLAG EQUIP_PROB_DESC           EJECT_DESC  \\\n",
       "0              Unknown          N  Not Applicable       Not Applicable   \n",
       "1              Unknown    Unknown  Not Applicable  Not Ejected/Trapped   \n",
       "2              Unknown    Unknown       No Misuse  Not Ejected/Trapped   \n",
       "\n",
       "  LICENSE_STATE_CODE AIRBAG_DEPLOYED  \n",
       "0                 MD             0.0  \n",
       "1            Unknown             1.0  \n",
       "2            Unknown             1.0  "
      ]
     },
     "execution_count": 116,
     "metadata": {},
     "output_type": "execute_result"
    }
   ],
   "source": [
    "df_people_clean.head(3)"
   ]
  },
  {
   "attachments": {},
   "cell_type": "markdown",
   "metadata": {},
   "source": [
    "## Cleaning columns before join"
   ]
  },
  {
   "attachments": {},
   "cell_type": "markdown",
   "metadata": {},
   "source": [
    "### SEX_CODE"
   ]
  },
  {
   "cell_type": "code",
   "execution_count": 117,
   "metadata": {},
   "outputs": [
    {
     "data": {
      "text/plain": [
       "M          1023730\n",
       "F           776384\n",
       "Unknown     152087\n",
       "U            17906\n",
       "Name: SEX_CODE, dtype: int64"
      ]
     },
     "execution_count": 117,
     "metadata": {},
     "output_type": "execute_result"
    }
   ],
   "source": [
    "df_people_clean.SEX_CODE.value_counts()"
   ]
  },
  {
   "cell_type": "code",
   "execution_count": 118,
   "metadata": {},
   "outputs": [],
   "source": [
    "df_people_clean['SEX_CODE'] = df_people_clean['SEX_CODE'].replace(['U', 'Unknown'], 'U')\n"
   ]
  },
  {
   "cell_type": "code",
   "execution_count": 119,
   "metadata": {},
   "outputs": [
    {
     "data": {
      "text/plain": [
       "M    1023730\n",
       "F     776384\n",
       "U     169993\n",
       "Name: SEX_CODE, dtype: int64"
      ]
     },
     "execution_count": 119,
     "metadata": {},
     "output_type": "execute_result"
    }
   ],
   "source": [
    "df_people_clean.SEX_CODE.value_counts()"
   ]
  },
  {
   "attachments": {},
   "cell_type": "markdown",
   "metadata": {},
   "source": [
    "### CONDITION_DESC"
   ]
  },
  {
   "cell_type": "code",
   "execution_count": 120,
   "metadata": {},
   "outputs": [
    {
     "data": {
      "text/plain": [
       "Apparently Normal    1200285\n",
       "Unknown               606199\n",
       "Not Applicable        102743\n",
       "Had Been Drinking      38368\n",
       "Using Drugs             6778\n",
       "Other Handicaps         6442\n",
       "Fatigued Fainted        2904\n",
       "Apparently Asleep       2491\n",
       "Ill                     2119\n",
       "Physical Defects        1778\n",
       "Name: CONDITION_DESC, dtype: int64"
      ]
     },
     "execution_count": 120,
     "metadata": {},
     "output_type": "execute_result"
    }
   ],
   "source": [
    "df_people_clean.CONDITION_DESC.value_counts()"
   ]
  },
  {
   "cell_type": "code",
   "execution_count": 121,
   "metadata": {},
   "outputs": [],
   "source": [
    "df_people_clean['CONDITION_DESC'] = df_people_clean['CONDITION_DESC'].replace(['Not Applicable', 'Unknown'], 'Other')\n"
   ]
  },
  {
   "cell_type": "code",
   "execution_count": 122,
   "metadata": {},
   "outputs": [
    {
     "data": {
      "text/plain": [
       "Apparently Normal    1200285\n",
       "Other                 708942\n",
       "Had Been Drinking      38368\n",
       "Using Drugs             6778\n",
       "Other Handicaps         6442\n",
       "Fatigued Fainted        2904\n",
       "Apparently Asleep       2491\n",
       "Ill                     2119\n",
       "Physical Defects        1778\n",
       "Name: CONDITION_DESC, dtype: int64"
      ]
     },
     "execution_count": 122,
     "metadata": {},
     "output_type": "execute_result"
    }
   ],
   "source": [
    "df_people_clean.CONDITION_DESC.value_counts()"
   ]
  },
  {
   "attachments": {},
   "cell_type": "markdown",
   "metadata": {},
   "source": [
    "### INJ_SEVER_DESC"
   ]
  },
  {
   "cell_type": "code",
   "execution_count": 123,
   "metadata": {},
   "outputs": [
    {
     "data": {
      "text/plain": [
       "No Injury                         1606538\n",
       "Non-incapacitating Injury          193534\n",
       "Possible Incapacitating Injury     142722\n",
       "Incapacitating/Disabled Injury      23495\n",
       "Fatal Injury                         3817\n",
       "Unknown                                 1\n",
       "Name: INJ_SEVER_DESC, dtype: int64"
      ]
     },
     "execution_count": 123,
     "metadata": {},
     "output_type": "execute_result"
    }
   ],
   "source": [
    "df_people_clean.INJ_SEVER_DESC.value_counts()"
   ]
  },
  {
   "attachments": {},
   "cell_type": "markdown",
   "metadata": {},
   "source": [
    "### PERSON_TYPE"
   ]
  },
  {
   "cell_type": "code",
   "execution_count": 124,
   "metadata": {},
   "outputs": [
    {
     "data": {
      "text/plain": [
       "D    1477347\n",
       "O     457389\n",
       "P      35371\n",
       "Name: PERSON_TYPE, dtype: int64"
      ]
     },
     "execution_count": 124,
     "metadata": {},
     "output_type": "execute_result"
    }
   ],
   "source": [
    "df_people_clean.PERSON_TYPE.value_counts()"
   ]
  },
  {
   "attachments": {},
   "cell_type": "markdown",
   "metadata": {},
   "source": [
    "### ALCOHOL_TEST_DESC"
   ]
  },
  {
   "cell_type": "code",
   "execution_count": 125,
   "metadata": {},
   "outputs": [
    {
     "data": {
      "text/plain": [
       "Not Applicable               1448115\n",
       "Unknown                       477946\n",
       "Test Refused                   17333\n",
       "Evidence Test Given            16620\n",
       "Positive Preliminary Test       7334\n",
       "Other                           2759\n",
       "Name: ALCOHOL_TEST_DESC, dtype: int64"
      ]
     },
     "execution_count": 125,
     "metadata": {},
     "output_type": "execute_result"
    }
   ],
   "source": [
    "df_people_clean.ALCOHOL_TEST_DESC.value_counts()"
   ]
  },
  {
   "cell_type": "code",
   "execution_count": 126,
   "metadata": {},
   "outputs": [],
   "source": [
    "df_people_clean['ALCOHOL_TEST_DESC'] = df_people_clean['ALCOHOL_TEST_DESC'].replace(['Unknown', 'Other'], 'Other')\n"
   ]
  },
  {
   "cell_type": "code",
   "execution_count": 127,
   "metadata": {},
   "outputs": [
    {
     "data": {
      "text/plain": [
       "Not Applicable               1448115\n",
       "Other                         480705\n",
       "Test Refused                   17333\n",
       "Evidence Test Given            16620\n",
       "Positive Preliminary Test       7334\n",
       "Name: ALCOHOL_TEST_DESC, dtype: int64"
      ]
     },
     "execution_count": 127,
     "metadata": {},
     "output_type": "execute_result"
    }
   ],
   "source": [
    "df_people_clean.ALCOHOL_TEST_DESC.value_counts()"
   ]
  },
  {
   "attachments": {},
   "cell_type": "markdown",
   "metadata": {},
   "source": [
    "### ALCOHOL_TESTTYPE_DESC\t"
   ]
  },
  {
   "cell_type": "code",
   "execution_count": 128,
   "metadata": {},
   "outputs": [
    {
     "data": {
      "text/plain": [
       "Unknown           1936343\n",
       "Breath              21108\n",
       "Not Applicable       6792\n",
       "Blood                4286\n",
       "Other                1491\n",
       "Urine                  87\n",
       "Name: ALCOHOL_TESTTYPE_DESC, dtype: int64"
      ]
     },
     "execution_count": 128,
     "metadata": {},
     "output_type": "execute_result"
    }
   ],
   "source": [
    "df_people_clean.ALCOHOL_TESTTYPE_DESC.value_counts()"
   ]
  },
  {
   "cell_type": "code",
   "execution_count": 129,
   "metadata": {},
   "outputs": [],
   "source": [
    "df_people_clean['ALCOHOL_TESTTYPE_DESC'] = df_people_clean['ALCOHOL_TESTTYPE_DESC'].replace(['Unknown', 'Other'], 'Unknown')\n"
   ]
  },
  {
   "cell_type": "code",
   "execution_count": 130,
   "metadata": {},
   "outputs": [
    {
     "data": {
      "text/plain": [
       "Unknown           1937834\n",
       "Breath              21108\n",
       "Not Applicable       6792\n",
       "Blood                4286\n",
       "Urine                  87\n",
       "Name: ALCOHOL_TESTTYPE_DESC, dtype: int64"
      ]
     },
     "execution_count": 130,
     "metadata": {},
     "output_type": "execute_result"
    }
   ],
   "source": [
    "df_people_clean.ALCOHOL_TESTTYPE_DESC.value_counts()"
   ]
  },
  {
   "attachments": {},
   "cell_type": "markdown",
   "metadata": {},
   "source": [
    "### DRUG_TEST_DESC"
   ]
  },
  {
   "cell_type": "code",
   "execution_count": 131,
   "metadata": {},
   "outputs": [
    {
     "data": {
      "text/plain": [
       "Not Applicable               1480984\n",
       "Unknown                       477467\n",
       "Test Refused                    6752\n",
       "Evidence Test Given             2746\n",
       "Other                           1573\n",
       "Positive Preliminary Test        585\n",
       "Name: DRUG_TEST_DESC, dtype: int64"
      ]
     },
     "execution_count": 131,
     "metadata": {},
     "output_type": "execute_result"
    }
   ],
   "source": [
    "df_people_clean.DRUG_TEST_DESC.value_counts()"
   ]
  },
  {
   "cell_type": "code",
   "execution_count": 132,
   "metadata": {},
   "outputs": [],
   "source": [
    "df_people_clean['DRUG_TEST_DESC'] = df_people_clean['DRUG_TEST_DESC'].replace(['Unknown', 'Other'], 'Unknown')\n"
   ]
  },
  {
   "cell_type": "code",
   "execution_count": 133,
   "metadata": {},
   "outputs": [
    {
     "data": {
      "text/plain": [
       "Not Applicable               1480984\n",
       "Unknown                       479040\n",
       "Test Refused                    6752\n",
       "Evidence Test Given             2746\n",
       "Positive Preliminary Test        585\n",
       "Name: DRUG_TEST_DESC, dtype: int64"
      ]
     },
     "execution_count": 133,
     "metadata": {},
     "output_type": "execute_result"
    }
   ],
   "source": [
    "df_people_clean.DRUG_TEST_DESC.value_counts()"
   ]
  },
  {
   "attachments": {},
   "cell_type": "markdown",
   "metadata": {},
   "source": [
    "### DRUG_TESTRESULT_DESC"
   ]
  },
  {
   "cell_type": "code",
   "execution_count": 134,
   "metadata": {},
   "outputs": [
    {
     "data": {
      "text/plain": [
       "Unknown           1965367\n",
       "Not Applicable       3385\n",
       "Positive              960\n",
       "Negative              395\n",
       "Name: DRUG_TESTRESULT_DESC, dtype: int64"
      ]
     },
     "execution_count": 134,
     "metadata": {},
     "output_type": "execute_result"
    }
   ],
   "source": [
    "df_people_clean.DRUG_TESTRESULT_DESC.value_counts()"
   ]
  },
  {
   "attachments": {},
   "cell_type": "markdown",
   "metadata": {},
   "source": [
    "### FAULT_FLAG"
   ]
  },
  {
   "cell_type": "code",
   "execution_count": 135,
   "metadata": {},
   "outputs": [
    {
     "data": {
      "text/plain": [
       "Y          801281\n",
       "N          638169\n",
       "Unknown    459534\n",
       "U           71123\n",
       "Name: FAULT_FLAG, dtype: int64"
      ]
     },
     "execution_count": 135,
     "metadata": {},
     "output_type": "execute_result"
    }
   ],
   "source": [
    "df_people_clean.FAULT_FLAG.value_counts()"
   ]
  },
  {
   "cell_type": "code",
   "execution_count": 136,
   "metadata": {},
   "outputs": [],
   "source": [
    "df_people_clean['FAULT_FLAG'] = df_people_clean['FAULT_FLAG'].replace(['Unknown', 'U'], 'U')\n"
   ]
  },
  {
   "cell_type": "code",
   "execution_count": 137,
   "metadata": {},
   "outputs": [
    {
     "data": {
      "text/plain": [
       "Y    801281\n",
       "N    638169\n",
       "U    530657\n",
       "Name: FAULT_FLAG, dtype: int64"
      ]
     },
     "execution_count": 137,
     "metadata": {},
     "output_type": "execute_result"
    }
   ],
   "source": [
    "df_people_clean.FAULT_FLAG.value_counts()"
   ]
  },
  {
   "attachments": {},
   "cell_type": "markdown",
   "metadata": {},
   "source": [
    "### EQUIP_PROB_DESC"
   ]
  },
  {
   "cell_type": "code",
   "execution_count": 138,
   "metadata": {},
   "outputs": [
    {
     "data": {
      "text/plain": [
       "No Misuse               1271563\n",
       "Not Applicable           473785\n",
       "Unknown                  219439\n",
       "Air Bag Failed             1801\n",
       "Other                      1367\n",
       "Belt(s) Misused             919\n",
       "Size/Type Improper          288\n",
       "Not Strapped Right          250\n",
       "Facing Wrong Way            169\n",
       "Not Anchored Right          168\n",
       "Belts/Anchors Broken        163\n",
       "Strap/Tether Loose          108\n",
       "Anchor Not Secure            87\n",
       "Name: EQUIP_PROB_DESC, dtype: int64"
      ]
     },
     "execution_count": 138,
     "metadata": {},
     "output_type": "execute_result"
    }
   ],
   "source": [
    "df_people_clean.EQUIP_PROB_DESC.value_counts()"
   ]
  },
  {
   "cell_type": "code",
   "execution_count": 139,
   "metadata": {},
   "outputs": [],
   "source": [
    "df_people_clean['EQUIP_PROB_DESC'] = df_people_clean['EQUIP_PROB_DESC'].replace(['Belt(s) Misused', 'Size/Type Improper', 'Not Strapped Right', 'Facing Wrong Way', 'Not Anchored Right', 'Anchor Not Secure'], 'improper_use')\n",
    "df_people_clean['EQUIP_PROB_DESC'] = df_people_clean['EQUIP_PROB_DESC'].replace(['Belts/Anchors Broken', 'Strap/Tether Loose', 'Other'], 'Other')\n"
   ]
  },
  {
   "cell_type": "code",
   "execution_count": 140,
   "metadata": {},
   "outputs": [
    {
     "data": {
      "text/plain": [
       "No Misuse         1271563\n",
       "Not Applicable     473785\n",
       "Unknown            219439\n",
       "improper_use         1881\n",
       "Air Bag Failed       1801\n",
       "Other                1638\n",
       "Name: EQUIP_PROB_DESC, dtype: int64"
      ]
     },
     "execution_count": 140,
     "metadata": {},
     "output_type": "execute_result"
    }
   ],
   "source": [
    "df_people_clean.EQUIP_PROB_DESC.value_counts()"
   ]
  },
  {
   "attachments": {},
   "cell_type": "markdown",
   "metadata": {},
   "source": [
    "### EJECT_DESC"
   ]
  },
  {
   "cell_type": "code",
   "execution_count": 141,
   "metadata": {},
   "outputs": [
    {
     "data": {
      "text/plain": [
       "Not Ejected/Trapped    1701937\n",
       "Not Applicable          177907\n",
       "Unknown                  65283\n",
       "Trapped                  13739\n",
       "Fully Ejected             8036\n",
       "Other                     1788\n",
       "Partially Ejected         1417\n",
       "Name: EJECT_DESC, dtype: int64"
      ]
     },
     "execution_count": 141,
     "metadata": {},
     "output_type": "execute_result"
    }
   ],
   "source": [
    "df_people_clean.EJECT_DESC.value_counts()"
   ]
  },
  {
   "cell_type": "code",
   "execution_count": 142,
   "metadata": {},
   "outputs": [],
   "source": [
    "#df_people_clean['EJECT_DESC'] = df_people_clean['EJECT_DESC'].replace(['Belts/Anchors Broken', 'Strap/Tether Loose', 'Other'], 'Other')\n"
   ]
  },
  {
   "cell_type": "code",
   "execution_count": null,
   "metadata": {},
   "outputs": [],
   "source": []
  },
  {
   "attachments": {},
   "cell_type": "markdown",
   "metadata": {},
   "source": [
    "### LICENSE_STATE_CODE"
   ]
  },
  {
   "cell_type": "code",
   "execution_count": 143,
   "metadata": {},
   "outputs": [
    {
     "data": {
      "text/plain": [
       "MD         1146118\n",
       "Unknown     628650\n",
       "VA           35579\n",
       "PA           32837\n",
       "DC           29547\n",
       "            ...   \n",
       "AS               6\n",
       "NU               5\n",
       "NT               4\n",
       "NF               4\n",
       "PW               2\n",
       "Name: LICENSE_STATE_CODE, Length: 79, dtype: int64"
      ]
     },
     "execution_count": 143,
     "metadata": {},
     "output_type": "execute_result"
    }
   ],
   "source": [
    "df_people_clean.LICENSE_STATE_CODE.value_counts()"
   ]
  },
  {
   "cell_type": "code",
   "execution_count": null,
   "metadata": {},
   "outputs": [],
   "source": []
  },
  {
   "attachments": {},
   "cell_type": "markdown",
   "metadata": {},
   "source": [
    "### AIRBAG_DEPLOYED"
   ]
  },
  {
   "cell_type": "code",
   "execution_count": 144,
   "metadata": {},
   "outputs": [
    {
     "data": {
      "text/plain": [
       "1.0        1117526\n",
       "Unknown     268616\n",
       "0.0         187498\n",
       "2.0         173142\n",
       "4.0         125726\n",
       "99.0         53900\n",
       "3.0          35466\n",
       "5.0           6867\n",
       "88.0          1366\n",
       "Name: AIRBAG_DEPLOYED, dtype: int64"
      ]
     },
     "execution_count": 144,
     "metadata": {},
     "output_type": "execute_result"
    }
   ],
   "source": [
    "df_people_clean.AIRBAG_DEPLOYED.value_counts()"
   ]
  },
  {
   "cell_type": "code",
   "execution_count": 145,
   "metadata": {},
   "outputs": [],
   "source": [
    "mapping = {'Unknown': 99,\n",
    "           1.0: 0,\n",
    "           0.0: 99,\n",
    "           2.0: 1,\n",
    "           4.0: 1,\n",
    "           99.0: 99,\n",
    "           3.0: 1,\n",
    "           5.0: 1,\n",
    "           88.0: 1}"
   ]
  },
  {
   "cell_type": "code",
   "execution_count": 146,
   "metadata": {},
   "outputs": [],
   "source": [
    "df_people_clean['AIRBAG_DEPLOYED'] = df_people_clean['AIRBAG_DEPLOYED'].map(mapping)"
   ]
  },
  {
   "cell_type": "code",
   "execution_count": 147,
   "metadata": {},
   "outputs": [
    {
     "data": {
      "text/plain": [
       "0     1117526\n",
       "99     510014\n",
       "1      342567\n",
       "Name: AIRBAG_DEPLOYED, dtype: int64"
      ]
     },
     "execution_count": 147,
     "metadata": {},
     "output_type": "execute_result"
    }
   ],
   "source": [
    "df_people_clean.AIRBAG_DEPLOYED.value_counts()"
   ]
  },
  {
   "attachments": {},
   "cell_type": "markdown",
   "metadata": {},
   "source": [
    "# Merging df_people_clean with the dataframe combined earlier"
   ]
  },
  {
   "cell_type": "code",
   "execution_count": 148,
   "metadata": {},
   "outputs": [],
   "source": [
    "df_sum_car_people = pd.merge(df_summary_cars, df_people_clean, how = 'inner', on='REPORT_NO')"
   ]
  },
  {
   "cell_type": "code",
   "execution_count": 149,
   "metadata": {},
   "outputs": [
    {
     "name": "stdout",
     "output_type": "stream",
     "text": [
      "<class 'pandas.core.frame.DataFrame'>\n",
      "Int64Index: 3573723 entries, 0 to 3573722\n",
      "Data columns (total 42 columns):\n",
      " #   Column                 Dtype  \n",
      "---  ------                 -----  \n",
      " 0   REPORT_NO              object \n",
      " 1   YEAR                   int64  \n",
      " 2   QUARTER                object \n",
      " 3   LIGHT_DESC             object \n",
      " 4   COUNTY_DESC            object \n",
      " 5   JUNCTION_DESC          object \n",
      " 6   COLLISION_TYPE_DESC    object \n",
      " 7   SURF_COND_DESC         object \n",
      " 8   RD_COND_DESC           object \n",
      " 9   RD_DIV_DESC            object \n",
      " 10  FIX_OBJ_DESC           object \n",
      " 11  WEATHER_DESC           object \n",
      " 12  ACC_DATE               int64  \n",
      " 13  ACC_TIME               object \n",
      " 14  HARM_EVENT_DESC1       object \n",
      " 15  HARM_EVENT_DESC2       object \n",
      " 16  DISTANCE_DIR_FLAG      object \n",
      " 17  LATITUDE               float64\n",
      " 18  LONGITUDE              float64\n",
      " 19  REPORT_TYPE            object \n",
      " 20  VEH_MAKE               object \n",
      " 21  DAMAGE_DESC            object \n",
      " 22  COMMERCIAL_FLAG        object \n",
      " 23  BODY_TYPE_DESC         object \n",
      " 24  FIRE_FLAG              object \n",
      " 25  PARKED_FLAG            object \n",
      " 26  SPEED_LIMIT            int64  \n",
      " 27  HIT_AND_RUN_FLAG       object \n",
      " 28  MOVEMENT_DESC          object \n",
      " 29  SEX_CODE               object \n",
      " 30  CONDITION_DESC         object \n",
      " 31  INJ_SEVER_DESC         object \n",
      " 32  PERSON_TYPE            object \n",
      " 33  ALCOHOL_TEST_DESC      object \n",
      " 34  ALCOHOL_TESTTYPE_DESC  object \n",
      " 35  DRUG_TEST_DESC         object \n",
      " 36  DRUG_TESTRESULT_DESC   object \n",
      " 37  FAULT_FLAG             object \n",
      " 38  EQUIP_PROB_DESC        object \n",
      " 39  EJECT_DESC             object \n",
      " 40  LICENSE_STATE_CODE     object \n",
      " 41  AIRBAG_DEPLOYED        int64  \n",
      "dtypes: float64(2), int64(4), object(36)\n",
      "memory usage: 1.1+ GB\n"
     ]
    }
   ],
   "source": [
    "df_sum_car_people.info()"
   ]
  },
  {
   "cell_type": "code",
   "execution_count": null,
   "metadata": {},
   "outputs": [],
   "source": []
  },
  {
   "attachments": {},
   "cell_type": "markdown",
   "metadata": {},
   "source": [
    "# Turning combined dataframe into CSV\n"
   ]
  },
  {
   "cell_type": "code",
   "execution_count": 150,
   "metadata": {},
   "outputs": [],
   "source": [
    "#df_sum_car_people.to_csv('../Data/df_combined_copy.csv', index=False, header=True)"
   ]
  },
  {
   "attachments": {},
   "cell_type": "markdown",
   "metadata": {},
   "source": [
    "# Cut out features for model of most common profile of fatal accident drivers"
   ]
  },
  {
   "attachments": {},
   "cell_type": "markdown",
   "metadata": {},
   "source": [
    "# Cut out more feature for classification testing"
   ]
  },
  {
   "cell_type": "code",
   "execution_count": 151,
   "metadata": {},
   "outputs": [
    {
     "name": "stdout",
     "output_type": "stream",
     "text": [
      "<class 'pandas.core.frame.DataFrame'>\n",
      "Int64Index: 3573723 entries, 0 to 3573722\n",
      "Data columns (total 42 columns):\n",
      " #   Column                 Dtype  \n",
      "---  ------                 -----  \n",
      " 0   REPORT_NO              object \n",
      " 1   YEAR                   int64  \n",
      " 2   QUARTER                object \n",
      " 3   LIGHT_DESC             object \n",
      " 4   COUNTY_DESC            object \n",
      " 5   JUNCTION_DESC          object \n",
      " 6   COLLISION_TYPE_DESC    object \n",
      " 7   SURF_COND_DESC         object \n",
      " 8   RD_COND_DESC           object \n",
      " 9   RD_DIV_DESC            object \n",
      " 10  FIX_OBJ_DESC           object \n",
      " 11  WEATHER_DESC           object \n",
      " 12  ACC_DATE               int64  \n",
      " 13  ACC_TIME               object \n",
      " 14  HARM_EVENT_DESC1       object \n",
      " 15  HARM_EVENT_DESC2       object \n",
      " 16  DISTANCE_DIR_FLAG      object \n",
      " 17  LATITUDE               float64\n",
      " 18  LONGITUDE              float64\n",
      " 19  REPORT_TYPE            object \n",
      " 20  VEH_MAKE               object \n",
      " 21  DAMAGE_DESC            object \n",
      " 22  COMMERCIAL_FLAG        object \n",
      " 23  BODY_TYPE_DESC         object \n",
      " 24  FIRE_FLAG              object \n",
      " 25  PARKED_FLAG            object \n",
      " 26  SPEED_LIMIT            int64  \n",
      " 27  HIT_AND_RUN_FLAG       object \n",
      " 28  MOVEMENT_DESC          object \n",
      " 29  SEX_CODE               object \n",
      " 30  CONDITION_DESC         object \n",
      " 31  INJ_SEVER_DESC         object \n",
      " 32  PERSON_TYPE            object \n",
      " 33  ALCOHOL_TEST_DESC      object \n",
      " 34  ALCOHOL_TESTTYPE_DESC  object \n",
      " 35  DRUG_TEST_DESC         object \n",
      " 36  DRUG_TESTRESULT_DESC   object \n",
      " 37  FAULT_FLAG             object \n",
      " 38  EQUIP_PROB_DESC        object \n",
      " 39  EJECT_DESC             object \n",
      " 40  LICENSE_STATE_CODE     object \n",
      " 41  AIRBAG_DEPLOYED        int64  \n",
      "dtypes: float64(2), int64(4), object(36)\n",
      "memory usage: 1.1+ GB\n"
     ]
    }
   ],
   "source": [
    "df_sum_car_people.info()"
   ]
  },
  {
   "cell_type": "code",
   "execution_count": 152,
   "metadata": {},
   "outputs": [],
   "source": [
    "df_classification = df_sum_car_people.drop(['REPORT_NO', 'YEAR', 'QUARTER', 'COUNTY_DESC', 'ACC_DATE', 'ACC_TIME', 'LATITUDE', 'LONGITUDE', 'VEH_MAKE'], axis = 1)"
   ]
  },
  {
   "cell_type": "code",
   "execution_count": 153,
   "metadata": {},
   "outputs": [
    {
     "name": "stdout",
     "output_type": "stream",
     "text": [
      "<class 'pandas.core.frame.DataFrame'>\n",
      "Int64Index: 3573723 entries, 0 to 3573722\n",
      "Data columns (total 33 columns):\n",
      " #   Column                 Dtype \n",
      "---  ------                 ----- \n",
      " 0   LIGHT_DESC             object\n",
      " 1   JUNCTION_DESC          object\n",
      " 2   COLLISION_TYPE_DESC    object\n",
      " 3   SURF_COND_DESC         object\n",
      " 4   RD_COND_DESC           object\n",
      " 5   RD_DIV_DESC            object\n",
      " 6   FIX_OBJ_DESC           object\n",
      " 7   WEATHER_DESC           object\n",
      " 8   HARM_EVENT_DESC1       object\n",
      " 9   HARM_EVENT_DESC2       object\n",
      " 10  DISTANCE_DIR_FLAG      object\n",
      " 11  REPORT_TYPE            object\n",
      " 12  DAMAGE_DESC            object\n",
      " 13  COMMERCIAL_FLAG        object\n",
      " 14  BODY_TYPE_DESC         object\n",
      " 15  FIRE_FLAG              object\n",
      " 16  PARKED_FLAG            object\n",
      " 17  SPEED_LIMIT            int64 \n",
      " 18  HIT_AND_RUN_FLAG       object\n",
      " 19  MOVEMENT_DESC          object\n",
      " 20  SEX_CODE               object\n",
      " 21  CONDITION_DESC         object\n",
      " 22  INJ_SEVER_DESC         object\n",
      " 23  PERSON_TYPE            object\n",
      " 24  ALCOHOL_TEST_DESC      object\n",
      " 25  ALCOHOL_TESTTYPE_DESC  object\n",
      " 26  DRUG_TEST_DESC         object\n",
      " 27  DRUG_TESTRESULT_DESC   object\n",
      " 28  FAULT_FLAG             object\n",
      " 29  EQUIP_PROB_DESC        object\n",
      " 30  EJECT_DESC             object\n",
      " 31  LICENSE_STATE_CODE     object\n",
      " 32  AIRBAG_DEPLOYED        int64 \n",
      "dtypes: int64(2), object(31)\n",
      "memory usage: 927.0+ MB\n"
     ]
    }
   ],
   "source": [
    "df_classification.info()"
   ]
  },
  {
   "cell_type": "code",
   "execution_count": 154,
   "metadata": {},
   "outputs": [],
   "source": [
    "df_class1 = df_classification.copy()"
   ]
  },
  {
   "cell_type": "code",
   "execution_count": 155,
   "metadata": {},
   "outputs": [
    {
     "name": "stdout",
     "output_type": "stream",
     "text": [
      "<class 'pandas.core.frame.DataFrame'>\n",
      "Int64Index: 3573723 entries, 0 to 3573722\n",
      "Data columns (total 33 columns):\n",
      " #   Column                 Dtype \n",
      "---  ------                 ----- \n",
      " 0   LIGHT_DESC             object\n",
      " 1   JUNCTION_DESC          object\n",
      " 2   COLLISION_TYPE_DESC    object\n",
      " 3   SURF_COND_DESC         object\n",
      " 4   RD_COND_DESC           object\n",
      " 5   RD_DIV_DESC            object\n",
      " 6   FIX_OBJ_DESC           object\n",
      " 7   WEATHER_DESC           object\n",
      " 8   HARM_EVENT_DESC1       object\n",
      " 9   HARM_EVENT_DESC2       object\n",
      " 10  DISTANCE_DIR_FLAG      object\n",
      " 11  REPORT_TYPE            object\n",
      " 12  DAMAGE_DESC            object\n",
      " 13  COMMERCIAL_FLAG        object\n",
      " 14  BODY_TYPE_DESC         object\n",
      " 15  FIRE_FLAG              object\n",
      " 16  PARKED_FLAG            object\n",
      " 17  SPEED_LIMIT            int64 \n",
      " 18  HIT_AND_RUN_FLAG       object\n",
      " 19  MOVEMENT_DESC          object\n",
      " 20  SEX_CODE               object\n",
      " 21  CONDITION_DESC         object\n",
      " 22  INJ_SEVER_DESC         object\n",
      " 23  PERSON_TYPE            object\n",
      " 24  ALCOHOL_TEST_DESC      object\n",
      " 25  ALCOHOL_TESTTYPE_DESC  object\n",
      " 26  DRUG_TEST_DESC         object\n",
      " 27  DRUG_TESTRESULT_DESC   object\n",
      " 28  FAULT_FLAG             object\n",
      " 29  EQUIP_PROB_DESC        object\n",
      " 30  EJECT_DESC             object\n",
      " 31  LICENSE_STATE_CODE     object\n",
      " 32  AIRBAG_DEPLOYED        int64 \n",
      "dtypes: int64(2), object(31)\n",
      "memory usage: 927.0+ MB\n"
     ]
    }
   ],
   "source": [
    "df_class1.info()"
   ]
  },
  {
   "cell_type": "code",
   "execution_count": 156,
   "metadata": {},
   "outputs": [
    {
     "data": {
      "text/plain": [
       "Property Damage Crash    2308085\n",
       "Injury Crash             1245609\n",
       "Fatal Crash                20029\n",
       "Name: REPORT_TYPE, dtype: int64"
      ]
     },
     "execution_count": 156,
     "metadata": {},
     "output_type": "execute_result"
    }
   ],
   "source": [
    "df_classification.REPORT_TYPE.value_counts()"
   ]
  },
  {
   "cell_type": "code",
   "execution_count": 157,
   "metadata": {},
   "outputs": [],
   "source": [
    "# Moving REPORT_TYPE column to the end of the dataframe\n",
    "\n",
    "col_name = 'REPORT_TYPE'\n",
    "\n",
    "column_vals = df_class1.pop(col_name)\n",
    "\n",
    "df_class1[col_name] = column_vals"
   ]
  },
  {
   "cell_type": "code",
   "execution_count": 158,
   "metadata": {},
   "outputs": [
    {
     "data": {
      "text/plain": [
       "LIGHT_DESC                6\n",
       "JUNCTION_DESC             8\n",
       "COLLISION_TYPE_DESC       7\n",
       "SURF_COND_DESC            4\n",
       "RD_COND_DESC              5\n",
       "RD_DIV_DESC               5\n",
       "FIX_OBJ_DESC              9\n",
       "WEATHER_DESC              7\n",
       "HARM_EVENT_DESC1         10\n",
       "HARM_EVENT_DESC2          9\n",
       "DISTANCE_DIR_FLAG         5\n",
       "DAMAGE_DESC               6\n",
       "COMMERCIAL_FLAG           2\n",
       "BODY_TYPE_DESC           12\n",
       "FIRE_FLAG                 4\n",
       "PARKED_FLAG               2\n",
       "SPEED_LIMIT              16\n",
       "HIT_AND_RUN_FLAG          3\n",
       "MOVEMENT_DESC            13\n",
       "SEX_CODE                  3\n",
       "CONDITION_DESC            9\n",
       "INJ_SEVER_DESC            6\n",
       "PERSON_TYPE               3\n",
       "ALCOHOL_TEST_DESC         5\n",
       "ALCOHOL_TESTTYPE_DESC     5\n",
       "DRUG_TEST_DESC            5\n",
       "DRUG_TESTRESULT_DESC      4\n",
       "FAULT_FLAG                3\n",
       "EQUIP_PROB_DESC           6\n",
       "EJECT_DESC                7\n",
       "LICENSE_STATE_CODE       79\n",
       "AIRBAG_DEPLOYED           3\n",
       "REPORT_TYPE               3\n",
       "dtype: int64"
      ]
     },
     "execution_count": 158,
     "metadata": {},
     "output_type": "execute_result"
    }
   ],
   "source": [
    "df_class1.nunique()"
   ]
  },
  {
   "cell_type": "code",
   "execution_count": 159,
   "metadata": {},
   "outputs": [],
   "source": [
    "dfclass1 = df_class1.drop(['LICENSE_STATE_CODE', 'SPEED_LIMIT'], axis = 1)"
   ]
  },
  {
   "attachments": {},
   "cell_type": "markdown",
   "metadata": {},
   "source": [
    "# Predict Fatal Crash Class"
   ]
  },
  {
   "cell_type": "code",
   "execution_count": 160,
   "metadata": {},
   "outputs": [
    {
     "name": "stdout",
     "output_type": "stream",
     "text": [
      "<class 'pandas.core.frame.DataFrame'>\n",
      "Int64Index: 3573723 entries, 0 to 3573722\n",
      "Data columns (total 31 columns):\n",
      " #   Column                 Dtype \n",
      "---  ------                 ----- \n",
      " 0   LIGHT_DESC             object\n",
      " 1   JUNCTION_DESC          object\n",
      " 2   COLLISION_TYPE_DESC    object\n",
      " 3   SURF_COND_DESC         object\n",
      " 4   RD_COND_DESC           object\n",
      " 5   RD_DIV_DESC            object\n",
      " 6   FIX_OBJ_DESC           object\n",
      " 7   WEATHER_DESC           object\n",
      " 8   HARM_EVENT_DESC1       object\n",
      " 9   HARM_EVENT_DESC2       object\n",
      " 10  DISTANCE_DIR_FLAG      object\n",
      " 11  DAMAGE_DESC            object\n",
      " 12  COMMERCIAL_FLAG        object\n",
      " 13  BODY_TYPE_DESC         object\n",
      " 14  FIRE_FLAG              object\n",
      " 15  PARKED_FLAG            object\n",
      " 16  HIT_AND_RUN_FLAG       object\n",
      " 17  MOVEMENT_DESC          object\n",
      " 18  SEX_CODE               object\n",
      " 19  CONDITION_DESC         object\n",
      " 20  INJ_SEVER_DESC         object\n",
      " 21  PERSON_TYPE            object\n",
      " 22  ALCOHOL_TEST_DESC      object\n",
      " 23  ALCOHOL_TESTTYPE_DESC  object\n",
      " 24  DRUG_TEST_DESC         object\n",
      " 25  DRUG_TESTRESULT_DESC   object\n",
      " 26  FAULT_FLAG             object\n",
      " 27  EQUIP_PROB_DESC        object\n",
      " 28  EJECT_DESC             object\n",
      " 29  AIRBAG_DEPLOYED        int64 \n",
      " 30  REPORT_TYPE            object\n",
      "dtypes: int64(1), object(30)\n",
      "memory usage: 872.5+ MB\n"
     ]
    }
   ],
   "source": [
    "dfclass1.info()"
   ]
  },
  {
   "cell_type": "code",
   "execution_count": 175,
   "metadata": {},
   "outputs": [
    {
     "data": {
      "text/plain": [
       "Unknown           3525429\n",
       "Breath              31883\n",
       "Not Applicable      10341\n",
       "Blood                5946\n",
       "Urine                 124\n",
       "Name: ALCOHOL_TESTTYPE_DESC, dtype: int64"
      ]
     },
     "execution_count": 175,
     "metadata": {},
     "output_type": "execute_result"
    }
   ],
   "source": [
    "dfclass1.ALCOHOL_TESTTYPE_DESC.value_counts()"
   ]
  },
  {
   "cell_type": "code",
   "execution_count": null,
   "metadata": {},
   "outputs": [],
   "source": []
  },
  {
   "cell_type": "code",
   "execution_count": 177,
   "metadata": {},
   "outputs": [
    {
     "data": {
      "text/html": [
       "<div>\n",
       "<style scoped>\n",
       "    .dataframe tbody tr th:only-of-type {\n",
       "        vertical-align: middle;\n",
       "    }\n",
       "\n",
       "    .dataframe tbody tr th {\n",
       "        vertical-align: top;\n",
       "    }\n",
       "\n",
       "    .dataframe thead th {\n",
       "        text-align: right;\n",
       "    }\n",
       "</style>\n",
       "<table border=\"1\" class=\"dataframe\">\n",
       "  <thead>\n",
       "    <tr style=\"text-align: right;\">\n",
       "      <th></th>\n",
       "      <th>LIGHT_DESC</th>\n",
       "      <th>JUNCTION_DESC</th>\n",
       "      <th>COLLISION_TYPE_DESC</th>\n",
       "      <th>SURF_COND_DESC</th>\n",
       "      <th>RD_COND_DESC</th>\n",
       "      <th>RD_DIV_DESC</th>\n",
       "      <th>FIX_OBJ_DESC</th>\n",
       "      <th>WEATHER_DESC</th>\n",
       "      <th>HARM_EVENT_DESC1</th>\n",
       "      <th>HARM_EVENT_DESC2</th>\n",
       "      <th>DISTANCE_DIR_FLAG</th>\n",
       "      <th>DAMAGE_DESC</th>\n",
       "      <th>COMMERCIAL_FLAG</th>\n",
       "      <th>BODY_TYPE_DESC</th>\n",
       "      <th>FIRE_FLAG</th>\n",
       "      <th>PARKED_FLAG</th>\n",
       "      <th>HIT_AND_RUN_FLAG</th>\n",
       "      <th>MOVEMENT_DESC</th>\n",
       "      <th>SEX_CODE</th>\n",
       "      <th>CONDITION_DESC</th>\n",
       "      <th>INJ_SEVER_DESC</th>\n",
       "      <th>PERSON_TYPE</th>\n",
       "      <th>ALCOHOL_TEST_DESC</th>\n",
       "      <th>ALCOHOL_TESTTYPE_DESC</th>\n",
       "      <th>DRUG_TEST_DESC</th>\n",
       "      <th>DRUG_TESTRESULT_DESC</th>\n",
       "      <th>FAULT_FLAG</th>\n",
       "      <th>EQUIP_PROB_DESC</th>\n",
       "      <th>EJECT_DESC</th>\n",
       "      <th>AIRBAG_DEPLOYED</th>\n",
       "      <th>REPORT_TYPE</th>\n",
       "    </tr>\n",
       "  </thead>\n",
       "  <tbody>\n",
       "    <tr>\n",
       "      <th>3202525</th>\n",
       "      <td>Daylight</td>\n",
       "      <td>intersection</td>\n",
       "      <td>same_direction_turn</td>\n",
       "      <td>Dry</td>\n",
       "      <td>No Defects</td>\n",
       "      <td>two_way_div</td>\n",
       "      <td>Not Applicable</td>\n",
       "      <td>Cloudy</td>\n",
       "      <td>other</td>\n",
       "      <td>Other Vehicle</td>\n",
       "      <td>E</td>\n",
       "      <td>Functional</td>\n",
       "      <td>N</td>\n",
       "      <td>passenger_car</td>\n",
       "      <td>N</td>\n",
       "      <td>N</td>\n",
       "      <td>N</td>\n",
       "      <td>Moving Constant Speed</td>\n",
       "      <td>M</td>\n",
       "      <td>Apparently Normal</td>\n",
       "      <td>No Injury</td>\n",
       "      <td>D</td>\n",
       "      <td>Not Applicable</td>\n",
       "      <td>Unknown</td>\n",
       "      <td>Not Applicable</td>\n",
       "      <td>Unknown</td>\n",
       "      <td>N</td>\n",
       "      <td>No Misuse</td>\n",
       "      <td>Not Ejected/Trapped</td>\n",
       "      <td>0</td>\n",
       "      <td>Injury Crash</td>\n",
       "    </tr>\n",
       "    <tr>\n",
       "      <th>240570</th>\n",
       "      <td>Daylight</td>\n",
       "      <td>intersection</td>\n",
       "      <td>angle_meets_misc</td>\n",
       "      <td>Dry</td>\n",
       "      <td>No Defects</td>\n",
       "      <td>one_way</td>\n",
       "      <td>Not Applicable</td>\n",
       "      <td>other</td>\n",
       "      <td>Other Vehicle</td>\n",
       "      <td>Pedestrian</td>\n",
       "      <td>E</td>\n",
       "      <td>Disabling</td>\n",
       "      <td>N</td>\n",
       "      <td>passenger_car</td>\n",
       "      <td>Unknown</td>\n",
       "      <td>N</td>\n",
       "      <td>N</td>\n",
       "      <td>Moving Constant Speed</td>\n",
       "      <td>F</td>\n",
       "      <td>Other</td>\n",
       "      <td>Incapacitating/Disabled Injury</td>\n",
       "      <td>P</td>\n",
       "      <td>Not Applicable</td>\n",
       "      <td>Unknown</td>\n",
       "      <td>Not Applicable</td>\n",
       "      <td>Unknown</td>\n",
       "      <td>N</td>\n",
       "      <td>Unknown</td>\n",
       "      <td>Unknown</td>\n",
       "      <td>99</td>\n",
       "      <td>Injury Crash</td>\n",
       "    </tr>\n",
       "    <tr>\n",
       "      <th>3409362</th>\n",
       "      <td>Daylight</td>\n",
       "      <td>intersection</td>\n",
       "      <td>angle_meets_misc</td>\n",
       "      <td>Wet</td>\n",
       "      <td>No Defects</td>\n",
       "      <td>one_way</td>\n",
       "      <td>Not Applicable</td>\n",
       "      <td>Raining</td>\n",
       "      <td>Other Vehicle</td>\n",
       "      <td>Not Applicable</td>\n",
       "      <td>N</td>\n",
       "      <td>Superficial</td>\n",
       "      <td>N</td>\n",
       "      <td>passenger_car</td>\n",
       "      <td>N</td>\n",
       "      <td>N</td>\n",
       "      <td>Y</td>\n",
       "      <td>Moving Constant Speed</td>\n",
       "      <td>M</td>\n",
       "      <td>Apparently Normal</td>\n",
       "      <td>No Injury</td>\n",
       "      <td>D</td>\n",
       "      <td>Not Applicable</td>\n",
       "      <td>Unknown</td>\n",
       "      <td>Not Applicable</td>\n",
       "      <td>Unknown</td>\n",
       "      <td>Y</td>\n",
       "      <td>Not Applicable</td>\n",
       "      <td>Not Ejected/Trapped</td>\n",
       "      <td>0</td>\n",
       "      <td>Property Damage Crash</td>\n",
       "    </tr>\n",
       "    <tr>\n",
       "      <th>1586750</th>\n",
       "      <td>Daylight</td>\n",
       "      <td>intersection</td>\n",
       "      <td>same_direction</td>\n",
       "      <td>Dry</td>\n",
       "      <td>No Defects</td>\n",
       "      <td>two_way_div</td>\n",
       "      <td>Not Applicable</td>\n",
       "      <td>other</td>\n",
       "      <td>other</td>\n",
       "      <td>Other Vehicle</td>\n",
       "      <td>E</td>\n",
       "      <td>Destroyed</td>\n",
       "      <td>N</td>\n",
       "      <td>passenger_car</td>\n",
       "      <td>N</td>\n",
       "      <td>N</td>\n",
       "      <td>N</td>\n",
       "      <td>Moving Constant Speed</td>\n",
       "      <td>F</td>\n",
       "      <td>Apparently Normal</td>\n",
       "      <td>Non-incapacitating Injury</td>\n",
       "      <td>D</td>\n",
       "      <td>Not Applicable</td>\n",
       "      <td>Unknown</td>\n",
       "      <td>Not Applicable</td>\n",
       "      <td>Unknown</td>\n",
       "      <td>N</td>\n",
       "      <td>No Misuse</td>\n",
       "      <td>Not Ejected/Trapped</td>\n",
       "      <td>0</td>\n",
       "      <td>Injury Crash</td>\n",
       "    </tr>\n",
       "    <tr>\n",
       "      <th>3206486</th>\n",
       "      <td>Daylight</td>\n",
       "      <td>intersection</td>\n",
       "      <td>same_direction</td>\n",
       "      <td>Dry</td>\n",
       "      <td>No Defects</td>\n",
       "      <td>two_way_div</td>\n",
       "      <td>Not Applicable</td>\n",
       "      <td>Clear</td>\n",
       "      <td>other</td>\n",
       "      <td>Other Vehicle</td>\n",
       "      <td>E</td>\n",
       "      <td>Functional</td>\n",
       "      <td>N</td>\n",
       "      <td>Van</td>\n",
       "      <td>N</td>\n",
       "      <td>N</td>\n",
       "      <td>N</td>\n",
       "      <td>not_in_motion</td>\n",
       "      <td>M</td>\n",
       "      <td>Other</td>\n",
       "      <td>Non-incapacitating Injury</td>\n",
       "      <td>O</td>\n",
       "      <td>Other</td>\n",
       "      <td>Unknown</td>\n",
       "      <td>Unknown</td>\n",
       "      <td>Unknown</td>\n",
       "      <td>U</td>\n",
       "      <td>No Misuse</td>\n",
       "      <td>Not Ejected/Trapped</td>\n",
       "      <td>0</td>\n",
       "      <td>Injury Crash</td>\n",
       "    </tr>\n",
       "  </tbody>\n",
       "</table>\n",
       "</div>"
      ],
      "text/plain": [
       "        LIGHT_DESC JUNCTION_DESC  COLLISION_TYPE_DESC SURF_COND_DESC  \\\n",
       "3202525   Daylight  intersection  same_direction_turn            Dry   \n",
       "240570    Daylight  intersection     angle_meets_misc            Dry   \n",
       "3409362   Daylight  intersection     angle_meets_misc            Wet   \n",
       "1586750   Daylight  intersection       same_direction            Dry   \n",
       "3206486   Daylight  intersection       same_direction            Dry   \n",
       "\n",
       "        RD_COND_DESC  RD_DIV_DESC    FIX_OBJ_DESC WEATHER_DESC  \\\n",
       "3202525   No Defects  two_way_div  Not Applicable       Cloudy   \n",
       "240570    No Defects      one_way  Not Applicable        other   \n",
       "3409362   No Defects      one_way  Not Applicable      Raining   \n",
       "1586750   No Defects  two_way_div  Not Applicable        other   \n",
       "3206486   No Defects  two_way_div  Not Applicable        Clear   \n",
       "\n",
       "        HARM_EVENT_DESC1 HARM_EVENT_DESC2 DISTANCE_DIR_FLAG  DAMAGE_DESC  \\\n",
       "3202525            other    Other Vehicle                 E   Functional   \n",
       "240570     Other Vehicle       Pedestrian                 E    Disabling   \n",
       "3409362    Other Vehicle   Not Applicable                 N  Superficial   \n",
       "1586750            other    Other Vehicle                 E    Destroyed   \n",
       "3206486            other    Other Vehicle                 E   Functional   \n",
       "\n",
       "        COMMERCIAL_FLAG BODY_TYPE_DESC FIRE_FLAG PARKED_FLAG HIT_AND_RUN_FLAG  \\\n",
       "3202525               N  passenger_car         N           N                N   \n",
       "240570                N  passenger_car   Unknown           N                N   \n",
       "3409362               N  passenger_car         N           N                Y   \n",
       "1586750               N  passenger_car         N           N                N   \n",
       "3206486               N            Van         N           N                N   \n",
       "\n",
       "                 MOVEMENT_DESC SEX_CODE     CONDITION_DESC  \\\n",
       "3202525  Moving Constant Speed        M  Apparently Normal   \n",
       "240570   Moving Constant Speed        F              Other   \n",
       "3409362  Moving Constant Speed        M  Apparently Normal   \n",
       "1586750  Moving Constant Speed        F  Apparently Normal   \n",
       "3206486          not_in_motion        M              Other   \n",
       "\n",
       "                         INJ_SEVER_DESC PERSON_TYPE ALCOHOL_TEST_DESC  \\\n",
       "3202525                       No Injury           D    Not Applicable   \n",
       "240570   Incapacitating/Disabled Injury           P    Not Applicable   \n",
       "3409362                       No Injury           D    Not Applicable   \n",
       "1586750       Non-incapacitating Injury           D    Not Applicable   \n",
       "3206486       Non-incapacitating Injury           O             Other   \n",
       "\n",
       "        ALCOHOL_TESTTYPE_DESC  DRUG_TEST_DESC DRUG_TESTRESULT_DESC FAULT_FLAG  \\\n",
       "3202525               Unknown  Not Applicable              Unknown          N   \n",
       "240570                Unknown  Not Applicable              Unknown          N   \n",
       "3409362               Unknown  Not Applicable              Unknown          Y   \n",
       "1586750               Unknown  Not Applicable              Unknown          N   \n",
       "3206486               Unknown         Unknown              Unknown          U   \n",
       "\n",
       "        EQUIP_PROB_DESC           EJECT_DESC  AIRBAG_DEPLOYED  \\\n",
       "3202525       No Misuse  Not Ejected/Trapped                0   \n",
       "240570          Unknown              Unknown               99   \n",
       "3409362  Not Applicable  Not Ejected/Trapped                0   \n",
       "1586750       No Misuse  Not Ejected/Trapped                0   \n",
       "3206486       No Misuse  Not Ejected/Trapped                0   \n",
       "\n",
       "                   REPORT_TYPE  \n",
       "3202525           Injury Crash  \n",
       "240570            Injury Crash  \n",
       "3409362  Property Damage Crash  \n",
       "1586750           Injury Crash  \n",
       "3206486           Injury Crash  "
      ]
     },
     "execution_count": 177,
     "metadata": {},
     "output_type": "execute_result"
    }
   ],
   "source": [
    "dfclass1.sample(5)"
   ]
  },
  {
   "cell_type": "code",
   "execution_count": 168,
   "metadata": {},
   "outputs": [
    {
     "data": {
      "text/plain": [
       "(3573723, 31)"
      ]
     },
     "execution_count": 168,
     "metadata": {},
     "output_type": "execute_result"
    }
   ],
   "source": [
    "dfclass1.shape"
   ]
  },
  {
   "cell_type": "code",
   "execution_count": 167,
   "metadata": {},
   "outputs": [
    {
     "data": {
      "text/plain": [
       "Property Damage Crash    0.645849\n",
       "Injury Crash             0.348547\n",
       "Fatal Crash              0.005605\n",
       "Name: REPORT_TYPE, dtype: float64"
      ]
     },
     "execution_count": 167,
     "metadata": {},
     "output_type": "execute_result"
    }
   ],
   "source": [
    "dfclass1.REPORT_TYPE.value_counts(normalize=True)"
   ]
  },
  {
   "cell_type": "code",
   "execution_count": null,
   "metadata": {},
   "outputs": [],
   "source": []
  }
 ],
 "metadata": {
  "kernelspec": {
   "display_name": "Python 3",
   "language": "python",
   "name": "python3"
  },
  "language_info": {
   "codemirror_mode": {
    "name": "ipython",
    "version": 3
   },
   "file_extension": ".py",
   "mimetype": "text/x-python",
   "name": "python",
   "nbconvert_exporter": "python",
   "pygments_lexer": "ipython3",
   "version": "3.11.2"
  },
  "orig_nbformat": 4
 },
 "nbformat": 4,
 "nbformat_minor": 2
}
