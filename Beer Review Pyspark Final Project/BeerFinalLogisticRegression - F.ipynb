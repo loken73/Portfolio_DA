{
 "cells": [
  {
   "cell_type": "code",
   "execution_count": null,
   "metadata": {
    "application/vnd.databricks.v1+cell": {
     "cellMetadata": {
      "byteLimit": 2048000,
      "rowLimit": 10000
     },
     "inputWidgets": {},
     "nuid": "027179be-315e-486e-8c31-71a1ac81963c",
     "showTitle": false,
     "title": ""
    }
   },
   "outputs": [],
   "source": [
    "# Create a SparkSession object\n",
    "from pyspark.sql import SparkSession\n",
    "spark = SparkSession.builder.appName(\"log_reg\").getOrCreate()\n",
    "\n",
    "# Read the Parquet file and create a DataFrame\n",
    "dfv = spark.read.parquet(\"dbfs:/FileStore/tables/beer_data.parquet\")"
   ]
  },
  {
   "cell_type": "code",
   "execution_count": null,
   "metadata": {
    "application/vnd.databricks.v1+cell": {
     "cellMetadata": {
      "byteLimit": 2048000,
      "rowLimit": 10000
     },
     "inputWidgets": {},
     "nuid": "96e4bd90-3756-4b2d-836a-d30e65af0d0f",
     "showTitle": false,
     "title": ""
    }
   },
   "outputs": [],
   "source": [
    "# Dropping beer type and beer type num as they are not useful for our purposes\n",
    "df = dfv.drop('beer_type','beer_type_num')"
   ]
  },
  {
   "cell_type": "code",
   "execution_count": null,
   "metadata": {
    "application/vnd.databricks.v1+cell": {
     "cellMetadata": {
      "byteLimit": 2048000,
      "rowLimit": 10000
     },
     "inputWidgets": {},
     "nuid": "12249746-6858-479f-ac8e-ffe827d3587a",
     "showTitle": false,
     "title": ""
    }
   },
   "outputs": [],
   "source": [
    "from pyspark.ml.linalg import Vector\n",
    "from pyspark.ml.feature import VectorAssembler"
   ]
  },
  {
   "cell_type": "code",
   "execution_count": null,
   "metadata": {
    "application/vnd.databricks.v1+cell": {
     "cellMetadata": {
      "byteLimit": 2048000,
      "rowLimit": 10000
     },
     "inputWidgets": {},
     "nuid": "828eac2a-35a9-4733-a162-8fd98683f134",
     "showTitle": false,
     "title": ""
    }
   },
   "outputs": [],
   "source": [
    "# Using list comprehension to remove review_overall as part of input Cols in VectorAssmbler and the creating an output col of features that will have them all except review_overall\n",
    "assembler = VectorAssembler(inputCols=[col for col in df.columns if col !='review_overall'], outputCol=\"features\")"
   ]
  },
  {
   "cell_type": "code",
   "execution_count": null,
   "metadata": {
    "application/vnd.databricks.v1+cell": {
     "cellMetadata": {
      "byteLimit": 2048000,
      "rowLimit": 10000
     },
     "inputWidgets": {},
     "nuid": "ab837047-4746-4e5c-980e-ccb3cc35946d",
     "showTitle": false,
     "title": ""
    }
   },
   "outputs": [],
   "source": [
    "df=assembler.transform(df)"
   ]
  },
  {
   "cell_type": "code",
   "execution_count": null,
   "metadata": {
    "application/vnd.databricks.v1+cell": {
     "cellMetadata": {
      "byteLimit": 2048000,
      "rowLimit": 10000
     },
     "inputWidgets": {},
     "nuid": "aabbb3ca-a036-47bf-bcaf-49cdaffd74c1",
     "showTitle": false,
     "title": ""
    }
   },
   "outputs": [],
   "source": [
    "# Renamed count for sake of clarity\n",
    "\n",
    "df = df.withColumnRenamed(\"count\", \"reviewer_total_reviews\")"
   ]
  },
  {
   "cell_type": "code",
   "execution_count": null,
   "metadata": {
    "application/vnd.databricks.v1+cell": {
     "cellMetadata": {
      "byteLimit": 2048000,
      "rowLimit": 10000
     },
     "inputWidgets": {},
     "nuid": "50c07d1c-1505-4081-a745-b8dfdf6821e2",
     "showTitle": false,
     "title": ""
    }
   },
   "outputs": [
    {
     "name": "stdout",
     "output_type": "stream",
     "text": [
      "+--------------+------------+-----------------+-------------+------------+--------+----------------------+-------------------+------------------+----------------+--------------------+\n",
      "|review_overall|review_aroma|review_appearance|review_palate|review_taste|beer_abv|reviewer_total_reviews|total_brewery_beers|total_beer_reviews|beer_type_vector|            features|\n",
      "+--------------+------------+-----------------+-------------+------------+--------+----------------------+-------------------+------------------+----------------+--------------------+\n",
      "|           4.0|         4.0|              4.0|          4.0|         3.5|    12.0|                  1587|                 52|                 4|  (10,[1],[1.0])|(18,[0,1,2,3,4,5,...|\n",
      "|           4.0|         4.5|              4.0|          4.0|         4.5|    9.46|                   388|                 93|               238|  (10,[0],[1.0])|(18,[0,1,2,3,4,5,...|\n",
      "|           4.5|         4.0|              4.0|          4.5|         4.5|     6.0|                   144|                 10|               811|  (10,[0],[1.0])|(18,[0,1,2,3,4,5,...|\n",
      "|           4.5|         4.5|              4.5|          4.0|         5.0|     6.0|                   559|                 10|               811|  (10,[0],[1.0])|(18,[0,1,2,3,4,5,...|\n",
      "|           4.0|         4.0|              3.5|          4.0|         4.0|     6.0|                    76|                 10|               811|  (10,[0],[1.0])|(18,[0,1,2,3,4,5,...|\n",
      "|           3.0|         4.0|              4.0|          3.5|         3.5|     5.2|                  1549|                128|               155|  (10,[6],[1.0])|(18,[0,1,2,3,4,5,...|\n",
      "|           3.0|         4.0|              4.0|          3.5|         3.5|     5.5|                  1549|                 14|                34|  (10,[7],[1.0])|(18,[0,1,2,3,4,5,...|\n",
      "|           3.0|         4.0|              4.0|          4.0|         4.0|     8.3|                  1549|                 78|               371|  (10,[0],[1.0])|(18,[0,1,2,3,4,5,...|\n",
      "|           4.0|         4.5|              4.0|          4.5|         4.0|     8.3|                   174|                 78|               371|  (10,[0],[1.0])|(18,[0,1,2,3,4,5,...|\n",
      "|           4.0|         4.0|              4.0|          4.0|         3.5|     9.5|                   186|                 94|                11|  (10,[2],[1.0])|(18,[0,1,2,3,4,5,...|\n",
      "|           3.5|         3.5|              4.0|          4.0|         3.5|     8.3|                  4283|                 78|               371|  (10,[0],[1.0])|(18,[0,1,2,3,4,5,...|\n",
      "|           4.5|         2.5|              2.5|          3.0|         4.0|     5.0|                     2|                  2|                63|  (10,[6],[1.0])|(18,[0,1,2,3,4,5,...|\n",
      "|           4.0|         4.0|              4.0|          4.0|         4.5|     9.5|                   375|                 34|               166|  (10,[4],[1.0])|(18,[0,1,2,3,4,5,...|\n",
      "|           4.5|         4.5|              4.0|          4.5|         4.5|    10.2|                    66|                 36|               104|  (10,[8],[1.0])|(18,[0,1,2,3,4,5,...|\n",
      "|           2.5|         2.5|              4.0|          4.0|         3.0|     6.0|                     4|                 10|               811|  (10,[0],[1.0])|(18,[0,1,2,3,4,5,...|\n",
      "|           4.0|         2.0|              3.5|          4.0|         4.0|     5.5|                  2247|                  9|                19|  (10,[6],[1.0])|(18,[0,1,2,3,4,5,...|\n",
      "|           4.0|         4.0|              4.0|          4.0|         4.5|    10.2|                   192|                 36|               104|  (10,[8],[1.0])|(18,[0,1,2,3,4,5,...|\n",
      "|           3.0|         2.5|              3.0|          3.0|         3.0|     5.2|                  2247|                 19|                 4|  (10,[3],[1.0])|(18,[0,1,2,3,4,5,...|\n",
      "|           4.0|         3.5|              3.5|          3.5|         3.5|     4.5|                   884|                 12|                11|  (10,[0],[1.0])|(18,[0,1,2,3,4,5,...|\n",
      "|           4.0|         4.0|              4.0|          4.0|         3.5|     5.4|                   884|                  9|                12|  (10,[7],[1.0])|(18,[0,1,2,3,4,5,...|\n",
      "+--------------+------------+-----------------+-------------+------------+--------+----------------------+-------------------+------------------+----------------+--------------------+\n",
      "only showing top 20 rows\n",
      "\n"
     ]
    }
   ],
   "source": [
    "# Displaying current df so far\n",
    "\n",
    "df.show()"
   ]
  },
  {
   "cell_type": "markdown",
   "metadata": {
    "application/vnd.databricks.v1+cell": {
     "cellMetadata": {
      "byteLimit": 2048000,
      "rowLimit": 10000
     },
     "inputWidgets": {},
     "nuid": "af1e333c-ea0f-4115-bd0e-5dda2839cb21",
     "showTitle": false,
     "title": ""
    }
   },
   "source": [
    "## Correlations between each column and the outcome variable, review_overall"
   ]
  },
  {
   "cell_type": "code",
   "execution_count": null,
   "metadata": {
    "application/vnd.databricks.v1+cell": {
     "cellMetadata": {
      "byteLimit": 2048000,
      "rowLimit": 10000
     },
     "inputWidgets": {},
     "nuid": "4d65c018-b2ff-40c5-97ce-d6f082fe25b8",
     "showTitle": false,
     "title": ""
    }
   },
   "outputs": [],
   "source": [
    "from pyspark.ml.stat import Correlation"
   ]
  },
  {
   "cell_type": "markdown",
   "metadata": {
    "application/vnd.databricks.v1+cell": {
     "cellMetadata": {
      "byteLimit": 2048000,
      "rowLimit": 10000
     },
     "inputWidgets": {},
     "nuid": "edcc8b74-8274-49a7-98b3-d55e5e17d404",
     "showTitle": false,
     "title": ""
    }
   },
   "source": [
    "### Aroma"
   ]
  },
  {
   "cell_type": "code",
   "execution_count": null,
   "metadata": {
    "application/vnd.databricks.v1+cell": {
     "cellMetadata": {
      "byteLimit": 2048000,
      "rowLimit": 10000
     },
     "inputWidgets": {},
     "nuid": "41d20684-517d-4726-b3c4-eb18faa52713",
     "showTitle": false,
     "title": ""
    }
   },
   "outputs": [
    {
     "name": "stdout",
     "output_type": "stream",
     "text": [
      "+------------+--------------+\n",
      "|review_aroma|review_overall|\n",
      "+------------+--------------+\n",
      "|         4.0|           4.0|\n",
      "|         4.5|           4.0|\n",
      "|         4.0|           4.5|\n",
      "+------------+--------------+\n",
      "only showing top 3 rows\n",
      "\n"
     ]
    }
   ],
   "source": [
    "\n",
    "aroma_overall = df.select(\"review_aroma\", \"review_overall\")\n",
    "aroma_overall.show(3)"
   ]
  },
  {
   "cell_type": "code",
   "execution_count": null,
   "metadata": {
    "application/vnd.databricks.v1+cell": {
     "cellMetadata": {
      "byteLimit": 2048000,
      "rowLimit": 10000
     },
     "inputWidgets": {},
     "nuid": "c937406c-5840-4279-ab3e-b0620b16058e",
     "showTitle": false,
     "title": ""
    }
   },
   "outputs": [],
   "source": [
    "from pyspark.ml.feature import VectorAssembler\n",
    "assembler = VectorAssembler(inputCols=aroma_overall.columns, outputCol=\"features\")\n",
    "df_new_aro_ov=assembler.transform(aroma_overall)"
   ]
  },
  {
   "cell_type": "code",
   "execution_count": null,
   "metadata": {
    "application/vnd.databricks.v1+cell": {
     "cellMetadata": {
      "byteLimit": 2048000,
      "rowLimit": 10000
     },
     "inputWidgets": {},
     "nuid": "98f34ec1-0574-42aa-a66f-75d042517b5c",
     "showTitle": false,
     "title": ""
    }
   },
   "outputs": [
    {
     "name": "stdout",
     "output_type": "stream",
     "text": [
      "+------------+--------------+---------+\n",
      "|review_aroma|review_overall| features|\n",
      "+------------+--------------+---------+\n",
      "|         4.0|           4.0|[4.0,4.0]|\n",
      "|         4.5|           4.0|[4.5,4.0]|\n",
      "|         4.0|           4.5|[4.0,4.5]|\n",
      "+------------+--------------+---------+\n",
      "only showing top 3 rows\n",
      "\n"
     ]
    }
   ],
   "source": [
    "df_new_aro_ov.show(3)"
   ]
  },
  {
   "cell_type": "code",
   "execution_count": null,
   "metadata": {
    "application/vnd.databricks.v1+cell": {
     "cellMetadata": {
      "byteLimit": 2048000,
      "rowLimit": 10000
     },
     "inputWidgets": {},
     "nuid": "749802e5-c2e2-456a-9b49-8da13802c859",
     "showTitle": false,
     "title": ""
    }
   },
   "outputs": [
    {
     "data": {
      "text/html": [
       "<style scoped>\n",
       "  .table-result-container {\n",
       "    max-height: 300px;\n",
       "    overflow: auto;\n",
       "  }\n",
       "  table, th, td {\n",
       "    border: 1px solid black;\n",
       "    border-collapse: collapse;\n",
       "  }\n",
       "  th, td {\n",
       "    padding: 5px;\n",
       "  }\n",
       "  th {\n",
       "    text-align: left;\n",
       "  }\n",
       "</style><div class='table-result-container'><table class='table-result'><thead style='background-color: white'><tr><th>spearman(features)</th></tr></thead><tbody><tr><td>1.0                 0.5545310454436013  \n",
       "0.5545310454436013  1.0                 </td></tr></tbody></table></div>"
      ]
     },
     "metadata": {
      "application/vnd.databricks.v1+output": {
       "addedWidgets": {},
       "aggData": [],
       "aggError": "",
       "aggOverflow": false,
       "aggSchema": [],
       "aggSeriesLimitReached": false,
       "aggType": "",
       "arguments": {},
       "columnCustomDisplayInfos": {},
       "data": [
        [
         "1.0                 0.5545310454436013  \n0.5545310454436013  1.0                 "
        ]
       ],
       "datasetInfos": [],
       "dbfsResultPath": null,
       "isJsonSchema": true,
       "metadata": {},
       "overflow": false,
       "plotOptions": {
        "customPlotOptions": {},
        "displayType": "table",
        "pivotAggregation": null,
        "pivotColumns": null,
        "xColumns": null,
        "yColumns": null
       },
       "removedWidgets": [],
       "schema": [
        {
         "metadata": "{}",
         "name": "spearman(features)",
         "type": "{\"type\":\"udt\",\"class\":\"org.apache.spark.ml.linalg.MatrixUDT\",\"pyClass\":\"pyspark.ml.linalg.MatrixUDT\",\"sqlType\":{\"type\":\"struct\",\"fields\":[{\"name\":\"type\",\"type\":\"byte\",\"nullable\":false,\"metadata\":{}},{\"name\":\"numRows\",\"type\":\"integer\",\"nullable\":false,\"metadata\":{}},{\"name\":\"numCols\",\"type\":\"integer\",\"nullable\":false,\"metadata\":{}},{\"name\":\"colPtrs\",\"type\":{\"type\":\"array\",\"elementType\":\"integer\",\"containsNull\":false},\"nullable\":true,\"metadata\":{}},{\"name\":\"rowIndices\",\"type\":{\"type\":\"array\",\"elementType\":\"integer\",\"containsNull\":false},\"nullable\":true,\"metadata\":{}},{\"name\":\"values\",\"type\":{\"type\":\"array\",\"elementType\":\"double\",\"containsNull\":false},\"nullable\":true,\"metadata\":{}},{\"name\":\"isTransposed\",\"type\":\"boolean\",\"nullable\":false,\"metadata\":{}}]}}"
        }
       ],
       "type": "table"
      }
     },
     "output_type": "display_data"
    }
   ],
   "source": [
    "# With spearman score of .5545 the features are slightly strong correlation\n",
    "spearman_co_aro=Correlation.corr(df_new_aro_ov,'features',\"spearman\")\n",
    "spearman_co_aro.display(2,False)"
   ]
  },
  {
   "cell_type": "markdown",
   "metadata": {
    "application/vnd.databricks.v1+cell": {
     "cellMetadata": {
      "byteLimit": 2048000,
      "rowLimit": 10000
     },
     "inputWidgets": {},
     "nuid": "6021e91a-f1cf-40d8-9eb8-df74f4446501",
     "showTitle": false,
     "title": ""
    }
   },
   "source": [
    "### Appearance"
   ]
  },
  {
   "cell_type": "code",
   "execution_count": null,
   "metadata": {
    "application/vnd.databricks.v1+cell": {
     "cellMetadata": {
      "byteLimit": 2048000,
      "rowLimit": 10000
     },
     "inputWidgets": {},
     "nuid": "8cbefdcb-ae5a-4b9b-a935-41d57cf42e93",
     "showTitle": false,
     "title": ""
    }
   },
   "outputs": [
    {
     "name": "stdout",
     "output_type": "stream",
     "text": [
      "+-----------------+--------------+\n",
      "|review_appearance|review_overall|\n",
      "+-----------------+--------------+\n",
      "|              4.0|           4.0|\n",
      "|              4.0|           4.0|\n",
      "|              4.0|           4.5|\n",
      "+-----------------+--------------+\n",
      "only showing top 3 rows\n",
      "\n"
     ]
    }
   ],
   "source": [
    "appear_overall = df.select(\"review_appearance\", \"review_overall\")\n",
    "appear_overall.show(3)"
   ]
  },
  {
   "cell_type": "code",
   "execution_count": null,
   "metadata": {
    "application/vnd.databricks.v1+cell": {
     "cellMetadata": {
      "byteLimit": 2048000,
      "rowLimit": 10000
     },
     "inputWidgets": {},
     "nuid": "66b595aa-ef84-4373-8db4-a2144671e778",
     "showTitle": false,
     "title": ""
    }
   },
   "outputs": [],
   "source": [
    "from pyspark.ml.feature import VectorAssembler\n",
    "assembler = VectorAssembler(inputCols=appear_overall.columns, outputCol=\"features\")\n",
    "df_new_app_ov=assembler.transform(appear_overall)"
   ]
  },
  {
   "cell_type": "code",
   "execution_count": null,
   "metadata": {
    "application/vnd.databricks.v1+cell": {
     "cellMetadata": {
      "byteLimit": 2048000,
      "rowLimit": 10000
     },
     "inputWidgets": {},
     "nuid": "f8a91bdf-1d5b-4be6-bf24-ef7eed56ff88",
     "showTitle": false,
     "title": ""
    }
   },
   "outputs": [
    {
     "name": "stdout",
     "output_type": "stream",
     "text": [
      "+-----------------+--------------+---------+\n",
      "|review_appearance|review_overall| features|\n",
      "+-----------------+--------------+---------+\n",
      "|              4.0|           4.0|[4.0,4.0]|\n",
      "|              4.0|           4.0|[4.0,4.0]|\n",
      "|              4.0|           4.5|[4.0,4.5]|\n",
      "+-----------------+--------------+---------+\n",
      "only showing top 3 rows\n",
      "\n"
     ]
    }
   ],
   "source": [
    "df_new_app_ov.show(3)"
   ]
  },
  {
   "cell_type": "code",
   "execution_count": null,
   "metadata": {
    "application/vnd.databricks.v1+cell": {
     "cellMetadata": {
      "byteLimit": 2048000,
      "rowLimit": 10000
     },
     "inputWidgets": {},
     "nuid": "473478d0-4048-4856-a2af-84ca932f4246",
     "showTitle": false,
     "title": ""
    }
   },
   "outputs": [
    {
     "name": "stdout",
     "output_type": "stream",
     "text": [
      "+--------------------------------------------------------------------------------------+\n",
      "|spearman(features)                                                                    |\n",
      "+--------------------------------------------------------------------------------------+\n",
      "|1.0                  0.45131790078699796  \\n0.45131790078699796  1.0                  |\n",
      "+--------------------------------------------------------------------------------------+\n",
      "\n"
     ]
    }
   ],
   "source": [
    "# With spearman score of .4513 the features have a moderate correlation\n",
    "\n",
    "spearman_co_app=Correlation.corr(df_new_app_ov,'features',\"spearman\")\n",
    "spearman_co_app.show(2,False)"
   ]
  },
  {
   "cell_type": "markdown",
   "metadata": {
    "application/vnd.databricks.v1+cell": {
     "cellMetadata": {
      "byteLimit": 2048000,
      "rowLimit": 10000
     },
     "inputWidgets": {},
     "nuid": "06131a89-06c3-4450-a475-8fbaeb0d3f0b",
     "showTitle": false,
     "title": ""
    }
   },
   "source": [
    "### Palate"
   ]
  },
  {
   "cell_type": "code",
   "execution_count": null,
   "metadata": {
    "application/vnd.databricks.v1+cell": {
     "cellMetadata": {
      "byteLimit": 2048000,
      "rowLimit": 10000
     },
     "inputWidgets": {},
     "nuid": "95205db6-da4a-4f7f-8fd8-ebe710a78daa",
     "showTitle": false,
     "title": ""
    }
   },
   "outputs": [
    {
     "name": "stdout",
     "output_type": "stream",
     "text": [
      "+-------------+--------------+\n",
      "|review_palate|review_overall|\n",
      "+-------------+--------------+\n",
      "|          4.0|           4.0|\n",
      "|          4.0|           4.0|\n",
      "|          4.5|           4.5|\n",
      "+-------------+--------------+\n",
      "only showing top 3 rows\n",
      "\n"
     ]
    }
   ],
   "source": [
    "palate_overall = df.select(\"review_palate\", \"review_overall\")\n",
    "palate_overall.show(3)"
   ]
  },
  {
   "cell_type": "code",
   "execution_count": null,
   "metadata": {
    "application/vnd.databricks.v1+cell": {
     "cellMetadata": {
      "byteLimit": 2048000,
      "rowLimit": 10000
     },
     "inputWidgets": {},
     "nuid": "7ccebb47-b70f-460b-ab1e-0ff1817f1a42",
     "showTitle": false,
     "title": ""
    }
   },
   "outputs": [],
   "source": [
    "from pyspark.ml.feature import VectorAssembler\n",
    "assembler = VectorAssembler(inputCols=palate_overall.columns, outputCol=\"features\")\n",
    "df_new_pal_ov=assembler.transform(palate_overall)"
   ]
  },
  {
   "cell_type": "code",
   "execution_count": null,
   "metadata": {
    "application/vnd.databricks.v1+cell": {
     "cellMetadata": {
      "byteLimit": 2048000,
      "rowLimit": 10000
     },
     "inputWidgets": {},
     "nuid": "7ef99230-6bdb-43a1-82db-04f45e563943",
     "showTitle": false,
     "title": ""
    }
   },
   "outputs": [
    {
     "name": "stdout",
     "output_type": "stream",
     "text": [
      "+-------------+--------------+---------+\n",
      "|review_palate|review_overall| features|\n",
      "+-------------+--------------+---------+\n",
      "|          4.0|           4.0|[4.0,4.0]|\n",
      "|          4.0|           4.0|[4.0,4.0]|\n",
      "|          4.5|           4.5|[4.5,4.5]|\n",
      "+-------------+--------------+---------+\n",
      "only showing top 3 rows\n",
      "\n"
     ]
    }
   ],
   "source": [
    "df_new_pal_ov.show(3)"
   ]
  },
  {
   "cell_type": "code",
   "execution_count": null,
   "metadata": {
    "application/vnd.databricks.v1+cell": {
     "cellMetadata": {
      "byteLimit": 2048000,
      "rowLimit": 10000
     },
     "inputWidgets": {},
     "nuid": "36a42615-237b-479f-998b-3b7d1fab23f0",
     "showTitle": false,
     "title": ""
    }
   },
   "outputs": [
    {
     "name": "stdout",
     "output_type": "stream",
     "text": [
      "+----------------------------------------------------------------------------------+\n",
      "|spearman(features)                                                                |\n",
      "+----------------------------------------------------------------------------------+\n",
      "|1.0                 0.6501944858199998  \\n0.6501944858199998  1.0                 |\n",
      "+----------------------------------------------------------------------------------+\n",
      "\n"
     ]
    }
   ],
   "source": [
    "# With spearman score of .6502 the features have a decently strong correlation\n",
    "\n",
    "spearman_co_pal=Correlation.corr(df_new_pal_ov,'features',\"spearman\")\n",
    "spearman_co_pal.show(2,False)"
   ]
  },
  {
   "cell_type": "markdown",
   "metadata": {
    "application/vnd.databricks.v1+cell": {
     "cellMetadata": {
      "byteLimit": 2048000,
      "rowLimit": 10000
     },
     "inputWidgets": {},
     "nuid": "9e443958-2694-483a-8fee-1f6f2fff9fb5",
     "showTitle": false,
     "title": ""
    }
   },
   "source": [
    "### Taste"
   ]
  },
  {
   "cell_type": "code",
   "execution_count": null,
   "metadata": {
    "application/vnd.databricks.v1+cell": {
     "cellMetadata": {
      "byteLimit": 2048000,
      "rowLimit": 10000
     },
     "inputWidgets": {},
     "nuid": "0f37f6cb-3c49-46a1-a905-2dab24948e83",
     "showTitle": false,
     "title": ""
    }
   },
   "outputs": [
    {
     "name": "stdout",
     "output_type": "stream",
     "text": [
      "+------------+--------------+\n",
      "|review_taste|review_overall|\n",
      "+------------+--------------+\n",
      "|         3.5|           4.0|\n",
      "|         4.5|           4.0|\n",
      "|         4.5|           4.5|\n",
      "+------------+--------------+\n",
      "only showing top 3 rows\n",
      "\n"
     ]
    }
   ],
   "source": [
    "taste_overall = df.select(\"review_taste\", \"review_overall\")\n",
    "taste_overall.show(3)"
   ]
  },
  {
   "cell_type": "code",
   "execution_count": null,
   "metadata": {
    "application/vnd.databricks.v1+cell": {
     "cellMetadata": {
      "byteLimit": 2048000,
      "rowLimit": 10000
     },
     "inputWidgets": {},
     "nuid": "744b2901-23e2-4b23-97c3-1601dd9489a2",
     "showTitle": false,
     "title": ""
    }
   },
   "outputs": [],
   "source": [
    "from pyspark.ml.feature import VectorAssembler\n",
    "assembler = VectorAssembler(inputCols=taste_overall.columns, outputCol=\"features\")\n",
    "df_new_taste_ov=assembler.transform(taste_overall)"
   ]
  },
  {
   "cell_type": "code",
   "execution_count": null,
   "metadata": {
    "application/vnd.databricks.v1+cell": {
     "cellMetadata": {
      "byteLimit": 2048000,
      "rowLimit": 10000
     },
     "inputWidgets": {},
     "nuid": "af70e995-f2dc-4af3-8cca-8cad0576f53b",
     "showTitle": false,
     "title": ""
    }
   },
   "outputs": [
    {
     "name": "stdout",
     "output_type": "stream",
     "text": [
      "+------------+--------------+---------+\n",
      "|review_taste|review_overall| features|\n",
      "+------------+--------------+---------+\n",
      "|         3.5|           4.0|[3.5,4.0]|\n",
      "|         4.5|           4.0|[4.5,4.0]|\n",
      "|         4.5|           4.5|[4.5,4.5]|\n",
      "+------------+--------------+---------+\n",
      "only showing top 3 rows\n",
      "\n"
     ]
    }
   ],
   "source": [
    "df_new_taste_ov.show(3)"
   ]
  },
  {
   "cell_type": "code",
   "execution_count": null,
   "metadata": {
    "application/vnd.databricks.v1+cell": {
     "cellMetadata": {
      "byteLimit": 2048000,
      "rowLimit": 10000
     },
     "inputWidgets": {},
     "nuid": "9bd728fe-e493-4a90-b01e-85f64e0afef8",
     "showTitle": false,
     "title": ""
    }
   },
   "outputs": [
    {
     "data": {
      "text/html": [
       "<style scoped>\n",
       "  .table-result-container {\n",
       "    max-height: 300px;\n",
       "    overflow: auto;\n",
       "  }\n",
       "  table, th, td {\n",
       "    border: 1px solid black;\n",
       "    border-collapse: collapse;\n",
       "  }\n",
       "  th, td {\n",
       "    padding: 5px;\n",
       "  }\n",
       "  th {\n",
       "    text-align: left;\n",
       "  }\n",
       "</style><div class='table-result-container'><table class='table-result'><thead style='background-color: white'><tr><th>spearman(features)</th></tr></thead><tbody><tr><td>1.0                0.726737163589635  \n",
       "0.726737163589635  1.0                </td></tr></tbody></table></div>"
      ]
     },
     "metadata": {
      "application/vnd.databricks.v1+output": {
       "addedWidgets": {},
       "aggData": [],
       "aggError": "",
       "aggOverflow": false,
       "aggSchema": [],
       "aggSeriesLimitReached": false,
       "aggType": "",
       "arguments": {},
       "columnCustomDisplayInfos": {},
       "data": [
        [
         "1.0                0.726737163589635  \n0.726737163589635  1.0                "
        ]
       ],
       "datasetInfos": [],
       "dbfsResultPath": null,
       "isJsonSchema": true,
       "metadata": {},
       "overflow": false,
       "plotOptions": {
        "customPlotOptions": {},
        "displayType": "table",
        "pivotAggregation": null,
        "pivotColumns": null,
        "xColumns": null,
        "yColumns": null
       },
       "removedWidgets": [],
       "schema": [
        {
         "metadata": "{}",
         "name": "spearman(features)",
         "type": "{\"type\":\"udt\",\"class\":\"org.apache.spark.ml.linalg.MatrixUDT\",\"pyClass\":\"pyspark.ml.linalg.MatrixUDT\",\"sqlType\":{\"type\":\"struct\",\"fields\":[{\"name\":\"type\",\"type\":\"byte\",\"nullable\":false,\"metadata\":{}},{\"name\":\"numRows\",\"type\":\"integer\",\"nullable\":false,\"metadata\":{}},{\"name\":\"numCols\",\"type\":\"integer\",\"nullable\":false,\"metadata\":{}},{\"name\":\"colPtrs\",\"type\":{\"type\":\"array\",\"elementType\":\"integer\",\"containsNull\":false},\"nullable\":true,\"metadata\":{}},{\"name\":\"rowIndices\",\"type\":{\"type\":\"array\",\"elementType\":\"integer\",\"containsNull\":false},\"nullable\":true,\"metadata\":{}},{\"name\":\"values\",\"type\":{\"type\":\"array\",\"elementType\":\"double\",\"containsNull\":false},\"nullable\":true,\"metadata\":{}},{\"name\":\"isTransposed\",\"type\":\"boolean\",\"nullable\":false,\"metadata\":{}}]}}"
        }
       ],
       "type": "table"
      }
     },
     "output_type": "display_data"
    }
   ],
   "source": [
    "# With spearman score of .7267 the features have a strong correlation\n",
    "\n",
    "spearman_co_taste=Correlation.corr(df_new_taste_ov,'features',\"spearman\")\n",
    "spearman_co_taste.display(2,False)"
   ]
  },
  {
   "cell_type": "markdown",
   "metadata": {
    "application/vnd.databricks.v1+cell": {
     "cellMetadata": {
      "byteLimit": 2048000,
      "rowLimit": 10000
     },
     "inputWidgets": {},
     "nuid": "0029c3cd-7336-4db4-96a8-1528be526d6f",
     "showTitle": false,
     "title": ""
    }
   },
   "source": [
    "### Beer ABV"
   ]
  },
  {
   "cell_type": "code",
   "execution_count": null,
   "metadata": {
    "application/vnd.databricks.v1+cell": {
     "cellMetadata": {
      "byteLimit": 2048000,
      "rowLimit": 10000
     },
     "inputWidgets": {},
     "nuid": "9b9ea5a0-368c-450b-9bfe-605f1ad00bc9",
     "showTitle": false,
     "title": ""
    }
   },
   "outputs": [
    {
     "name": "stdout",
     "output_type": "stream",
     "text": [
      "+--------+--------------+\n",
      "|beer_abv|review_overall|\n",
      "+--------+--------------+\n",
      "|    12.0|           4.0|\n",
      "|    9.46|           4.0|\n",
      "|     6.0|           4.5|\n",
      "+--------+--------------+\n",
      "only showing top 3 rows\n",
      "\n"
     ]
    }
   ],
   "source": [
    "abv_overall = df.select(\"beer_abv\", \"review_overall\")\n",
    "abv_overall.show(3)"
   ]
  },
  {
   "cell_type": "code",
   "execution_count": null,
   "metadata": {
    "application/vnd.databricks.v1+cell": {
     "cellMetadata": {
      "byteLimit": 2048000,
      "rowLimit": 10000
     },
     "inputWidgets": {},
     "nuid": "5668d159-84b2-4248-9350-f8588a87212f",
     "showTitle": false,
     "title": ""
    }
   },
   "outputs": [],
   "source": [
    "from pyspark.ml.feature import VectorAssembler\n",
    "assembler = VectorAssembler(inputCols=abv_overall.columns, outputCol=\"features\")\n",
    "df_new_abv_ov=assembler.transform(abv_overall)"
   ]
  },
  {
   "cell_type": "code",
   "execution_count": null,
   "metadata": {
    "application/vnd.databricks.v1+cell": {
     "cellMetadata": {
      "byteLimit": 2048000,
      "rowLimit": 10000
     },
     "inputWidgets": {},
     "nuid": "36f779a8-e553-4001-991a-49a11ba246d3",
     "showTitle": false,
     "title": ""
    }
   },
   "outputs": [
    {
     "name": "stdout",
     "output_type": "stream",
     "text": [
      "+--------+--------------+----------+\n",
      "|beer_abv|review_overall|  features|\n",
      "+--------+--------------+----------+\n",
      "|    12.0|           4.0|[12.0,4.0]|\n",
      "|    9.46|           4.0|[9.46,4.0]|\n",
      "|     6.0|           4.5| [6.0,4.5]|\n",
      "+--------+--------------+----------+\n",
      "only showing top 3 rows\n",
      "\n"
     ]
    }
   ],
   "source": [
    "df_new_abv_ov.show(3)"
   ]
  },
  {
   "cell_type": "code",
   "execution_count": null,
   "metadata": {
    "application/vnd.databricks.v1+cell": {
     "cellMetadata": {
      "byteLimit": 2048000,
      "rowLimit": 10000
     },
     "inputWidgets": {},
     "nuid": "e75ecdb7-9095-4080-a5d5-c30a7c64a3ce",
     "showTitle": false,
     "title": ""
    }
   },
   "outputs": [
    {
     "data": {
      "text/html": [
       "<style scoped>\n",
       "  .table-result-container {\n",
       "    max-height: 300px;\n",
       "    overflow: auto;\n",
       "  }\n",
       "  table, th, td {\n",
       "    border: 1px solid black;\n",
       "    border-collapse: collapse;\n",
       "  }\n",
       "  th, td {\n",
       "    padding: 5px;\n",
       "  }\n",
       "  th {\n",
       "    text-align: left;\n",
       "  }\n",
       "</style><div class='table-result-container'><table class='table-result'><thead style='background-color: white'><tr><th>spearman(features)</th></tr></thead><tbody><tr><td>1.0                  0.17401109082896948  \n",
       "0.17401109082896948  1.0                  </td></tr></tbody></table></div>"
      ]
     },
     "metadata": {
      "application/vnd.databricks.v1+output": {
       "addedWidgets": {},
       "aggData": [],
       "aggError": "",
       "aggOverflow": false,
       "aggSchema": [],
       "aggSeriesLimitReached": false,
       "aggType": "",
       "arguments": {},
       "columnCustomDisplayInfos": {},
       "data": [
        [
         "1.0                  0.17401109082896948  \n0.17401109082896948  1.0                  "
        ]
       ],
       "datasetInfos": [],
       "dbfsResultPath": null,
       "isJsonSchema": true,
       "metadata": {},
       "overflow": false,
       "plotOptions": {
        "customPlotOptions": {},
        "displayType": "table",
        "pivotAggregation": null,
        "pivotColumns": null,
        "xColumns": null,
        "yColumns": null
       },
       "removedWidgets": [],
       "schema": [
        {
         "metadata": "{}",
         "name": "spearman(features)",
         "type": "{\"type\":\"udt\",\"class\":\"org.apache.spark.ml.linalg.MatrixUDT\",\"pyClass\":\"pyspark.ml.linalg.MatrixUDT\",\"sqlType\":{\"type\":\"struct\",\"fields\":[{\"name\":\"type\",\"type\":\"byte\",\"nullable\":false,\"metadata\":{}},{\"name\":\"numRows\",\"type\":\"integer\",\"nullable\":false,\"metadata\":{}},{\"name\":\"numCols\",\"type\":\"integer\",\"nullable\":false,\"metadata\":{}},{\"name\":\"colPtrs\",\"type\":{\"type\":\"array\",\"elementType\":\"integer\",\"containsNull\":false},\"nullable\":true,\"metadata\":{}},{\"name\":\"rowIndices\",\"type\":{\"type\":\"array\",\"elementType\":\"integer\",\"containsNull\":false},\"nullable\":true,\"metadata\":{}},{\"name\":\"values\",\"type\":{\"type\":\"array\",\"elementType\":\"double\",\"containsNull\":false},\"nullable\":true,\"metadata\":{}},{\"name\":\"isTransposed\",\"type\":\"boolean\",\"nullable\":false,\"metadata\":{}}]}}"
        }
       ],
       "type": "table"
      }
     },
     "output_type": "display_data"
    }
   ],
   "source": [
    "# With spearman score of .1740 the features have no real correlation at all\n",
    "\n",
    "spearman_co_abv=Correlation.corr(df_new_abv_ov,'features', \"spearman\")\n",
    "spearman_co_abv.display(2,False)"
   ]
  },
  {
   "cell_type": "markdown",
   "metadata": {
    "application/vnd.databricks.v1+cell": {
     "cellMetadata": {
      "byteLimit": 2048000,
      "rowLimit": 10000
     },
     "inputWidgets": {},
     "nuid": "2c90606b-484d-4429-8466-4ba1d9823f12",
     "showTitle": false,
     "title": ""
    }
   },
   "source": [
    "### Reviewer Total Reviews"
   ]
  },
  {
   "cell_type": "code",
   "execution_count": null,
   "metadata": {
    "application/vnd.databricks.v1+cell": {
     "cellMetadata": {
      "byteLimit": 2048000,
      "rowLimit": 10000
     },
     "inputWidgets": {},
     "nuid": "e20d3a9a-ae40-4973-942c-f052f2e25dc8",
     "showTitle": false,
     "title": ""
    }
   },
   "outputs": [
    {
     "name": "stdout",
     "output_type": "stream",
     "text": [
      "+----------------------+--------------+\n",
      "|reviewer_total_reviews|review_overall|\n",
      "+----------------------+--------------+\n",
      "|                  1587|           4.0|\n",
      "|                   388|           4.0|\n",
      "|                   144|           4.5|\n",
      "+----------------------+--------------+\n",
      "only showing top 3 rows\n",
      "\n"
     ]
    }
   ],
   "source": [
    "count_overall = df.select(\"reviewer_total_reviews\", \"review_overall\")\n",
    "count_overall.show(3)"
   ]
  },
  {
   "cell_type": "code",
   "execution_count": null,
   "metadata": {
    "application/vnd.databricks.v1+cell": {
     "cellMetadata": {
      "byteLimit": 2048000,
      "rowLimit": 10000
     },
     "inputWidgets": {},
     "nuid": "50ce645a-54cf-40bb-bbe3-87e6ed12e0cb",
     "showTitle": false,
     "title": ""
    }
   },
   "outputs": [],
   "source": [
    "from pyspark.ml.feature import VectorAssembler\n",
    "assembler = VectorAssembler(inputCols=count_overall.columns, outputCol=\"features\")\n",
    "df_new_ct_ov=assembler.transform(count_overall)"
   ]
  },
  {
   "cell_type": "code",
   "execution_count": null,
   "metadata": {
    "application/vnd.databricks.v1+cell": {
     "cellMetadata": {
      "byteLimit": 2048000,
      "rowLimit": 10000
     },
     "inputWidgets": {},
     "nuid": "6e88b869-1807-47cc-b8bf-970daffef2bd",
     "showTitle": false,
     "title": ""
    }
   },
   "outputs": [
    {
     "name": "stdout",
     "output_type": "stream",
     "text": [
      "+----------------------+--------------+------------+\n",
      "|reviewer_total_reviews|review_overall|    features|\n",
      "+----------------------+--------------+------------+\n",
      "|                  1587|           4.0|[1587.0,4.0]|\n",
      "|                   388|           4.0| [388.0,4.0]|\n",
      "|                   144|           4.5| [144.0,4.5]|\n",
      "+----------------------+--------------+------------+\n",
      "only showing top 3 rows\n",
      "\n"
     ]
    }
   ],
   "source": [
    "df_new_ct_ov.show(3)"
   ]
  },
  {
   "cell_type": "code",
   "execution_count": null,
   "metadata": {
    "application/vnd.databricks.v1+cell": {
     "cellMetadata": {
      "byteLimit": 2048000,
      "rowLimit": 10000
     },
     "inputWidgets": {},
     "nuid": "b908f849-6911-4011-996d-8f031ce0ccba",
     "showTitle": false,
     "title": ""
    }
   },
   "outputs": [
    {
     "data": {
      "text/html": [
       "<style scoped>\n",
       "  .table-result-container {\n",
       "    max-height: 300px;\n",
       "    overflow: auto;\n",
       "  }\n",
       "  table, th, td {\n",
       "    border: 1px solid black;\n",
       "    border-collapse: collapse;\n",
       "  }\n",
       "  th, td {\n",
       "    padding: 5px;\n",
       "  }\n",
       "  th {\n",
       "    text-align: left;\n",
       "  }\n",
       "</style><div class='table-result-container'><table class='table-result'><thead style='background-color: white'><tr><th>spearman(features)</th></tr></thead><tbody><tr><td>1.0                  -0.0663082712349847  \n",
       "-0.0663082712349847  1.0                  </td></tr></tbody></table></div>"
      ]
     },
     "metadata": {
      "application/vnd.databricks.v1+output": {
       "addedWidgets": {},
       "aggData": [],
       "aggError": "",
       "aggOverflow": false,
       "aggSchema": [],
       "aggSeriesLimitReached": false,
       "aggType": "",
       "arguments": {},
       "columnCustomDisplayInfos": {},
       "data": [
        [
         "1.0                  -0.0663082712349847  \n-0.0663082712349847  1.0                  "
        ]
       ],
       "datasetInfos": [],
       "dbfsResultPath": null,
       "isJsonSchema": true,
       "metadata": {},
       "overflow": false,
       "plotOptions": {
        "customPlotOptions": {},
        "displayType": "table",
        "pivotAggregation": null,
        "pivotColumns": null,
        "xColumns": null,
        "yColumns": null
       },
       "removedWidgets": [],
       "schema": [
        {
         "metadata": "{}",
         "name": "spearman(features)",
         "type": "{\"type\":\"udt\",\"class\":\"org.apache.spark.ml.linalg.MatrixUDT\",\"pyClass\":\"pyspark.ml.linalg.MatrixUDT\",\"sqlType\":{\"type\":\"struct\",\"fields\":[{\"name\":\"type\",\"type\":\"byte\",\"nullable\":false,\"metadata\":{}},{\"name\":\"numRows\",\"type\":\"integer\",\"nullable\":false,\"metadata\":{}},{\"name\":\"numCols\",\"type\":\"integer\",\"nullable\":false,\"metadata\":{}},{\"name\":\"colPtrs\",\"type\":{\"type\":\"array\",\"elementType\":\"integer\",\"containsNull\":false},\"nullable\":true,\"metadata\":{}},{\"name\":\"rowIndices\",\"type\":{\"type\":\"array\",\"elementType\":\"integer\",\"containsNull\":false},\"nullable\":true,\"metadata\":{}},{\"name\":\"values\",\"type\":{\"type\":\"array\",\"elementType\":\"double\",\"containsNull\":false},\"nullable\":true,\"metadata\":{}},{\"name\":\"isTransposed\",\"type\":\"boolean\",\"nullable\":false,\"metadata\":{}}]}}"
        }
       ],
       "type": "table"
      }
     },
     "output_type": "display_data"
    }
   ],
   "source": [
    "# With spearman score of -0.0663 the features have no correlation even if it is a negative one\n",
    "\n",
    "spearman_co_ct=Correlation.corr(df_new_ct_ov,'features', \"spearman\")\n",
    "spearman_co_ct.display(2,False)"
   ]
  },
  {
   "cell_type": "markdown",
   "metadata": {
    "application/vnd.databricks.v1+cell": {
     "cellMetadata": {
      "byteLimit": 2048000,
      "rowLimit": 10000
     },
     "inputWidgets": {},
     "nuid": "f59bfcee-cb81-40e1-9e7a-13bdf7bb91e3",
     "showTitle": false,
     "title": ""
    }
   },
   "source": [
    "### Total Brewery Beers"
   ]
  },
  {
   "cell_type": "code",
   "execution_count": null,
   "metadata": {
    "application/vnd.databricks.v1+cell": {
     "cellMetadata": {
      "byteLimit": 2048000,
      "rowLimit": 10000
     },
     "inputWidgets": {},
     "nuid": "b97dcbe4-3332-43b5-8729-47a0ac09e28b",
     "showTitle": false,
     "title": ""
    }
   },
   "outputs": [
    {
     "name": "stdout",
     "output_type": "stream",
     "text": [
      "+-------------------+--------------+\n",
      "|total_brewery_beers|review_overall|\n",
      "+-------------------+--------------+\n",
      "|                 52|           4.0|\n",
      "|                 93|           4.0|\n",
      "|                 10|           4.5|\n",
      "+-------------------+--------------+\n",
      "only showing top 3 rows\n",
      "\n"
     ]
    }
   ],
   "source": [
    "tbb_overall = df.select(\"total_brewery_beers\", \"review_overall\")\n",
    "tbb_overall.show(3)"
   ]
  },
  {
   "cell_type": "code",
   "execution_count": null,
   "metadata": {
    "application/vnd.databricks.v1+cell": {
     "cellMetadata": {
      "byteLimit": 2048000,
      "rowLimit": 10000
     },
     "inputWidgets": {},
     "nuid": "9d627ccd-9161-4573-8b76-ecdc0aa979ab",
     "showTitle": false,
     "title": ""
    }
   },
   "outputs": [],
   "source": [
    "from pyspark.ml.feature import VectorAssembler\n",
    "assembler = VectorAssembler(inputCols=tbb_overall.columns, outputCol=\"features\")\n",
    "df_new_tbb_ov=assembler.transform(tbb_overall)"
   ]
  },
  {
   "cell_type": "code",
   "execution_count": null,
   "metadata": {
    "application/vnd.databricks.v1+cell": {
     "cellMetadata": {
      "byteLimit": 2048000,
      "rowLimit": 10000
     },
     "inputWidgets": {},
     "nuid": "4f39442e-09d0-4a1f-9015-bb94b10a56be",
     "showTitle": false,
     "title": ""
    }
   },
   "outputs": [
    {
     "name": "stdout",
     "output_type": "stream",
     "text": [
      "+-------------------+--------------+----------+\n",
      "|total_brewery_beers|review_overall|  features|\n",
      "+-------------------+--------------+----------+\n",
      "|                 52|           4.0|[52.0,4.0]|\n",
      "|                 93|           4.0|[93.0,4.0]|\n",
      "|                 10|           4.5|[10.0,4.5]|\n",
      "+-------------------+--------------+----------+\n",
      "only showing top 3 rows\n",
      "\n"
     ]
    }
   ],
   "source": [
    "df_new_tbb_ov.show(3)"
   ]
  },
  {
   "cell_type": "code",
   "execution_count": null,
   "metadata": {
    "application/vnd.databricks.v1+cell": {
     "cellMetadata": {
      "byteLimit": 2048000,
      "rowLimit": 10000
     },
     "inputWidgets": {},
     "nuid": "160b8b4c-c5da-460c-b8f5-e839e8497dbb",
     "showTitle": false,
     "title": ""
    }
   },
   "outputs": [
    {
     "data": {
      "text/html": [
       "<style scoped>\n",
       "  .table-result-container {\n",
       "    max-height: 300px;\n",
       "    overflow: auto;\n",
       "  }\n",
       "  table, th, td {\n",
       "    border: 1px solid black;\n",
       "    border-collapse: collapse;\n",
       "  }\n",
       "  th, td {\n",
       "    padding: 5px;\n",
       "  }\n",
       "  th {\n",
       "    text-align: left;\n",
       "  }\n",
       "</style><div class='table-result-container'><table class='table-result'><thead style='background-color: white'><tr><th>spearman(features)</th></tr></thead><tbody><tr><td>1.0                  0.11074428992754695  \n",
       "0.11074428992754695  1.0                  </td></tr></tbody></table></div>"
      ]
     },
     "metadata": {
      "application/vnd.databricks.v1+output": {
       "addedWidgets": {},
       "aggData": [],
       "aggError": "",
       "aggOverflow": false,
       "aggSchema": [],
       "aggSeriesLimitReached": false,
       "aggType": "",
       "arguments": {},
       "columnCustomDisplayInfos": {},
       "data": [
        [
         "1.0                  0.11074428992754695  \n0.11074428992754695  1.0                  "
        ]
       ],
       "datasetInfos": [],
       "dbfsResultPath": null,
       "isJsonSchema": true,
       "metadata": {},
       "overflow": false,
       "plotOptions": {
        "customPlotOptions": {},
        "displayType": "table",
        "pivotAggregation": null,
        "pivotColumns": null,
        "xColumns": null,
        "yColumns": null
       },
       "removedWidgets": [],
       "schema": [
        {
         "metadata": "{}",
         "name": "spearman(features)",
         "type": "{\"type\":\"udt\",\"class\":\"org.apache.spark.ml.linalg.MatrixUDT\",\"pyClass\":\"pyspark.ml.linalg.MatrixUDT\",\"sqlType\":{\"type\":\"struct\",\"fields\":[{\"name\":\"type\",\"type\":\"byte\",\"nullable\":false,\"metadata\":{}},{\"name\":\"numRows\",\"type\":\"integer\",\"nullable\":false,\"metadata\":{}},{\"name\":\"numCols\",\"type\":\"integer\",\"nullable\":false,\"metadata\":{}},{\"name\":\"colPtrs\",\"type\":{\"type\":\"array\",\"elementType\":\"integer\",\"containsNull\":false},\"nullable\":true,\"metadata\":{}},{\"name\":\"rowIndices\",\"type\":{\"type\":\"array\",\"elementType\":\"integer\",\"containsNull\":false},\"nullable\":true,\"metadata\":{}},{\"name\":\"values\",\"type\":{\"type\":\"array\",\"elementType\":\"double\",\"containsNull\":false},\"nullable\":true,\"metadata\":{}},{\"name\":\"isTransposed\",\"type\":\"boolean\",\"nullable\":false,\"metadata\":{}}]}}"
        }
       ],
       "type": "table"
      }
     },
     "output_type": "display_data"
    }
   ],
   "source": [
    "# With spearman score of .1107 the features have no real correlation at all\n",
    "\n",
    "spearman_co_tbb=Correlation.corr(df_new_tbb_ov,'features', \"spearman\")\n",
    "spearman_co_tbb.display(2,False)"
   ]
  },
  {
   "cell_type": "markdown",
   "metadata": {
    "application/vnd.databricks.v1+cell": {
     "cellMetadata": {
      "byteLimit": 2048000,
      "rowLimit": 10000
     },
     "inputWidgets": {},
     "nuid": "8698fb6b-5db7-4ced-ac5a-4bd68a94992e",
     "showTitle": false,
     "title": ""
    }
   },
   "source": [
    "### Total Beer Reviews"
   ]
  },
  {
   "cell_type": "code",
   "execution_count": null,
   "metadata": {
    "application/vnd.databricks.v1+cell": {
     "cellMetadata": {
      "byteLimit": 2048000,
      "rowLimit": 10000
     },
     "inputWidgets": {},
     "nuid": "c0c59a93-ba14-4e79-8835-343bcb3b31d2",
     "showTitle": false,
     "title": ""
    }
   },
   "outputs": [
    {
     "name": "stdout",
     "output_type": "stream",
     "text": [
      "+------------------+--------------+\n",
      "|total_beer_reviews|review_overall|\n",
      "+------------------+--------------+\n",
      "|                 4|           4.0|\n",
      "|               238|           4.0|\n",
      "|               811|           4.5|\n",
      "+------------------+--------------+\n",
      "only showing top 3 rows\n",
      "\n"
     ]
    }
   ],
   "source": [
    "tbr_overall = df.select(\"total_beer_reviews\", \"review_overall\")\n",
    "tbr_overall.show(3)"
   ]
  },
  {
   "cell_type": "code",
   "execution_count": null,
   "metadata": {
    "application/vnd.databricks.v1+cell": {
     "cellMetadata": {
      "byteLimit": 2048000,
      "rowLimit": 10000
     },
     "inputWidgets": {},
     "nuid": "fa2e21a2-70f3-481b-b219-90c1c6562f17",
     "showTitle": false,
     "title": ""
    }
   },
   "outputs": [],
   "source": [
    "from pyspark.ml.feature import VectorAssembler\n",
    "assembler = VectorAssembler(inputCols=tbr_overall.columns, outputCol=\"features\")\n",
    "df_new_tbr_ov=assembler.transform(tbr_overall)"
   ]
  },
  {
   "cell_type": "code",
   "execution_count": null,
   "metadata": {
    "application/vnd.databricks.v1+cell": {
     "cellMetadata": {
      "byteLimit": 2048000,
      "rowLimit": 10000
     },
     "inputWidgets": {},
     "nuid": "82b4f7f7-319b-4aaa-a840-d92e384751cc",
     "showTitle": false,
     "title": ""
    }
   },
   "outputs": [
    {
     "name": "stdout",
     "output_type": "stream",
     "text": [
      "+------------------+--------------+-----------+\n",
      "|total_beer_reviews|review_overall|   features|\n",
      "+------------------+--------------+-----------+\n",
      "|                 4|           4.0|  [4.0,4.0]|\n",
      "|               238|           4.0|[238.0,4.0]|\n",
      "|               811|           4.5|[811.0,4.5]|\n",
      "+------------------+--------------+-----------+\n",
      "only showing top 3 rows\n",
      "\n"
     ]
    }
   ],
   "source": [
    "df_new_tbr_ov.show(3)"
   ]
  },
  {
   "cell_type": "code",
   "execution_count": null,
   "metadata": {
    "application/vnd.databricks.v1+cell": {
     "cellMetadata": {
      "byteLimit": 2048000,
      "rowLimit": 10000
     },
     "inputWidgets": {},
     "nuid": "04f9225e-b46c-41ed-afad-b63186816ed8",
     "showTitle": false,
     "title": ""
    }
   },
   "outputs": [
    {
     "data": {
      "text/html": [
       "<style scoped>\n",
       "  .table-result-container {\n",
       "    max-height: 300px;\n",
       "    overflow: auto;\n",
       "  }\n",
       "  table, th, td {\n",
       "    border: 1px solid black;\n",
       "    border-collapse: collapse;\n",
       "  }\n",
       "  th, td {\n",
       "    padding: 5px;\n",
       "  }\n",
       "  th {\n",
       "    text-align: left;\n",
       "  }\n",
       "</style><div class='table-result-container'><table class='table-result'><thead style='background-color: white'><tr><th>spearman(features)</th></tr></thead><tbody><tr><td>1.0                  0.17000425009366174  \n",
       "0.17000425009366174  1.0                  </td></tr></tbody></table></div>"
      ]
     },
     "metadata": {
      "application/vnd.databricks.v1+output": {
       "addedWidgets": {},
       "aggData": [],
       "aggError": "",
       "aggOverflow": false,
       "aggSchema": [],
       "aggSeriesLimitReached": false,
       "aggType": "",
       "arguments": {},
       "columnCustomDisplayInfos": {},
       "data": [
        [
         "1.0                  0.17000425009366174  \n0.17000425009366174  1.0                  "
        ]
       ],
       "datasetInfos": [],
       "dbfsResultPath": null,
       "isJsonSchema": true,
       "metadata": {},
       "overflow": false,
       "plotOptions": {
        "customPlotOptions": {},
        "displayType": "table",
        "pivotAggregation": null,
        "pivotColumns": null,
        "xColumns": null,
        "yColumns": null
       },
       "removedWidgets": [],
       "schema": [
        {
         "metadata": "{}",
         "name": "spearman(features)",
         "type": "{\"type\":\"udt\",\"class\":\"org.apache.spark.ml.linalg.MatrixUDT\",\"pyClass\":\"pyspark.ml.linalg.MatrixUDT\",\"sqlType\":{\"type\":\"struct\",\"fields\":[{\"name\":\"type\",\"type\":\"byte\",\"nullable\":false,\"metadata\":{}},{\"name\":\"numRows\",\"type\":\"integer\",\"nullable\":false,\"metadata\":{}},{\"name\":\"numCols\",\"type\":\"integer\",\"nullable\":false,\"metadata\":{}},{\"name\":\"colPtrs\",\"type\":{\"type\":\"array\",\"elementType\":\"integer\",\"containsNull\":false},\"nullable\":true,\"metadata\":{}},{\"name\":\"rowIndices\",\"type\":{\"type\":\"array\",\"elementType\":\"integer\",\"containsNull\":false},\"nullable\":true,\"metadata\":{}},{\"name\":\"values\",\"type\":{\"type\":\"array\",\"elementType\":\"double\",\"containsNull\":false},\"nullable\":true,\"metadata\":{}},{\"name\":\"isTransposed\",\"type\":\"boolean\",\"nullable\":false,\"metadata\":{}}]}}"
        }
       ],
       "type": "table"
      }
     },
     "output_type": "display_data"
    }
   ],
   "source": [
    "# With spearman score of .1740 the features have no real correlation at all\n",
    "\n",
    "spearman_co_tbr=Correlation.corr(df_new_tbr_ov,'features', \"spearman\")\n",
    "spearman_co_tbr.display(2,False)"
   ]
  },
  {
   "cell_type": "markdown",
   "metadata": {
    "application/vnd.databricks.v1+cell": {
     "cellMetadata": {
      "byteLimit": 2048000,
      "rowLimit": 10000
     },
     "inputWidgets": {},
     "nuid": "d862fddd-f516-48a2-8e30-5820ceaaa90e",
     "showTitle": false,
     "title": ""
    }
   },
   "source": [
    "## Scaling - MinMaxScaler"
   ]
  },
  {
   "cell_type": "code",
   "execution_count": null,
   "metadata": {
    "application/vnd.databricks.v1+cell": {
     "cellMetadata": {
      "byteLimit": 2048000,
      "rowLimit": 10000
     },
     "inputWidgets": {},
     "nuid": "22d20900-82ec-4bec-96f7-2cd99b121103",
     "showTitle": false,
     "title": ""
    }
   },
   "outputs": [],
   "source": [
    "from pyspark.ml.feature import MinMaxScaler"
   ]
  },
  {
   "cell_type": "code",
   "execution_count": null,
   "metadata": {
    "application/vnd.databricks.v1+cell": {
     "cellMetadata": {
      "byteLimit": 2048000,
      "rowLimit": 10000
     },
     "inputWidgets": {},
     "nuid": "806a7d1e-bc4d-4743-b551-f541e9f795ed",
     "showTitle": false,
     "title": ""
    }
   },
   "outputs": [],
   "source": [
    "# Using min_max scaler to scale features from -1 to 1 in the mm_scaled_features column vector\n",
    "\n",
    "mm_scaler =MinMaxScaler(inputCol=\"features\",outputCol=\"mm_scaled_features\", min=-1,max=1)\n",
    "mm_scaler_model = mm_scaler.fit(df)"
   ]
  },
  {
   "cell_type": "code",
   "execution_count": null,
   "metadata": {
    "application/vnd.databricks.v1+cell": {
     "cellMetadata": {
      "byteLimit": 2048000,
      "rowLimit": 10000
     },
     "inputWidgets": {},
     "nuid": "9212af2e-9e50-4c71-91c2-ac5c98394547",
     "showTitle": false,
     "title": ""
    }
   },
   "outputs": [
    {
     "name": "stdout",
     "output_type": "stream",
     "text": [
      "+--------------+------------+-----------------+-------------+------------+--------+----------------------+-------------------+------------------+----------------+--------------------+--------------------+\n",
      "|review_overall|review_aroma|review_appearance|review_palate|review_taste|beer_abv|reviewer_total_reviews|total_brewery_beers|total_beer_reviews|beer_type_vector|            features|  mm_scaled_features|\n",
      "+--------------+------------+-----------------+-------------+------------+--------+----------------------+-------------------+------------------+----------------+--------------------+--------------------+\n",
      "|           4.0|         4.0|              4.0|          4.0|         3.5|    12.0|                  1587|                 52|                 4|  (10,[1],[1.0])|(18,[0,1,2,3,4,5,...|[0.5,0.6000000000...|\n",
      "|           4.0|         4.5|              4.0|          4.0|         4.5|    9.46|                   388|                 93|               238|  (10,[0],[1.0])|(18,[0,1,2,3,4,5,...|[0.75,0.600000000...|\n",
      "|           4.5|         4.0|              4.0|          4.5|         4.5|     6.0|                   144|                 10|               811|  (10,[0],[1.0])|(18,[0,1,2,3,4,5,...|[0.5,0.6000000000...|\n",
      "|           4.5|         4.5|              4.5|          4.0|         5.0|     6.0|                   559|                 10|               811|  (10,[0],[1.0])|(18,[0,1,2,3,4,5,...|[0.75,0.8,0.5,1.0...|\n",
      "|           4.0|         4.0|              3.5|          4.0|         4.0|     6.0|                    76|                 10|               811|  (10,[0],[1.0])|(18,[0,1,2,3,4,5,...|[0.5,0.4000000000...|\n",
      "|           3.0|         4.0|              4.0|          3.5|         3.5|     5.2|                  1549|                128|               155|  (10,[6],[1.0])|(18,[0,1,2,3,4,5,...|[0.5,0.6000000000...|\n",
      "|           3.0|         4.0|              4.0|          3.5|         3.5|     5.5|                  1549|                 14|                34|  (10,[7],[1.0])|(18,[0,1,2,3,4,5,...|[0.5,0.6000000000...|\n",
      "|           3.0|         4.0|              4.0|          4.0|         4.0|     8.3|                  1549|                 78|               371|  (10,[0],[1.0])|(18,[0,1,2,3,4,5,...|[0.5,0.6000000000...|\n",
      "|           4.0|         4.5|              4.0|          4.5|         4.0|     8.3|                   174|                 78|               371|  (10,[0],[1.0])|(18,[0,1,2,3,4,5,...|[0.75,0.600000000...|\n",
      "|           4.0|         4.0|              4.0|          4.0|         3.5|     9.5|                   186|                 94|                11|  (10,[2],[1.0])|(18,[0,1,2,3,4,5,...|[0.5,0.6000000000...|\n",
      "+--------------+------------+-----------------+-------------+------------+--------+----------------------+-------------------+------------------+----------------+--------------------+--------------------+\n",
      "only showing top 10 rows\n",
      "\n"
     ]
    }
   ],
   "source": [
    "rescaled_df = mm_scaler_model.transform(df)\n",
    "rescaled_df.show(10)"
   ]
  },
  {
   "cell_type": "code",
   "execution_count": null,
   "metadata": {
    "application/vnd.databricks.v1+cell": {
     "cellMetadata": {
      "byteLimit": 2048000,
      "rowLimit": 10000
     },
     "inputWidgets": {},
     "nuid": "dbbd9dbd-620f-4e70-8760-46cf39052b4a",
     "showTitle": false,
     "title": ""
    }
   },
   "outputs": [],
   "source": [
    "### Indexing target variable"
   ]
  },
  {
   "cell_type": "code",
   "execution_count": null,
   "metadata": {
    "application/vnd.databricks.v1+cell": {
     "cellMetadata": {
      "byteLimit": 2048000,
      "rowLimit": 10000
     },
     "inputWidgets": {},
     "nuid": "c6536a3a-4ef8-41c7-9d89-853ef581e3fd",
     "showTitle": false,
     "title": ""
    }
   },
   "outputs": [],
   "source": [
    "from pyspark.ml.feature import StringIndexer"
   ]
  },
  {
   "cell_type": "code",
   "execution_count": null,
   "metadata": {
    "application/vnd.databricks.v1+cell": {
     "cellMetadata": {
      "byteLimit": 2048000,
      "rowLimit": 10000
     },
     "inputWidgets": {},
     "nuid": "8fce1a84-17b6-4c10-899c-f64c764bb641",
     "showTitle": false,
     "title": ""
    }
   },
   "outputs": [],
   "source": [
    "\n",
    "label_indexer = StringIndexer(inputCol=\"review_overall\", outputCol=\"label\", stringOrderType=\"alphabetAsc\")\n",
    "df_lr = label_indexer.fit(df).transform(df)"
   ]
  },
  {
   "cell_type": "code",
   "execution_count": null,
   "metadata": {
    "application/vnd.databricks.v1+cell": {
     "cellMetadata": {
      "byteLimit": 2048000,
      "rowLimit": 10000
     },
     "inputWidgets": {},
     "nuid": "dd0f17a8-310f-4341-90ef-f86181dcd07e",
     "showTitle": false,
     "title": ""
    }
   },
   "outputs": [
    {
     "name": "stdout",
     "output_type": "stream",
     "text": [
      "+-----+------+\n",
      "|label| count|\n",
      "+-----+------+\n",
      "|  0.0|     7|\n",
      "|  1.0| 10211|\n",
      "|  2.0| 12032|\n",
      "|  3.0| 35737|\n",
      "|  4.0| 54660|\n",
      "|  5.0|155840|\n",
      "|  6.0|286901|\n",
      "|  7.0|559790|\n",
      "|  8.0|314303|\n",
      "|  9.0| 88997|\n",
      "+-----+------+\n",
      "\n"
     ]
    }
   ],
   "source": [
    "from pyspark.sql.functions import col\n",
    "\n",
    "# Group the DataFrame by the label column and count the number of rows in each group\n",
    "label_counts = df_lr.groupBy('label').count().orderBy('label')\n",
    "\n",
    "# Show the distribution of values in the label column\n",
    "label_counts.show()\n"
   ]
  },
  {
   "cell_type": "code",
   "execution_count": null,
   "metadata": {
    "application/vnd.databricks.v1+cell": {
     "cellMetadata": {
      "byteLimit": 2048000,
      "rowLimit": 10000
     },
     "inputWidgets": {},
     "nuid": "c66cbce1-955b-4f12-949d-9696f7d7f418",
     "showTitle": false,
     "title": ""
    }
   },
   "outputs": [],
   "source": [
    "## Train, Test Split"
   ]
  },
  {
   "cell_type": "code",
   "execution_count": null,
   "metadata": {
    "application/vnd.databricks.v1+cell": {
     "cellMetadata": {
      "byteLimit": 2048000,
      "rowLimit": 10000
     },
     "inputWidgets": {},
     "nuid": "5c92edf4-2468-4a20-b208-f6e186ca405e",
     "showTitle": false,
     "title": ""
    }
   },
   "outputs": [],
   "source": [
    "# Split 80/20 train to test\n",
    "train_data, test_data = df_lr.randomSplit([.8, .2], seed=22)"
   ]
  },
  {
   "cell_type": "code",
   "execution_count": null,
   "metadata": {
    "application/vnd.databricks.v1+cell": {
     "cellMetadata": {
      "byteLimit": 2048000,
      "rowLimit": 10000
     },
     "inputWidgets": {},
     "nuid": "cfb8b186-55a3-4267-b48f-346b65b81fbc",
     "showTitle": false,
     "title": ""
    }
   },
   "outputs": [
    {
     "name": "stdout",
     "output_type": "stream",
     "text": [
      "Accuracy = 0.4628\n"
     ]
    }
   ],
   "source": [
    "# Import necessary libraries\n",
    "from pyspark.ml.classification import LogisticRegression\n",
    "from pyspark.ml.evaluation import MulticlassClassificationEvaluator\n",
    "\n",
    "# Create a LogisticRegression object\n",
    "lr = LogisticRegression(featuresCol=\"features\", labelCol=\"label\", maxIter=10, regParam=0.01, elasticNetParam=0.01)\n",
    "\n",
    "# Train the model\n",
    "lr_model = lr.fit(train_data)\n",
    "\n",
    "# Make predictions on the testing data\n",
    "predictions = lr_model.transform(test_data)\n",
    "\n",
    "# Evaluate the model using accuracy\n",
    "evaluator = MulticlassClassificationEvaluator(labelCol=\"label\", predictionCol=\"prediction\", metricName=\"accuracy\")\n",
    "accuracy = evaluator.evaluate(predictions)\n",
    "\n",
    "# Print the accuracy\n",
    "print(\"Accuracy = %g\" % accuracy)\n"
   ]
  },
  {
   "cell_type": "code",
   "execution_count": null,
   "metadata": {
    "application/vnd.databricks.v1+cell": {
     "cellMetadata": {
      "byteLimit": 2048000,
      "rowLimit": 10000
     },
     "inputWidgets": {},
     "nuid": "dc40395d-36af-4e74-b436-d6912cad402e",
     "showTitle": false,
     "title": ""
    }
   },
   "outputs": [
    {
     "name": "stderr",
     "output_type": "stream",
     "text": [
      "/databricks/spark/python/pyspark/sql/context.py:165: FutureWarning: Deprecated in 3.0.0. Use SparkSession.builder.getOrCreate() instead.\n",
      "  warnings.warn(\n"
     ]
    },
    {
     "name": "stdout",
     "output_type": "stream",
     "text": [
      "Precision:\n",
      "Label 0.0: 0.0000\n",
      "Label 1.0: 0.0000\n",
      "Label 2.0: 0.0000\n",
      "Label 3.0: 0.1721\n",
      "Label 4.0: 0.0392\n",
      "Label 5.0: 0.2949\n",
      "Label 6.0: 0.3678\n",
      "Label 7.0: 0.5046\n",
      "Label 8.0: 0.4915\n",
      "Label 9.0: 0.8821\n",
      "\n",
      "Recall:\n",
      "Label 0.0: 0.0000\n",
      "Label 1.0: 0.0000\n",
      "Label 2.0: 0.0000\n",
      "Label 3.0: 0.0439\n",
      "Label 4.0: 0.0044\n",
      "Label 5.0: 0.2468\n",
      "Label 6.0: 0.2622\n",
      "Label 7.0: 0.8658\n",
      "Label 8.0: 0.3210\n",
      "Label 9.0: 0.0105\n",
      "\n",
      "F1-score:\n",
      "Label 0.0: 0.0000\n",
      "Label 1.0: 0.0000\n",
      "Label 2.0: 0.0000\n",
      "Label 3.0: 0.0700\n",
      "Label 4.0: 0.0080\n",
      "Label 5.0: 0.2687\n",
      "Label 6.0: 0.3061\n",
      "Label 7.0: 0.6376\n",
      "Label 8.0: 0.3884\n",
      "Label 9.0: 0.0207\n"
     ]
    }
   ],
   "source": [
    "# Extract the predicted labels and true labels from the predictions DataFrame\n",
    "from pyspark.sql.functions import col\n",
    "predAndLabels = predictions.select(col(\"prediction\"), col(\"label\"))\n",
    "\n",
    "# Convert the predicted and true labels to an RDD\n",
    "from pyspark.mllib.evaluation import MulticlassMetrics\n",
    "metrics = MulticlassMetrics(predAndLabels.rdd)\n",
    "\n",
    "# Compute the precision, recall, and F1-score for each label\n",
    "labels = predAndLabels.rdd.map(lambda x: x[1]).distinct().collect()\n",
    "precision = {}\n",
    "recall = {}\n",
    "f1Score = {}\n",
    "for label in labels:\n",
    "    precision[label] = metrics.precision(label)\n",
    "    recall[label] = metrics.recall(label)\n",
    "    f1Score[label] = metrics.fMeasure(label)\n",
    "\n",
    "\n",
    "# Print the classification report\n",
    "print(\"Precision:\")\n",
    "for label in sorted(precision.keys()):\n",
    "    print(\"Label %s: %.4f\" % (label, precision[label]))\n",
    "    \n",
    "print(\"\\nRecall:\")\n",
    "for label in sorted(recall.keys()):\n",
    "    print(\"Label %s: %.4f\" % (label, recall[label]))\n",
    "    \n",
    "print(\"\\nF1-score:\")\n",
    "for label in sorted(f1Score.keys()):\n",
    "    print(\"Label %s: %.4f\" % (label, f1Score[label]))"
   ]
  },
  {
   "cell_type": "code",
   "execution_count": null,
   "metadata": {
    "application/vnd.databricks.v1+cell": {
     "cellMetadata": {
      "byteLimit": 2048000,
      "rowLimit": 10000
     },
     "inputWidgets": {},
     "nuid": "61770002-902e-4bb2-8d02-59de1c40ae0e",
     "showTitle": false,
     "title": ""
    }
   },
   "outputs": [],
   "source": [
    "from pyspark.ml.classification import DecisionTreeClassifier, NaiveBayes"
   ]
  },
  {
   "cell_type": "code",
   "execution_count": null,
   "metadata": {
    "application/vnd.databricks.v1+cell": {
     "cellMetadata": {
      "byteLimit": 2048000,
      "rowLimit": 10000
     },
     "inputWidgets": {},
     "nuid": "1d344c07-7547-4222-8fe0-85770dd16bfd",
     "showTitle": false,
     "title": ""
    }
   },
   "outputs": [
    {
     "name": "stdout",
     "output_type": "stream",
     "text": [
      "Accuracy = 0.509421\n"
     ]
    }
   ],
   "source": [
    "dtc = DecisionTreeClassifier(featuresCol=\"features\", labelCol=\"label\")\n",
    "dtc_model = dtc.fit(train_data)\n",
    "\n",
    "# Make predictions on the testing data\n",
    "dtc_predictions = dtc_model.transform(test_data)\n",
    "\n",
    "# Evaluate the model using accuracy\n",
    "evaluator = MulticlassClassificationEvaluator(labelCol=\"label\", predictionCol=\"prediction\", metricName=\"accuracy\")\n",
    "accuracy = evaluator.evaluate(dtc_predictions)\n",
    "\n",
    "# Print the accuracy\n",
    "print(\"Accuracy = %g\" % accuracy)"
   ]
  },
  {
   "cell_type": "code",
   "execution_count": null,
   "metadata": {
    "application/vnd.databricks.v1+cell": {
     "cellMetadata": {
      "byteLimit": 2048000,
      "rowLimit": 10000
     },
     "inputWidgets": {},
     "nuid": "07d1de5a-1050-4b25-8f31-f9cce6ff00ea",
     "showTitle": false,
     "title": ""
    }
   },
   "outputs": [
    {
     "name": "stdout",
     "output_type": "stream",
     "text": [
      "Accuracy = 0.0895771\n"
     ]
    }
   ],
   "source": [
    "nb = NaiveBayes(featuresCol=\"features\", labelCol=\"label\")\n",
    "nb_model = nb.fit(train_data)\n",
    "\n",
    "# Make predictions on the testing data\n",
    "nb_predictions = nb_model.transform(test_data)\n",
    "\n",
    "# Evaluate the model using accuracy\n",
    "evaluator = MulticlassClassificationEvaluator(labelCol=\"label\", predictionCol=\"prediction\", metricName=\"accuracy\")\n",
    "accuracy = evaluator.evaluate(nb_predictions)\n",
    "\n",
    "# Print the accuracy\n",
    "print(\"Accuracy = %g\" % accuracy)"
   ]
  },
  {
   "cell_type": "code",
   "execution_count": null,
   "metadata": {
    "application/vnd.databricks.v1+cell": {
     "cellMetadata": {
      "byteLimit": 2048000,
      "rowLimit": 10000
     },
     "inputWidgets": {},
     "nuid": "e13db7ca-ab60-4896-9b8d-b72f4ad65808",
     "showTitle": false,
     "title": ""
    }
   },
   "outputs": [
    {
     "name": "stdout",
     "output_type": "stream",
     "text": [
      "LogisticRegression: accuracy = 0.4642\n",
      "DecisionTreeClassifier: accuracy = 0.5094\n",
      "RandomForestClassifier: accuracy = 0.4918\n",
      "NaiveBayes: accuracy = 0.0896\n"
     ]
    }
   ],
   "source": [
    "from pyspark.ml.classification import LogisticRegression, DecisionTreeClassifier, RandomForestClassifier, GBTClassifier, NaiveBayes, MultilayerPerceptronClassifier\n",
    "\n",
    "# Define the list of classification models to try\n",
    "models = [LogisticRegression(maxIter=10, regParam=0.01), \n",
    "          DecisionTreeClassifier(),\n",
    "          RandomForestClassifier(numTrees=10),\n",
    "          NaiveBayes()]\n",
    "\n",
    "results = []\n",
    "\n",
    "# Train each model and evaluate its accuracy on test data\n",
    "for model in models:\n",
    "    # Train the model\n",
    "    model_fit = model.fit(train_data.select(['features', 'label']))\n",
    "    \n",
    "    # Make predictions on the test data\n",
    "    predictions = model_fit.transform(test_data.select(['features', 'label']))\n",
    "    \n",
    "    # Evaluate the model's accuracy\n",
    "    evaluator = MulticlassClassificationEvaluator(labelCol='label', predictionCol='prediction', metricName='accuracy')\n",
    "    accuracy = evaluator.evaluate(predictions)\n",
    "    \n",
    "    # Store the model name and accuracy in a dictionary\n",
    "    model_result = {'Model': type(model).__name__, 'Accuracy': accuracy}\n",
    "\n",
    "    # Append the dictionary to the results list\n",
    "    results.append(model_result)\n",
    "\n",
    "    # Print the model's name and accuracy\n",
    "    print(f'{model.__class__.__name__}: accuracy = {accuracy:.4f}')"
   ]
  }
 ],
 "metadata": {
  "application/vnd.databricks.v1+notebook": {
   "dashboards": [],
   "language": "python",
   "notebookMetadata": {
    "pythonIndentUnit": 4
   },
   "notebookName": "BeerFinalLogisticRegression - F",
   "widgets": {}
  },
  "language_info": {
   "name": "python"
  }
 },
 "nbformat": 4,
 "nbformat_minor": 0
}
