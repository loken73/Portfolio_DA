{
  "cells": [
    {
      "attachments": {},
      "cell_type": "markdown",
      "metadata": {},
      "source": [
        "# Starter code"
      ]
    },
    {
      "cell_type": "code",
      "execution_count": 31,
      "metadata": {
        "id": "quFLPMR--_1O"
      },
      "outputs": [],
      "source": [
        "import numpy as np\n",
        "import pandas as pd\n",
        "import requests\n",
        "from bs4 import BeautifulSoup\n",
        "import re\n",
        "import json\n",
        "import time \n",
        "from datetime import date\n",
        "import csv"
      ]
    },
    {
      "cell_type": "code",
      "execution_count": 2,
      "metadata": {
        "id": "CrOvBiii_KVh"
      },
      "outputs": [],
      "source": [
        "playerLink = 'https://www.pro-football-reference.com/players/W/WalkTr03.htm'"
      ]
    },
    {
      "cell_type": "code",
      "execution_count": 3,
      "metadata": {
        "id": "hpcHiUYZ_KOt"
      },
      "outputs": [],
      "source": [
        "base = 'https://www.pro-football-reference.com'"
      ]
    },
    {
      "cell_type": "code",
      "execution_count": 28,
      "metadata": {
        "id": "adDc2xYk8TLN"
      },
      "outputs": [],
      "source": [
        "playerDF = pd.DataFrame(columns = ['draft_year', 'draft_round' , 'draft_pick', 'draft_team', 'player_name', 'player_url', 'position', 'draft_age','college', 'height', 'weight', 'birth_year', 'birth_month', 'birth_day', 'college_stats_url', 'birth_place', 'high_school', 'image_url'])"
      ]
    },
    {
      "cell_type": "code",
      "execution_count": 61,
      "metadata": {
        "colab": {
          "base_uri": "https://localhost:8080/",
          "height": 50
        },
        "id": "yUTcIGAM8oEl",
        "outputId": "0fd1a4ba-9a2c-405f-a792-313512147fd1"
      },
      "outputs": [
        {
          "data": {
            "text/html": [
              "<div>\n",
              "<style scoped>\n",
              "    .dataframe tbody tr th:only-of-type {\n",
              "        vertical-align: middle;\n",
              "    }\n",
              "\n",
              "    .dataframe tbody tr th {\n",
              "        vertical-align: top;\n",
              "    }\n",
              "\n",
              "    .dataframe thead th {\n",
              "        text-align: right;\n",
              "    }\n",
              "</style>\n",
              "<table border=\"1\" class=\"dataframe\">\n",
              "  <thead>\n",
              "    <tr style=\"text-align: right;\">\n",
              "      <th></th>\n",
              "      <th>draft_year</th>\n",
              "      <th>draft_round</th>\n",
              "      <th>draft_pick</th>\n",
              "      <th>draft_team</th>\n",
              "      <th>player_name</th>\n",
              "      <th>player_url</th>\n",
              "      <th>position</th>\n",
              "      <th>draft_age</th>\n",
              "      <th>college</th>\n",
              "      <th>height</th>\n",
              "      <th>weight</th>\n",
              "      <th>birth_year</th>\n",
              "      <th>birth_month</th>\n",
              "      <th>birth_day</th>\n",
              "      <th>college_stats_url</th>\n",
              "      <th>birth_place</th>\n",
              "      <th>high_school</th>\n",
              "      <th>image_url</th>\n",
              "    </tr>\n",
              "  </thead>\n",
              "  <tbody>\n",
              "    <tr>\n",
              "      <th>0</th>\n",
              "      <td>2022</td>\n",
              "      <td>1</td>\n",
              "      <td>1</td>\n",
              "      <td>JAX</td>\n",
              "      <td>Travon Walker</td>\n",
              "      <td>https://www.pro-football-reference.com/players...</td>\n",
              "      <td>DE</td>\n",
              "      <td>21</td>\n",
              "      <td>Georgia</td>\n",
              "      <td>6-5</td>\n",
              "      <td>275 lbs</td>\n",
              "      <td>2000</td>\n",
              "      <td>12</td>\n",
              "      <td>18</td>\n",
              "      <td>http://www.sports-reference.com/cfb/players/tr...</td>\n",
              "      <td>Thomaston, GA, USA</td>\n",
              "      <td>HS,Upson,GA</td>\n",
              "      <td>https://www.pro-football-reference.com/req/201...</td>\n",
              "    </tr>\n",
              "    <tr>\n",
              "      <th>1</th>\n",
              "      <td>2022</td>\n",
              "      <td>1</td>\n",
              "      <td>2</td>\n",
              "      <td>DET</td>\n",
              "      <td>Aidan Hutchinson</td>\n",
              "      <td>https://www.pro-football-reference.com/players...</td>\n",
              "      <td>DE</td>\n",
              "      <td>22</td>\n",
              "      <td>Michigan</td>\n",
              "      <td>6-7</td>\n",
              "      <td>265 lbs</td>\n",
              "      <td>2000</td>\n",
              "      <td>08</td>\n",
              "      <td>09</td>\n",
              "      <td>http://www.sports-reference.com/cfb/players/ai...</td>\n",
              "      <td>MI</td>\n",
              "      <td>HS,Divine Child,MI</td>\n",
              "      <td>https://www.pro-football-reference.com/req/201...</td>\n",
              "    </tr>\n",
              "    <tr>\n",
              "      <th>2</th>\n",
              "      <td>2022</td>\n",
              "      <td>1</td>\n",
              "      <td>3</td>\n",
              "      <td>HOU</td>\n",
              "      <td>Derek Stingley Jr.</td>\n",
              "      <td>https://www.pro-football-reference.com/players...</td>\n",
              "      <td>CB</td>\n",
              "      <td>21</td>\n",
              "      <td>LSU</td>\n",
              "      <td>6-1</td>\n",
              "      <td>195 lbs</td>\n",
              "      <td>2001</td>\n",
              "      <td>06</td>\n",
              "      <td>20</td>\n",
              "      <td>http://www.sports-reference.com/cfb/players/de...</td>\n",
              "      <td>Baton Rouge, LA, USA</td>\n",
              "      <td>HS,Dunham,LA</td>\n",
              "      <td>https://www.pro-football-reference.com/req/201...</td>\n",
              "    </tr>\n",
              "    <tr>\n",
              "      <th>3</th>\n",
              "      <td>2022</td>\n",
              "      <td>1</td>\n",
              "      <td>4</td>\n",
              "      <td>NYJ</td>\n",
              "      <td>Sauce Gardner</td>\n",
              "      <td>https://www.pro-football-reference.com/players...</td>\n",
              "      <td>CB</td>\n",
              "      <td>22</td>\n",
              "      <td>Cincinnati</td>\n",
              "      <td>6-3</td>\n",
              "      <td>200 lbs</td>\n",
              "      <td>2000</td>\n",
              "      <td>08</td>\n",
              "      <td>31</td>\n",
              "      <td>http://www.sports-reference.com/cfb/players/ah...</td>\n",
              "      <td>Detroit, MI, USA</td>\n",
              "      <td>HS,Martin Luther King,MI</td>\n",
              "      <td>https://www.pro-football-reference.com/req/201...</td>\n",
              "    </tr>\n",
              "    <tr>\n",
              "      <th>4</th>\n",
              "      <td>2022</td>\n",
              "      <td>1</td>\n",
              "      <td>5</td>\n",
              "      <td>NYG</td>\n",
              "      <td>Kayvon Thibodeaux</td>\n",
              "      <td>https://www.pro-football-reference.com/players...</td>\n",
              "      <td>DE</td>\n",
              "      <td>21</td>\n",
              "      <td>Oregon</td>\n",
              "      <td>6-5</td>\n",
              "      <td>250 lbs</td>\n",
              "      <td>2000</td>\n",
              "      <td>12</td>\n",
              "      <td>15</td>\n",
              "      <td>http://www.sports-reference.com/cfb/players/ka...</td>\n",
              "      <td>CA</td>\n",
              "      <td>HS,Susan Miller Dorsey,CA,Oaks Christian,CA</td>\n",
              "      <td>https://www.pro-football-reference.com/req/201...</td>\n",
              "    </tr>\n",
              "    <tr>\n",
              "      <th>...</th>\n",
              "      <td>...</td>\n",
              "      <td>...</td>\n",
              "      <td>...</td>\n",
              "      <td>...</td>\n",
              "      <td>...</td>\n",
              "      <td>...</td>\n",
              "      <td>...</td>\n",
              "      <td>...</td>\n",
              "      <td>...</td>\n",
              "      <td>...</td>\n",
              "      <td>...</td>\n",
              "      <td>...</td>\n",
              "      <td>...</td>\n",
              "      <td>...</td>\n",
              "      <td>...</td>\n",
              "      <td>...</td>\n",
              "      <td>...</td>\n",
              "      <td>...</td>\n",
              "    </tr>\n",
              "    <tr>\n",
              "      <th>7134</th>\n",
              "      <td>1994</td>\n",
              "      <td>1</td>\n",
              "      <td>27</td>\n",
              "      <td>BUF</td>\n",
              "      <td>Jeff Burris</td>\n",
              "      <td>https://www.pro-football-reference.com/players...</td>\n",
              "      <td>DB</td>\n",
              "      <td>22</td>\n",
              "      <td>Notre Dame</td>\n",
              "      <td>6-0</td>\n",
              "      <td>190 lbs</td>\n",
              "      <td>1972</td>\n",
              "      <td>06</td>\n",
              "      <td>07</td>\n",
              "      <td>http://www.sports-reference.com/cfb/players/je...</td>\n",
              "      <td>Rock Hill, SC, USA</td>\n",
              "      <td>HS,Northwestern,SC</td>\n",
              "      <td>None</td>\n",
              "    </tr>\n",
              "    <tr>\n",
              "      <th>7135</th>\n",
              "      <td>1994</td>\n",
              "      <td>1</td>\n",
              "      <td>28</td>\n",
              "      <td>SFO</td>\n",
              "      <td>William Floyd</td>\n",
              "      <td>https://www.pro-football-reference.com/players...</td>\n",
              "      <td>FB</td>\n",
              "      <td>22</td>\n",
              "      <td>Florida St.</td>\n",
              "      <td>6-1</td>\n",
              "      <td>242 lbs</td>\n",
              "      <td>1972</td>\n",
              "      <td>02</td>\n",
              "      <td>17</td>\n",
              "      <td>http://www.sports-reference.com/cfb/players/wi...</td>\n",
              "      <td>St. Petersburg, FL, USA</td>\n",
              "      <td>HS,Lakewood,FL</td>\n",
              "      <td>None</td>\n",
              "    </tr>\n",
              "    <tr>\n",
              "      <th>7136</th>\n",
              "      <td>1994</td>\n",
              "      <td>1</td>\n",
              "      <td>29</td>\n",
              "      <td>CLE</td>\n",
              "      <td>Derrick Alexander</td>\n",
              "      <td>https://www.pro-football-reference.com/players...</td>\n",
              "      <td>WR</td>\n",
              "      <td>22</td>\n",
              "      <td>Michigan</td>\n",
              "      <td>6-2</td>\n",
              "      <td>195 lbs</td>\n",
              "      <td>1971</td>\n",
              "      <td>11</td>\n",
              "      <td>06</td>\n",
              "      <td>http://www.sports-reference.com/cfb/players/de...</td>\n",
              "      <td>Detroit, MI, USA</td>\n",
              "      <td>HS,Benedictine,MI</td>\n",
              "      <td>None</td>\n",
              "    </tr>\n",
              "    <tr>\n",
              "      <th>7137</th>\n",
              "      <td>1994</td>\n",
              "      <td>2</td>\n",
              "      <td>30</td>\n",
              "      <td>CIN</td>\n",
              "      <td>Darnay Scott</td>\n",
              "      <td>https://www.pro-football-reference.com/players...</td>\n",
              "      <td>WR</td>\n",
              "      <td>22</td>\n",
              "      <td>San Diego St.</td>\n",
              "      <td>6-1</td>\n",
              "      <td>200 lbs</td>\n",
              "      <td>1972</td>\n",
              "      <td>07</td>\n",
              "      <td>07</td>\n",
              "      <td>http://www.sports-reference.com/cfb/players/da...</td>\n",
              "      <td>St. Louis, MO, USA</td>\n",
              "      <td>HS,Kearny,CA</td>\n",
              "      <td>None</td>\n",
              "    </tr>\n",
              "    <tr>\n",
              "      <th>7138</th>\n",
              "      <td>1994</td>\n",
              "      <td>2</td>\n",
              "      <td>31</td>\n",
              "      <td>WAS</td>\n",
              "      <td>Tre' Johnson</td>\n",
              "      <td>https://www.pro-football-reference.com/players...</td>\n",
              "      <td>G</td>\n",
              "      <td>23</td>\n",
              "      <td>Temple</td>\n",
              "      <td>6-2</td>\n",
              "      <td>328 lbs</td>\n",
              "      <td>1971</td>\n",
              "      <td>08</td>\n",
              "      <td>30</td>\n",
              "      <td>None</td>\n",
              "      <td>New York, NY, USA</td>\n",
              "      <td>HS,Peekskill,NY</td>\n",
              "      <td>None</td>\n",
              "    </tr>\n",
              "  </tbody>\n",
              "</table>\n",
              "<p>7139 rows × 18 columns</p>\n",
              "</div>"
            ],
            "text/plain": [
              "     draft_year draft_round draft_pick draft_team         player_name  \\\n",
              "0          2022           1          1        JAX       Travon Walker   \n",
              "1          2022           1          2        DET    Aidan Hutchinson   \n",
              "2          2022           1          3        HOU  Derek Stingley Jr.   \n",
              "3          2022           1          4        NYJ       Sauce Gardner   \n",
              "4          2022           1          5        NYG   Kayvon Thibodeaux   \n",
              "...         ...         ...        ...        ...                 ...   \n",
              "7134       1994           1         27        BUF         Jeff Burris   \n",
              "7135       1994           1         28        SFO       William Floyd   \n",
              "7136       1994           1         29        CLE   Derrick Alexander   \n",
              "7137       1994           2         30        CIN        Darnay Scott   \n",
              "7138       1994           2         31        WAS        Tre' Johnson   \n",
              "\n",
              "                                             player_url position draft_age  \\\n",
              "0     https://www.pro-football-reference.com/players...       DE        21   \n",
              "1     https://www.pro-football-reference.com/players...       DE        22   \n",
              "2     https://www.pro-football-reference.com/players...       CB        21   \n",
              "3     https://www.pro-football-reference.com/players...       CB        22   \n",
              "4     https://www.pro-football-reference.com/players...       DE        21   \n",
              "...                                                 ...      ...       ...   \n",
              "7134  https://www.pro-football-reference.com/players...       DB        22   \n",
              "7135  https://www.pro-football-reference.com/players...       FB        22   \n",
              "7136  https://www.pro-football-reference.com/players...       WR        22   \n",
              "7137  https://www.pro-football-reference.com/players...       WR        22   \n",
              "7138  https://www.pro-football-reference.com/players...        G        23   \n",
              "\n",
              "            college height   weight birth_year birth_month birth_day  \\\n",
              "0           Georgia    6-5  275 lbs       2000          12        18   \n",
              "1          Michigan    6-7  265 lbs       2000          08        09   \n",
              "2               LSU    6-1  195 lbs       2001          06        20   \n",
              "3        Cincinnati    6-3  200 lbs       2000          08        31   \n",
              "4            Oregon    6-5  250 lbs       2000          12        15   \n",
              "...             ...    ...      ...        ...         ...       ...   \n",
              "7134     Notre Dame    6-0  190 lbs       1972          06        07   \n",
              "7135    Florida St.    6-1  242 lbs       1972          02        17   \n",
              "7136       Michigan    6-2  195 lbs       1971          11        06   \n",
              "7137  San Diego St.    6-1  200 lbs       1972          07        07   \n",
              "7138         Temple    6-2  328 lbs       1971          08        30   \n",
              "\n",
              "                                      college_stats_url  \\\n",
              "0     http://www.sports-reference.com/cfb/players/tr...   \n",
              "1     http://www.sports-reference.com/cfb/players/ai...   \n",
              "2     http://www.sports-reference.com/cfb/players/de...   \n",
              "3     http://www.sports-reference.com/cfb/players/ah...   \n",
              "4     http://www.sports-reference.com/cfb/players/ka...   \n",
              "...                                                 ...   \n",
              "7134  http://www.sports-reference.com/cfb/players/je...   \n",
              "7135  http://www.sports-reference.com/cfb/players/wi...   \n",
              "7136  http://www.sports-reference.com/cfb/players/de...   \n",
              "7137  http://www.sports-reference.com/cfb/players/da...   \n",
              "7138                                               None   \n",
              "\n",
              "                  birth_place                                  high_school  \\\n",
              "0          Thomaston, GA, USA                                  HS,Upson,GA   \n",
              "1                          MI                           HS,Divine Child,MI   \n",
              "2        Baton Rouge, LA, USA                                 HS,Dunham,LA   \n",
              "3            Detroit, MI, USA                     HS,Martin Luther King,MI   \n",
              "4                          CA  HS,Susan Miller Dorsey,CA,Oaks Christian,CA   \n",
              "...                       ...                                          ...   \n",
              "7134       Rock Hill, SC, USA                           HS,Northwestern,SC   \n",
              "7135  St. Petersburg, FL, USA                               HS,Lakewood,FL   \n",
              "7136         Detroit, MI, USA                            HS,Benedictine,MI   \n",
              "7137       St. Louis, MO, USA                                 HS,Kearny,CA   \n",
              "7138        New York, NY, USA                              HS,Peekskill,NY   \n",
              "\n",
              "                                              image_url  \n",
              "0     https://www.pro-football-reference.com/req/201...  \n",
              "1     https://www.pro-football-reference.com/req/201...  \n",
              "2     https://www.pro-football-reference.com/req/201...  \n",
              "3     https://www.pro-football-reference.com/req/201...  \n",
              "4     https://www.pro-football-reference.com/req/201...  \n",
              "...                                                 ...  \n",
              "7134                                               None  \n",
              "7135                                               None  \n",
              "7136                                               None  \n",
              "7137                                               None  \n",
              "7138                                               None  \n",
              "\n",
              "[7139 rows x 18 columns]"
            ]
          },
          "execution_count": 61,
          "metadata": {},
          "output_type": "execute_result"
        }
      ],
      "source": [
        "playerDF"
      ]
    },
    {
      "attachments": {},
      "cell_type": "markdown",
      "metadata": {
        "id": "bs7nAzYZ6odO"
      },
      "source": [
        "# Trash but noteworthy to make progress, more for testing \n"
      ]
    },
    {
      "cell_type": "code",
      "execution_count": 211,
      "metadata": {
        "id": "CdqfJhzR6xWN"
      },
      "outputs": [],
      "source": [
        "year = 2022"
      ]
    },
    {
      "cell_type": "code",
      "execution_count": 607,
      "metadata": {},
      "outputs": [],
      "source": [
        "import warnings\n",
        "\n",
        "with warnings.catch_warnings():\n",
        "    warnings.simplefilter(\"ignore\")"
      ]
    },
    {
      "cell_type": "code",
      "execution_count": null,
      "metadata": {
        "colab": {
          "base_uri": "https://localhost:8080/"
        },
        "id": "_Zt1wCAQ-_v2",
        "outputId": "ee21c78c-2e9b-4e93-c123-59211e3c5736"
      },
      "outputs": [
        {
          "data": {
            "text/plain": [
              "['\\n{\\n    \"@context\": \"http://schema.org\",\\n    \"@type\": \"Person\",\\n    \"name\": \"Travon Walker\",\\n    \"url\": \"https://www.pro-football-reference.com/players/W/WalkTr03.htm\",\\n    \"image\": {\\n        \"@type\": \"ImageObject\",\\n        \"caption\": \"Travon Walker, Jacksonville Jaguars\", \\n        \"representativeOfPage\": true, \\n        \"contentUrl\": \"https://www.pro-football-reference.com/req/20180910/images/headshots/WalkTr03_2022.jpg\"\\n    },\\n    \"memberOf\": {\\n        \"@type\": \"SportsTeam\",\\n        \"name\": \"Jacksonville Jaguars\",\\n        \"sport\": \"Football\"\\n    },\\n    \"birthDate\": \"2000-12-18\"\\n    ,\\n  \"birthPlace\": \"Thomaston, GA, USA\",\\n    \"height\": { \"@type\": \"QuantitativeValue\", \"value\": \"6-5\" },\\n    \"weight\": { \"@type\": \"QuantitativeValue\", \"value\": \"275 lbs\" }\\n}\\n']"
            ]
          },
          "execution_count": 70,
          "metadata": {},
          "output_type": "execute_result"
        }
      ],
      "source": [
        "# Still not sure how Michael found this, but it helps\n",
        "\n",
        "text = playerSoup.find_all(text=re.compile(\"birth\"))\n",
        "text"
      ]
    },
    {
      "cell_type": "code",
      "execution_count": null,
      "metadata": {
        "colab": {
          "base_uri": "https://localhost:8080/"
        },
        "id": "ydmnJd_O-_S-",
        "outputId": "34b5ad4d-208b-4c55-a7fa-bb0db804f18f"
      },
      "outputs": [
        {
          "data": {
            "text/plain": [
              "{'@context': 'http://schema.org',\n",
              " '@type': 'Person',\n",
              " 'name': 'Travon Walker',\n",
              " 'url': 'https://www.pro-football-reference.com/players/W/WalkTr03.htm',\n",
              " 'image': {'@type': 'ImageObject',\n",
              "  'caption': 'Travon Walker, Jacksonville Jaguars',\n",
              "  'representativeOfPage': True,\n",
              "  'contentUrl': 'https://www.pro-football-reference.com/req/20180910/images/headshots/WalkTr03_2022.jpg'},\n",
              " 'memberOf': {'@type': 'SportsTeam',\n",
              "  'name': 'Jacksonville Jaguars',\n",
              "  'sport': 'Football'},\n",
              " 'birthDate': '2000-12-18',\n",
              " 'birthPlace': 'Thomaston, GA, USA',\n",
              " 'height': {'@type': 'QuantitativeValue', 'value': '6-5'},\n",
              " 'weight': {'@type': 'QuantitativeValue', 'value': '275 lbs'}}"
            ]
          },
          "execution_count": 112,
          "metadata": {},
          "output_type": "execute_result"
        }
      ],
      "source": [
        "playerDict = playerDictionaryConv(text)\n",
        "playerDict"
      ]
    },
    {
      "cell_type": "code",
      "execution_count": null,
      "metadata": {
        "colab": {
          "base_uri": "https://localhost:8080/"
        },
        "id": "AsFVHiX4BVn4",
        "outputId": "9498457e-19d7-4918-ed9d-fe444e1c0893"
      },
      "outputs": [
        {
          "name": "stdout",
          "output_type": "stream",
          "text": [
            "{'@context': 'http://schema.org', '@type': 'Person', 'name': 'Travon Walker', 'url': 'https://www.pro-football-reference.com/players/W/WalkTr03.htm', 'image': {'@type': 'ImageObject', 'caption': 'Travon Walker, Jacksonville Jaguars', 'representativeOfPage': True, 'contentUrl': 'https://www.pro-football-reference.com/req/20180910/images/headshots/WalkTr03_2022.jpg'}, 'memberOf': {'@type': 'SportsTeam', 'name': 'Jacksonville Jaguars', 'sport': 'Football'}, 'birthDate': '2000-12-18', 'birthPlace': 'Thomaston, GA, USA', 'height': {'@type': 'QuantitativeValue', 'value': '6-5'}, 'weight': {'@type': 'QuantitativeValue', 'value': '275 lbs'}}\n"
          ]
        }
      ],
      "source": [
        "getPersonalStats(playerLink)"
      ]
    },
    {
      "cell_type": "code",
      "execution_count": null,
      "metadata": {
        "id": "QA9skrsBF_37"
      },
      "outputs": [],
      "source": []
    },
    {
      "cell_type": "code",
      "execution_count": null,
      "metadata": {
        "id": "gVz1BEiRF_1a"
      },
      "outputs": [],
      "source": [
        "draftPlayerDF = pd.DataFrame(columns = [['draft_year', 'draft_round' , 'draft_pick', 'draft_team', 'player_name', 'player_url', 'position', 'draft_age','college', 'height', 'weight', 'birth_year', 'birth_month', 'birth_day', 'college_stats_url', 'birth_place', 'image_url']])"
      ]
    },
    {
      "cell_type": "code",
      "execution_count": null,
      "metadata": {
        "id": "IqIANzgmG-D9"
      },
      "outputs": [],
      "source": [
        "draft = requestDraftPage(2022)"
      ]
    },
    {
      "cell_type": "code",
      "execution_count": null,
      "metadata": {
        "colab": {
          "base_uri": "https://localhost:8080/"
        },
        "id": "1Rqx_bdYG9_g",
        "outputId": "a57acf6e-696b-4174-8e7a-e85fa2417157"
      },
      "outputs": [
        {
          "data": {
            "text/plain": [
              "[<tr><th class=\"right \" data-stat=\"draft_round\" scope=\"row\">1</th><td class=\"right \" csk=\"0.5\" data-stat=\"draft_pick\">1</td><td class=\"left \" csk=\"jax01\" data-stat=\"team\"><a href=\"/teams/jax/2022_draft.htm\" title=\"Jacksonville Jaguars\">JAX</a></td><td class=\"left \" csk=\"Walker,Travon\" data-append-csv=\"WalkTr03\" data-stat=\"player\"><strong><a href=\"/players/W/WalkTr03.htm\">Travon Walker</a></strong></td><td class=\"left \" csk=\"DE--------0001\" data-stat=\"pos\">DE</td><td class=\"right \" data-stat=\"age\">21</td><td class=\"right \" data-stat=\"year_max\">2022</td><td class=\"right iz\" data-stat=\"all_pros_first_team\">0</td><td class=\"right iz\" data-stat=\"pro_bowls\">0</td><td class=\"right iz\" data-stat=\"years_as_primary_starter\">0</td><td class=\"right \" data-stat=\"career_av\">6</td><td class=\"right \" data-stat=\"draft_av\">6</td><td class=\"right \" data-stat=\"g\">15</td><td class=\"right iz\" data-stat=\"pass_cmp\">0</td><td class=\"right iz\" data-stat=\"pass_att\">0</td><td class=\"right iz\" data-stat=\"pass_yds\">0</td><td class=\"right iz\" data-stat=\"pass_td\">0</td><td class=\"right iz\" data-stat=\"pass_int\">0</td><td class=\"right iz\" data-stat=\"rush_att\">0</td><td class=\"right iz\" data-stat=\"rush_yds\">0</td><td class=\"right iz\" data-stat=\"rush_td\">0</td><td class=\"right iz\" data-stat=\"rec\">0</td><td class=\"right iz\" data-stat=\"rec_yds\">0</td><td class=\"right iz\" data-stat=\"rec_td\">0</td><td class=\"right \" data-stat=\"tackles_solo\">24</td><td class=\"right \" data-stat=\"def_int\">1</td><td class=\"right \" data-stat=\"sacks\">3.5</td><td class=\"left \" data-stat=\"college_id\"><a href=\"https://www.pro-football-reference.com/schools/georgia/\">Georgia</a></td><td class=\"right \" data-stat=\"college_link\"><a href=\"http://www.sports-reference.com/cfb/players/travon-walker-1.html\">College Stats</a></td></tr>,\n",
              " <tr><th class=\"right \" data-stat=\"draft_round\" scope=\"row\">1</th><td class=\"right \" csk=\"1.5\" data-stat=\"draft_pick\">2</td><td class=\"left \" csk=\"det01\" data-stat=\"team\"><a href=\"/teams/det/2022_draft.htm\" title=\"Detroit Lions\">DET</a></td><td class=\"left \" csk=\"Hutchinson,Aidan\" data-append-csv=\"HutcAi00\" data-stat=\"player\"><strong><a href=\"/players/H/HutcAi00.htm\">Aidan Hutchinson</a></strong></td><td class=\"left \" csk=\"DE--------0002\" data-stat=\"pos\">DE</td><td class=\"right \" data-stat=\"age\">22</td><td class=\"right \" data-stat=\"year_max\">2022</td><td class=\"right iz\" data-stat=\"all_pros_first_team\">0</td><td class=\"right iz\" data-stat=\"pro_bowls\">0</td><td class=\"right iz\" data-stat=\"years_as_primary_starter\">0</td><td class=\"right \" data-stat=\"career_av\">8</td><td class=\"right \" data-stat=\"draft_av\">8</td><td class=\"right \" data-stat=\"g\">17</td><td class=\"right iz\" data-stat=\"pass_cmp\">0</td><td class=\"right iz\" data-stat=\"pass_att\">0</td><td class=\"right iz\" data-stat=\"pass_yds\">0</td><td class=\"right iz\" data-stat=\"pass_td\">0</td><td class=\"right iz\" data-stat=\"pass_int\">0</td><td class=\"right iz\" data-stat=\"rush_att\">0</td><td class=\"right iz\" data-stat=\"rush_yds\">0</td><td class=\"right iz\" data-stat=\"rush_td\">0</td><td class=\"right iz\" data-stat=\"rec\">0</td><td class=\"right iz\" data-stat=\"rec_yds\">0</td><td class=\"right iz\" data-stat=\"rec_td\">0</td><td class=\"right \" data-stat=\"tackles_solo\">34</td><td class=\"right \" data-stat=\"def_int\">3</td><td class=\"right \" data-stat=\"sacks\">9.5</td><td class=\"left \" data-stat=\"college_id\"><a href=\"https://www.pro-football-reference.com/schools/michigan/\">Michigan</a></td><td class=\"right \" data-stat=\"college_link\"><a href=\"http://www.sports-reference.com/cfb/players/aidan-hutchinson-1.html\">College Stats</a></td></tr>]"
            ]
          },
          "execution_count": 101,
          "metadata": {},
          "output_type": "execute_result"
        }
      ],
      "source": [
        "draftPlayers = getDraftPlayers(draft)[0:2]\n",
        "draftPlayers"
      ]
    },
    {
      "cell_type": "code",
      "execution_count": null,
      "metadata": {
        "colab": {
          "base_uri": "https://localhost:8080/",
          "height": 35
        },
        "id": "id5VqL_TVhs5",
        "outputId": "47e2d3f4-1712-4d1c-ee09-e7dbc8d119b1"
      },
      "outputs": [
        {
          "data": {
            "application/vnd.google.colaboratory.intrinsic+json": {
              "type": "string"
            },
            "text/plain": [
              "'http://www.sports-reference.com/cfb/players/travon-walker-1.html'"
            ]
          },
          "execution_count": 104,
          "metadata": {},
          "output_type": "execute_result"
        }
      ],
      "source": [
        "draftPlayers[0].find_all('a')[-1]['href']"
      ]
    },
    {
      "cell_type": "code",
      "execution_count": null,
      "metadata": {
        "colab": {
          "base_uri": "https://localhost:8080/",
          "height": 353
        },
        "id": "F26FwJ09G93I",
        "outputId": "9f14712b-cbb7-4f06-f426-6313132a4c5f"
      },
      "outputs": [
        {
          "name": "stdout",
          "output_type": "stream",
          "text": [
            "[<tr><th class=\"right \" data-stat=\"draft_round\" scope=\"row\">1</th><td class=\"right \" csk=\"0.5\" data-stat=\"draft_pick\">1</td><td class=\"left \" csk=\"jax01\" data-stat=\"team\"><a href=\"/teams/jax/2022_draft.htm\" title=\"Jacksonville Jaguars\">JAX</a></td><td class=\"left \" csk=\"Walker,Travon\" data-append-csv=\"WalkTr03\" data-stat=\"player\"><strong><a href=\"/players/W/WalkTr03.htm\">Travon Walker</a></strong></td><td class=\"left \" csk=\"DE--------0001\" data-stat=\"pos\">DE</td><td class=\"right \" data-stat=\"age\">21</td><td class=\"right \" data-stat=\"year_max\">2022</td><td class=\"right iz\" data-stat=\"all_pros_first_team\">0</td><td class=\"right iz\" data-stat=\"pro_bowls\">0</td><td class=\"right iz\" data-stat=\"years_as_primary_starter\">0</td><td class=\"right \" data-stat=\"career_av\">6</td><td class=\"right \" data-stat=\"draft_av\">6</td><td class=\"right \" data-stat=\"g\">15</td><td class=\"right iz\" data-stat=\"pass_cmp\">0</td><td class=\"right iz\" data-stat=\"pass_att\">0</td><td class=\"right iz\" data-stat=\"pass_yds\">0</td><td class=\"right iz\" data-stat=\"pass_td\">0</td><td class=\"right iz\" data-stat=\"pass_int\">0</td><td class=\"right iz\" data-stat=\"rush_att\">0</td><td class=\"right iz\" data-stat=\"rush_yds\">0</td><td class=\"right iz\" data-stat=\"rush_td\">0</td><td class=\"right iz\" data-stat=\"rec\">0</td><td class=\"right iz\" data-stat=\"rec_yds\">0</td><td class=\"right iz\" data-stat=\"rec_td\">0</td><td class=\"right \" data-stat=\"tackles_solo\">24</td><td class=\"right \" data-stat=\"def_int\">1</td><td class=\"right \" data-stat=\"sacks\">3.5</td><td class=\"left \" data-stat=\"college_id\"><a href=\"https://www.pro-football-reference.com/schools/georgia/\">Georgia</a></td><td class=\"right \" data-stat=\"college_link\"><a href=\"http://www.sports-reference.com/cfb/players/travon-walker-1.html\">College Stats</a></td></tr>, <tr><th class=\"right \" data-stat=\"draft_round\" scope=\"row\">1</th><td class=\"right \" csk=\"1.5\" data-stat=\"draft_pick\">2</td><td class=\"left \" csk=\"det01\" data-stat=\"team\"><a href=\"/teams/det/2022_draft.htm\" title=\"Detroit Lions\">DET</a></td><td class=\"left \" csk=\"Hutchinson,Aidan\" data-append-csv=\"HutcAi00\" data-stat=\"player\"><strong><a href=\"/players/H/HutcAi00.htm\">Aidan Hutchinson</a></strong></td><td class=\"left \" csk=\"DE--------0002\" data-stat=\"pos\">DE</td><td class=\"right \" data-stat=\"age\">22</td><td class=\"right \" data-stat=\"year_max\">2022</td><td class=\"right iz\" data-stat=\"all_pros_first_team\">0</td><td class=\"right iz\" data-stat=\"pro_bowls\">0</td><td class=\"right iz\" data-stat=\"years_as_primary_starter\">0</td><td class=\"right \" data-stat=\"career_av\">8</td><td class=\"right \" data-stat=\"draft_av\">8</td><td class=\"right \" data-stat=\"g\">17</td><td class=\"right iz\" data-stat=\"pass_cmp\">0</td><td class=\"right iz\" data-stat=\"pass_att\">0</td><td class=\"right iz\" data-stat=\"pass_yds\">0</td><td class=\"right iz\" data-stat=\"pass_td\">0</td><td class=\"right iz\" data-stat=\"pass_int\">0</td><td class=\"right iz\" data-stat=\"rush_att\">0</td><td class=\"right iz\" data-stat=\"rush_yds\">0</td><td class=\"right iz\" data-stat=\"rush_td\">0</td><td class=\"right iz\" data-stat=\"rec\">0</td><td class=\"right iz\" data-stat=\"rec_yds\">0</td><td class=\"right iz\" data-stat=\"rec_td\">0</td><td class=\"right \" data-stat=\"tackles_solo\">34</td><td class=\"right \" data-stat=\"def_int\">3</td><td class=\"right \" data-stat=\"sacks\">9.5</td><td class=\"left \" data-stat=\"college_id\"><a href=\"https://www.pro-football-reference.com/schools/michigan/\">Michigan</a></td><td class=\"right \" data-stat=\"college_link\"><a href=\"http://www.sports-reference.com/cfb/players/aidan-hutchinson-1.html\">College Stats</a></td></tr>]\n",
            "<tr><th class=\"right \" data-stat=\"draft_round\" scope=\"row\">1</th><td class=\"right \" csk=\"0.5\" data-stat=\"draft_pick\">1</td><td class=\"left \" csk=\"jax01\" data-stat=\"team\"><a href=\"/teams/jax/2022_draft.htm\" title=\"Jacksonville Jaguars\">JAX</a></td><td class=\"left \" csk=\"Walker,Travon\" data-append-csv=\"WalkTr03\" data-stat=\"player\"><strong><a href=\"/players/W/WalkTr03.htm\">Travon Walker</a></strong></td><td class=\"left \" csk=\"DE--------0001\" data-stat=\"pos\">DE</td><td class=\"right \" data-stat=\"age\">21</td><td class=\"right \" data-stat=\"year_max\">2022</td><td class=\"right iz\" data-stat=\"all_pros_first_team\">0</td><td class=\"right iz\" data-stat=\"pro_bowls\">0</td><td class=\"right iz\" data-stat=\"years_as_primary_starter\">0</td><td class=\"right \" data-stat=\"career_av\">6</td><td class=\"right \" data-stat=\"draft_av\">6</td><td class=\"right \" data-stat=\"g\">15</td><td class=\"right iz\" data-stat=\"pass_cmp\">0</td><td class=\"right iz\" data-stat=\"pass_att\">0</td><td class=\"right iz\" data-stat=\"pass_yds\">0</td><td class=\"right iz\" data-stat=\"pass_td\">0</td><td class=\"right iz\" data-stat=\"pass_int\">0</td><td class=\"right iz\" data-stat=\"rush_att\">0</td><td class=\"right iz\" data-stat=\"rush_yds\">0</td><td class=\"right iz\" data-stat=\"rush_td\">0</td><td class=\"right iz\" data-stat=\"rec\">0</td><td class=\"right iz\" data-stat=\"rec_yds\">0</td><td class=\"right iz\" data-stat=\"rec_td\">0</td><td class=\"right \" data-stat=\"tackles_solo\">24</td><td class=\"right \" data-stat=\"def_int\">1</td><td class=\"right \" data-stat=\"sacks\">3.5</td><td class=\"left \" data-stat=\"college_id\"><a href=\"https://www.pro-football-reference.com/schools/georgia/\">Georgia</a></td><td class=\"right \" data-stat=\"college_link\"><a href=\"http://www.sports-reference.com/cfb/players/travon-walker-1.html\">College Stats</a></td></tr>\n"
          ]
        },
        {
          "ename": "TypeError",
          "evalue": "ignored",
          "output_type": "error",
          "traceback": [
            "\u001b[0;31m---------------------------------------------------------------------------\u001b[0m",
            "\u001b[0;31mTypeError\u001b[0m                                 Traceback (most recent call last)",
            "\u001b[0;32m<ipython-input-100-c05e539dde28>\u001b[0m in \u001b[0;36m<module>\u001b[0;34m\u001b[0m\n\u001b[0;32m----> 1\u001b[0;31m \u001b[0mextractPlayerData\u001b[0m\u001b[0;34m(\u001b[0m\u001b[0mdraftPlayers\u001b[0m\u001b[0;34m,\u001b[0m \u001b[0;36m2022\u001b[0m\u001b[0;34m,\u001b[0m \u001b[0mbase\u001b[0m\u001b[0;34m)\u001b[0m\u001b[0;34m\u001b[0m\u001b[0;34m\u001b[0m\u001b[0m\n\u001b[0m",
            "\u001b[0;32m<ipython-input-99-d7b8a7cb105d>\u001b[0m in \u001b[0;36mextractPlayerData\u001b[0;34m(playerList, year, base)\u001b[0m\n\u001b[1;32m     18\u001b[0m \u001b[0;34m\u001b[0m\u001b[0m\n\u001b[1;32m     19\u001b[0m     \u001b[0;31m# Calling function to get players height, weight and birthday located in their personal pages\u001b[0m\u001b[0;34m\u001b[0m\u001b[0;34m\u001b[0m\u001b[0;34m\u001b[0m\u001b[0m\n\u001b[0;32m---> 20\u001b[0;31m     \u001b[0mplayerRecord\u001b[0m \u001b[0;34m=\u001b[0m \u001b[0mgetPersonalStats\u001b[0m\u001b[0;34m(\u001b[0m\u001b[0mplayerRecord\u001b[0m\u001b[0;34m[\u001b[0m\u001b[0;34m'player_url'\u001b[0m\u001b[0;34m]\u001b[0m\u001b[0;34m)\u001b[0m\u001b[0;34m\u001b[0m\u001b[0;34m\u001b[0m\u001b[0m\n\u001b[0m\u001b[1;32m     21\u001b[0m \u001b[0;34m\u001b[0m\u001b[0m\n\u001b[1;32m     22\u001b[0m     \u001b[0;31m#playerRecords.append(playerRecord)\u001b[0m\u001b[0;34m\u001b[0m\u001b[0;34m\u001b[0m\u001b[0;34m\u001b[0m\u001b[0m\n",
            "\u001b[0;31mTypeError\u001b[0m: getPersonalStats() missing 1 required positional argument: 'playerList'"
          ]
        }
      ],
      "source": [
        "extractPlayerData(draftPlayers, 2022, base)"
      ]
    },
    {
      "cell_type": "code",
      "execution_count": null,
      "metadata": {
        "id": "4yJKA-WnG90F"
      },
      "outputs": [],
      "source": []
    },
    {
      "attachments": {},
      "cell_type": "markdown",
      "metadata": {
        "id": "2pOyJU4aaKoo"
      },
      "source": [
        "{'@context': 'http://schema.org',\n",
        " '@type': 'Person',\n",
        " 'name': 'Travon Walker',\n",
        " 'url': 'https://www.pro-football-reference.com/players/W/WalkTr03.htm',\n",
        " 'image': {'@type': 'ImageObject',\n",
        "  'caption': 'Travon Walker, Jacksonville Jaguars',\n",
        "  'representativeOfPage': True,\n",
        "  'contentUrl': 'https://www.pro-football-reference.com/req/20180910/images/headshots/WalkTr03_2022.jpg'},\n",
        " 'memberOf': {'@type': 'SportsTeam',\n",
        "  'name': 'Jacksonville Jaguars',\n",
        "  'sport': 'Football'},\n",
        " 'birthDate': '2000-12-18',\n",
        " 'birthPlace': 'Thomaston, GA, USA',\n",
        " 'height': {'@type': 'QuantitativeValue', 'value': '6-5'},\n",
        " 'weight': {'@type': 'QuantitativeValue', 'value': '275 lbs'}}"
      ]
    },
    {
      "cell_type": "code",
      "execution_count": null,
      "metadata": {
        "id": "437dL_0gL132"
      },
      "outputs": [],
      "source": [
        "f = createEmptyPlayer()"
      ]
    },
    {
      "cell_type": "code",
      "execution_count": null,
      "metadata": {
        "colab": {
          "base_uri": "https://localhost:8080/"
        },
        "id": "CYFjz8MfL6n7",
        "outputId": "a7790fb5-1f42-4120-a511-d6e0607fa977"
      },
      "outputs": [
        {
          "data": {
            "text/plain": [
              "{'draft_year': None,\n",
              " 'draft_round': None,\n",
              " 'draft_pick': None,\n",
              " 'draft_team': None,\n",
              " 'player_name': None,\n",
              " 'player_url': None,\n",
              " 'position': None,\n",
              " 'draft_age': None,\n",
              " 'college': None,\n",
              " 'height': None,\n",
              " 'weight': None,\n",
              " 'birth_year': None,\n",
              " 'birth_month': None,\n",
              " 'birth_day': None,\n",
              " 'college_stats_url': None}"
            ]
          },
          "execution_count": 51,
          "metadata": {},
          "output_type": "execute_result"
        }
      ],
      "source": [
        "f"
      ]
    },
    {
      "cell_type": "code",
      "execution_count": null,
      "metadata": {
        "colab": {
          "base_uri": "https://localhost:8080/"
        },
        "id": "bf94fGwvOgKc",
        "outputId": "7a5e6acd-31af-40e6-f927-2766a14e5126"
      },
      "outputs": [
        {
          "data": {
            "text/plain": [
              "[<tr><th class=\"right \" data-stat=\"draft_round\" scope=\"row\">1</th><td class=\"right \" csk=\"0.5\" data-stat=\"draft_pick\">1</td><td class=\"left \" csk=\"jax01\" data-stat=\"team\"><a href=\"/teams/jax/2022_draft.htm\" title=\"Jacksonville Jaguars\">JAX</a></td><td class=\"left \" csk=\"Walker,Travon\" data-append-csv=\"WalkTr03\" data-stat=\"player\"><strong><a href=\"/players/W/WalkTr03.htm\">Travon Walker</a></strong></td><td class=\"left \" csk=\"DE--------0001\" data-stat=\"pos\">DE</td><td class=\"right \" data-stat=\"age\">21</td><td class=\"right \" data-stat=\"year_max\">2022</td><td class=\"right iz\" data-stat=\"all_pros_first_team\">0</td><td class=\"right iz\" data-stat=\"pro_bowls\">0</td><td class=\"right iz\" data-stat=\"years_as_primary_starter\">0</td><td class=\"right \" data-stat=\"career_av\">6</td><td class=\"right \" data-stat=\"draft_av\">6</td><td class=\"right \" data-stat=\"g\">15</td><td class=\"right iz\" data-stat=\"pass_cmp\">0</td><td class=\"right iz\" data-stat=\"pass_att\">0</td><td class=\"right iz\" data-stat=\"pass_yds\">0</td><td class=\"right iz\" data-stat=\"pass_td\">0</td><td class=\"right iz\" data-stat=\"pass_int\">0</td><td class=\"right iz\" data-stat=\"rush_att\">0</td><td class=\"right iz\" data-stat=\"rush_yds\">0</td><td class=\"right iz\" data-stat=\"rush_td\">0</td><td class=\"right iz\" data-stat=\"rec\">0</td><td class=\"right iz\" data-stat=\"rec_yds\">0</td><td class=\"right iz\" data-stat=\"rec_td\">0</td><td class=\"right \" data-stat=\"tackles_solo\">24</td><td class=\"right \" data-stat=\"def_int\">1</td><td class=\"right \" data-stat=\"sacks\">3.5</td><td class=\"left \" data-stat=\"college_id\"><a href=\"https://www.pro-football-reference.com/schools/georgia/\">Georgia</a></td><td class=\"right \" data-stat=\"college_link\"><a href=\"http://www.sports-reference.com/cfb/players/travon-walker-1.html\">College Stats</a></td></tr>,\n",
              " <tr><th class=\"right \" data-stat=\"draft_round\" scope=\"row\">1</th><td class=\"right \" csk=\"1.5\" data-stat=\"draft_pick\">2</td><td class=\"left \" csk=\"det01\" data-stat=\"team\"><a href=\"/teams/det/2022_draft.htm\" title=\"Detroit Lions\">DET</a></td><td class=\"left \" csk=\"Hutchinson,Aidan\" data-append-csv=\"HutcAi00\" data-stat=\"player\"><strong><a href=\"/players/H/HutcAi00.htm\">Aidan Hutchinson</a></strong></td><td class=\"left \" csk=\"DE--------0002\" data-stat=\"pos\">DE</td><td class=\"right \" data-stat=\"age\">22</td><td class=\"right \" data-stat=\"year_max\">2022</td><td class=\"right iz\" data-stat=\"all_pros_first_team\">0</td><td class=\"right iz\" data-stat=\"pro_bowls\">0</td><td class=\"right iz\" data-stat=\"years_as_primary_starter\">0</td><td class=\"right \" data-stat=\"career_av\">8</td><td class=\"right \" data-stat=\"draft_av\">8</td><td class=\"right \" data-stat=\"g\">17</td><td class=\"right iz\" data-stat=\"pass_cmp\">0</td><td class=\"right iz\" data-stat=\"pass_att\">0</td><td class=\"right iz\" data-stat=\"pass_yds\">0</td><td class=\"right iz\" data-stat=\"pass_td\">0</td><td class=\"right iz\" data-stat=\"pass_int\">0</td><td class=\"right iz\" data-stat=\"rush_att\">0</td><td class=\"right iz\" data-stat=\"rush_yds\">0</td><td class=\"right iz\" data-stat=\"rush_td\">0</td><td class=\"right iz\" data-stat=\"rec\">0</td><td class=\"right iz\" data-stat=\"rec_yds\">0</td><td class=\"right iz\" data-stat=\"rec_td\">0</td><td class=\"right \" data-stat=\"tackles_solo\">34</td><td class=\"right \" data-stat=\"def_int\">3</td><td class=\"right \" data-stat=\"sacks\">9.5</td><td class=\"left \" data-stat=\"college_id\"><a href=\"https://www.pro-football-reference.com/schools/michigan/\">Michigan</a></td><td class=\"right \" data-stat=\"college_link\"><a href=\"http://www.sports-reference.com/cfb/players/aidan-hutchinson-1.html\">College Stats</a></td></tr>]"
            ]
          },
          "execution_count": 58,
          "metadata": {},
          "output_type": "execute_result"
        }
      ],
      "source": [
        "draftPlayers"
      ]
    },
    {
      "cell_type": "code",
      "execution_count": null,
      "metadata": {
        "colab": {
          "base_uri": "https://localhost:8080/",
          "height": 171
        },
        "id": "jh3eKSvYOjuG",
        "outputId": "8cebfb28-1466-4fb2-d01a-19698db99bc9"
      },
      "outputs": [
        {
          "ename": "AttributeError",
          "evalue": "ignored",
          "output_type": "error",
          "traceback": [
            "\u001b[0;31m---------------------------------------------------------------------------\u001b[0m",
            "\u001b[0;31mAttributeError\u001b[0m                            Traceback (most recent call last)",
            "\u001b[0;32m<ipython-input-59-919b0a7206f9>\u001b[0m in \u001b[0;36m<module>\u001b[0;34m\u001b[0m\n\u001b[0;32m----> 1\u001b[0;31m \u001b[0mdraftPlayers\u001b[0m\u001b[0;34m.\u001b[0m\u001b[0mfind\u001b[0m\u001b[0;34m(\u001b[0m\u001b[0;34m'td'\u001b[0m\u001b[0;34m,\u001b[0m \u001b[0;34m{\u001b[0m\u001b[0;34m'data-stat'\u001b[0m\u001b[0;34m:\u001b[0m \u001b[0;34m'draft_pick'\u001b[0m\u001b[0;34m}\u001b[0m\u001b[0;34m)\u001b[0m\u001b[0;34m.\u001b[0m\u001b[0mget_text\u001b[0m\u001b[0;34m(\u001b[0m\u001b[0;34m)\u001b[0m\u001b[0;34m\u001b[0m\u001b[0;34m\u001b[0m\u001b[0m\n\u001b[0m",
            "\u001b[0;31mAttributeError\u001b[0m: 'list' object has no attribute 'find'"
          ]
        }
      ],
      "source": [
        "draftPlayers.find('td', {'data-stat': 'draft_pick'}).get_text()"
      ]
    },
    {
      "cell_type": "code",
      "execution_count": null,
      "metadata": {
        "id": "n1RIfxEWhuQq"
      },
      "outputs": [],
      "source": []
    },
    {
      "attachments": {},
      "cell_type": "markdown",
      "metadata": {
        "id": "53pjFyDR6jyU"
      },
      "source": [
        "# Lines for testing when errors come up"
      ]
    },
    {
      "cell_type": "code",
      "execution_count": 8,
      "metadata": {},
      "outputs": [],
      "source": [
        "df1 = playerDF"
      ]
    },
    {
      "cell_type": "code",
      "execution_count": 50,
      "metadata": {},
      "outputs": [],
      "source": [
        "year = 1999"
      ]
    },
    {
      "cell_type": "code",
      "execution_count": 51,
      "metadata": {
        "id": "F_0CwHCNhQLP"
      },
      "outputs": [],
      "source": [
        "# Test for specific year\n",
        "dp = requestDraftPage(year)"
      ]
    },
    {
      "cell_type": "code",
      "execution_count": 56,
      "metadata": {
        "colab": {
          "base_uri": "https://localhost:8080/"
        },
        "id": "n1P_4TflhQIQ",
        "outputId": "855dea95-b8b4-497d-b626-d9cd85aac05a"
      },
      "outputs": [],
      "source": [
        "# Grab individual players to test what happens\n",
        "players = getDraftPlayers(dp)[174:]"
      ]
    },
    {
      "cell_type": "code",
      "execution_count": 53,
      "metadata": {},
      "outputs": [
        {
          "data": {
            "text/plain": [
              "80"
            ]
          },
          "execution_count": 53,
          "metadata": {},
          "output_type": "execute_result"
        }
      ],
      "source": [
        "len(players)"
      ]
    },
    {
      "cell_type": "code",
      "execution_count": 58,
      "metadata": {},
      "outputs": [],
      "source": [
        "extractPlayerData(players,playerDF,year)"
      ]
    },
    {
      "attachments": {},
      "cell_type": "markdown",
      "metadata": {},
      "source": [
        "# The looping function"
      ]
    },
    {
      "cell_type": "code",
      "execution_count": 62,
      "metadata": {},
      "outputs": [],
      "source": [
        "for year in np.arange(1994,1989,-1):\n",
        "    \n",
        "    dp = requestDraftPage(year)\n",
        "\n",
        "    players = getDraftPlayers(dp)\n",
        "\n",
        "    extractPlayerData(players,playerDF,year)"
      ]
    },
    {
      "attachments": {},
      "cell_type": "markdown",
      "metadata": {},
      "source": [
        "# DF to check"
      ]
    },
    {
      "cell_type": "code",
      "execution_count": 108,
      "metadata": {},
      "outputs": [
        {
          "data": {
            "text/html": [
              "<div>\n",
              "<style scoped>\n",
              "    .dataframe tbody tr th:only-of-type {\n",
              "        vertical-align: middle;\n",
              "    }\n",
              "\n",
              "    .dataframe tbody tr th {\n",
              "        vertical-align: top;\n",
              "    }\n",
              "\n",
              "    .dataframe thead th {\n",
              "        text-align: right;\n",
              "    }\n",
              "</style>\n",
              "<table border=\"1\" class=\"dataframe\">\n",
              "  <thead>\n",
              "    <tr style=\"text-align: right;\">\n",
              "      <th></th>\n",
              "      <th>draft_year</th>\n",
              "      <th>draft_round</th>\n",
              "      <th>draft_pick</th>\n",
              "      <th>draft_team</th>\n",
              "      <th>player_name</th>\n",
              "      <th>player_url</th>\n",
              "      <th>position</th>\n",
              "      <th>draft_age</th>\n",
              "      <th>college</th>\n",
              "      <th>height</th>\n",
              "      <th>weight</th>\n",
              "      <th>birth_year</th>\n",
              "      <th>birth_month</th>\n",
              "      <th>birth_day</th>\n",
              "      <th>college_stats_url</th>\n",
              "      <th>birth_place</th>\n",
              "      <th>high_school</th>\n",
              "      <th>image_url</th>\n",
              "    </tr>\n",
              "  </thead>\n",
              "  <tbody>\n",
              "    <tr>\n",
              "      <th>234</th>\n",
              "      <td>2010</td>\n",
              "      <td>7</td>\n",
              "      <td>244</td>\n",
              "      <td>PHI</td>\n",
              "      <td>Kurt Coleman</td>\n",
              "      <td>https://www.pro-football-reference.com/players...</td>\n",
              "      <td>DB</td>\n",
              "      <td>22</td>\n",
              "      <td>Ohio St.</td>\n",
              "      <td>5-11</td>\n",
              "      <td>208 lbs</td>\n",
              "      <td>1988</td>\n",
              "      <td>07</td>\n",
              "      <td>01</td>\n",
              "      <td>http://www.sports-reference.com/cfb/players/ku...</td>\n",
              "      <td>Clayton, OH, USA</td>\n",
              "      <td>HS,Northmont,OH</td>\n",
              "      <td>https://www.pro-football-reference.com/req/201...</td>\n",
              "    </tr>\n",
              "    <tr>\n",
              "      <th>235</th>\n",
              "      <td>2010</td>\n",
              "      <td>7</td>\n",
              "      <td>245</td>\n",
              "      <td>SEA</td>\n",
              "      <td>Jameson Konz</td>\n",
              "      <td>https://www.pro-football-reference.com/players...</td>\n",
              "      <td>TE</td>\n",
              "      <td>24</td>\n",
              "      <td>Kent St.</td>\n",
              "      <td>6-3</td>\n",
              "      <td>227 lbs</td>\n",
              "      <td>1986</td>\n",
              "      <td>07</td>\n",
              "      <td>02</td>\n",
              "      <td>None</td>\n",
              "      <td>Uniontown, OH, USA</td>\n",
              "      <td>HS,Lake,OH</td>\n",
              "      <td>https://www.pro-football-reference.com/req/201...</td>\n",
              "    </tr>\n",
              "    <tr>\n",
              "      <th>236</th>\n",
              "      <td>2010</td>\n",
              "      <td>7</td>\n",
              "      <td>247</td>\n",
              "      <td>NWE</td>\n",
              "      <td>Brandon Deaderick</td>\n",
              "      <td>https://www.pro-football-reference.com/players...</td>\n",
              "      <td>DE</td>\n",
              "      <td>23</td>\n",
              "      <td>Alabama</td>\n",
              "      <td>6-4</td>\n",
              "      <td>297 lbs</td>\n",
              "      <td>1987</td>\n",
              "      <td>08</td>\n",
              "      <td>19</td>\n",
              "      <td>http://www.sports-reference.com/cfb/players/br...</td>\n",
              "      <td>Elizabethtown, KY, USA</td>\n",
              "      <td>HS,Elizabethtown,KY</td>\n",
              "      <td>https://www.pro-football-reference.com/req/201...</td>\n",
              "    </tr>\n",
              "    <tr>\n",
              "      <th>237</th>\n",
              "      <td>2010</td>\n",
              "      <td>7</td>\n",
              "      <td>249</td>\n",
              "      <td>CAR</td>\n",
              "      <td>Robert McClain</td>\n",
              "      <td>https://www.pro-football-reference.com/players...</td>\n",
              "      <td>DB</td>\n",
              "      <td>22</td>\n",
              "      <td>Connecticut</td>\n",
              "      <td>5-9</td>\n",
              "      <td>180 lbs</td>\n",
              "      <td>1988</td>\n",
              "      <td>07</td>\n",
              "      <td>22</td>\n",
              "      <td>http://www.sports-reference.com/cfb/players/ro...</td>\n",
              "      <td>Lusby, MD, USA</td>\n",
              "      <td>HS,Patuxent,MD</td>\n",
              "      <td>https://www.pro-football-reference.com/req/201...</td>\n",
              "    </tr>\n",
              "    <tr>\n",
              "      <th>238</th>\n",
              "      <td>2010</td>\n",
              "      <td>7</td>\n",
              "      <td>250</td>\n",
              "      <td>NWE</td>\n",
              "      <td>Zac Robinson</td>\n",
              "      <td>https://www.pro-football-reference.com/players...</td>\n",
              "      <td>QB</td>\n",
              "      <td>23</td>\n",
              "      <td>Oklahoma St.</td>\n",
              "      <td>6-3</td>\n",
              "      <td>218 lbs</td>\n",
              "      <td>1986</td>\n",
              "      <td>09</td>\n",
              "      <td>29</td>\n",
              "      <td>None</td>\n",
              "      <td>None</td>\n",
              "      <td>HS</td>\n",
              "      <td>https://www.pro-football-reference.com/req/201...</td>\n",
              "    </tr>\n",
              "    <tr>\n",
              "      <th>239</th>\n",
              "      <td>2010</td>\n",
              "      <td>7</td>\n",
              "      <td>251</td>\n",
              "      <td>OAK</td>\n",
              "      <td>Stevie Brown</td>\n",
              "      <td>https://www.pro-football-reference.com/players...</td>\n",
              "      <td>DB</td>\n",
              "      <td>23</td>\n",
              "      <td>Michigan</td>\n",
              "      <td>6-0</td>\n",
              "      <td>213 lbs</td>\n",
              "      <td>1987</td>\n",
              "      <td>07</td>\n",
              "      <td>17</td>\n",
              "      <td>http://www.sports-reference.com/cfb/players/st...</td>\n",
              "      <td>Dallas, TX, USA</td>\n",
              "      <td>HS,Columbus East,IN</td>\n",
              "      <td>https://www.pro-football-reference.com/req/201...</td>\n",
              "    </tr>\n",
              "    <tr>\n",
              "      <th>240</th>\n",
              "      <td>2010</td>\n",
              "      <td>7</td>\n",
              "      <td>252</td>\n",
              "      <td>MIA</td>\n",
              "      <td>Austin Spitler</td>\n",
              "      <td>https://www.pro-football-reference.com/players...</td>\n",
              "      <td>LB</td>\n",
              "      <td>23</td>\n",
              "      <td>Ohio St.</td>\n",
              "      <td>6-3</td>\n",
              "      <td>244 lbs</td>\n",
              "      <td>1986</td>\n",
              "      <td>10</td>\n",
              "      <td>26</td>\n",
              "      <td>http://www.sports-reference.com/cfb/players/au...</td>\n",
              "      <td>Dayton, OH, USA</td>\n",
              "      <td>HS,Bellbrook,OH</td>\n",
              "      <td>https://www.pro-football-reference.com/req/201...</td>\n",
              "    </tr>\n",
              "    <tr>\n",
              "      <th>241</th>\n",
              "      <td>2010</td>\n",
              "      <td>7</td>\n",
              "      <td>253</td>\n",
              "      <td>TAM</td>\n",
              "      <td>Erik Lorig</td>\n",
              "      <td>https://www.pro-football-reference.com/players...</td>\n",
              "      <td>DE</td>\n",
              "      <td>23</td>\n",
              "      <td>Stanford</td>\n",
              "      <td>6-4</td>\n",
              "      <td>265 lbs</td>\n",
              "      <td>1986</td>\n",
              "      <td>11</td>\n",
              "      <td>17</td>\n",
              "      <td>http://www.sports-reference.com/cfb/players/er...</td>\n",
              "      <td>Rolling Hills, CA, USA</td>\n",
              "      <td>HS,Palos Verdes Peninsula,CA</td>\n",
              "      <td>https://www.pro-football-reference.com/req/201...</td>\n",
              "    </tr>\n",
              "    <tr>\n",
              "      <th>242</th>\n",
              "      <td>2010</td>\n",
              "      <td>7</td>\n",
              "      <td>254</td>\n",
              "      <td>STL</td>\n",
              "      <td>Josh Hull</td>\n",
              "      <td>https://www.pro-football-reference.com/players...</td>\n",
              "      <td>LB</td>\n",
              "      <td>23</td>\n",
              "      <td>Penn St.</td>\n",
              "      <td>6-2</td>\n",
              "      <td>236 lbs</td>\n",
              "      <td>1987</td>\n",
              "      <td>05</td>\n",
              "      <td>21</td>\n",
              "      <td>http://www.sports-reference.com/cfb/players/jo...</td>\n",
              "      <td>State College, PA, USA</td>\n",
              "      <td>HS,Penns Valley,PA</td>\n",
              "      <td>None</td>\n",
              "    </tr>\n",
              "    <tr>\n",
              "      <th>243</th>\n",
              "      <td>2010</td>\n",
              "      <td>7</td>\n",
              "      <td>255</td>\n",
              "      <td>DET</td>\n",
              "      <td>Tim Toone</td>\n",
              "      <td>https://www.pro-football-reference.com/players...</td>\n",
              "      <td>WR</td>\n",
              "      <td>25</td>\n",
              "      <td>Weber St.</td>\n",
              "      <td>5-10</td>\n",
              "      <td>185 lbs</td>\n",
              "      <td>1985</td>\n",
              "      <td>02</td>\n",
              "      <td>14</td>\n",
              "      <td>None</td>\n",
              "      <td>None</td>\n",
              "      <td>HS</td>\n",
              "      <td>None</td>\n",
              "    </tr>\n",
              "  </tbody>\n",
              "</table>\n",
              "</div>"
            ],
            "text/plain": [
              "     draft_year draft_round draft_pick draft_team        player_name  \\\n",
              "234        2010           7        244        PHI       Kurt Coleman   \n",
              "235        2010           7        245        SEA       Jameson Konz   \n",
              "236        2010           7        247        NWE  Brandon Deaderick   \n",
              "237        2010           7        249        CAR     Robert McClain   \n",
              "238        2010           7        250        NWE       Zac Robinson   \n",
              "239        2010           7        251        OAK       Stevie Brown   \n",
              "240        2010           7        252        MIA     Austin Spitler   \n",
              "241        2010           7        253        TAM         Erik Lorig   \n",
              "242        2010           7        254        STL          Josh Hull   \n",
              "243        2010           7        255        DET          Tim Toone   \n",
              "\n",
              "                                            player_url position draft_age  \\\n",
              "234  https://www.pro-football-reference.com/players...       DB        22   \n",
              "235  https://www.pro-football-reference.com/players...       TE        24   \n",
              "236  https://www.pro-football-reference.com/players...       DE        23   \n",
              "237  https://www.pro-football-reference.com/players...       DB        22   \n",
              "238  https://www.pro-football-reference.com/players...       QB        23   \n",
              "239  https://www.pro-football-reference.com/players...       DB        23   \n",
              "240  https://www.pro-football-reference.com/players...       LB        23   \n",
              "241  https://www.pro-football-reference.com/players...       DE        23   \n",
              "242  https://www.pro-football-reference.com/players...       LB        23   \n",
              "243  https://www.pro-football-reference.com/players...       WR        25   \n",
              "\n",
              "          college height   weight birth_year birth_month birth_day  \\\n",
              "234      Ohio St.   5-11  208 lbs       1988          07        01   \n",
              "235      Kent St.    6-3  227 lbs       1986          07        02   \n",
              "236       Alabama    6-4  297 lbs       1987          08        19   \n",
              "237   Connecticut    5-9  180 lbs       1988          07        22   \n",
              "238  Oklahoma St.    6-3  218 lbs       1986          09        29   \n",
              "239      Michigan    6-0  213 lbs       1987          07        17   \n",
              "240      Ohio St.    6-3  244 lbs       1986          10        26   \n",
              "241      Stanford    6-4  265 lbs       1986          11        17   \n",
              "242      Penn St.    6-2  236 lbs       1987          05        21   \n",
              "243     Weber St.   5-10  185 lbs       1985          02        14   \n",
              "\n",
              "                                     college_stats_url  \\\n",
              "234  http://www.sports-reference.com/cfb/players/ku...   \n",
              "235                                               None   \n",
              "236  http://www.sports-reference.com/cfb/players/br...   \n",
              "237  http://www.sports-reference.com/cfb/players/ro...   \n",
              "238                                               None   \n",
              "239  http://www.sports-reference.com/cfb/players/st...   \n",
              "240  http://www.sports-reference.com/cfb/players/au...   \n",
              "241  http://www.sports-reference.com/cfb/players/er...   \n",
              "242  http://www.sports-reference.com/cfb/players/jo...   \n",
              "243                                               None   \n",
              "\n",
              "                birth_place                   high_school  \\\n",
              "234        Clayton, OH, USA               HS,Northmont,OH   \n",
              "235      Uniontown, OH, USA                    HS,Lake,OH   \n",
              "236  Elizabethtown, KY, USA           HS,Elizabethtown,KY   \n",
              "237          Lusby, MD, USA                HS,Patuxent,MD   \n",
              "238                    None                            HS   \n",
              "239         Dallas, TX, USA           HS,Columbus East,IN   \n",
              "240         Dayton, OH, USA               HS,Bellbrook,OH   \n",
              "241  Rolling Hills, CA, USA  HS,Palos Verdes Peninsula,CA   \n",
              "242  State College, PA, USA            HS,Penns Valley,PA   \n",
              "243                    None                            HS   \n",
              "\n",
              "                                             image_url  \n",
              "234  https://www.pro-football-reference.com/req/201...  \n",
              "235  https://www.pro-football-reference.com/req/201...  \n",
              "236  https://www.pro-football-reference.com/req/201...  \n",
              "237  https://www.pro-football-reference.com/req/201...  \n",
              "238  https://www.pro-football-reference.com/req/201...  \n",
              "239  https://www.pro-football-reference.com/req/201...  \n",
              "240  https://www.pro-football-reference.com/req/201...  \n",
              "241  https://www.pro-football-reference.com/req/201...  \n",
              "242                                               None  \n",
              "243                                               None  "
            ]
          },
          "execution_count": 108,
          "metadata": {},
          "output_type": "execute_result"
        }
      ],
      "source": [
        "playerDF.tail(10)"
      ]
    },
    {
      "cell_type": "code",
      "execution_count": 65,
      "metadata": {},
      "outputs": [],
      "source": [
        "#playerDF.to_csv('draft_players_2022-2000.csv', index=False)"
      ]
    },
    {
      "attachments": {},
      "cell_type": "markdown",
      "metadata": {
        "id": "3IV9NyJT0x63"
      },
      "source": [
        "# RequestDraftPage(year) Function"
      ]
    },
    {
      "cell_type": "code",
      "execution_count": 34,
      "metadata": {
        "id": "KWSgLEJZF_tt"
      },
      "outputs": [],
      "source": [
        "def requestDraftPage(year):\n",
        "  base = 'https://www.pro-football-reference.com'\n",
        "  yearLink = f'/years/{year}/draft.htm'\n",
        "\n",
        "  draftPage = requests.get(base+yearLink)\n",
        "\n",
        "  return draftPage"
      ]
    },
    {
      "attachments": {},
      "cell_type": "markdown",
      "metadata": {
        "id": "aBOhA3B901s5"
      },
      "source": [
        "# GetDraftPlayer Function"
      ]
    },
    {
      "cell_type": "code",
      "execution_count": 35,
      "metadata": {
        "id": "VsfntmoCF_qy"
      },
      "outputs": [],
      "source": [
        "def getDraftPlayers(draftPage):\n",
        "    soup = BeautifulSoup(draftPage.text, 'html.parser')\n",
        "\n",
        "    draftPlayers = soup.find('tbody').find_all('tr', attrs={'class': None})\n",
        "\n",
        "    return draftPlayers"
      ]
    },
    {
      "attachments": {},
      "cell_type": "markdown",
      "metadata": {
        "id": "OS1jzyc707Xc"
      },
      "source": [
        "# ExtractPlayerData Function"
      ]
    },
    {
      "cell_type": "code",
      "execution_count": 36,
      "metadata": {
        "id": "k8-0iqJLF_nm"
      },
      "outputs": [],
      "source": [
        "def extractPlayerData(playerList, df, year):\n",
        "    \n",
        "  nextIndex = len(df)\n",
        "\n",
        "  for player in playerList:\n",
        "        \n",
        "    # Blank list that will take on values of each player\n",
        "    playerRecord = createEmptyPlayer()\n",
        "\n",
        "    # Function to retrieve data in the draft listing\n",
        "    playerRecord = extractPlayerBasicDataMapping(playerRecord, player, year)\n",
        "    \n",
        "    \n",
        "    # Function to retrieve data in the draft listing using the data-stat attribute \n",
        "    playerRecord = dataStatAttrsInsert(player, playerRecord)\n",
        "    \n",
        "    if playerRecord['player_url'] != None:\n",
        "    # Calling function to get players height, weight and birthday located in their personal pages\n",
        "        playerRecord = getPersonalStats(playerRecord['player_url'], playerRecord)\n",
        "    \n",
        "    saveToCSV(playerRecord, df)\n",
        "\n",
        "    df.loc[nextIndex] = playerRecord\n",
        "    nextIndex += 1\n"
      ]
    },
    {
      "attachments": {},
      "cell_type": "markdown",
      "metadata": {
        "id": "q6Ea7q0_zr22"
      },
      "source": [
        "# ExtractPlayerData Interior Functions"
      ]
    },
    {
      "cell_type": "code",
      "execution_count": 37,
      "metadata": {
        "id": "8zwjFxm-GYpd"
      },
      "outputs": [],
      "source": [
        "def createEmptyPlayer():\n",
        "    keys = ['draft_year', 'draft_round' , 'draft_pick', 'draft_team', 'player_name', 'player_url', 'position', 'draft_age','college', 'height', 'weight', 'birth_year', 'birth_month', 'birth_day', 'college_stats_url', 'birth_place', 'high_school', 'image_url']\n",
        "\n",
        "    d = {key: None for key in keys}\n",
        "\n",
        "    return d"
      ]
    },
    {
      "cell_type": "code",
      "execution_count": 38,
      "metadata": {
        "id": "iV1MAvOed92u"
      },
      "outputs": [],
      "source": [
        "def extractPlayerBasicDataMapping(playerRecord, player, year):\n",
        "\n",
        "    try:\n",
        "      playerRecord['draft_year'] = year\n",
        "    except:\n",
        "      playerRecord['draft_year'] = None \n",
        "\n",
        "    try:\n",
        "        secondLink = player.find_all('a')[1]['href']\n",
        "    except IndexError:\n",
        "        playerRecord['player_url'] = None\n",
        "        secondLink = ''\n",
        "    \n",
        "    if '/players' in  secondLink:  \n",
        "        try:\n",
        "            playerRecord['player_url'] = base+player.find_all('a')[1]['href']\n",
        "        except:\n",
        "            playerRecord['player_url'] = None \n",
        "    else:\n",
        "        playerRecord['player_url'] = None \n",
        "\n",
        "    #if playerRecord['player_url'] != None:\n",
        "    \n",
        "\n",
        "      \n",
        "      #try:\n",
        "      #  playerRecord['draft_round'] = player.find('th').get_text()\n",
        "      #except:\n",
        "      #  playerRecord['draft_round'] = None\n",
        "\n",
        "    \n",
        "    return playerRecord"
      ]
    },
    {
      "cell_type": "code",
      "execution_count": 39,
      "metadata": {},
      "outputs": [],
      "source": [
        "def dataStatAttrsInsert(playerPage, record): \n",
        "    \n",
        "    playerDataStatList = ['draft_pick', 'player', 'pos', 'college_id', 'team', 'college_link', 'age', 'draft_round']\n",
        "    for name in playerDataStatList:\n",
        "        value = extract_value(name, playerPage)\n",
        "        if name == 'draft_pick':\n",
        "            record['draft_pick'] = value\n",
        "        elif name == 'player':\n",
        "            record['player_name'] = value\n",
        "        elif name == 'pos':\n",
        "            record['position'] = value\n",
        "        elif name == 'team':\n",
        "            record['draft_team'] = value\n",
        "        elif name == 'college_link':\n",
        "            record['college_stats_url'] = value\n",
        "        elif name == 'age':\n",
        "            record['draft_age'] = value\n",
        "        elif name == 'draft_round':\n",
        "            record['draft_round'] = value\n",
        "        else:\n",
        "            record['college'] = value\n",
        "    return record"
      ]
    },
    {
      "cell_type": "code",
      "execution_count": 40,
      "metadata": {},
      "outputs": [],
      "source": [
        "def saveToCSV(record, df):\n",
        "\n",
        "    record = pd.DataFrame(record, index=[0])\n",
        "\n",
        "    record.to_csv('nfl_draft_players_2022-1990.csv', mode = 'a', index=False, header = False)\n",
        "    "
      ]
    },
    {
      "attachments": {},
      "cell_type": "markdown",
      "metadata": {},
      "source": [
        "# dataStatAttrsInsert interior function "
      ]
    },
    {
      "cell_type": "code",
      "execution_count": 41,
      "metadata": {},
      "outputs": [],
      "source": [
        "def extract_value(name, playerPage):\n",
        "    \n",
        "    if name == 'draft_pick':\n",
        "        try:\n",
        "            return playerPage.find('td', {'data-stat': name}).get_text()\n",
        "        except AttributeError:\n",
        "            return None\n",
        "\n",
        "    elif name == 'draft_round':\n",
        "        try:\n",
        "            return playerPage.find('th', {'data-stat': name}).get_text()\n",
        "        except AttributeError:\n",
        "            return None\n",
        "\n",
        "    elif name == 'player':\n",
        "        try:\n",
        "            return playerPage.find('td', {'data-stat': name}).get_text()\n",
        "        except AttributeError:\n",
        "            return None\n",
        "\n",
        "    elif name == 'pos':\n",
        "        try:\n",
        "            return playerPage.find('td', {'data-stat': name}).get_text()\n",
        "        except AttributeError:\n",
        "            return None\n",
        "\n",
        "    elif name == 'team':\n",
        "        try:\n",
        "            return playerPage.find('td', {'data-stat': name}).get_text()\n",
        "        except AttributeError:\n",
        "            return None\n",
        "\n",
        "    elif name == 'college_link':\n",
        "        td = playerPage.find('td', {'data-stat': name})\n",
        "        if td:\n",
        "            a = td.find('a')\n",
        "            if a:\n",
        "                return a['href']\n",
        "            else:\n",
        "                return None\n",
        "        else:\n",
        "            return None\n",
        "\n",
        "    elif name == 'age':\n",
        "        try:\n",
        "            return playerPage.find('td', {'data-stat': name}).get_text()\n",
        "        except AttributeError:\n",
        "            return None\n",
        "    else:\n",
        "        try:\n",
        "            return playerPage.find('td', {'data-stat': name}).get_text()\n",
        "        except AttributeError:\n",
        "            return None"
      ]
    },
    {
      "attachments": {},
      "cell_type": "markdown",
      "metadata": {
        "id": "G8sxbFp00duD"
      },
      "source": [
        "# GetPersonalStats Function"
      ]
    },
    {
      "cell_type": "code",
      "execution_count": 42,
      "metadata": {
        "id": "ihyD16w8GYsm"
      },
      "outputs": [],
      "source": [
        "# The statistics obtained are from the player's personal page\n",
        "def getPersonalStats(playerLink, playerRecord):\n",
        "      \n",
        "  # Use playerLink to request a player's personal webpage\n",
        "  playerPage = requests.get(playerLink)\n",
        "\n",
        "  # This sleep is to make sure the sports reference site does not lock me oout while running as there is a limit of only 20 requests per minute can be done\n",
        "  time.sleep(3.1)\n",
        "\n",
        "  # Create a beautiful soup parser for player page\n",
        "  playerSoup = BeautifulSoup(playerPage.text, 'html.parser')\n",
        "\n",
        "\n",
        "  # Finding list of key value pairs that has player basic data in page as a list\n",
        "  plist = playerSoup.find_all(text=re.compile(\"birth\"))\n",
        "\n",
        "  # Converting to actual python dictionary to parse through faster\n",
        "  playerD = playerDictionaryConv(plist)\n",
        "  # Grabbing the players birthday\n",
        "\n",
        "  try:\n",
        "    birthday = playerSoup.find(id = 'necro-birth')['data-birth']\n",
        "  except:\n",
        "    birthday = ''\n",
        "  \n",
        "  # Getting the rest of the stats from the individual player page\n",
        "  getPersonalStatMapping(playerRecord, playerD, birthday, playerSoup)\n",
        "\n",
        "  return playerRecord"
      ]
    },
    {
      "attachments": {},
      "cell_type": "markdown",
      "metadata": {
        "id": "tGUf-m510Q28"
      },
      "source": [
        "# GetPersonalStat Interior Functions"
      ]
    },
    {
      "cell_type": "code",
      "execution_count": 43,
      "metadata": {
        "id": "GBTx7akI-_tH"
      },
      "outputs": [],
      "source": [
        "# Turns re.compile list into a python dictionary\n",
        "def playerDictionaryConv(string):\n",
        "  \n",
        "  # Ran into a weird edge case where some of the values returned divs from other parts fo the page so this removes them \n",
        "  string = [item for item in string if \"div\" not in item]\n",
        "\n",
        "\n",
        "  stripped_string = ''.join(string).strip()\n",
        "\n",
        "  #print(stripped_string)\n",
        "  \n",
        "  # Parse the JSON object\n",
        "  try:\n",
        "    data = json.loads(stripped_string)\n",
        "  except:\n",
        "    data = None\n",
        "\n",
        "  # Convert data to dictionary\n",
        "  try:\n",
        "    dictionary = dict(data)\n",
        "  \n",
        "  except:\n",
        "    keys = ['draft_year', 'draft_round' , 'draft_pick', 'draft_team', 'player_name', 'player_url', 'position', 'draft_age','college', 'height', 'weight', 'birth_year', 'birth_month', 'birth_day', 'college_stats_url', 'birth_place', 'high_school', 'image_url']\n",
        "    dictionary = {key: None for key in keys}\n",
        "\n",
        "  return dictionary"
      ]
    },
    {
      "cell_type": "code",
      "execution_count": 44,
      "metadata": {
        "id": "VkuJG9EBaAex"
      },
      "outputs": [],
      "source": [
        "def getPersonalStatMapping(playerRecord, playerD, birthday, wholePage):\n",
        "  \n",
        "  #\n",
        "  try: \n",
        "    playerRecord['birth_place'] = playerD['birthPlace']\n",
        "  except:\n",
        "    playerRecord['birth_place'] = None\n",
        "\n",
        "  #\n",
        "  try:\n",
        "    #\n",
        "    links = wholePage.find_all(\"a\", href=lambda href: href and href.startswith(\"/schools/high_schools.cgi?\"))\n",
        "    names = 'HS,'\n",
        "    #\n",
        "    for link in links:\n",
        "      names = names + link.text + ','\n",
        "    #\n",
        "    playerRecord['high_school']= names[:-1]\n",
        "  except IndexError:\n",
        "    playerRecord['high_school'] = None\n",
        "\n",
        "  #\n",
        "  try:\n",
        "    playerRecord['image_url'] = playerD['image']['contentUrl']\n",
        "  except:\n",
        "    playerRecord['image_url'] = None\n",
        "  \n",
        "  #\n",
        "  try:\n",
        "    playerRecord['height'] = playerD['height']['value']\n",
        "  except:\n",
        "    playerRecord['height'] = None\n",
        "  \n",
        "  #\n",
        "  try:\n",
        "    playerRecord['weight'] = playerD['weight']['value']\n",
        "  except:\n",
        "    playerRecord['weight'] = None\n",
        "\n",
        "  #\n",
        "  try:\n",
        "    bList = birthday.split('-')\n",
        "    playerRecord['birth_year'] = bList[0]\n",
        "    playerRecord['birth_month'] = bList[1]\n",
        "    playerRecord['birth_day'] = bList[2]\n",
        "  except:\n",
        "    playerRecord['birth_year'] = None\n",
        "    playerRecord['birth_month'] = None\n",
        "    playerRecord['birth_day'] = None\n",
        "\n",
        "  return playerRecord"
      ]
    },
    {
      "attachments": {},
      "cell_type": "markdown",
      "metadata": {},
      "source": [
        "# Garbage?"
      ]
    },
    {
      "cell_type": "code",
      "execution_count": 45,
      "metadata": {
        "id": "Y1s1h13_L1Rq"
      },
      "outputs": [],
      "source": [
        "def dataStatAttrsInsert1(playerPage, record): \n",
        "\n",
        "  playerDataStatList = ['draft_pick', 'player', 'pos', 'college_id', 'team', 'college_link', 'age']\n",
        "      \n",
        "  # Appending text value of each tag with appropriate data-stat attribute\n",
        "  for name in playerDataStatList:\n",
        "    if name == 'draft_pick':\n",
        "      record['draft_pick'] = playerPage.find('td', {'data-stat': name}).get_text()\n",
        "\n",
        "    elif name == 'player':\n",
        "      record['player_name'] = playerPage.find('td', {'data-stat': name}).get_text()\n",
        "\n",
        "    elif name == 'pos':\n",
        "      record['position'] = playerPage.find('td', {'data-stat': name}).get_text()\n",
        "\n",
        "    elif name == 'team':\n",
        "      record['draft_team'] = playerPage.find('td', {'data-stat': name}).get_text()\n",
        "\n",
        "    elif name == 'college_link':\n",
        "      try:\n",
        "        td = playerPage.find('td', {'data-stat': name})\n",
        "        if td:\n",
        "            a = td.find('a')\n",
        "            if a:\n",
        "                record['college_stats_url'] = a['href']\n",
        "            else:\n",
        "                record['college_stats_url'] = None\n",
        "        else:\n",
        "            record['college_stats_url'] = None\n",
        "      except IndexError:\n",
        "        record['college_stats_url'] = None\n",
        "\n",
        "    #\n",
        "    elif name == 'age':\n",
        "      record['draft_age'] = playerPage.find('td', {'data-stat': name}).get_text()\n",
        "\n",
        "    else:\n",
        "      record['college'] = playerPage.find('td', {'data-stat': name}).get_text()\n",
        "\n",
        "  return record"
      ]
    },
    {
      "cell_type": "code",
      "execution_count": 46,
      "metadata": {},
      "outputs": [],
      "source": [
        "def dataStatAttrsInsert1(playerPage, record): \n",
        "\n",
        "  playerDataStatList = ['draft_pick', 'player', 'pos', 'college_id', 'team', 'college_link', 'age']\n",
        "      \n",
        "  # Appending text value of each tag with appropriate data-stat attribute\n",
        "  for name in playerDataStatList:\n",
        "    if name == 'draft_pick':\n",
        "      try:\n",
        "        record['draft_pick'] = playerPage.find('td', {'data-stat': name}).get_text()\n",
        "      except AttributeError:\n",
        "        record['draft_pick'] = None\n",
        "\n",
        "    elif name == 'player':\n",
        "      try:\n",
        "        record['player_name'] = playerPage.find('td', {'data-stat': name}).get_text()\n",
        "      except AttributeError:\n",
        "        record['player_name'] = None\n",
        "\n",
        "    elif name == 'pos':\n",
        "      try:\n",
        "        record['position'] = playerPage.find('td', {'data-stat': name}).get_text()\n",
        "      except AttributeError:\n",
        "        record['position'] = None\n",
        "\n",
        "    elif name == 'team':\n",
        "      try:\n",
        "        record['draft_team'] = playerPage.find('td', {'data-stat': name}).get_text()\n",
        "      except AttributeError:\n",
        "        record['draft_team'] = None\n",
        "\n",
        "    elif name == 'college_link':\n",
        "      try:\n",
        "        td = playerPage.find('td', {'data-stat': name})\n",
        "        if td:\n",
        "            a = td.find('a')\n",
        "            if a:\n",
        "                record['college_stats_url'] = a['href']\n",
        "            else:\n",
        "                record['college_stats_url'] = None\n",
        "        else:\n",
        "            record['college_stats_url'] = None\n",
        "      except (AttributeError, TypeError):\n",
        "        record['college_stats_url'] = None\n",
        "\n",
        "    elif name == 'age':\n",
        "      try:\n",
        "        record['draft_age'] = playerPage.find('td', {'data-stat': name}).get_text()\n",
        "      except AttributeError:\n",
        "        record['draft_age'] = None\n",
        "\n",
        "    else:\n",
        "      try:\n",
        "        record['college'] = playerPage.find('td', {'data-stat': name}).get_text()\n",
        "      except AttributeError:\n",
        "        record['college'] = None\n",
        "  print(record)\n",
        "  return record"
      ]
    },
    {
      "cell_type": "code",
      "execution_count": 47,
      "metadata": {},
      "outputs": [],
      "source": [
        "# Use boolean indexing to find the rows where the value in \"column_name\" is equal to \"xyz\"\n",
        "drop_index = playerDF[playerDF['player_name'] == 'None'].index\n",
        "\n",
        "# Drop the rows from the DataFrame\n",
        "playerDF.drop(drop_index, inplace=True)"
      ]
    }
  ],
  "metadata": {
    "colab": {
      "collapsed_sections": [
        "bs7nAzYZ6odO"
      ],
      "provenance": []
    },
    "kernelspec": {
      "display_name": "Python 3.10.4 64-bit",
      "language": "python",
      "name": "python3"
    },
    "language_info": {
      "codemirror_mode": {
        "name": "ipython",
        "version": 3
      },
      "file_extension": ".py",
      "mimetype": "text/x-python",
      "name": "python",
      "nbconvert_exporter": "python",
      "pygments_lexer": "ipython3",
      "version": "3.10.4"
    },
    "vscode": {
      "interpreter": {
        "hash": "58b7fda6ba95068ee46f8177e483bead15ffa16b5974673926c615f95258e9f9"
      }
    }
  },
  "nbformat": 4,
  "nbformat_minor": 0
}
